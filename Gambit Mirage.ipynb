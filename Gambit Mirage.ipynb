{
 "cells": [
  {
   "cell_type": "code",
   "execution_count": 1,
   "id": "silent-active",
   "metadata": {},
   "outputs": [],
   "source": [
    "from csgo.parser import DemoParser\n",
    "import numpy\n",
    "import csv\n",
    "import pandas\n",
    "import pyserialem\n",
    "import os\n",
    "from tabulate import tabulate"
   ]
  },
  {
   "cell_type": "code",
   "execution_count": 2,
   "id": "restricted-latest",
   "metadata": {},
   "outputs": [],
   "source": [
    "def getDemoPaths(dir_path):\n",
    "    demoPaths = []\n",
    "    x = 0\n",
    "    for filename in os.listdir(dir_path):\n",
    "        demoPaths.append(os.path.join(dir_path, filename))\n",
    "    return demoPaths"
   ]
  },
  {
   "cell_type": "code",
   "execution_count": 3,
   "id": "secret-physics",
   "metadata": {},
   "outputs": [],
   "source": [
    "def generateDemoParsers(paths):\n",
    "    demo_parsers = []\n",
    "    for x in paths:\n",
    "        demoParser = DemoParser(demofile=x, demo_id = x.split('/')[-1].split('.')[0].split('_')[0], parse_rate=128)\n",
    "        demo_parsers.append(demoParser)\n",
    "    print(\"# Demo Parsers: \" + str(len(demo_parsers)))\n",
    "    return demo_parsers"
   ]
  },
  {
   "cell_type": "code",
   "execution_count": 4,
   "id": "micro-while",
   "metadata": {},
   "outputs": [],
   "source": [
    "def generateData(parsers):\n",
    "    mapData, killData, nadeData, flashData, roundData, damageData = [], [], [], [], [], []\n",
    "    for x in parsers:\n",
    "        x.parse()\n",
    "        mapData.append(x.parse(return_type=\"df\"))\n",
    "        killData.append(x._parse_kills(return_type=\"df\"))\n",
    "        nadeData.append(x._parse_grenades(return_type=\"df\"))\n",
    "        flashData.append(x._parse_flashes(return_type=\"df\"))\n",
    "        roundData.append(x._parse_rounds(return_type=\"df\"))\n",
    "        damageData.append(x._parse_damages(return_type=\"df\"))\n",
    "    return (mapData, killData, nadeData, flashData, roundData, damageData)"
   ]
  },
  {
   "cell_type": "code",
   "execution_count": 5,
   "id": "anonymous-dictionary",
   "metadata": {},
   "outputs": [],
   "source": [
    "def concat_data(aggregate_data):\n",
    "    final_df = None\n",
    "    for x in aggregate_data:\n",
    "        final_df = pandas.concat([final_df, x], ignore_index=True)\n",
    "    return final_df"
   ]
  },
  {
   "cell_type": "code",
   "execution_count": 6,
   "id": "buried-paste",
   "metadata": {},
   "outputs": [],
   "source": [
    "def calculateKDByPlace(kills, players, side):\n",
    "    places = []\n",
    "    temp = kills.copy()\n",
    "    for x in temp.AttackerAreaName.unique():\n",
    "        places.append(x)\n",
    "    ret = {}\n",
    "    for place in places:\n",
    "        kill = len(kills[kills['AttackerName'].isin(players)][kills['AttackerAreaName'] == place][kills['AttackerSide'] == side])\n",
    "        deaths = len(kills[kills['VictimName'].isin(players)][kills['VictimAreaName'] == place][kills['VictimSide'] == side])\n",
    "        temp2 = {'kills' : kill, 'deaths' : deaths, '+-' : (kill-deaths)}\n",
    "        ret[place] = temp2\n",
    "    return ret"
   ]
  },
  {
   "cell_type": "code",
   "execution_count": 7,
   "id": "focused-essay",
   "metadata": {},
   "outputs": [],
   "source": [
    "dir_path = \"./demos/gambitMirage/gambit\""
   ]
  },
  {
   "cell_type": "code",
   "execution_count": 65,
   "id": "94663ce1",
   "metadata": {},
   "outputs": [],
   "source": [
    "mirageMappingPath = './mappings/mappings/'\n",
    "mappingFile = os.path.join(mirageMappingPath, os.listdir(mirageMappingPath)[0])"
   ]
  },
  {
   "cell_type": "code",
   "execution_count": 339,
   "id": "04c1b3b0",
   "metadata": {},
   "outputs": [],
   "source": [
    "output_path = './damageDifferentials/mirage_six_months/gambitDamageDifferentials.csv'"
   ]
  },
  {
   "cell_type": "code",
   "execution_count": 98,
   "id": "aa2b5c7f",
   "metadata": {},
   "outputs": [],
   "source": [
    "file = open(mappingFile, 'r')\n",
    "lines = file.readlines()\n",
    "file.close()"
   ]
  },
  {
   "cell_type": "code",
   "execution_count": 99,
   "id": "eb5d1b53",
   "metadata": {
    "scrolled": true
   },
   "outputs": [],
   "source": [
    "for x in range(len(lines)):\n",
    "    if(lines[x][-1] == '\\n'):\n",
    "        lines[x] = lines[x][:-1]"
   ]
  },
  {
   "cell_type": "code",
   "execution_count": 100,
   "id": "da289bd1",
   "metadata": {
    "scrolled": false
   },
   "outputs": [],
   "source": [
    "mappedPlaceNames = {}\n",
    "for x in lines:\n",
    "    if(x != ''):\n",
    "            mappedPlaceNames[x.split(':')[0]] = x.split(':')[1]"
   ]
  },
  {
   "cell_type": "code",
   "execution_count": 104,
   "id": "dfc1bd50",
   "metadata": {},
   "outputs": [
    {
     "data": {
      "text/plain": [
       "['AbovePit: Top Balcony\\n',\n",
       " 'Admin: T Palace Stairs Peek\\n',\n",
       " 'PalaceInterior : Deep Palace\\n',\n",
       " 'Airplane : T Spawn\\n',\n",
       " 'Alley: Deep T Spawn T Ramp\\n',\n",
       " 'APlatform : Stairs Smoke Platform\\n',\n",
       " 'Atrium : T Spawn A Ramp\\n',\n",
       " 'Attic : A Ramp\\n',\n",
       " 'Back : CLose A Ramp\\n',\n",
       " 'BackAlley: Close Left CT A Ramp\\n',\n",
       " 'BackAlleys : Tetris\\n',\n",
       " 'BackCourtyard : A Site\\n',\n",
       " 'BackDoor : Jungle Plant\\n',\n",
       " 'BackEntrance: A Site Exposed to Stairs Connector Cat\\n',\n",
       " 'BackHall : Triple Box\\n',\n",
       " 'BackOfA : Ninja\\n',\n",
       " 'BackOfB : Default A\\n',\n",
       " 'BackRoad: Firebox\\n',\n",
       " 'Backroom: Under balcony\\n',\n",
       " 'Backway: Under balcony on top of the little box\\n',\n",
       " 'Backyard: Balcony Boaxes\\n',\n",
       " 'Banana : Sandwhich\\n',\n",
       " 'BankExterior : Ticketbooth \\n',\n",
       " 'BankInterior : CT Left Side\\n',\n",
       " 'Barn : Deep CT\\n',\n",
       " 'BarnRoof : CT Spawn\\n',\n",
       " 'Basement : CT Murder Hole\\n',\n",
       " 'Bathroom : CT Outside Market\\n',\n",
       " 'BDoors:Bench Closer To Jungle\\n',\n",
       " 'Beach:Bench CLoser to Tribox\\n',\n",
       " 'Bedroom:Flowerpot CT\\n',\n",
       " 'BigForest:CT Cheese Spot Murder Hole \\n',\n",
       " 'BigOffice:Bottom Stairs\\n',\n",
       " 'BoatBar:Stairs Palace Peek\\n',\n",
       " 'BoatHouse:Deep Jungle\\n',\n",
       " 'BoatStorage:Left Side corner deep jungle\\n',\n",
       " 'Bodyshop:Snipers Palace Peek\\n',\n",
       " 'Bombsite:Middle Bench\\n',\n",
       " 'BombsiteA:Snipers Nest\\n',\n",
       " 'BombsiteB:Right Side Snipers Nest\\n',\n",
       " 'BombsiteC:Leftside Connector\\n',\n",
       " 'BPlatform:Connector behind box\\n',\n",
       " 'Bricks:Top STairs\\n',\n",
       " 'Bridge:Underpass Peek from Snipers\\n',\n",
       " 'Bunker:Elevated Snipers Awp Peek\\n',\n",
       " 'Canal:Murder Hole\\n',\n",
       " 'Cart:Close Left Side in Snipers From Jungle\\n',\n",
       " 'Catwalk:Right Side Connector\\n',\n",
       " 'ComputerRoom:Bottom Connector\\n',\n",
       " 'ConferenceRoom:Top Connector\\n',\n",
       " 'Connector:Underpass\\n',\n",
       " 'Construction:Mid Close Connector\\n',\n",
       " 'Control:Chair\\n',\n",
       " 'Courtyard:Bottom Mid Ladder Room Peek\\n',\n",
       " 'Crane:Headshot Angle Close A Ramp\\n',\n",
       " 'Crates:Back A Site Offangles\\n',\n",
       " 'Crawlspace:Bottom Mid Boosting Snipers\\n',\n",
       " 'Crows:Top Mid\\n',\n",
       " 'CTCorridorDown:Behind Big Boxes\\n',\n",
       " 'CTCorridorUp:Top Mid Catwalk\\n',\n",
       " 'CTBar:Catwalk Connector Peek\\n',\n",
       " 'CTRed:Top Mid Boxes Right Side Peek\\n',\n",
       " 'CTSideLower:Top Mid Boxes Left Side Peek\\n',\n",
       " 'CTSideUpper:Top Mid Left Side\\n',\n",
       " 'CTSpawn:Top Mid Right Side\\n',\n",
       " 'DeadTrees:Deep Catwalk\\n',\n",
       " 'Deck:Catwalk T Aparments Peek\\n',\n",
       " 'Decon:Ladder Room Catwalk Side\\n',\n",
       " 'Den:Top Mid on top of Boxes\\n',\n",
       " 'DirtRoad:Top Mid towards Apps\\n',\n",
       " 'DoubleDoors:T Spawn towards Apps\\n',\n",
       " 'Downstairs:T Apps TV\\n',\n",
       " 'Driveway:T Deep apps\\n',\n",
       " 'Ducts:T Deep Apps Underpass/Apps Peek\\n',\n",
       " 'Dumpster:T apps entrance close left\\n',\n",
       " 'EastForest:Deep T Apps\\n',\n",
       " 'ElectricalBox:Deep T Apps Underpass STairs\\n',\n",
       " 'Elevator:Bench\\n',\n",
       " 'Entrance:Forest\\n',\n",
       " 'Entryway:Arch\\n',\n",
       " 'ExtendedA:CT Deep Catwalk Mid peek\\n',\n",
       " 'FamilyRoom:Top Van\\n',\n",
       " 'FarSide:Right Side Platform\\n',\n",
       " 'Field:Left Side Platform\\n',\n",
       " 'Floor50:Apartments Right CT Corner\\n',\n",
       " 'Floor51:CT Side Apps\\n',\n",
       " 'Forklift:Catwalk Plant B Site\\n',\n",
       " 'Fountain:Safe Plant B Site\\n',\n",
       " \"Foyer:Back Left B Site From T's' Perspective\\n\",\n",
       " \"Front:Back Right B Site from T's Perspective\\n\",\n",
       " 'FrontCourtyard:Close Market door\\n',\n",
       " 'FrontDoor:Inside Market Doors\\n',\n",
       " 'FrontEntrance:Tucked in corner Market\\n',\n",
       " 'FrontHall:Register Market\\n',\n",
       " 'FrontRoom:Market Window Peek\\n',\n",
       " 'FrontYard:market\\n',\n",
       " 'Garage:Arch\\n',\n",
       " 'Garden:Under window B apps\\n',\n",
       " 'GasStation:CT Catwalk\\n',\n",
       " 'Gate:Close Market Window\\n',\n",
       " 'GateHouse:Close Right Market Window\\n',\n",
       " 'Glade:B Bombsite Cross to Catwalk\\n',\n",
       " 'Graveyard:Underneath B apps plat\\n',\n",
       " 'GroundLevel:Van Barrel Peek\\n',\n",
       " 'GuardHouse:Semi Elevated CT Van\\n',\n",
       " 'Hay:Back B Site Peeking Apps/Plat\\n',\n",
       " 'Heaven:B Site Default Plant\\n',\n",
       " 'Helicopter:B site Market Plant\\n',\n",
       " '\\n']"
      ]
     },
     "execution_count": 104,
     "metadata": {},
     "output_type": "execute_result"
    }
   ],
   "source": [
    "lines"
   ]
  },
  {
   "cell_type": "code",
   "execution_count": 106,
   "id": "5433b96d",
   "metadata": {},
   "outputs": [
    {
     "data": {
      "text/plain": [
       "{'AbovePit': 'Top Balcony\\n',\n",
       " 'Admin': 'T Palace Stairs Peek\\n',\n",
       " 'PalaceInterior ': 'Deep Palace\\n',\n",
       " 'Airplane ': 'T Spawn\\n',\n",
       " 'Alley': 'Deep T Spawn T Ramp\\n',\n",
       " 'APlatform ': 'Stairs Smoke Platform\\n',\n",
       " 'Atrium ': 'T Spawn A Ramp\\n',\n",
       " 'Attic ': 'A Ramp\\n',\n",
       " 'Back ': 'CLose A Ramp\\n',\n",
       " 'BackAlley': 'Close Left CT A Ramp\\n',\n",
       " 'BackAlleys ': 'Tetris\\n',\n",
       " 'BackCourtyard ': 'A Site\\n',\n",
       " 'BackDoor ': 'Jungle Plant\\n',\n",
       " 'BackEntrance': 'A Site Exposed to Stairs Connector Cat\\n',\n",
       " 'BackHall ': 'Triple Box\\n',\n",
       " 'BackOfA ': 'Ninja\\n',\n",
       " 'BackOfB ': 'Default A\\n',\n",
       " 'BackRoad': 'Firebox\\n',\n",
       " 'Backroom': 'Under balcony\\n',\n",
       " 'Backway': 'Under balcony on top of the little box\\n',\n",
       " 'Backyard': 'Balcony Boaxes\\n',\n",
       " 'Banana ': 'Sandwhich\\n',\n",
       " 'BankExterior ': 'Ticketbooth \\n',\n",
       " 'BankInterior ': 'CT Left Side\\n',\n",
       " 'Barn ': 'Deep CT\\n',\n",
       " 'BarnRoof ': 'CT Spawn\\n',\n",
       " 'Basement ': 'CT Murder Hole\\n',\n",
       " 'Bathroom ': 'CT Outside Market\\n',\n",
       " 'BDoors': 'Bench Closer To Jungle\\n',\n",
       " 'Beach': 'Bench CLoser to Tribox\\n',\n",
       " 'Bedroom': 'Flowerpot CT\\n',\n",
       " 'BigForest': 'CT Cheese Spot Murder Hole \\n',\n",
       " 'BigOffice': 'Bottom Stairs\\n',\n",
       " 'BoatBar': 'Stairs Palace Peek\\n',\n",
       " 'BoatHouse': 'Deep Jungle\\n',\n",
       " 'BoatStorage': 'Left Side corner deep jungle\\n',\n",
       " 'Bodyshop': 'Snipers Palace Peek\\n',\n",
       " 'Bombsite': 'Middle Bench\\n',\n",
       " 'BombsiteA': 'Snipers Nest\\n',\n",
       " 'BombsiteB': 'Right Side Snipers Nest\\n',\n",
       " 'BombsiteC': 'Leftside Connector\\n',\n",
       " 'BPlatform': 'Connector behind box\\n',\n",
       " 'Bricks': 'Top STairs\\n',\n",
       " 'Bridge': 'Underpass Peek from Snipers\\n',\n",
       " 'Bunker': 'Elevated Snipers Awp Peek\\n',\n",
       " 'Canal': 'Murder Hole\\n',\n",
       " 'Cart': 'Close Left Side in Snipers From Jungle\\n',\n",
       " 'Catwalk': 'Right Side Connector\\n',\n",
       " 'ComputerRoom': 'Bottom Connector\\n',\n",
       " 'ConferenceRoom': 'Top Connector\\n',\n",
       " 'Connector': 'Underpass\\n',\n",
       " 'Construction': 'Mid Close Connector\\n',\n",
       " 'Control': 'Chair\\n',\n",
       " 'Courtyard': 'Bottom Mid Ladder Room Peek\\n',\n",
       " 'Crane': 'Headshot Angle Close A Ramp\\n',\n",
       " 'Crates': 'Back A Site Offangles\\n',\n",
       " 'Crawlspace': 'Bottom Mid Boosting Snipers\\n',\n",
       " 'Crows': 'Top Mid\\n',\n",
       " 'CTCorridorDown': 'Behind Big Boxes\\n',\n",
       " 'CTCorridorUp': 'Top Mid Catwalk\\n',\n",
       " 'CTBar': 'Catwalk Connector Peek\\n',\n",
       " 'CTRed': 'Top Mid Boxes Right Side Peek\\n',\n",
       " 'CTSideLower': 'Top Mid Boxes Left Side Peek\\n',\n",
       " 'CTSideUpper': 'Top Mid Left Side\\n',\n",
       " 'CTSpawn': 'Top Mid Right Side\\n',\n",
       " 'DeadTrees': 'Deep Catwalk\\n',\n",
       " 'Deck': 'Catwalk T Aparments Peek\\n',\n",
       " 'Decon': 'Ladder Room Catwalk Side\\n',\n",
       " 'Den': 'Top Mid on top of Boxes\\n',\n",
       " 'DirtRoad': 'Top Mid towards Apps\\n',\n",
       " 'DoubleDoors': 'T Spawn towards Apps\\n',\n",
       " 'Downstairs': 'T Apps TV\\n',\n",
       " 'Driveway': 'T Deep apps\\n',\n",
       " 'Ducts': 'T Deep Apps Underpass/Apps Peek\\n',\n",
       " 'Dumpster': 'T apps entrance close left\\n',\n",
       " 'EastForest': 'Deep T Apps\\n',\n",
       " 'ElectricalBox': 'Deep T Apps Underpass STairs\\n',\n",
       " 'Elevator': 'Bench\\n',\n",
       " 'Entrance': 'Forest\\n',\n",
       " 'Entryway': 'Arch\\n',\n",
       " 'ExtendedA': 'CT Deep Catwalk Mid peek\\n',\n",
       " 'FamilyRoom': 'Top Van\\n',\n",
       " 'FarSide': 'Right Side Platform\\n',\n",
       " 'Field': 'Left Side Platform\\n',\n",
       " 'Floor50': 'Apartments Right CT Corner\\n',\n",
       " 'Floor51': 'CT Side Apps\\n',\n",
       " 'Forklift': 'Catwalk Plant B Site\\n',\n",
       " 'Fountain': 'Safe Plant B Site\\n',\n",
       " 'Foyer': \"Back Left B Site From T's' Perspective\\n\",\n",
       " 'Front': \"Back Right B Site from T's Perspective\\n\",\n",
       " 'FrontCourtyard': 'Close Market door\\n',\n",
       " 'FrontDoor': 'Inside Market Doors\\n',\n",
       " 'FrontEntrance': 'Tucked in corner Market\\n',\n",
       " 'FrontHall': 'Register Market\\n',\n",
       " 'FrontRoom': 'Market Window Peek\\n',\n",
       " 'FrontYard': 'market\\n',\n",
       " 'Garage': 'Arch\\n',\n",
       " 'Garden': 'Under window B apps\\n',\n",
       " 'GasStation': 'CT Catwalk\\n',\n",
       " 'Gate': 'Close Market Window\\n',\n",
       " 'GateHouse': 'Close Right Market Window\\n',\n",
       " 'Glade': 'B Bombsite Cross to Catwalk\\n',\n",
       " 'Graveyard': 'Underneath B apps plat\\n',\n",
       " 'GroundLevel': 'Van Barrel Peek\\n',\n",
       " 'GuardHouse': 'Semi Elevated CT Van\\n',\n",
       " 'Hay': 'Back B Site Peeking Apps/Plat\\n',\n",
       " 'Heaven': 'B Site Default Plant\\n',\n",
       " 'Helicopter': 'B site Market Plant\\n'}"
      ]
     },
     "execution_count": 106,
     "metadata": {},
     "output_type": "execute_result"
    }
   ],
   "source": [
    "mappedPlaceNames"
   ]
  },
  {
   "cell_type": "code",
   "execution_count": 97,
   "id": "4726f1f8",
   "metadata": {
    "scrolled": true
   },
   "outputs": [],
   "source": [
    "for x in range(len(lines)):\n",
    "    if(lines[x][-1] == '\\n'):\n",
    "        lines[x] = lines[x][:-1]"
   ]
  },
  {
   "cell_type": "code",
   "execution_count": 12,
   "id": "blind-syntax",
   "metadata": {},
   "outputs": [],
   "source": [
    "def extractDamageDifferentials(mapData, players, side):\n",
    "    ret = {}\n",
    "    for x in mapData[mapData['AttackerName'].isin(players)].AttackerAreaName.unique():\n",
    "        damageDone = mapData[mapData['AttackerName'].isin(players)][mapData['AttackerSide'] == side][mapData['AttackerAreaName'] == x].HpDamageTaken.sum()\n",
    "        damageTaken = mapData[mapData['VictimName'].isin(players)][mapData['VictimSide'] == side][mapData['VictimAreaName'] == x].HpDamageTaken.sum()\n",
    "        ret[x] = {\"Damage Dealt\" : damageDone, \"Damage Taken\" : damageTaken, \"Damage Differential\" : (damageDone - damageTaken)}\n",
    "    return ret"
   ]
  },
  {
   "cell_type": "code",
   "execution_count": 13,
   "id": "wooden-scholarship",
   "metadata": {},
   "outputs": [],
   "source": [
    "def prettyPrintPlayerDamageTable(playerDamages, playerKills, playerNames, side):\n",
    "    temp = extractDamageDifferentials(playerDamages, playerNames, side)\n",
    "    temp1 = calculateKDByPlace(playerKills,playerNames, side)\n",
    "    \n",
    "    for key, val in temp1.items():\n",
    "        if(key in temp.keys()):\n",
    "            temp1[key]['Damage Dealt'] = temp[key]['Damage Dealt']\n",
    "            temp1[key]['Damage Taken'] = temp[key]['Damage Taken']\n",
    "            temp1[key]['Damage Differential'] = temp[key]['Damage Differential']\n",
    "        else:\n",
    "            temp1[key]['Damage Dealt'] = \"N/A\"\n",
    "            temp1[key]['Damage Taken'] = \"N/A\"\n",
    "            temp1[key]['Damage Differential'] = \"N/A\"\n",
    "            \n",
    "    prettyPrint = {\"Places\" : [], \"Kills\" : [], \"Deaths\" : [], \"KD Diff\" : [], \"Damage Dealt\" : [], \"Damage Taken\" : [], \"Damage Differential\" : []}\n",
    "    \n",
    "    for key, val in temp1.items():\n",
    "        prettyPrint['Places'].append(key)\n",
    "        prettyPrint['Kills'].append(val['kills'])\n",
    "        prettyPrint['Deaths'].append(val['deaths'])\n",
    "        prettyPrint['KD Diff'].append(val['+-'])\n",
    "        prettyPrint['Damage Dealt'].append(val['Damage Dealt'])\n",
    "        prettyPrint['Damage Taken'].append(val['Damage Taken'])\n",
    "        prettyPrint['Damage Differential'].append(val['Damage Differential'])\n",
    "    \n",
    "    return(tabulate(prettyPrint, headers=prettyPrint.keys(), tablefmt=\"github\"))"
   ]
  },
  {
   "cell_type": "code",
   "execution_count": 330,
   "id": "d303c793",
   "metadata": {},
   "outputs": [],
   "source": [
    "def createDifferentialDF(players, damageData, killData, roundData):\n",
    "    locationNames = []\n",
    "    playerNames = []\n",
    "    totalKills = []\n",
    "    totalDeaths = []\n",
    "    totalKdDifferential = []\n",
    "    totalDamageDealt = []\n",
    "    totalDamageTaken = []\n",
    "    totalDamageDifferential = []\n",
    "    ctKills = []\n",
    "    ctDeaths = []\n",
    "    ctKdDifferential = []\n",
    "    ctDamageDealt = []\n",
    "    ctDamageTaken = []\n",
    "    ctDamageDifferential = []\n",
    "    tKills = []\n",
    "    tDeaths = []\n",
    "    tKdDifferential = []\n",
    "    tDamageDealt = []\n",
    "    tDamageTaken = []\n",
    "    tDamageDifferential = []\n",
    "    totalRounds = []\n",
    "    dataframe = {}\n",
    "    for x in players.keys():\n",
    "        for y in killData[killData['AttackerName'].isin(players[x]) | killData['VictimName'].isin(players[x])].VictimAreaName.value_counts().index:\n",
    "            tempTotalKills = len(killData[killData['AttackerName'].isin(players[x])][killData['AttackerAreaName'] == y])\n",
    "            tempTotalDeaths = len(killData[killData['VictimName'].isin(players[x])][killData['VictimAreaName'] == y])\n",
    "            tempTotalKdDifferential = tempTotalKills - tempTotalDeaths\n",
    "            \n",
    "            tempTotalDamageDealt = damageData[damageData['AttackerName'].isin(players[x])][damageData['AttackerAreaName'] == y].HpDamageTaken.sum()\n",
    "            tempTotalDamageTaken = damageData[damageData['VictimName'].isin(players[x])][damageData['VictimAreaName'] == y].HpDamageTaken.sum()\n",
    "            tempTotalDamageDifferential = tempTotalDamageDealt - tempTotalDamageTaken\n",
    "            \n",
    "            tempCTKills = len(killData[killData['AttackerName'].isin(players[x])][killData['AttackerAreaName'] == y][killData['AttackerSide'] == 'CT'])\n",
    "            tempCTDeaths = len(killData[killData['VictimName'].isin(players[x])][killData['VictimAreaName'] == y][killData['VictimSide'] == 'CT'])\n",
    "            tempCTKdDifferential = tempCTKills - tempCTDeaths\n",
    "            \n",
    "            tempCTDamageDealt = damageData[damageData['AttackerName'].isin(players[x])][damageData['AttackerAreaName'] == y][damageData['AttackerSide'] == 'CT'].HpDamageTaken.sum()\n",
    "            tempCTDamageTaken = damageData[damageData['VictimName'].isin(players[x])][damageData['VictimAreaName'] == y][damageData['VictimSide'] == 'CT'].HpDamageTaken.sum()\n",
    "            tempCTDamageDifferential = tempCTDamageDealt - tempCTDamageTaken\n",
    "                                                                                                             \n",
    "            tempTKills = len(killData[killData['AttackerName'].isin(players[x])][killData['AttackerAreaName'] == y][killData['AttackerSide'] == 'T'])\n",
    "            tempTDeaths = len(killData[killData['VictimName'].isin(players[x])][killData['VictimAreaName'] == y][killData['VictimSide'] == 'T'])\n",
    "            tempTKdDifferential = tempTKills - tempTDeaths\n",
    "                                                                                                             \n",
    "            tempTDamageDealt = damageData[damageData['AttackerName'].isin(players[x])][damageData['AttackerAreaName'] == y][damageData['AttackerSide'] == 'T'].HpDamageTaken.sum()\n",
    "            tempTDamageTaken = damageData[damageData['VictimName'].isin(players[x])][damageData['VictimAreaName'] == y][damageData['VictimSide'] == 'T'].HpDamageTaken.sum()\n",
    "            tempTDamageDifferential = tempTDamageDealt - tempTDamageTaken\n",
    "            \n",
    "            tempTotalRounds = 0\n",
    "                                                    \n",
    "            for z in killData[killData.AttackerName.isin(players[x])].MatchId.value_counts().index:                                                                                    \n",
    "                tempTotalRounds += roundData[roundData['MatchId'] == z].iloc[-1].RoundNum\n",
    "            \n",
    "            locationNames.append(y)\n",
    "            playerNames.append(x)\n",
    "            totalKills.append(tempTotalKills)\n",
    "            totalDeaths.append(tempTotalDeaths)\n",
    "            totalKdDifferential.append(tempTotalKdDifferential)\n",
    "            \n",
    "            totalDamageDealt.append(tempTotalDamageDealt)\n",
    "            totalDamageTaken.append(tempTotalDamageTaken)\n",
    "            totalDamageDifferential.append(tempTotalDamageDifferential)\n",
    "            \n",
    "            ctKills.append(tempCTKills)\n",
    "            ctDeaths.append(tempCTDeaths)\n",
    "            ctKdDifferential.append(tempCTKdDifferential)\n",
    "            \n",
    "            ctDamageDealt.append(tempCTDamageDealt)\n",
    "            ctDamageTaken.append(tempCTDamageTaken)\n",
    "            ctDamageDifferential.append(tempCTDamageDifferential)\n",
    "            \n",
    "            tKills.append(tempTKills)\n",
    "            tDeaths.append(tempTDeaths)\n",
    "            tKdDifferential.append(tempTKdDifferential)\n",
    "            \n",
    "            tDamageDealt.append(tempTDamageDealt)\n",
    "            tDamageTaken.append(tempTDamageTaken)\n",
    "            tDamageDifferential.append(tempTDamageDifferential)\n",
    "            \n",
    "            totalRounds.append(tempTotalRounds)\n",
    "    \n",
    "    dataframe['Location'] = locationNames\n",
    "    dataframe['Player'] = playerNames\n",
    "    dataframe['Total Kills'] = totalKills\n",
    "    dataframe['Total Deaths'] = totalDeaths\n",
    "    dataframe['K/D'] = totalKdDifferential\n",
    "    dataframe['Total Damage Dealt'] = totalDamageDealt\n",
    "    dataframe['Total Damage Taken'] = totalDamageTaken\n",
    "    dataframe['Total Damage Differential'] = totalDamageDifferential\n",
    "    dataframe['CT Kills'] = ctKills\n",
    "    dataframe['CT Deaths'] = ctDeaths\n",
    "    dataframe['CT K/D'] = ctKdDifferential\n",
    "    dataframe['CT Damage Dealt'] = ctDamageDealt\n",
    "    dataframe['CT Damage Taken'] = ctDamageTaken\n",
    "    dataframe['CT Damage Differential'] = ctDamageDifferential\n",
    "    dataframe['T Kills'] = tKills\n",
    "    dataframe['T Deaths'] = tDeaths\n",
    "    dataframe['T K/D'] = tKdDifferential\n",
    "    dataframe['T Damage Dealt'] = tDamageDealt\n",
    "    dataframe['T Damage Taken'] = tDamageTaken\n",
    "    dataframe['T Damage Differential'] = tDamageDifferential\n",
    "    dataframe['Total Rounds'] = totalRounds\n",
    "    \n",
    "    return pandas.DataFrame.from_dict(dataframe, orient='columns')\n",
    "                        \n",
    "                "
   ]
  },
  {
   "cell_type": "code",
   "execution_count": 332,
   "id": "6e2eaa39",
   "metadata": {
    "scrolled": true
   },
   "outputs": [
    {
     "name": "stderr",
     "output_type": "stream",
     "text": [
      "/home/nk095x/.local/lib/python3.6/site-packages/ipykernel_launcher.py:26: UserWarning: Boolean Series key will be reindexed to match DataFrame index.\n",
      "/home/nk095x/.local/lib/python3.6/site-packages/ipykernel_launcher.py:27: UserWarning: Boolean Series key will be reindexed to match DataFrame index.\n",
      "/home/nk095x/.local/lib/python3.6/site-packages/ipykernel_launcher.py:30: UserWarning: Boolean Series key will be reindexed to match DataFrame index.\n",
      "/home/nk095x/.local/lib/python3.6/site-packages/ipykernel_launcher.py:31: UserWarning: Boolean Series key will be reindexed to match DataFrame index.\n",
      "/home/nk095x/.local/lib/python3.6/site-packages/ipykernel_launcher.py:34: UserWarning: Boolean Series key will be reindexed to match DataFrame index.\n",
      "/home/nk095x/.local/lib/python3.6/site-packages/ipykernel_launcher.py:35: UserWarning: Boolean Series key will be reindexed to match DataFrame index.\n",
      "/home/nk095x/.local/lib/python3.6/site-packages/ipykernel_launcher.py:38: UserWarning: Boolean Series key will be reindexed to match DataFrame index.\n",
      "/home/nk095x/.local/lib/python3.6/site-packages/ipykernel_launcher.py:39: UserWarning: Boolean Series key will be reindexed to match DataFrame index.\n",
      "/home/nk095x/.local/lib/python3.6/site-packages/ipykernel_launcher.py:42: UserWarning: Boolean Series key will be reindexed to match DataFrame index.\n",
      "/home/nk095x/.local/lib/python3.6/site-packages/ipykernel_launcher.py:43: UserWarning: Boolean Series key will be reindexed to match DataFrame index.\n",
      "/home/nk095x/.local/lib/python3.6/site-packages/ipykernel_launcher.py:46: UserWarning: Boolean Series key will be reindexed to match DataFrame index.\n",
      "/home/nk095x/.local/lib/python3.6/site-packages/ipykernel_launcher.py:47: UserWarning: Boolean Series key will be reindexed to match DataFrame index.\n"
     ]
    }
   ],
   "source": [
    "playerDifferentials = createDifferentialDF(player_names, damageData, killData, roundData)"
   ]
  },
  {
   "cell_type": "code",
   "execution_count": 334,
   "id": "e65decb5",
   "metadata": {},
   "outputs": [],
   "source": [
    "player_names = {'Sh1ro' : shiro_names, 'Hobbit' : hobbit_names, 'Interz' : interz_names, 'Nafany' : nafany_names, 'ax1le' : ax1le_names}"
   ]
  },
  {
   "cell_type": "code",
   "execution_count": 14,
   "id": "determined-armor",
   "metadata": {},
   "outputs": [],
   "source": [
    "demoPaths = getDemoPaths(dir_path)"
   ]
  },
  {
   "cell_type": "code",
   "execution_count": 15,
   "id": "introductory-period",
   "metadata": {
    "scrolled": true
   },
   "outputs": [
    {
     "data": {
      "text/plain": [
       "['./demos/gambitMirage/gambit/furia-vs-gambit-m3-mirage_2346946.dem',\n",
       " './demos/gambitMirage/gambit/gambit-vs-complexity-m2-mirage_2345614.dem',\n",
       " './demos/gambitMirage/gambit/gambit-vs-forze-m1-mirage_2345856.dem',\n",
       " './demos/gambitMirage/gambit/gambit-vs-furia-m1-mirage_2347751.dem',\n",
       " './demos/gambitMirage/gambit/gambit-vs-havu-m2-mirage_2346895.dem',\n",
       " './demos/gambitMirage/gambit/gambit-vs-heroic-m3-mirage_2346579.dem',\n",
       " './demos/gambitMirage/gambit/gambit-vs-heroic-m5-mirage_2347028.dem',\n",
       " './demos/gambitMirage/gambit/gambit-vs-spirit-m2-mirage_2346894.dem',\n",
       " './demos/gambitMirage/gambit/gambit-vs-virtus-pro-m3-mirage_2345809.dem',\n",
       " './demos/gambitMirage/gambit/gambit-vs-virtus-pro-m3-mirage_2346388.dem',\n",
       " './demos/gambitMirage/gambit/k23-vs-gambit-m1-mirage_2345855.dem',\n",
       " './demos/gambitMirage/gambit/natus-vincere-vs-gambit-m2-mirage_2346940.dem',\n",
       " './demos/gambitMirage/gambit/nemiga-vs-gambit-m1-mirage_2345805.dem',\n",
       " './demos/gambitMirage/gambit/teamone-vs-gambit-m2-mirage_2346943.dem',\n",
       " './demos/gambitMirage/gambit/winstrike-vs-gambit-m2-mirage_2345996.dem']"
      ]
     },
     "execution_count": 15,
     "metadata": {},
     "output_type": "execute_result"
    }
   ],
   "source": [
    "demoPaths"
   ]
  },
  {
   "cell_type": "code",
   "execution_count": 16,
   "id": "6ab108d4",
   "metadata": {
    "scrolled": true
   },
   "outputs": [
    {
     "data": {
      "text/plain": [
       "15"
      ]
     },
     "execution_count": 16,
     "metadata": {},
     "output_type": "execute_result"
    }
   ],
   "source": [
    "len(demoPaths)"
   ]
  },
  {
   "cell_type": "code",
   "execution_count": 17,
   "id": "seventh-electricity",
   "metadata": {
    "scrolled": true
   },
   "outputs": [
    {
     "name": "stderr",
     "output_type": "stream",
     "text": [
      "14:12:45 [INFO] Go version>=1.14.0\n",
      "14:12:45 [INFO] Initialized CSGODemoParser with demofile /home/nk095x/cs_demos/csgo/demos/gambitMirage/gambit/furia-vs-gambit-m3-mirage_2346946.dem\n",
      "14:12:45 [INFO] Setting demo id to furia-vs-gambit-m3-mirage\n",
      "14:12:45 [INFO] Setting parse rate to 128\n",
      "14:12:45 [INFO] Go version>=1.14.0\n",
      "14:12:45 [INFO] Initialized CSGODemoParser with demofile /home/nk095x/cs_demos/csgo/demos/gambitMirage/gambit/gambit-vs-complexity-m2-mirage_2345614.dem\n",
      "14:12:45 [INFO] Setting demo id to gambit-vs-complexity-m2-mirage\n",
      "14:12:45 [INFO] Setting parse rate to 128\n",
      "14:12:46 [INFO] Go version>=1.14.0\n",
      "14:12:46 [INFO] Initialized CSGODemoParser with demofile /home/nk095x/cs_demos/csgo/demos/gambitMirage/gambit/gambit-vs-forze-m1-mirage_2345856.dem\n",
      "14:12:46 [INFO] Setting demo id to gambit-vs-forze-m1-mirage\n",
      "14:12:46 [INFO] Setting parse rate to 128\n",
      "14:12:46 [INFO] Go version>=1.14.0\n",
      "14:12:46 [INFO] Initialized CSGODemoParser with demofile /home/nk095x/cs_demos/csgo/demos/gambitMirage/gambit/gambit-vs-furia-m1-mirage_2347751.dem\n",
      "14:12:46 [INFO] Setting demo id to gambit-vs-furia-m1-mirage\n",
      "14:12:46 [INFO] Setting parse rate to 128\n",
      "14:12:46 [INFO] Go version>=1.14.0\n",
      "14:12:46 [INFO] Initialized CSGODemoParser with demofile /home/nk095x/cs_demos/csgo/demos/gambitMirage/gambit/gambit-vs-havu-m2-mirage_2346895.dem\n",
      "14:12:46 [INFO] Setting demo id to gambit-vs-havu-m2-mirage\n",
      "14:12:46 [INFO] Setting parse rate to 128\n",
      "14:12:46 [INFO] Go version>=1.14.0\n",
      "14:12:46 [INFO] Initialized CSGODemoParser with demofile /home/nk095x/cs_demos/csgo/demos/gambitMirage/gambit/gambit-vs-heroic-m3-mirage_2346579.dem\n",
      "14:12:46 [INFO] Setting demo id to gambit-vs-heroic-m3-mirage\n",
      "14:12:46 [INFO] Setting parse rate to 128\n",
      "14:12:46 [INFO] Go version>=1.14.0\n",
      "14:12:46 [INFO] Initialized CSGODemoParser with demofile /home/nk095x/cs_demos/csgo/demos/gambitMirage/gambit/gambit-vs-heroic-m5-mirage_2347028.dem\n",
      "14:12:46 [INFO] Setting demo id to gambit-vs-heroic-m5-mirage\n",
      "14:12:46 [INFO] Setting parse rate to 128\n",
      "14:12:46 [INFO] Go version>=1.14.0\n",
      "14:12:46 [INFO] Initialized CSGODemoParser with demofile /home/nk095x/cs_demos/csgo/demos/gambitMirage/gambit/gambit-vs-spirit-m2-mirage_2346894.dem\n",
      "14:12:46 [INFO] Setting demo id to gambit-vs-spirit-m2-mirage\n",
      "14:12:46 [INFO] Setting parse rate to 128\n",
      "14:12:46 [INFO] Go version>=1.14.0\n",
      "14:12:46 [INFO] Initialized CSGODemoParser with demofile /home/nk095x/cs_demos/csgo/demos/gambitMirage/gambit/gambit-vs-virtus-pro-m3-mirage_2345809.dem\n",
      "14:12:46 [INFO] Setting demo id to gambit-vs-virtus-pro-m3-mirage\n",
      "14:12:46 [INFO] Setting parse rate to 128\n",
      "14:12:46 [INFO] Go version>=1.14.0\n",
      "14:12:46 [INFO] Initialized CSGODemoParser with demofile /home/nk095x/cs_demos/csgo/demos/gambitMirage/gambit/gambit-vs-virtus-pro-m3-mirage_2346388.dem\n",
      "14:12:46 [INFO] Setting demo id to gambit-vs-virtus-pro-m3-mirage\n",
      "14:12:46 [INFO] Setting parse rate to 128\n",
      "14:12:46 [INFO] Go version>=1.14.0\n",
      "14:12:46 [INFO] Initialized CSGODemoParser with demofile /home/nk095x/cs_demos/csgo/demos/gambitMirage/gambit/k23-vs-gambit-m1-mirage_2345855.dem\n",
      "14:12:46 [INFO] Setting demo id to k23-vs-gambit-m1-mirage\n",
      "14:12:46 [INFO] Setting parse rate to 128\n",
      "14:12:46 [INFO] Go version>=1.14.0\n",
      "14:12:46 [INFO] Initialized CSGODemoParser with demofile /home/nk095x/cs_demos/csgo/demos/gambitMirage/gambit/natus-vincere-vs-gambit-m2-mirage_2346940.dem\n",
      "14:12:46 [INFO] Setting demo id to natus-vincere-vs-gambit-m2-mirage\n",
      "14:12:46 [INFO] Setting parse rate to 128\n",
      "14:12:46 [INFO] Go version>=1.14.0\n",
      "14:12:46 [INFO] Initialized CSGODemoParser with demofile /home/nk095x/cs_demos/csgo/demos/gambitMirage/gambit/nemiga-vs-gambit-m1-mirage_2345805.dem\n",
      "14:12:46 [INFO] Setting demo id to nemiga-vs-gambit-m1-mirage\n",
      "14:12:46 [INFO] Setting parse rate to 128\n",
      "14:12:46 [INFO] Go version>=1.14.0\n",
      "14:12:46 [INFO] Initialized CSGODemoParser with demofile /home/nk095x/cs_demos/csgo/demos/gambitMirage/gambit/teamone-vs-gambit-m2-mirage_2346943.dem\n",
      "14:12:46 [INFO] Setting demo id to teamone-vs-gambit-m2-mirage\n",
      "14:12:46 [INFO] Setting parse rate to 128\n",
      "14:12:46 [INFO] Go version>=1.14.0\n",
      "14:12:46 [INFO] Initialized CSGODemoParser with demofile /home/nk095x/cs_demos/csgo/demos/gambitMirage/gambit/winstrike-vs-gambit-m2-mirage_2345996.dem\n",
      "14:12:46 [INFO] Setting demo id to winstrike-vs-gambit-m2-mirage\n",
      "14:12:46 [INFO] Setting parse rate to 128\n"
     ]
    },
    {
     "name": "stdout",
     "output_type": "stream",
     "text": [
      "# Demo Parsers: 15\n"
     ]
    }
   ],
   "source": [
    "demoParsers = generateDemoParsers(demoPaths)"
   ]
  },
  {
   "cell_type": "code",
   "execution_count": 18,
   "id": "stable-flooring",
   "metadata": {},
   "outputs": [
    {
     "name": "stderr",
     "output_type": "stream",
     "text": [
      "14:12:47 [INFO] Running Golang parser from /home/nk095x/cs_demos/csgo/csgo/parser/\n",
      "14:12:47 [INFO] Looking for file at /home/nk095x/cs_demos/csgo/demos/gambitMirage/gambit/furia-vs-gambit-m3-mirage_2346946.dem\n",
      "14:13:09 [INFO] Wrote demo parse output to furia-vs-gambit-m3-mirage.json\n",
      "14:13:09 [INFO] Reading in JSON from furia-vs-gambit-m3-mirage.json\n",
      "14:13:09 [INFO] JSON data loaded, available in the `json` attribute to parser\n",
      "14:13:09 [INFO] Successfully parsed JSON output\n",
      "14:13:09 [INFO] Successfully returned JSON output\n",
      "14:13:09 [INFO] Running Golang parser from /home/nk095x/cs_demos/csgo/csgo/parser/\n",
      "14:13:09 [INFO] Looking for file at /home/nk095x/cs_demos/csgo/demos/gambitMirage/gambit/furia-vs-gambit-m3-mirage_2346946.dem\n",
      "14:13:28 [INFO] Wrote demo parse output to furia-vs-gambit-m3-mirage.json\n",
      "14:13:28 [INFO] Reading in JSON from furia-vs-gambit-m3-mirage.json\n",
      "14:13:29 [INFO] JSON data loaded, available in the `json` attribute to parser\n",
      "14:13:29 [INFO] Successfully parsed JSON output\n",
      "14:13:29 [INFO] Successfully returned JSON output\n",
      "14:13:29 [INFO] Parsed rounds to Pandas DataFrame\n",
      "14:13:29 [INFO] Parsed kills to Pandas DataFrame\n",
      "14:13:29 [INFO] Parsed damages to Pandas DataFrame\n",
      "14:13:29 [INFO] Parsed grenades to Pandas DataFrame\n",
      "14:13:29 [INFO] Parsed flashes to Pandas DataFrame\n",
      "14:13:29 [INFO] Parsed bomb_events to Pandas DataFrame\n",
      "14:13:29 [INFO] Parsed frames to Pandas DataFrame\n",
      "14:13:29 [INFO] Parsed player frames to Pandas DataFrame\n",
      "14:13:29 [INFO] Returned dataframe output\n",
      "14:13:29 [INFO] Parsed kills to Pandas DataFrame\n",
      "14:13:29 [INFO] Parsed grenades to Pandas DataFrame\n",
      "14:13:29 [INFO] Parsed flashes to Pandas DataFrame\n",
      "14:13:29 [INFO] Parsed rounds to Pandas DataFrame\n",
      "14:13:29 [INFO] Parsed damages to Pandas DataFrame\n",
      "14:13:29 [INFO] Running Golang parser from /home/nk095x/cs_demos/csgo/csgo/parser/\n",
      "14:13:29 [INFO] Looking for file at /home/nk095x/cs_demos/csgo/demos/gambitMirage/gambit/gambit-vs-complexity-m2-mirage_2345614.dem\n",
      "14:13:45 [INFO] Wrote demo parse output to gambit-vs-complexity-m2-mirage.json\n",
      "14:13:45 [INFO] Reading in JSON from gambit-vs-complexity-m2-mirage.json\n",
      "14:13:45 [INFO] JSON data loaded, available in the `json` attribute to parser\n",
      "14:13:45 [INFO] Successfully parsed JSON output\n",
      "14:13:45 [INFO] Successfully returned JSON output\n",
      "14:13:45 [INFO] Running Golang parser from /home/nk095x/cs_demos/csgo/csgo/parser/\n",
      "14:13:45 [INFO] Looking for file at /home/nk095x/cs_demos/csgo/demos/gambitMirage/gambit/gambit-vs-complexity-m2-mirage_2345614.dem\n",
      "14:14:00 [INFO] Wrote demo parse output to gambit-vs-complexity-m2-mirage.json\n",
      "14:14:00 [INFO] Reading in JSON from gambit-vs-complexity-m2-mirage.json\n",
      "14:14:01 [INFO] JSON data loaded, available in the `json` attribute to parser\n",
      "14:14:01 [INFO] Successfully parsed JSON output\n",
      "14:14:01 [INFO] Successfully returned JSON output\n",
      "14:14:01 [INFO] Parsed rounds to Pandas DataFrame\n",
      "14:14:01 [INFO] Parsed kills to Pandas DataFrame\n",
      "14:14:01 [INFO] Parsed damages to Pandas DataFrame\n",
      "14:14:01 [INFO] Parsed grenades to Pandas DataFrame\n",
      "14:14:01 [INFO] Parsed flashes to Pandas DataFrame\n",
      "14:14:01 [INFO] Parsed bomb_events to Pandas DataFrame\n",
      "14:14:01 [INFO] Parsed frames to Pandas DataFrame\n",
      "14:14:01 [INFO] Parsed player frames to Pandas DataFrame\n",
      "14:14:01 [INFO] Returned dataframe output\n",
      "14:14:01 [INFO] Parsed kills to Pandas DataFrame\n",
      "14:14:01 [INFO] Parsed grenades to Pandas DataFrame\n",
      "14:14:01 [INFO] Parsed flashes to Pandas DataFrame\n",
      "14:14:01 [INFO] Parsed rounds to Pandas DataFrame\n",
      "14:14:01 [INFO] Parsed damages to Pandas DataFrame\n",
      "14:14:01 [INFO] Running Golang parser from /home/nk095x/cs_demos/csgo/csgo/parser/\n",
      "14:14:01 [INFO] Looking for file at /home/nk095x/cs_demos/csgo/demos/gambitMirage/gambit/gambit-vs-forze-m1-mirage_2345856.dem\n",
      "14:14:27 [INFO] Wrote demo parse output to gambit-vs-forze-m1-mirage.json\n",
      "14:14:27 [INFO] Reading in JSON from gambit-vs-forze-m1-mirage.json\n",
      "14:14:27 [INFO] JSON data loaded, available in the `json` attribute to parser\n",
      "14:14:27 [INFO] Successfully parsed JSON output\n",
      "14:14:27 [INFO] Successfully returned JSON output\n",
      "14:14:27 [INFO] Running Golang parser from /home/nk095x/cs_demos/csgo/csgo/parser/\n",
      "14:14:27 [INFO] Looking for file at /home/nk095x/cs_demos/csgo/demos/gambitMirage/gambit/gambit-vs-forze-m1-mirage_2345856.dem\n",
      "14:14:53 [INFO] Wrote demo parse output to gambit-vs-forze-m1-mirage.json\n",
      "14:14:53 [INFO] Reading in JSON from gambit-vs-forze-m1-mirage.json\n",
      "14:14:53 [INFO] JSON data loaded, available in the `json` attribute to parser\n",
      "14:14:53 [INFO] Successfully parsed JSON output\n",
      "14:14:53 [INFO] Successfully returned JSON output\n",
      "14:14:53 [INFO] Parsed rounds to Pandas DataFrame\n",
      "14:14:53 [INFO] Parsed kills to Pandas DataFrame\n",
      "14:14:53 [INFO] Parsed damages to Pandas DataFrame\n",
      "14:14:53 [INFO] Parsed grenades to Pandas DataFrame\n",
      "14:14:53 [INFO] Parsed flashes to Pandas DataFrame\n",
      "14:14:53 [INFO] Parsed bomb_events to Pandas DataFrame\n",
      "14:14:53 [INFO] Parsed frames to Pandas DataFrame\n",
      "14:14:53 [INFO] Parsed player frames to Pandas DataFrame\n",
      "14:14:53 [INFO] Returned dataframe output\n",
      "14:14:53 [INFO] Parsed kills to Pandas DataFrame\n",
      "14:14:53 [INFO] Parsed grenades to Pandas DataFrame\n",
      "14:14:53 [INFO] Parsed flashes to Pandas DataFrame\n",
      "14:14:53 [INFO] Parsed rounds to Pandas DataFrame\n",
      "14:14:53 [INFO] Parsed damages to Pandas DataFrame\n",
      "14:14:53 [INFO] Running Golang parser from /home/nk095x/cs_demos/csgo/csgo/parser/\n",
      "14:14:53 [INFO] Looking for file at /home/nk095x/cs_demos/csgo/demos/gambitMirage/gambit/gambit-vs-furia-m1-mirage_2347751.dem\n",
      "14:15:13 [INFO] Wrote demo parse output to gambit-vs-furia-m1-mirage.json\n",
      "14:15:13 [INFO] Reading in JSON from gambit-vs-furia-m1-mirage.json\n",
      "14:15:14 [INFO] JSON data loaded, available in the `json` attribute to parser\n",
      "14:15:14 [INFO] Successfully parsed JSON output\n",
      "14:15:14 [INFO] Successfully returned JSON output\n",
      "14:15:14 [INFO] Running Golang parser from /home/nk095x/cs_demos/csgo/csgo/parser/\n",
      "14:15:14 [INFO] Looking for file at /home/nk095x/cs_demos/csgo/demos/gambitMirage/gambit/gambit-vs-furia-m1-mirage_2347751.dem\n",
      "14:15:33 [INFO] Wrote demo parse output to gambit-vs-furia-m1-mirage.json\n",
      "14:15:33 [INFO] Reading in JSON from gambit-vs-furia-m1-mirage.json\n",
      "14:15:33 [INFO] JSON data loaded, available in the `json` attribute to parser\n",
      "14:15:33 [INFO] Successfully parsed JSON output\n",
      "14:15:33 [INFO] Successfully returned JSON output\n",
      "14:15:33 [INFO] Parsed rounds to Pandas DataFrame\n",
      "14:15:33 [INFO] Parsed kills to Pandas DataFrame\n",
      "14:15:33 [INFO] Parsed damages to Pandas DataFrame\n",
      "14:15:33 [INFO] Parsed grenades to Pandas DataFrame\n",
      "14:15:33 [INFO] Parsed flashes to Pandas DataFrame\n",
      "14:15:33 [INFO] Parsed bomb_events to Pandas DataFrame\n",
      "14:15:33 [INFO] Parsed frames to Pandas DataFrame\n",
      "14:15:33 [INFO] Parsed player frames to Pandas DataFrame\n",
      "14:15:33 [INFO] Returned dataframe output\n",
      "14:15:33 [INFO] Parsed kills to Pandas DataFrame\n",
      "14:15:33 [INFO] Parsed grenades to Pandas DataFrame\n",
      "14:15:33 [INFO] Parsed flashes to Pandas DataFrame\n",
      "14:15:33 [INFO] Parsed rounds to Pandas DataFrame\n",
      "14:15:33 [INFO] Parsed damages to Pandas DataFrame\n",
      "14:15:33 [INFO] Running Golang parser from /home/nk095x/cs_demos/csgo/csgo/parser/\n",
      "14:15:33 [INFO] Looking for file at /home/nk095x/cs_demos/csgo/demos/gambitMirage/gambit/gambit-vs-havu-m2-mirage_2346895.dem\n",
      "14:15:56 [INFO] Wrote demo parse output to gambit-vs-havu-m2-mirage.json\n",
      "14:15:56 [INFO] Reading in JSON from gambit-vs-havu-m2-mirage.json\n",
      "14:15:57 [INFO] JSON data loaded, available in the `json` attribute to parser\n",
      "14:15:57 [INFO] Successfully parsed JSON output\n",
      "14:15:57 [INFO] Successfully returned JSON output\n",
      "14:15:57 [INFO] Running Golang parser from /home/nk095x/cs_demos/csgo/csgo/parser/\n",
      "14:15:57 [INFO] Looking for file at /home/nk095x/cs_demos/csgo/demos/gambitMirage/gambit/gambit-vs-havu-m2-mirage_2346895.dem\n",
      "14:16:18 [INFO] Wrote demo parse output to gambit-vs-havu-m2-mirage.json\n",
      "14:16:18 [INFO] Reading in JSON from gambit-vs-havu-m2-mirage.json\n",
      "14:16:19 [INFO] JSON data loaded, available in the `json` attribute to parser\n",
      "14:16:19 [INFO] Successfully parsed JSON output\n",
      "14:16:19 [INFO] Successfully returned JSON output\n",
      "14:16:19 [INFO] Parsed rounds to Pandas DataFrame\n"
     ]
    },
    {
     "name": "stderr",
     "output_type": "stream",
     "text": [
      "14:16:19 [INFO] Parsed kills to Pandas DataFrame\n",
      "14:16:19 [INFO] Parsed damages to Pandas DataFrame\n",
      "14:16:19 [INFO] Parsed grenades to Pandas DataFrame\n",
      "14:16:19 [INFO] Parsed flashes to Pandas DataFrame\n",
      "14:16:19 [INFO] Parsed bomb_events to Pandas DataFrame\n",
      "14:16:19 [INFO] Parsed frames to Pandas DataFrame\n",
      "14:16:19 [INFO] Parsed player frames to Pandas DataFrame\n",
      "14:16:19 [INFO] Returned dataframe output\n",
      "14:16:19 [INFO] Parsed kills to Pandas DataFrame\n",
      "14:16:19 [INFO] Parsed grenades to Pandas DataFrame\n",
      "14:16:19 [INFO] Parsed flashes to Pandas DataFrame\n",
      "14:16:19 [INFO] Parsed rounds to Pandas DataFrame\n",
      "14:16:19 [INFO] Parsed damages to Pandas DataFrame\n",
      "14:16:19 [INFO] Running Golang parser from /home/nk095x/cs_demos/csgo/csgo/parser/\n",
      "14:16:19 [INFO] Looking for file at /home/nk095x/cs_demos/csgo/demos/gambitMirage/gambit/gambit-vs-heroic-m3-mirage_2346579.dem\n",
      "14:16:38 [INFO] Wrote demo parse output to gambit-vs-heroic-m3-mirage.json\n",
      "14:16:38 [INFO] Reading in JSON from gambit-vs-heroic-m3-mirage.json\n",
      "14:16:38 [INFO] JSON data loaded, available in the `json` attribute to parser\n",
      "14:16:38 [INFO] Successfully parsed JSON output\n",
      "14:16:38 [INFO] Successfully returned JSON output\n",
      "14:16:38 [INFO] Running Golang parser from /home/nk095x/cs_demos/csgo/csgo/parser/\n",
      "14:16:38 [INFO] Looking for file at /home/nk095x/cs_demos/csgo/demos/gambitMirage/gambit/gambit-vs-heroic-m3-mirage_2346579.dem\n",
      "14:16:57 [INFO] Wrote demo parse output to gambit-vs-heroic-m3-mirage.json\n",
      "14:16:57 [INFO] Reading in JSON from gambit-vs-heroic-m3-mirage.json\n",
      "14:16:57 [INFO] JSON data loaded, available in the `json` attribute to parser\n",
      "14:16:57 [INFO] Successfully parsed JSON output\n",
      "14:16:57 [INFO] Successfully returned JSON output\n",
      "14:16:57 [INFO] Parsed rounds to Pandas DataFrame\n",
      "14:16:57 [INFO] Parsed kills to Pandas DataFrame\n",
      "14:16:57 [INFO] Parsed damages to Pandas DataFrame\n",
      "14:16:57 [INFO] Parsed grenades to Pandas DataFrame\n",
      "14:16:57 [INFO] Parsed flashes to Pandas DataFrame\n",
      "14:16:57 [INFO] Parsed bomb_events to Pandas DataFrame\n",
      "14:16:57 [INFO] Parsed frames to Pandas DataFrame\n",
      "14:16:58 [INFO] Parsed player frames to Pandas DataFrame\n",
      "14:16:58 [INFO] Returned dataframe output\n",
      "14:16:58 [INFO] Parsed kills to Pandas DataFrame\n",
      "14:16:58 [INFO] Parsed grenades to Pandas DataFrame\n",
      "14:16:58 [INFO] Parsed flashes to Pandas DataFrame\n",
      "14:16:58 [INFO] Parsed rounds to Pandas DataFrame\n",
      "14:16:58 [INFO] Parsed damages to Pandas DataFrame\n",
      "14:16:58 [INFO] Running Golang parser from /home/nk095x/cs_demos/csgo/csgo/parser/\n",
      "14:16:58 [INFO] Looking for file at /home/nk095x/cs_demos/csgo/demos/gambitMirage/gambit/gambit-vs-heroic-m5-mirage_2347028.dem\n",
      "14:17:14 [INFO] Wrote demo parse output to gambit-vs-heroic-m5-mirage.json\n",
      "14:17:14 [INFO] Reading in JSON from gambit-vs-heroic-m5-mirage.json\n",
      "14:17:15 [INFO] JSON data loaded, available in the `json` attribute to parser\n",
      "14:17:15 [INFO] Successfully parsed JSON output\n",
      "14:17:15 [INFO] Successfully returned JSON output\n",
      "14:17:15 [INFO] Running Golang parser from /home/nk095x/cs_demos/csgo/csgo/parser/\n",
      "14:17:15 [INFO] Looking for file at /home/nk095x/cs_demos/csgo/demos/gambitMirage/gambit/gambit-vs-heroic-m5-mirage_2347028.dem\n",
      "14:17:32 [INFO] Wrote demo parse output to gambit-vs-heroic-m5-mirage.json\n",
      "14:17:32 [INFO] Reading in JSON from gambit-vs-heroic-m5-mirage.json\n",
      "14:17:32 [INFO] JSON data loaded, available in the `json` attribute to parser\n",
      "14:17:32 [INFO] Successfully parsed JSON output\n",
      "14:17:32 [INFO] Successfully returned JSON output\n",
      "14:17:32 [INFO] Parsed rounds to Pandas DataFrame\n",
      "14:17:32 [INFO] Parsed kills to Pandas DataFrame\n",
      "14:17:32 [INFO] Parsed damages to Pandas DataFrame\n",
      "14:17:32 [INFO] Parsed grenades to Pandas DataFrame\n",
      "14:17:32 [INFO] Parsed flashes to Pandas DataFrame\n",
      "14:17:32 [INFO] Parsed bomb_events to Pandas DataFrame\n",
      "14:17:32 [INFO] Parsed frames to Pandas DataFrame\n",
      "14:17:32 [INFO] Parsed player frames to Pandas DataFrame\n",
      "14:17:32 [INFO] Returned dataframe output\n",
      "14:17:32 [INFO] Parsed kills to Pandas DataFrame\n",
      "14:17:32 [INFO] Parsed grenades to Pandas DataFrame\n",
      "14:17:32 [INFO] Parsed flashes to Pandas DataFrame\n",
      "14:17:32 [INFO] Parsed rounds to Pandas DataFrame\n",
      "14:17:32 [INFO] Parsed damages to Pandas DataFrame\n",
      "14:17:32 [INFO] Running Golang parser from /home/nk095x/cs_demos/csgo/csgo/parser/\n",
      "14:17:32 [INFO] Looking for file at /home/nk095x/cs_demos/csgo/demos/gambitMirage/gambit/gambit-vs-spirit-m2-mirage_2346894.dem\n",
      "14:17:56 [INFO] Wrote demo parse output to gambit-vs-spirit-m2-mirage.json\n",
      "14:17:56 [INFO] Reading in JSON from gambit-vs-spirit-m2-mirage.json\n",
      "14:17:56 [INFO] JSON data loaded, available in the `json` attribute to parser\n",
      "14:17:56 [INFO] Successfully parsed JSON output\n",
      "14:17:56 [INFO] Successfully returned JSON output\n",
      "14:17:56 [INFO] Running Golang parser from /home/nk095x/cs_demos/csgo/csgo/parser/\n",
      "14:17:56 [INFO] Looking for file at /home/nk095x/cs_demos/csgo/demos/gambitMirage/gambit/gambit-vs-spirit-m2-mirage_2346894.dem\n",
      "14:18:17 [INFO] Wrote demo parse output to gambit-vs-spirit-m2-mirage.json\n",
      "14:18:17 [INFO] Reading in JSON from gambit-vs-spirit-m2-mirage.json\n",
      "14:18:18 [INFO] JSON data loaded, available in the `json` attribute to parser\n",
      "14:18:18 [INFO] Successfully parsed JSON output\n",
      "14:18:18 [INFO] Successfully returned JSON output\n",
      "14:18:18 [INFO] Parsed rounds to Pandas DataFrame\n",
      "14:18:18 [INFO] Parsed kills to Pandas DataFrame\n",
      "14:18:18 [INFO] Parsed damages to Pandas DataFrame\n",
      "14:18:18 [INFO] Parsed grenades to Pandas DataFrame\n",
      "14:18:18 [INFO] Parsed flashes to Pandas DataFrame\n",
      "14:18:18 [INFO] Parsed bomb_events to Pandas DataFrame\n",
      "14:18:18 [INFO] Parsed frames to Pandas DataFrame\n",
      "14:18:18 [INFO] Parsed player frames to Pandas DataFrame\n",
      "14:18:18 [INFO] Returned dataframe output\n",
      "14:18:18 [INFO] Parsed kills to Pandas DataFrame\n",
      "14:18:18 [INFO] Parsed grenades to Pandas DataFrame\n",
      "14:18:18 [INFO] Parsed flashes to Pandas DataFrame\n",
      "14:18:18 [INFO] Parsed rounds to Pandas DataFrame\n",
      "14:18:18 [INFO] Parsed damages to Pandas DataFrame\n",
      "14:18:18 [INFO] Running Golang parser from /home/nk095x/cs_demos/csgo/csgo/parser/\n",
      "14:18:18 [INFO] Looking for file at /home/nk095x/cs_demos/csgo/demos/gambitMirage/gambit/gambit-vs-virtus-pro-m3-mirage_2345809.dem\n",
      "14:18:39 [INFO] Wrote demo parse output to gambit-vs-virtus-pro-m3-mirage.json\n",
      "14:18:39 [INFO] Reading in JSON from gambit-vs-virtus-pro-m3-mirage.json\n",
      "14:18:39 [INFO] JSON data loaded, available in the `json` attribute to parser\n",
      "14:18:39 [INFO] Successfully parsed JSON output\n",
      "14:18:39 [INFO] Successfully returned JSON output\n",
      "14:18:39 [INFO] Running Golang parser from /home/nk095x/cs_demos/csgo/csgo/parser/\n",
      "14:18:39 [INFO] Looking for file at /home/nk095x/cs_demos/csgo/demos/gambitMirage/gambit/gambit-vs-virtus-pro-m3-mirage_2345809.dem\n",
      "14:19:00 [INFO] Wrote demo parse output to gambit-vs-virtus-pro-m3-mirage.json\n",
      "14:19:00 [INFO] Reading in JSON from gambit-vs-virtus-pro-m3-mirage.json\n",
      "14:19:01 [INFO] JSON data loaded, available in the `json` attribute to parser\n",
      "14:19:01 [INFO] Successfully parsed JSON output\n",
      "14:19:01 [INFO] Successfully returned JSON output\n",
      "14:19:01 [INFO] Parsed rounds to Pandas DataFrame\n",
      "14:19:01 [INFO] Parsed kills to Pandas DataFrame\n",
      "14:19:01 [INFO] Parsed damages to Pandas DataFrame\n",
      "14:19:01 [INFO] Parsed grenades to Pandas DataFrame\n",
      "14:19:01 [INFO] Parsed flashes to Pandas DataFrame\n",
      "14:19:01 [INFO] Parsed bomb_events to Pandas DataFrame\n",
      "14:19:01 [INFO] Parsed frames to Pandas DataFrame\n",
      "14:19:01 [INFO] Parsed player frames to Pandas DataFrame\n",
      "14:19:01 [INFO] Returned dataframe output\n",
      "14:19:01 [INFO] Parsed kills to Pandas DataFrame\n",
      "14:19:01 [INFO] Parsed grenades to Pandas DataFrame\n",
      "14:19:01 [INFO] Parsed flashes to Pandas DataFrame\n",
      "14:19:01 [INFO] Parsed rounds to Pandas DataFrame\n",
      "14:19:01 [INFO] Parsed damages to Pandas DataFrame\n",
      "14:19:01 [INFO] Running Golang parser from /home/nk095x/cs_demos/csgo/csgo/parser/\n",
      "14:19:01 [INFO] Looking for file at /home/nk095x/cs_demos/csgo/demos/gambitMirage/gambit/gambit-vs-virtus-pro-m3-mirage_2346388.dem\n",
      "14:19:26 [INFO] Wrote demo parse output to gambit-vs-virtus-pro-m3-mirage.json\n",
      "14:19:26 [INFO] Reading in JSON from gambit-vs-virtus-pro-m3-mirage.json\n",
      "14:19:26 [INFO] JSON data loaded, available in the `json` attribute to parser\n"
     ]
    },
    {
     "name": "stderr",
     "output_type": "stream",
     "text": [
      "14:19:26 [INFO] Successfully parsed JSON output\n",
      "14:19:26 [INFO] Successfully returned JSON output\n",
      "14:19:26 [INFO] Running Golang parser from /home/nk095x/cs_demos/csgo/csgo/parser/\n",
      "14:19:26 [INFO] Looking for file at /home/nk095x/cs_demos/csgo/demos/gambitMirage/gambit/gambit-vs-virtus-pro-m3-mirage_2346388.dem\n",
      "14:19:50 [INFO] Wrote demo parse output to gambit-vs-virtus-pro-m3-mirage.json\n",
      "14:19:50 [INFO] Reading in JSON from gambit-vs-virtus-pro-m3-mirage.json\n",
      "14:19:51 [INFO] JSON data loaded, available in the `json` attribute to parser\n",
      "14:19:51 [INFO] Successfully parsed JSON output\n",
      "14:19:51 [INFO] Successfully returned JSON output\n",
      "14:19:51 [INFO] Parsed rounds to Pandas DataFrame\n",
      "14:19:51 [INFO] Parsed kills to Pandas DataFrame\n",
      "14:19:51 [INFO] Parsed damages to Pandas DataFrame\n",
      "14:19:51 [INFO] Parsed grenades to Pandas DataFrame\n",
      "14:19:51 [INFO] Parsed flashes to Pandas DataFrame\n",
      "14:19:51 [INFO] Parsed bomb_events to Pandas DataFrame\n",
      "14:19:51 [INFO] Parsed frames to Pandas DataFrame\n",
      "14:19:51 [INFO] Parsed player frames to Pandas DataFrame\n",
      "14:19:51 [INFO] Returned dataframe output\n",
      "14:19:51 [INFO] Parsed kills to Pandas DataFrame\n",
      "14:19:51 [INFO] Parsed grenades to Pandas DataFrame\n",
      "14:19:51 [INFO] Parsed flashes to Pandas DataFrame\n",
      "14:19:51 [INFO] Parsed rounds to Pandas DataFrame\n",
      "14:19:51 [INFO] Parsed damages to Pandas DataFrame\n",
      "14:19:51 [INFO] Running Golang parser from /home/nk095x/cs_demos/csgo/csgo/parser/\n",
      "14:19:51 [INFO] Looking for file at /home/nk095x/cs_demos/csgo/demos/gambitMirage/gambit/k23-vs-gambit-m1-mirage_2345855.dem\n",
      "14:20:09 [INFO] Wrote demo parse output to k23-vs-gambit-m1-mirage.json\n",
      "14:20:09 [INFO] Reading in JSON from k23-vs-gambit-m1-mirage.json\n",
      "14:20:10 [INFO] JSON data loaded, available in the `json` attribute to parser\n",
      "14:20:10 [INFO] Successfully parsed JSON output\n",
      "14:20:10 [INFO] Successfully returned JSON output\n",
      "14:20:10 [INFO] Running Golang parser from /home/nk095x/cs_demos/csgo/csgo/parser/\n",
      "14:20:10 [INFO] Looking for file at /home/nk095x/cs_demos/csgo/demos/gambitMirage/gambit/k23-vs-gambit-m1-mirage_2345855.dem\n",
      "14:20:28 [INFO] Wrote demo parse output to k23-vs-gambit-m1-mirage.json\n",
      "14:20:28 [INFO] Reading in JSON from k23-vs-gambit-m1-mirage.json\n",
      "14:20:28 [INFO] JSON data loaded, available in the `json` attribute to parser\n",
      "14:20:28 [INFO] Successfully parsed JSON output\n",
      "14:20:28 [INFO] Successfully returned JSON output\n",
      "14:20:28 [INFO] Parsed rounds to Pandas DataFrame\n",
      "14:20:28 [INFO] Parsed kills to Pandas DataFrame\n",
      "14:20:28 [INFO] Parsed damages to Pandas DataFrame\n",
      "14:20:28 [INFO] Parsed grenades to Pandas DataFrame\n",
      "14:20:28 [INFO] Parsed flashes to Pandas DataFrame\n",
      "14:20:28 [INFO] Parsed bomb_events to Pandas DataFrame\n",
      "14:20:28 [INFO] Parsed frames to Pandas DataFrame\n",
      "14:20:28 [INFO] Parsed player frames to Pandas DataFrame\n",
      "14:20:28 [INFO] Returned dataframe output\n",
      "14:20:28 [INFO] Parsed kills to Pandas DataFrame\n",
      "14:20:28 [INFO] Parsed grenades to Pandas DataFrame\n",
      "14:20:28 [INFO] Parsed flashes to Pandas DataFrame\n",
      "14:20:28 [INFO] Parsed rounds to Pandas DataFrame\n",
      "14:20:28 [INFO] Parsed damages to Pandas DataFrame\n",
      "14:20:28 [INFO] Running Golang parser from /home/nk095x/cs_demos/csgo/csgo/parser/\n",
      "14:20:28 [INFO] Looking for file at /home/nk095x/cs_demos/csgo/demos/gambitMirage/gambit/natus-vincere-vs-gambit-m2-mirage_2346940.dem\n",
      "14:20:52 [INFO] Wrote demo parse output to natus-vincere-vs-gambit-m2-mirage.json\n",
      "14:20:52 [INFO] Reading in JSON from natus-vincere-vs-gambit-m2-mirage.json\n",
      "14:20:52 [INFO] JSON data loaded, available in the `json` attribute to parser\n",
      "14:20:52 [INFO] Successfully parsed JSON output\n",
      "14:20:52 [INFO] Successfully returned JSON output\n",
      "14:20:52 [INFO] Running Golang parser from /home/nk095x/cs_demos/csgo/csgo/parser/\n",
      "14:20:52 [INFO] Looking for file at /home/nk095x/cs_demos/csgo/demos/gambitMirage/gambit/natus-vincere-vs-gambit-m2-mirage_2346940.dem\n",
      "14:21:17 [INFO] Wrote demo parse output to natus-vincere-vs-gambit-m2-mirage.json\n",
      "14:21:17 [INFO] Reading in JSON from natus-vincere-vs-gambit-m2-mirage.json\n",
      "14:21:18 [INFO] JSON data loaded, available in the `json` attribute to parser\n",
      "14:21:18 [INFO] Successfully parsed JSON output\n",
      "14:21:18 [INFO] Successfully returned JSON output\n",
      "14:21:18 [INFO] Parsed rounds to Pandas DataFrame\n",
      "14:21:18 [INFO] Parsed kills to Pandas DataFrame\n",
      "14:21:18 [INFO] Parsed damages to Pandas DataFrame\n",
      "14:21:18 [INFO] Parsed grenades to Pandas DataFrame\n",
      "14:21:18 [INFO] Parsed flashes to Pandas DataFrame\n",
      "14:21:18 [INFO] Parsed bomb_events to Pandas DataFrame\n",
      "14:21:18 [INFO] Parsed frames to Pandas DataFrame\n",
      "14:21:18 [INFO] Parsed player frames to Pandas DataFrame\n",
      "14:21:18 [INFO] Returned dataframe output\n",
      "14:21:18 [INFO] Parsed kills to Pandas DataFrame\n",
      "14:21:18 [INFO] Parsed grenades to Pandas DataFrame\n",
      "14:21:18 [INFO] Parsed flashes to Pandas DataFrame\n",
      "14:21:18 [INFO] Parsed rounds to Pandas DataFrame\n",
      "14:21:18 [INFO] Parsed damages to Pandas DataFrame\n",
      "14:21:18 [INFO] Running Golang parser from /home/nk095x/cs_demos/csgo/csgo/parser/\n",
      "14:21:18 [INFO] Looking for file at /home/nk095x/cs_demos/csgo/demos/gambitMirage/gambit/nemiga-vs-gambit-m1-mirage_2345805.dem\n",
      "14:21:40 [INFO] Wrote demo parse output to nemiga-vs-gambit-m1-mirage.json\n",
      "14:21:40 [INFO] Reading in JSON from nemiga-vs-gambit-m1-mirage.json\n",
      "14:21:40 [INFO] JSON data loaded, available in the `json` attribute to parser\n",
      "14:21:40 [INFO] Successfully parsed JSON output\n",
      "14:21:40 [INFO] Successfully returned JSON output\n",
      "14:21:40 [INFO] Running Golang parser from /home/nk095x/cs_demos/csgo/csgo/parser/\n",
      "14:21:40 [INFO] Looking for file at /home/nk095x/cs_demos/csgo/demos/gambitMirage/gambit/nemiga-vs-gambit-m1-mirage_2345805.dem\n",
      "14:22:02 [INFO] Wrote demo parse output to nemiga-vs-gambit-m1-mirage.json\n",
      "14:22:02 [INFO] Reading in JSON from nemiga-vs-gambit-m1-mirage.json\n",
      "14:22:02 [INFO] JSON data loaded, available in the `json` attribute to parser\n",
      "14:22:02 [INFO] Successfully parsed JSON output\n",
      "14:22:02 [INFO] Successfully returned JSON output\n",
      "14:22:02 [INFO] Parsed rounds to Pandas DataFrame\n",
      "14:22:02 [INFO] Parsed kills to Pandas DataFrame\n",
      "14:22:02 [INFO] Parsed damages to Pandas DataFrame\n",
      "14:22:02 [INFO] Parsed grenades to Pandas DataFrame\n",
      "14:22:02 [INFO] Parsed flashes to Pandas DataFrame\n",
      "14:22:02 [INFO] Parsed bomb_events to Pandas DataFrame\n",
      "14:22:03 [INFO] Parsed frames to Pandas DataFrame\n",
      "14:22:03 [INFO] Parsed player frames to Pandas DataFrame\n",
      "14:22:03 [INFO] Returned dataframe output\n",
      "14:22:03 [INFO] Parsed kills to Pandas DataFrame\n",
      "14:22:03 [INFO] Parsed grenades to Pandas DataFrame\n",
      "14:22:03 [INFO] Parsed flashes to Pandas DataFrame\n",
      "14:22:03 [INFO] Parsed rounds to Pandas DataFrame\n",
      "14:22:03 [INFO] Parsed damages to Pandas DataFrame\n",
      "14:22:03 [INFO] Running Golang parser from /home/nk095x/cs_demos/csgo/csgo/parser/\n",
      "14:22:03 [INFO] Looking for file at /home/nk095x/cs_demos/csgo/demos/gambitMirage/gambit/teamone-vs-gambit-m2-mirage_2346943.dem\n",
      "14:22:18 [INFO] Wrote demo parse output to teamone-vs-gambit-m2-mirage.json\n",
      "14:22:18 [INFO] Reading in JSON from teamone-vs-gambit-m2-mirage.json\n",
      "14:22:18 [INFO] JSON data loaded, available in the `json` attribute to parser\n",
      "14:22:18 [INFO] Successfully parsed JSON output\n",
      "14:22:18 [INFO] Successfully returned JSON output\n",
      "14:22:18 [INFO] Running Golang parser from /home/nk095x/cs_demos/csgo/csgo/parser/\n",
      "14:22:18 [INFO] Looking for file at /home/nk095x/cs_demos/csgo/demos/gambitMirage/gambit/teamone-vs-gambit-m2-mirage_2346943.dem\n",
      "14:22:33 [INFO] Wrote demo parse output to teamone-vs-gambit-m2-mirage.json\n",
      "14:22:33 [INFO] Reading in JSON from teamone-vs-gambit-m2-mirage.json\n",
      "14:22:34 [INFO] JSON data loaded, available in the `json` attribute to parser\n",
      "14:22:34 [INFO] Successfully parsed JSON output\n",
      "14:22:34 [INFO] Successfully returned JSON output\n",
      "14:22:34 [INFO] Parsed rounds to Pandas DataFrame\n",
      "14:22:34 [INFO] Parsed kills to Pandas DataFrame\n",
      "14:22:34 [INFO] Parsed damages to Pandas DataFrame\n",
      "14:22:34 [INFO] Parsed grenades to Pandas DataFrame\n",
      "14:22:34 [INFO] Parsed flashes to Pandas DataFrame\n",
      "14:22:34 [INFO] Parsed bomb_events to Pandas DataFrame\n",
      "14:22:34 [INFO] Parsed frames to Pandas DataFrame\n",
      "14:22:34 [INFO] Parsed player frames to Pandas DataFrame\n",
      "14:22:34 [INFO] Returned dataframe output\n"
     ]
    },
    {
     "name": "stderr",
     "output_type": "stream",
     "text": [
      "14:22:34 [INFO] Parsed kills to Pandas DataFrame\n",
      "14:22:34 [INFO] Parsed grenades to Pandas DataFrame\n",
      "14:22:34 [INFO] Parsed flashes to Pandas DataFrame\n",
      "14:22:34 [INFO] Parsed rounds to Pandas DataFrame\n",
      "14:22:34 [INFO] Parsed damages to Pandas DataFrame\n",
      "14:22:34 [INFO] Running Golang parser from /home/nk095x/cs_demos/csgo/csgo/parser/\n",
      "14:22:34 [INFO] Looking for file at /home/nk095x/cs_demos/csgo/demos/gambitMirage/gambit/winstrike-vs-gambit-m2-mirage_2345996.dem\n",
      "14:22:45 [INFO] Wrote demo parse output to winstrike-vs-gambit-m2-mirage.json\n",
      "14:22:45 [INFO] Reading in JSON from winstrike-vs-gambit-m2-mirage.json\n",
      "14:22:45 [INFO] JSON data loaded, available in the `json` attribute to parser\n",
      "14:22:45 [INFO] Successfully parsed JSON output\n",
      "14:22:45 [INFO] Successfully returned JSON output\n",
      "14:22:45 [INFO] Running Golang parser from /home/nk095x/cs_demos/csgo/csgo/parser/\n",
      "14:22:45 [INFO] Looking for file at /home/nk095x/cs_demos/csgo/demos/gambitMirage/gambit/winstrike-vs-gambit-m2-mirage_2345996.dem\n",
      "14:22:56 [INFO] Wrote demo parse output to winstrike-vs-gambit-m2-mirage.json\n",
      "14:22:56 [INFO] Reading in JSON from winstrike-vs-gambit-m2-mirage.json\n",
      "14:22:57 [INFO] JSON data loaded, available in the `json` attribute to parser\n",
      "14:22:57 [INFO] Successfully parsed JSON output\n",
      "14:22:57 [INFO] Successfully returned JSON output\n",
      "14:22:57 [INFO] Parsed rounds to Pandas DataFrame\n",
      "14:22:57 [INFO] Parsed kills to Pandas DataFrame\n",
      "14:22:57 [INFO] Parsed damages to Pandas DataFrame\n",
      "14:22:57 [INFO] Parsed grenades to Pandas DataFrame\n",
      "14:22:57 [INFO] Parsed flashes to Pandas DataFrame\n",
      "14:22:57 [INFO] Parsed bomb_events to Pandas DataFrame\n",
      "14:22:57 [INFO] Parsed frames to Pandas DataFrame\n",
      "14:22:57 [INFO] Parsed player frames to Pandas DataFrame\n",
      "14:22:57 [INFO] Returned dataframe output\n",
      "14:22:57 [INFO] Parsed kills to Pandas DataFrame\n",
      "14:22:57 [INFO] Parsed grenades to Pandas DataFrame\n",
      "14:22:57 [INFO] Parsed flashes to Pandas DataFrame\n",
      "14:22:57 [INFO] Parsed rounds to Pandas DataFrame\n",
      "14:22:57 [INFO] Parsed damages to Pandas DataFrame\n"
     ]
    }
   ],
   "source": [
    "maps, kills, nades, flashs, rounds, damages = generateData(demoParsers)"
   ]
  },
  {
   "cell_type": "code",
   "execution_count": 19,
   "id": "changed-control",
   "metadata": {},
   "outputs": [],
   "source": [
    "failedDemos = []\n",
    "gambitMaps, gambitKills, gambitNades, gambitFlashs, gambitRounds, gambitDamages = [], [], [], [], [], []\n",
    "for x in range(len(kills)):\n",
    "    if(kills[x].shape[0] > 100):\n",
    "        gambitMaps.append(maps[x])\n",
    "        gambitKills.append(kills[x])\n",
    "        gambitNades.append(nades[x])\n",
    "        gambitFlashs.append(flashs[x])\n",
    "        gambitRounds.append(rounds[x])\n",
    "        gambitDamages.append(damages[x])\n",
    "    else:\n",
    "        failedDemos.append(x)"
   ]
  },
  {
   "cell_type": "code",
   "execution_count": 101,
   "id": "552f8a43",
   "metadata": {},
   "outputs": [],
   "source": [
    "killData = concat_data(gambitKills)\n",
    "nadeData = concat_data(gambitNades)\n",
    "flashData = concat_data(gambitFlashs)\n",
    "roundData = concat_data(gambitRounds)\n",
    "damageData = concat_data(gambitDamages)"
   ]
  },
  {
   "cell_type": "code",
   "execution_count": 102,
   "id": "17b460aa",
   "metadata": {
    "scrolled": true
   },
   "outputs": [
    {
     "data": {
      "text/plain": [
       "Index(['Tick', 'Second', 'AttackerSteamId', 'AttackerName', 'AttackerTeam',\n",
       "       'AttackerSide', 'AttackerX', 'AttackerY', 'AttackerZ', 'AttackerAreaId',\n",
       "       'AttackerAreaName', 'AttackerViewX', 'AttackerViewY', 'VictimSteamId',\n",
       "       'VictimName', 'VictimTeam', 'VictimSide', 'VictimX', 'VictimY',\n",
       "       'VictimZ', 'VictimAreaId', 'VictimAreaName', 'VictimViewX',\n",
       "       'VictimViewY', 'AssisterSteamId', 'AssisterName', 'AssisterTeam',\n",
       "       'AssisterSide', 'AssisterX', 'AssisterY', 'AssisterZ', 'AssisterAreaId',\n",
       "       'AssisterAreaName', 'IsWallbang', 'IsFlashed', 'IsHeadshot', 'IsTrade',\n",
       "       'PlayerTradedName', 'PlayerTradedTeam', 'PlayerTradedSteamId',\n",
       "       'IsFirstKill', 'Weapon', 'RoundNum', 'MatchId', 'MapName'],\n",
       "      dtype='object')"
      ]
     },
     "execution_count": 102,
     "metadata": {},
     "output_type": "execute_result"
    }
   ],
   "source": [
    "killData.columns"
   ]
  },
  {
   "cell_type": "code",
   "execution_count": 103,
   "id": "4b0c15fe",
   "metadata": {
    "scrolled": true
   },
   "outputs": [
    {
     "data": {
      "text/plain": [
       "{'AbovePit': 'Top Balcony',\n",
       " 'Admin': 'T Palace Stairs Peek',\n",
       " 'PalaceInterior': 'Deep Palace',\n",
       " 'Airplane': 'T Spawn',\n",
       " 'Alley': 'Deep T Spawn T Ramp',\n",
       " 'APlatform': 'Stairs Smoke Platform',\n",
       " 'Atrium': 'T Spawn A Ramp',\n",
       " 'Attic': 'A Ramp',\n",
       " 'Back': 'Close A Ramp',\n",
       " 'BackAlley': 'Close Left CT A Ramp',\n",
       " 'BackAlleys': 'Tetris',\n",
       " 'BackCourtyard': 'A Site',\n",
       " 'BackDoor': 'Jungle Plant',\n",
       " 'BackEntrance': 'A Site Exposed to Stairs Connector Cat',\n",
       " 'BackHall': 'Triple Box',\n",
       " 'BackofA': 'Ninja',\n",
       " 'BackofB': 'Default A',\n",
       " 'BackRoad': 'Firebox',\n",
       " 'BackRoom': 'Under balcony',\n",
       " 'BackWay': 'Under balcony on top of the little box',\n",
       " 'BackYard': 'Balcony Boaxes',\n",
       " 'Banana': 'Sandwhich',\n",
       " 'BankExterior': 'Ticketbooth ',\n",
       " 'BankInterior': 'CT Left Side',\n",
       " 'Barn': 'Deep CT',\n",
       " 'BarnRoof': 'CT Spawn',\n",
       " 'Basement': 'CT Murder Hole',\n",
       " 'Bathroom': 'CT Outside Market',\n",
       " 'BDoors': 'Bench Closer To Jungle',\n",
       " 'Beach': 'Bench Closer to Tribox',\n",
       " 'Bedroom': 'Flowerpot CT',\n",
       " 'BigForest': 'CT Cheese Spot Murder Hole ',\n",
       " 'BigOffice': 'Bottom Stairs',\n",
       " 'BoatBar': 'Stairs Palace Peek',\n",
       " 'BoatHouse': 'Deep Jungle',\n",
       " 'BoatStorage': 'Left Side corner deep jungle',\n",
       " 'BodyShop': 'Snipers Palace Peek',\n",
       " 'BombSite': 'Middle Bench',\n",
       " 'BombsiteA': 'Snipers Nest',\n",
       " 'BombsiteB': 'Right Side Snipers Nest',\n",
       " 'BombsiteC': 'Leftside Connector',\n",
       " 'BPlatform': 'Connector behind box',\n",
       " 'Bricks': 'Top STairs',\n",
       " 'Bridge': 'Underpass Peek from Snipers',\n",
       " 'Bunker': 'Elevated Snipers Awp Peek',\n",
       " 'Canal': 'Murder Hole',\n",
       " 'Cart': 'Close Left Side in Snipers From Jungle',\n",
       " 'Catwalk': 'Right Side Connector',\n",
       " 'ComputerRoom': 'Bottom Connector',\n",
       " 'ConferenceRoom': 'Top Connector',\n",
       " 'Connector': 'Underpass',\n",
       " 'Construction': 'Mid Close Connector',\n",
       " 'Control': 'Chair',\n",
       " 'Courtyard': 'Bottom Mid Ladder Room Peek',\n",
       " 'Crane': 'Headshot Angle Close A Ramp',\n",
       " 'Crates': 'Back A Site Offangles',\n",
       " 'Crawlspace': 'Bottom Mid Boosting Snipers',\n",
       " 'Crows': 'Top Mid',\n",
       " 'CTCorridorDown': 'Behind Big Boxes',\n",
       " 'CTCorridorUp': 'Top Mid Catwalk',\n",
       " 'CTBar': 'Catwalk Connector Peek',\n",
       " 'CTRed': 'Top Mid Boxes Right Side Peek',\n",
       " 'CTSideLower': 'Top Mid Boxes Left Side Peek',\n",
       " 'CTSideUpper': 'Top Mid Left Side',\n",
       " 'CTSpawn': 'Top Mid Right Side',\n",
       " 'DeadTrees': 'Deep Catwalk',\n",
       " 'Deck': 'Catwalk T Aparments Peek',\n",
       " 'Decon': 'Ladder Room Catwalk Side',\n",
       " 'Den': 'Top Mid on top of Boxes',\n",
       " 'DirtRoad': 'Top Mid towards Apps',\n",
       " 'DoubleDoors': 'T Spawn towards Apps',\n",
       " 'Downstairs': 'T Apps TV',\n",
       " 'DriveWay': 'T Deep apps',\n",
       " 'Ducts': 'T Deep Apps Underpass/Apps Peek',\n",
       " 'Dumpster': 'T apps entrance close left',\n",
       " 'EastForest': 'Deep T Apps',\n",
       " 'ElectricalBox': 'Deep T Apps Underpass STairs',\n",
       " 'Elevator': 'Bench',\n",
       " 'Entrance': 'Forest',\n",
       " 'Entryway': 'Arch',\n",
       " 'ExtendedA': 'CT Deep Catwalk Mid peek',\n",
       " 'FamilyRoom': 'Top Van',\n",
       " 'FarSide': 'Right Side Platform',\n",
       " 'Field': 'Left Side Platform',\n",
       " 'Floor50': 'Apartments Right CT Corner',\n",
       " 'Floor51': 'CT Side Apps',\n",
       " 'Forklift': 'Catwalk Plant B Site',\n",
       " 'Fountain': 'Safe Plant B Site',\n",
       " 'Foyer': \"Back Left B Site From T's' Perspective\",\n",
       " 'Front': \"Back Right B Site from T's Perspective\",\n",
       " 'FrontCourtyard': 'Close Market door',\n",
       " 'FrontDoor': 'Inside Market Doors',\n",
       " 'FrontEntrance': 'Tucked in corner Market',\n",
       " 'FrontHall': 'Register Market',\n",
       " 'FrontRoom': 'Market Window Peek',\n",
       " 'FrontYard': 'market',\n",
       " 'Garage': 'Arch',\n",
       " 'Garden': 'Under window B apps',\n",
       " 'GasStation': 'CT Catwalk',\n",
       " 'Gate': 'Close Market Window',\n",
       " 'GateHouse': 'Close Right Market Window',\n",
       " 'Glade': 'B Bombsite Cross to Catwalk',\n",
       " 'Graveyard': 'Underneath B apps plat',\n",
       " 'GroundLevel': 'Van Barrel Peek',\n",
       " 'GuardHouse': 'Semi Elevated CT Van',\n",
       " 'Hay': 'Back B Site Peeking Apps/Plat',\n",
       " 'Heaven': 'B Site Default Plant',\n",
       " 'Helicopter': 'B site Market Plant'}"
      ]
     },
     "execution_count": 103,
     "metadata": {},
     "output_type": "execute_result"
    }
   ],
   "source": [
    "mappedPlaceNames"
   ]
  },
  {
   "cell_type": "code",
   "execution_count": 104,
   "id": "45e413ae",
   "metadata": {},
   "outputs": [
    {
     "data": {
      "text/plain": [
       "Floor51         102\n",
       "Attic            94\n",
       "BankExterior     87\n",
       "BackofB          77\n",
       "BigOffice        76\n",
       "               ... \n",
       "Fountain          1\n",
       "Bedroom           1\n",
       "APlatform         1\n",
       "Dumpster          1\n",
       "Den               1\n",
       "Name: VictimAreaName, Length: 100, dtype: int64"
      ]
     },
     "execution_count": 104,
     "metadata": {},
     "output_type": "execute_result"
    }
   ],
   "source": [
    "killData.VictimAreaName.value_counts()"
   ]
  },
  {
   "cell_type": "code",
   "execution_count": 105,
   "id": "301d2c66",
   "metadata": {},
   "outputs": [
    {
     "data": {
      "text/html": [
       "<div>\n",
       "<style scoped>\n",
       "    .dataframe tbody tr th:only-of-type {\n",
       "        vertical-align: middle;\n",
       "    }\n",
       "\n",
       "    .dataframe tbody tr th {\n",
       "        vertical-align: top;\n",
       "    }\n",
       "\n",
       "    .dataframe thead th {\n",
       "        text-align: right;\n",
       "    }\n",
       "</style>\n",
       "<table border=\"1\" class=\"dataframe\">\n",
       "  <thead>\n",
       "    <tr style=\"text-align: right;\">\n",
       "      <th></th>\n",
       "      <th>Tick</th>\n",
       "      <th>Second</th>\n",
       "      <th>AttackerSteamId</th>\n",
       "      <th>AttackerName</th>\n",
       "      <th>AttackerTeam</th>\n",
       "      <th>AttackerSide</th>\n",
       "      <th>AttackerX</th>\n",
       "      <th>AttackerY</th>\n",
       "      <th>AttackerZ</th>\n",
       "      <th>AttackerAreaId</th>\n",
       "      <th>...</th>\n",
       "      <th>IsHeadshot</th>\n",
       "      <th>IsTrade</th>\n",
       "      <th>PlayerTradedName</th>\n",
       "      <th>PlayerTradedTeam</th>\n",
       "      <th>PlayerTradedSteamId</th>\n",
       "      <th>IsFirstKill</th>\n",
       "      <th>Weapon</th>\n",
       "      <th>RoundNum</th>\n",
       "      <th>MatchId</th>\n",
       "      <th>MapName</th>\n",
       "    </tr>\n",
       "  </thead>\n",
       "  <tbody>\n",
       "  </tbody>\n",
       "</table>\n",
       "<p>0 rows × 45 columns</p>\n",
       "</div>"
      ],
      "text/plain": [
       "Empty DataFrame\n",
       "Columns: [Tick, Second, AttackerSteamId, AttackerName, AttackerTeam, AttackerSide, AttackerX, AttackerY, AttackerZ, AttackerAreaId, AttackerAreaName, AttackerViewX, AttackerViewY, VictimSteamId, VictimName, VictimTeam, VictimSide, VictimX, VictimY, VictimZ, VictimAreaId, VictimAreaName, VictimViewX, VictimViewY, AssisterSteamId, AssisterName, AssisterTeam, AssisterSide, AssisterX, AssisterY, AssisterZ, AssisterAreaId, AssisterAreaName, IsWallbang, IsFlashed, IsHeadshot, IsTrade, PlayerTradedName, PlayerTradedTeam, PlayerTradedSteamId, IsFirstKill, Weapon, RoundNum, MatchId, MapName]\n",
       "Index: []\n",
       "\n",
       "[0 rows x 45 columns]"
      ]
     },
     "execution_count": 105,
     "metadata": {},
     "output_type": "execute_result"
    }
   ],
   "source": [
    "killData[killData['AttackerAreaName'] == None]"
   ]
  },
  {
   "cell_type": "code",
   "execution_count": 106,
   "id": "e15db5ef",
   "metadata": {},
   "outputs": [
    {
     "data": {
      "text/plain": [
       "Tick                                       30209\n",
       "Second                                   137.141\n",
       "AttackerSteamId                              NaN\n",
       "AttackerName                                None\n",
       "AttackerTeam                                None\n",
       "AttackerSide                                None\n",
       "AttackerX                                    NaN\n",
       "AttackerY                                    NaN\n",
       "AttackerZ                                    NaN\n",
       "AttackerAreaId                               NaN\n",
       "AttackerAreaName                            None\n",
       "AttackerViewX                                NaN\n",
       "AttackerViewY                                NaN\n",
       "VictimSteamId                  76561198081484775\n",
       "VictimName                       sh1ro.VulkanBet\n",
       "VictimTeam                                Gambit\n",
       "VictimSide                                     T\n",
       "VictimX                                  -1523.5\n",
       "VictimY                                 -2141.11\n",
       "VictimZ                                 -252.515\n",
       "VictimAreaId                                  73\n",
       "VictimAreaName                              Barn\n",
       "VictimViewX                              93.1036\n",
       "VictimViewY                                4.823\n",
       "AssisterSteamId                              NaN\n",
       "AssisterName                                None\n",
       "AssisterTeam                                None\n",
       "AssisterSide                                None\n",
       "AssisterX                                    NaN\n",
       "AssisterY                                    NaN\n",
       "AssisterZ                                    NaN\n",
       "AssisterAreaId                               NaN\n",
       "AssisterAreaName                            None\n",
       "IsWallbang                                 False\n",
       "IsFlashed                                  False\n",
       "IsHeadshot                                 False\n",
       "IsTrade                                    False\n",
       "PlayerTradedName                nafany.VulkanBet\n",
       "PlayerTradedTeam                          Gambit\n",
       "PlayerTradedSteamId                  7.65612e+16\n",
       "IsFirstKill                                False\n",
       "Weapon                                        C4\n",
       "RoundNum                                       2\n",
       "MatchId                gambit-vs-forze-m1-mirage\n",
       "MapName                                de_mirage\n",
       "Name: 310, dtype: object"
      ]
     },
     "execution_count": 106,
     "metadata": {},
     "output_type": "execute_result"
    }
   ],
   "source": [
    "killData.iloc[310]"
   ]
  },
  {
   "cell_type": "code",
   "execution_count": 107,
   "id": "b3974bfd",
   "metadata": {
    "scrolled": true
   },
   "outputs": [],
   "source": [
    "for x in range(len(killData)):\n",
    "    if  killData.iloc[x]['AttackerAreaName'] != None:\n",
    "        killData.at[x, 'VictimAreaName'] = mappedPlaceNames[killData.iloc[x]['VictimAreaName']]\n",
    "        killData.at[x, 'AttackerAreaName'] = mappedPlaceNames[killData.iloc[x]['AttackerAreaName']]"
   ]
  },
  {
   "cell_type": "code",
   "execution_count": 114,
   "id": "379bfd72",
   "metadata": {
    "scrolled": false
   },
   "outputs": [
    {
     "data": {
      "text/plain": [
       "{'AbovePit': 'Top Balcony\\n',\n",
       " 'Admin': 'T Palace Stairs Peek\\n',\n",
       " 'PalaceInterior ': 'Deep Palace\\n',\n",
       " 'Airplane ': 'T Spawn\\n',\n",
       " 'Alley': 'Deep T Spawn T Ramp\\n',\n",
       " 'APlatform ': 'Stairs Smoke Platform\\n',\n",
       " 'Atrium ': 'T Spawn A Ramp\\n',\n",
       " 'Attic ': 'A Ramp\\n',\n",
       " 'Back ': 'CLose A Ramp\\n',\n",
       " 'BackAlley': 'Close Left CT A Ramp\\n',\n",
       " 'BackAlleys ': 'Tetris\\n',\n",
       " 'BackCourtyard ': 'A Site\\n',\n",
       " 'BackDoor ': 'Jungle Plant\\n',\n",
       " 'BackEntrance': 'A Site Exposed to Stairs Connector Cat\\n',\n",
       " 'BackHall ': 'Triple Box\\n',\n",
       " 'BackOfA ': 'Ninja\\n',\n",
       " 'BackOfB ': 'Default A\\n',\n",
       " 'BackRoad': 'Firebox\\n',\n",
       " 'Backroom': 'Under balcony\\n',\n",
       " 'Backway': 'Under balcony on top of the little box\\n',\n",
       " 'Backyard': 'Balcony Boaxes\\n',\n",
       " 'Banana ': 'Sandwhich\\n',\n",
       " 'BankExterior ': 'Ticketbooth \\n',\n",
       " 'BankInterior ': 'CT Left Side\\n',\n",
       " 'Barn ': 'Deep CT\\n',\n",
       " 'BarnRoof ': 'CT Spawn\\n',\n",
       " 'Basement ': 'CT Murder Hole\\n',\n",
       " 'Bathroom ': 'CT Outside Market\\n',\n",
       " 'BDoors': 'Bench Closer To Jungle\\n',\n",
       " 'Beach': 'Bench CLoser to Tribox\\n',\n",
       " 'Bedroom': 'Flowerpot CT\\n',\n",
       " 'BigForest': 'CT Cheese Spot Murder Hole \\n',\n",
       " 'BigOffice': 'Bottom Stairs\\n',\n",
       " 'BoatBar': 'Stairs Palace Peek\\n',\n",
       " 'BoatHouse': 'Deep Jungle\\n',\n",
       " 'BoatStorage': 'Left Side corner deep jungle\\n',\n",
       " 'Bodyshop': 'Snipers Palace Peek\\n',\n",
       " 'Bombsite': 'Middle Bench\\n',\n",
       " 'BombsiteA': 'Snipers Nest\\n',\n",
       " 'BombsiteB': 'Right Side Snipers Nest\\n',\n",
       " 'BombsiteC': 'Leftside Connector\\n',\n",
       " 'BPlatform': 'Connector behind box\\n',\n",
       " 'Bricks': 'Top STairs\\n',\n",
       " 'Bridge': 'Underpass Peek from Snipers\\n',\n",
       " 'Bunker': 'Elevated Snipers Awp Peek\\n',\n",
       " 'Canal': 'Murder Hole\\n',\n",
       " 'Cart': 'Close Left Side in Snipers From Jungle\\n',\n",
       " 'Catwalk': 'Right Side Connector\\n',\n",
       " 'ComputerRoom': 'Bottom Connector\\n',\n",
       " 'ConferenceRoom': 'Top Connector\\n',\n",
       " 'Connector': 'Underpass\\n',\n",
       " 'Construction': 'Mid Close Connector\\n',\n",
       " 'Control': 'Chair\\n',\n",
       " 'Courtyard': 'Bottom Mid Ladder Room Peek\\n',\n",
       " 'Crane': 'Headshot Angle Close A Ramp\\n',\n",
       " 'Crates': 'Back A Site Offangles\\n',\n",
       " 'Crawlspace': 'Bottom Mid Boosting Snipers\\n',\n",
       " 'Crows': 'Top Mid\\n',\n",
       " 'CTCorridorDown': 'Behind Big Boxes\\n',\n",
       " 'CTCorridorUp': 'Top Mid Catwalk\\n',\n",
       " 'CTBar': 'Catwalk Connector Peek\\n',\n",
       " 'CTRed': 'Top Mid Boxes Right Side Peek\\n',\n",
       " 'CTSideLower': 'Top Mid Boxes Left Side Peek\\n',\n",
       " 'CTSideUpper': 'Top Mid Left Side\\n',\n",
       " 'CTSpawn': 'Top Mid Right Side\\n',\n",
       " 'DeadTrees': 'Deep Catwalk\\n',\n",
       " 'Deck': 'Catwalk T Aparments Peek\\n',\n",
       " 'Decon': 'Ladder Room Catwalk Side\\n',\n",
       " 'Den': 'Top Mid on top of Boxes\\n',\n",
       " 'DirtRoad': 'Top Mid towards Apps\\n',\n",
       " 'DoubleDoors': 'T Spawn towards Apps\\n',\n",
       " 'Downstairs': 'T Apps TV\\n',\n",
       " 'Driveway': 'T Deep apps\\n',\n",
       " 'Ducts': 'T Deep Apps Underpass/Apps Peek\\n',\n",
       " 'Dumpster': 'T apps entrance close left\\n',\n",
       " 'EastForest': 'Deep T Apps\\n',\n",
       " 'ElectricalBox': 'Deep T Apps Underpass STairs\\n',\n",
       " 'Elevator': 'Bench\\n',\n",
       " 'Entrance': 'Forest\\n',\n",
       " 'Entryway': 'Arch\\n',\n",
       " 'ExtendedA': 'CT Deep Catwalk Mid peek\\n',\n",
       " 'FamilyRoom': 'Top Van\\n',\n",
       " 'FarSide': 'Right Side Platform\\n',\n",
       " 'Field': 'Left Side Platform\\n',\n",
       " 'Floor50': 'Apartments Right CT Corner\\n',\n",
       " 'Floor51': 'CT Side Apps\\n',\n",
       " 'Forklift': 'Catwalk Plant B Site\\n',\n",
       " 'Fountain': 'Safe Plant B Site\\n',\n",
       " 'Foyer': \"Back Left B Site From T's' Perspective\\n\",\n",
       " 'Front': \"Back Right B Site from T's Perspective\\n\",\n",
       " 'FrontCourtyard': 'Close Market door\\n',\n",
       " 'FrontDoor': 'Inside Market Doors\\n',\n",
       " 'FrontEntrance': 'Tucked in corner Market\\n',\n",
       " 'FrontHall': 'Register Market\\n',\n",
       " 'FrontRoom': 'Market Window Peek\\n',\n",
       " 'FrontYard': 'market\\n',\n",
       " 'Garage': 'Arch\\n',\n",
       " 'Garden': 'Under window B apps\\n',\n",
       " 'GasStation': 'CT Catwalk\\n',\n",
       " 'Gate': 'Close Market Window\\n',\n",
       " 'GateHouse': 'Close Right Market Window\\n',\n",
       " 'Glade': 'B Bombsite Cross to Catwalk\\n',\n",
       " 'Graveyard': 'Underneath B apps plat\\n',\n",
       " 'GroundLevel': 'Van Barrel Peek\\n',\n",
       " 'GuardHouse': 'Semi Elevated CT Van\\n',\n",
       " 'Hay': 'Back B Site Peeking Apps/Plat\\n',\n",
       " 'Heaven': 'B Site Default Plant\\n',\n",
       " 'Helicopter': 'B site Market Plant\\n'}"
      ]
     },
     "execution_count": 114,
     "metadata": {},
     "output_type": "execute_result"
    }
   ],
   "source": [
    "mappedPlaceNames"
   ]
  },
  {
   "cell_type": "code",
   "execution_count": 137,
   "id": "08cb16eb",
   "metadata": {},
   "outputs": [
    {
     "data": {
      "text/plain": [
       "Index(['Tick', 'Second', 'AttackerSteamId', 'AttackerName', 'AttackerTeam',\n",
       "       'AttackerSide', 'AttackerX', 'AttackerY', 'AttackerZ', 'AttackerAreaId',\n",
       "       'AttackerAreaName', 'AttackerViewX', 'AttackerViewY', 'VictimSteamId',\n",
       "       'VictimName', 'VictimTeam', 'VictimSide', 'VictimX', 'VictimY',\n",
       "       'VictimZ', 'VictimAreaId', 'VictimAreaName', 'VictimViewX',\n",
       "       'VictimViewY', 'Weapon', 'HpDamage', 'HpDamageTaken', 'ArmorDamage',\n",
       "       'ArmorDamageTaken', 'HitGroup', 'RoundNum', 'MatchId', 'MapName'],\n",
       "      dtype='object')"
      ]
     },
     "execution_count": 137,
     "metadata": {},
     "output_type": "execute_result"
    }
   ],
   "source": [
    "damageData.columns"
   ]
  },
  {
   "cell_type": "code",
   "execution_count": 138,
   "id": "8afb2b17",
   "metadata": {},
   "outputs": [],
   "source": [
    "for x in range(len(damageData)):\n",
    "    if  damageData.iloc[x]['AttackerAreaName'] != None:\n",
    "        damageData.at[x, 'VictimAreaName'] = mappedPlaceNames[damageData.iloc[x]['VictimAreaName']]\n",
    "        damageData.at[x, 'AttackerAreaName'] = mappedPlaceNames[damageData.iloc[x]['AttackerAreaName']]"
   ]
  },
  {
   "cell_type": "code",
   "execution_count": 139,
   "id": "3250c67a",
   "metadata": {
    "scrolled": false
   },
   "outputs": [
    {
     "data": {
      "text/html": [
       "<div>\n",
       "<style scoped>\n",
       "    .dataframe tbody tr th:only-of-type {\n",
       "        vertical-align: middle;\n",
       "    }\n",
       "\n",
       "    .dataframe tbody tr th {\n",
       "        vertical-align: top;\n",
       "    }\n",
       "\n",
       "    .dataframe thead th {\n",
       "        text-align: right;\n",
       "    }\n",
       "</style>\n",
       "<table border=\"1\" class=\"dataframe\">\n",
       "  <thead>\n",
       "    <tr style=\"text-align: right;\">\n",
       "      <th></th>\n",
       "      <th>Tick</th>\n",
       "      <th>Second</th>\n",
       "      <th>AttackerSteamId</th>\n",
       "      <th>AttackerName</th>\n",
       "      <th>AttackerTeam</th>\n",
       "      <th>AttackerSide</th>\n",
       "      <th>AttackerX</th>\n",
       "      <th>AttackerY</th>\n",
       "      <th>AttackerZ</th>\n",
       "      <th>AttackerAreaId</th>\n",
       "      <th>...</th>\n",
       "      <th>IsHeadshot</th>\n",
       "      <th>IsTrade</th>\n",
       "      <th>PlayerTradedName</th>\n",
       "      <th>PlayerTradedTeam</th>\n",
       "      <th>PlayerTradedSteamId</th>\n",
       "      <th>IsFirstKill</th>\n",
       "      <th>Weapon</th>\n",
       "      <th>RoundNum</th>\n",
       "      <th>MatchId</th>\n",
       "      <th>MapName</th>\n",
       "    </tr>\n",
       "  </thead>\n",
       "  <tbody>\n",
       "    <tr>\n",
       "      <th>0</th>\n",
       "      <td>7547</td>\n",
       "      <td>30.031250</td>\n",
       "      <td>7.656120e+16</td>\n",
       "      <td>VINI</td>\n",
       "      <td>FURIA</td>\n",
       "      <td>CT</td>\n",
       "      <td>-1491.960449</td>\n",
       "      <td>452.082458</td>\n",
       "      <td>-167.968750</td>\n",
       "      <td>180.0</td>\n",
       "      <td>...</td>\n",
       "      <td>True</td>\n",
       "      <td>False</td>\n",
       "      <td>None</td>\n",
       "      <td>None</td>\n",
       "      <td>NaN</td>\n",
       "      <td>True</td>\n",
       "      <td>USP-S</td>\n",
       "      <td>1</td>\n",
       "      <td>furia-vs-gambit-m3-mirage</td>\n",
       "      <td>de_mirage</td>\n",
       "    </tr>\n",
       "    <tr>\n",
       "      <th>1</th>\n",
       "      <td>8150</td>\n",
       "      <td>34.742188</td>\n",
       "      <td>7.656120e+16</td>\n",
       "      <td>interz</td>\n",
       "      <td>Gambit</td>\n",
       "      <td>T</td>\n",
       "      <td>90.629951</td>\n",
       "      <td>-2367.156250</td>\n",
       "      <td>-39.968750</td>\n",
       "      <td>155.0</td>\n",
       "      <td>...</td>\n",
       "      <td>True</td>\n",
       "      <td>False</td>\n",
       "      <td>Ax1Le</td>\n",
       "      <td>Gambit</td>\n",
       "      <td>7.656120e+16</td>\n",
       "      <td>False</td>\n",
       "      <td>p250</td>\n",
       "      <td>1</td>\n",
       "      <td>furia-vs-gambit-m3-mirage</td>\n",
       "      <td>de_mirage</td>\n",
       "    </tr>\n",
       "    <tr>\n",
       "      <th>2</th>\n",
       "      <td>8889</td>\n",
       "      <td>40.515625</td>\n",
       "      <td>7.656120e+16</td>\n",
       "      <td>interz</td>\n",
       "      <td>Gambit</td>\n",
       "      <td>T</td>\n",
       "      <td>76.037605</td>\n",
       "      <td>-2083.767334</td>\n",
       "      <td>-35.968750</td>\n",
       "      <td>47.0</td>\n",
       "      <td>...</td>\n",
       "      <td>True</td>\n",
       "      <td>False</td>\n",
       "      <td>KSCERATO</td>\n",
       "      <td>FURIA</td>\n",
       "      <td>7.656120e+16</td>\n",
       "      <td>False</td>\n",
       "      <td>p250</td>\n",
       "      <td>1</td>\n",
       "      <td>furia-vs-gambit-m3-mirage</td>\n",
       "      <td>de_mirage</td>\n",
       "    </tr>\n",
       "    <tr>\n",
       "      <th>3</th>\n",
       "      <td>11856</td>\n",
       "      <td>63.695312</td>\n",
       "      <td>7.656120e+16</td>\n",
       "      <td>Hobbit</td>\n",
       "      <td>Gambit</td>\n",
       "      <td>T</td>\n",
       "      <td>278.709717</td>\n",
       "      <td>-1496.237915</td>\n",
       "      <td>-175.968750</td>\n",
       "      <td>60.0</td>\n",
       "      <td>...</td>\n",
       "      <td>True</td>\n",
       "      <td>False</td>\n",
       "      <td>arT</td>\n",
       "      <td>FURIA</td>\n",
       "      <td>7.656120e+16</td>\n",
       "      <td>False</td>\n",
       "      <td>USP-S</td>\n",
       "      <td>1</td>\n",
       "      <td>furia-vs-gambit-m3-mirage</td>\n",
       "      <td>de_mirage</td>\n",
       "    </tr>\n",
       "    <tr>\n",
       "      <th>4</th>\n",
       "      <td>12236</td>\n",
       "      <td>66.664062</td>\n",
       "      <td>7.656120e+16</td>\n",
       "      <td>yuurih</td>\n",
       "      <td>FURIA</td>\n",
       "      <td>CT</td>\n",
       "      <td>-504.352875</td>\n",
       "      <td>-400.609680</td>\n",
       "      <td>-168.368683</td>\n",
       "      <td>40.0</td>\n",
       "      <td>...</td>\n",
       "      <td>False</td>\n",
       "      <td>False</td>\n",
       "      <td>VINI</td>\n",
       "      <td>FURIA</td>\n",
       "      <td>7.656120e+16</td>\n",
       "      <td>False</td>\n",
       "      <td>USP-S</td>\n",
       "      <td>1</td>\n",
       "      <td>furia-vs-gambit-m3-mirage</td>\n",
       "      <td>de_mirage</td>\n",
       "    </tr>\n",
       "    <tr>\n",
       "      <th>...</th>\n",
       "      <td>...</td>\n",
       "      <td>...</td>\n",
       "      <td>...</td>\n",
       "      <td>...</td>\n",
       "      <td>...</td>\n",
       "      <td>...</td>\n",
       "      <td>...</td>\n",
       "      <td>...</td>\n",
       "      <td>...</td>\n",
       "      <td>...</td>\n",
       "      <td>...</td>\n",
       "      <td>...</td>\n",
       "      <td>...</td>\n",
       "      <td>...</td>\n",
       "      <td>...</td>\n",
       "      <td>...</td>\n",
       "      <td>...</td>\n",
       "      <td>...</td>\n",
       "      <td>...</td>\n",
       "      <td>...</td>\n",
       "      <td>...</td>\n",
       "    </tr>\n",
       "    <tr>\n",
       "      <th>2366</th>\n",
       "      <td>357571</td>\n",
       "      <td>77.464567</td>\n",
       "      <td>7.656120e+16</td>\n",
       "      <td>-Ax1Le-</td>\n",
       "      <td>Gambit</td>\n",
       "      <td>CT</td>\n",
       "      <td>-684.528137</td>\n",
       "      <td>-312.753571</td>\n",
       "      <td>-159.968750</td>\n",
       "      <td>304.0</td>\n",
       "      <td>...</td>\n",
       "      <td>False</td>\n",
       "      <td>False</td>\n",
       "      <td>sh1ro</td>\n",
       "      <td>Gambit</td>\n",
       "      <td>7.656120e+16</td>\n",
       "      <td>False</td>\n",
       "      <td>AK-47</td>\n",
       "      <td>25</td>\n",
       "      <td>winstrike-vs-gambit-m2-mirage</td>\n",
       "      <td>de_mirage</td>\n",
       "    </tr>\n",
       "    <tr>\n",
       "      <th>2367</th>\n",
       "      <td>357639</td>\n",
       "      <td>78.000000</td>\n",
       "      <td>7.656120e+16</td>\n",
       "      <td>Xo66uT</td>\n",
       "      <td>Gambit</td>\n",
       "      <td>CT</td>\n",
       "      <td>-267.162445</td>\n",
       "      <td>-1531.893799</td>\n",
       "      <td>-167.968750</td>\n",
       "      <td>143.0</td>\n",
       "      <td>...</td>\n",
       "      <td>True</td>\n",
       "      <td>False</td>\n",
       "      <td>Lack1</td>\n",
       "      <td>Winstrike</td>\n",
       "      <td>7.656120e+16</td>\n",
       "      <td>False</td>\n",
       "      <td>M4A4</td>\n",
       "      <td>25</td>\n",
       "      <td>winstrike-vs-gambit-m2-mirage</td>\n",
       "      <td>de_mirage</td>\n",
       "    </tr>\n",
       "    <tr>\n",
       "      <th>2368</th>\n",
       "      <td>357695</td>\n",
       "      <td>78.440945</td>\n",
       "      <td>7.656120e+16</td>\n",
       "      <td>-Ax1Le-</td>\n",
       "      <td>Gambit</td>\n",
       "      <td>CT</td>\n",
       "      <td>-670.226929</td>\n",
       "      <td>-332.940796</td>\n",
       "      <td>-159.968750</td>\n",
       "      <td>650.0</td>\n",
       "      <td>...</td>\n",
       "      <td>True</td>\n",
       "      <td>False</td>\n",
       "      <td>nealan</td>\n",
       "      <td>Winstrike</td>\n",
       "      <td>7.656120e+16</td>\n",
       "      <td>False</td>\n",
       "      <td>AK-47</td>\n",
       "      <td>25</td>\n",
       "      <td>winstrike-vs-gambit-m2-mirage</td>\n",
       "      <td>de_mirage</td>\n",
       "    </tr>\n",
       "    <tr>\n",
       "      <th>2369</th>\n",
       "      <td>357897</td>\n",
       "      <td>80.031496</td>\n",
       "      <td>7.656120e+16</td>\n",
       "      <td>n0rb3r7</td>\n",
       "      <td>Winstrike</td>\n",
       "      <td>T</td>\n",
       "      <td>-47.975136</td>\n",
       "      <td>-1625.312256</td>\n",
       "      <td>-167.978867</td>\n",
       "      <td>145.0</td>\n",
       "      <td>...</td>\n",
       "      <td>False</td>\n",
       "      <td>False</td>\n",
       "      <td>nickelback</td>\n",
       "      <td>Winstrike</td>\n",
       "      <td>7.656120e+16</td>\n",
       "      <td>False</td>\n",
       "      <td>AK-47</td>\n",
       "      <td>25</td>\n",
       "      <td>winstrike-vs-gambit-m2-mirage</td>\n",
       "      <td>de_mirage</td>\n",
       "    </tr>\n",
       "    <tr>\n",
       "      <th>2370</th>\n",
       "      <td>359912</td>\n",
       "      <td>95.897638</td>\n",
       "      <td>7.656120e+16</td>\n",
       "      <td>-Ax1Le-</td>\n",
       "      <td>Gambit</td>\n",
       "      <td>CT</td>\n",
       "      <td>-591.874146</td>\n",
       "      <td>-913.416443</td>\n",
       "      <td>-167.968750</td>\n",
       "      <td>1702.0</td>\n",
       "      <td>...</td>\n",
       "      <td>False</td>\n",
       "      <td>False</td>\n",
       "      <td>Xo66uT</td>\n",
       "      <td>Gambit</td>\n",
       "      <td>7.656120e+16</td>\n",
       "      <td>False</td>\n",
       "      <td>AK-47</td>\n",
       "      <td>25</td>\n",
       "      <td>winstrike-vs-gambit-m2-mirage</td>\n",
       "      <td>de_mirage</td>\n",
       "    </tr>\n",
       "  </tbody>\n",
       "</table>\n",
       "<p>2371 rows × 45 columns</p>\n",
       "</div>"
      ],
      "text/plain": [
       "        Tick     Second  AttackerSteamId AttackerName AttackerTeam  \\\n",
       "0       7547  30.031250     7.656120e+16         VINI        FURIA   \n",
       "1       8150  34.742188     7.656120e+16       interz       Gambit   \n",
       "2       8889  40.515625     7.656120e+16       interz       Gambit   \n",
       "3      11856  63.695312     7.656120e+16       Hobbit       Gambit   \n",
       "4      12236  66.664062     7.656120e+16       yuurih        FURIA   \n",
       "...      ...        ...              ...          ...          ...   \n",
       "2366  357571  77.464567     7.656120e+16      -Ax1Le-       Gambit   \n",
       "2367  357639  78.000000     7.656120e+16       Xo66uT       Gambit   \n",
       "2368  357695  78.440945     7.656120e+16      -Ax1Le-       Gambit   \n",
       "2369  357897  80.031496     7.656120e+16      n0rb3r7    Winstrike   \n",
       "2370  359912  95.897638     7.656120e+16      -Ax1Le-       Gambit   \n",
       "\n",
       "     AttackerSide    AttackerX    AttackerY   AttackerZ  AttackerAreaId  ...  \\\n",
       "0              CT -1491.960449   452.082458 -167.968750           180.0  ...   \n",
       "1               T    90.629951 -2367.156250  -39.968750           155.0  ...   \n",
       "2               T    76.037605 -2083.767334  -35.968750            47.0  ...   \n",
       "3               T   278.709717 -1496.237915 -175.968750            60.0  ...   \n",
       "4              CT  -504.352875  -400.609680 -168.368683            40.0  ...   \n",
       "...           ...          ...          ...         ...             ...  ...   \n",
       "2366           CT  -684.528137  -312.753571 -159.968750           304.0  ...   \n",
       "2367           CT  -267.162445 -1531.893799 -167.968750           143.0  ...   \n",
       "2368           CT  -670.226929  -332.940796 -159.968750           650.0  ...   \n",
       "2369            T   -47.975136 -1625.312256 -167.978867           145.0  ...   \n",
       "2370           CT  -591.874146  -913.416443 -167.968750          1702.0  ...   \n",
       "\n",
       "     IsHeadshot  IsTrade  PlayerTradedName  PlayerTradedTeam  \\\n",
       "0          True    False              None              None   \n",
       "1          True    False             Ax1Le            Gambit   \n",
       "2          True    False          KSCERATO             FURIA   \n",
       "3          True    False               arT             FURIA   \n",
       "4         False    False              VINI             FURIA   \n",
       "...         ...      ...               ...               ...   \n",
       "2366      False    False             sh1ro            Gambit   \n",
       "2367       True    False             Lack1         Winstrike   \n",
       "2368       True    False            nealan         Winstrike   \n",
       "2369      False    False        nickelback         Winstrike   \n",
       "2370      False    False            Xo66uT            Gambit   \n",
       "\n",
       "     PlayerTradedSteamId IsFirstKill Weapon  RoundNum  \\\n",
       "0                    NaN        True  USP-S         1   \n",
       "1           7.656120e+16       False   p250         1   \n",
       "2           7.656120e+16       False   p250         1   \n",
       "3           7.656120e+16       False  USP-S         1   \n",
       "4           7.656120e+16       False  USP-S         1   \n",
       "...                  ...         ...    ...       ...   \n",
       "2366        7.656120e+16       False  AK-47        25   \n",
       "2367        7.656120e+16       False   M4A4        25   \n",
       "2368        7.656120e+16       False  AK-47        25   \n",
       "2369        7.656120e+16       False  AK-47        25   \n",
       "2370        7.656120e+16       False  AK-47        25   \n",
       "\n",
       "                            MatchId    MapName  \n",
       "0         furia-vs-gambit-m3-mirage  de_mirage  \n",
       "1         furia-vs-gambit-m3-mirage  de_mirage  \n",
       "2         furia-vs-gambit-m3-mirage  de_mirage  \n",
       "3         furia-vs-gambit-m3-mirage  de_mirage  \n",
       "4         furia-vs-gambit-m3-mirage  de_mirage  \n",
       "...                             ...        ...  \n",
       "2366  winstrike-vs-gambit-m2-mirage  de_mirage  \n",
       "2367  winstrike-vs-gambit-m2-mirage  de_mirage  \n",
       "2368  winstrike-vs-gambit-m2-mirage  de_mirage  \n",
       "2369  winstrike-vs-gambit-m2-mirage  de_mirage  \n",
       "2370  winstrike-vs-gambit-m2-mirage  de_mirage  \n",
       "\n",
       "[2371 rows x 45 columns]"
      ]
     },
     "execution_count": 139,
     "metadata": {},
     "output_type": "execute_result"
    }
   ],
   "source": [
    "killData"
   ]
  },
  {
   "cell_type": "code",
   "execution_count": 140,
   "id": "a792dbfa",
   "metadata": {
    "scrolled": false
   },
   "outputs": [
    {
     "data": {
      "text/plain": [
       "CT Side Apps                              102\n",
       "A Ramp                                     93\n",
       "Ticketbooth                                87\n",
       "Default A                                  77\n",
       "Bottom Stairs                              76\n",
       "                                         ... \n",
       "Under balcony on top of the little box      1\n",
       "BackRoad                                    1\n",
       "Construction                                1\n",
       "BackCourtyard                               1\n",
       "FrontRoom                                   1\n",
       "Name: VictimAreaName, Length: 108, dtype: int64"
      ]
     },
     "execution_count": 140,
     "metadata": {},
     "output_type": "execute_result"
    }
   ],
   "source": [
    "killData.VictimAreaName.value_counts()"
   ]
  },
  {
   "cell_type": "code",
   "execution_count": 141,
   "id": "993aaeb2",
   "metadata": {},
   "outputs": [
    {
     "data": {
      "text/html": [
       "<div>\n",
       "<style scoped>\n",
       "    .dataframe tbody tr th:only-of-type {\n",
       "        vertical-align: middle;\n",
       "    }\n",
       "\n",
       "    .dataframe tbody tr th {\n",
       "        vertical-align: top;\n",
       "    }\n",
       "\n",
       "    .dataframe thead th {\n",
       "        text-align: right;\n",
       "    }\n",
       "</style>\n",
       "<table border=\"1\" class=\"dataframe\">\n",
       "  <thead>\n",
       "    <tr style=\"text-align: right;\">\n",
       "      <th></th>\n",
       "      <th>Tick</th>\n",
       "      <th>Second</th>\n",
       "      <th>AttackerSteamId</th>\n",
       "      <th>AttackerName</th>\n",
       "      <th>AttackerTeam</th>\n",
       "      <th>AttackerSide</th>\n",
       "      <th>AttackerX</th>\n",
       "      <th>AttackerY</th>\n",
       "      <th>AttackerZ</th>\n",
       "      <th>AttackerAreaId</th>\n",
       "      <th>...</th>\n",
       "      <th>IsHeadshot</th>\n",
       "      <th>IsTrade</th>\n",
       "      <th>PlayerTradedName</th>\n",
       "      <th>PlayerTradedTeam</th>\n",
       "      <th>PlayerTradedSteamId</th>\n",
       "      <th>IsFirstKill</th>\n",
       "      <th>Weapon</th>\n",
       "      <th>RoundNum</th>\n",
       "      <th>MatchId</th>\n",
       "      <th>MapName</th>\n",
       "    </tr>\n",
       "  </thead>\n",
       "  <tbody>\n",
       "    <tr>\n",
       "      <th>0</th>\n",
       "      <td>7547</td>\n",
       "      <td>30.031250</td>\n",
       "      <td>7.656120e+16</td>\n",
       "      <td>VINI</td>\n",
       "      <td>FURIA</td>\n",
       "      <td>CT</td>\n",
       "      <td>-1491.960449</td>\n",
       "      <td>452.082458</td>\n",
       "      <td>-167.968750</td>\n",
       "      <td>180.0</td>\n",
       "      <td>...</td>\n",
       "      <td>True</td>\n",
       "      <td>False</td>\n",
       "      <td>None</td>\n",
       "      <td>None</td>\n",
       "      <td>NaN</td>\n",
       "      <td>True</td>\n",
       "      <td>USP-S</td>\n",
       "      <td>1</td>\n",
       "      <td>furia-vs-gambit-m3-mirage</td>\n",
       "      <td>de_mirage</td>\n",
       "    </tr>\n",
       "    <tr>\n",
       "      <th>1</th>\n",
       "      <td>8150</td>\n",
       "      <td>34.742188</td>\n",
       "      <td>7.656120e+16</td>\n",
       "      <td>interz</td>\n",
       "      <td>Gambit</td>\n",
       "      <td>T</td>\n",
       "      <td>90.629951</td>\n",
       "      <td>-2367.156250</td>\n",
       "      <td>-39.968750</td>\n",
       "      <td>155.0</td>\n",
       "      <td>...</td>\n",
       "      <td>True</td>\n",
       "      <td>False</td>\n",
       "      <td>Ax1Le</td>\n",
       "      <td>Gambit</td>\n",
       "      <td>7.656120e+16</td>\n",
       "      <td>False</td>\n",
       "      <td>p250</td>\n",
       "      <td>1</td>\n",
       "      <td>furia-vs-gambit-m3-mirage</td>\n",
       "      <td>de_mirage</td>\n",
       "    </tr>\n",
       "    <tr>\n",
       "      <th>2</th>\n",
       "      <td>8889</td>\n",
       "      <td>40.515625</td>\n",
       "      <td>7.656120e+16</td>\n",
       "      <td>interz</td>\n",
       "      <td>Gambit</td>\n",
       "      <td>T</td>\n",
       "      <td>76.037605</td>\n",
       "      <td>-2083.767334</td>\n",
       "      <td>-35.968750</td>\n",
       "      <td>47.0</td>\n",
       "      <td>...</td>\n",
       "      <td>True</td>\n",
       "      <td>False</td>\n",
       "      <td>KSCERATO</td>\n",
       "      <td>FURIA</td>\n",
       "      <td>7.656120e+16</td>\n",
       "      <td>False</td>\n",
       "      <td>p250</td>\n",
       "      <td>1</td>\n",
       "      <td>furia-vs-gambit-m3-mirage</td>\n",
       "      <td>de_mirage</td>\n",
       "    </tr>\n",
       "    <tr>\n",
       "      <th>3</th>\n",
       "      <td>11856</td>\n",
       "      <td>63.695312</td>\n",
       "      <td>7.656120e+16</td>\n",
       "      <td>Hobbit</td>\n",
       "      <td>Gambit</td>\n",
       "      <td>T</td>\n",
       "      <td>278.709717</td>\n",
       "      <td>-1496.237915</td>\n",
       "      <td>-175.968750</td>\n",
       "      <td>60.0</td>\n",
       "      <td>...</td>\n",
       "      <td>True</td>\n",
       "      <td>False</td>\n",
       "      <td>arT</td>\n",
       "      <td>FURIA</td>\n",
       "      <td>7.656120e+16</td>\n",
       "      <td>False</td>\n",
       "      <td>USP-S</td>\n",
       "      <td>1</td>\n",
       "      <td>furia-vs-gambit-m3-mirage</td>\n",
       "      <td>de_mirage</td>\n",
       "    </tr>\n",
       "    <tr>\n",
       "      <th>4</th>\n",
       "      <td>12236</td>\n",
       "      <td>66.664062</td>\n",
       "      <td>7.656120e+16</td>\n",
       "      <td>yuurih</td>\n",
       "      <td>FURIA</td>\n",
       "      <td>CT</td>\n",
       "      <td>-504.352875</td>\n",
       "      <td>-400.609680</td>\n",
       "      <td>-168.368683</td>\n",
       "      <td>40.0</td>\n",
       "      <td>...</td>\n",
       "      <td>False</td>\n",
       "      <td>False</td>\n",
       "      <td>VINI</td>\n",
       "      <td>FURIA</td>\n",
       "      <td>7.656120e+16</td>\n",
       "      <td>False</td>\n",
       "      <td>USP-S</td>\n",
       "      <td>1</td>\n",
       "      <td>furia-vs-gambit-m3-mirage</td>\n",
       "      <td>de_mirage</td>\n",
       "    </tr>\n",
       "  </tbody>\n",
       "</table>\n",
       "<p>5 rows × 45 columns</p>\n",
       "</div>"
      ],
      "text/plain": [
       "    Tick     Second  AttackerSteamId AttackerName AttackerTeam AttackerSide  \\\n",
       "0   7547  30.031250     7.656120e+16         VINI        FURIA           CT   \n",
       "1   8150  34.742188     7.656120e+16       interz       Gambit            T   \n",
       "2   8889  40.515625     7.656120e+16       interz       Gambit            T   \n",
       "3  11856  63.695312     7.656120e+16       Hobbit       Gambit            T   \n",
       "4  12236  66.664062     7.656120e+16       yuurih        FURIA           CT   \n",
       "\n",
       "     AttackerX    AttackerY   AttackerZ  AttackerAreaId  ... IsHeadshot  \\\n",
       "0 -1491.960449   452.082458 -167.968750           180.0  ...       True   \n",
       "1    90.629951 -2367.156250  -39.968750           155.0  ...       True   \n",
       "2    76.037605 -2083.767334  -35.968750            47.0  ...       True   \n",
       "3   278.709717 -1496.237915 -175.968750            60.0  ...       True   \n",
       "4  -504.352875  -400.609680 -168.368683            40.0  ...      False   \n",
       "\n",
       "   IsTrade  PlayerTradedName  PlayerTradedTeam PlayerTradedSteamId  \\\n",
       "0    False              None              None                 NaN   \n",
       "1    False             Ax1Le            Gambit        7.656120e+16   \n",
       "2    False          KSCERATO             FURIA        7.656120e+16   \n",
       "3    False               arT             FURIA        7.656120e+16   \n",
       "4    False              VINI             FURIA        7.656120e+16   \n",
       "\n",
       "  IsFirstKill Weapon  RoundNum                    MatchId    MapName  \n",
       "0        True  USP-S         1  furia-vs-gambit-m3-mirage  de_mirage  \n",
       "1       False   p250         1  furia-vs-gambit-m3-mirage  de_mirage  \n",
       "2       False   p250         1  furia-vs-gambit-m3-mirage  de_mirage  \n",
       "3       False  USP-S         1  furia-vs-gambit-m3-mirage  de_mirage  \n",
       "4       False  USP-S         1  furia-vs-gambit-m3-mirage  de_mirage  \n",
       "\n",
       "[5 rows x 45 columns]"
      ]
     },
     "execution_count": 141,
     "metadata": {},
     "output_type": "execute_result"
    }
   ],
   "source": [
    "killData.head()"
   ]
  },
  {
   "cell_type": "code",
   "execution_count": 142,
   "id": "de3c81a2",
   "metadata": {},
   "outputs": [
    {
     "data": {
      "text/plain": [
       "100"
      ]
     },
     "execution_count": 142,
     "metadata": {},
     "output_type": "execute_result"
    }
   ],
   "source": [
    "len(killData.AttackerAreaName.value_counts())"
   ]
  },
  {
   "cell_type": "code",
   "execution_count": 143,
   "id": "worst-absolute",
   "metadata": {},
   "outputs": [
    {
     "data": {
      "text/plain": [
       "Index(['Tick', 'Second', 'AttackerSteamId', 'AttackerName', 'AttackerTeam',\n",
       "       'AttackerSide', 'AttackerX', 'AttackerY', 'AttackerZ', 'AttackerAreaId',\n",
       "       'AttackerAreaName', 'AttackerViewX', 'AttackerViewY', 'VictimSteamId',\n",
       "       'VictimName', 'VictimTeam', 'VictimSide', 'VictimX', 'VictimY',\n",
       "       'VictimZ', 'VictimAreaId', 'VictimAreaName', 'VictimViewX',\n",
       "       'VictimViewY', 'Weapon', 'HpDamage', 'HpDamageTaken', 'ArmorDamage',\n",
       "       'ArmorDamageTaken', 'HitGroup', 'RoundNum', 'MatchId', 'MapName'],\n",
       "      dtype='object')"
      ]
     },
     "execution_count": 143,
     "metadata": {},
     "output_type": "execute_result"
    }
   ],
   "source": [
    "damageData.columns"
   ]
  },
  {
   "cell_type": "code",
   "execution_count": 144,
   "id": "resistant-warehouse",
   "metadata": {
    "scrolled": true
   },
   "outputs": [
    {
     "data": {
      "text/plain": [
       "Index(['RoundNum', 'MatchId', 'MapName', 'StartTick', 'FreezeTimeEnd',\n",
       "       'EndTick', 'EndOfficialTick', 'TScore', 'CTScore', 'WinningSide',\n",
       "       'WinningTeam', 'LosingTeam', 'RoundEndReason', 'CTStartEqVal',\n",
       "       'CTBuyType', 'TStartEqVal', 'TBuyType'],\n",
       "      dtype='object')"
      ]
     },
     "execution_count": 144,
     "metadata": {},
     "output_type": "execute_result"
    }
   ],
   "source": [
    "roundData.columns"
   ]
  },
  {
   "cell_type": "code",
   "execution_count": 145,
   "id": "painful-origin",
   "metadata": {},
   "outputs": [
    {
     "data": {
      "text/plain": [
       "Gambit                  176\n",
       "Gambit Esports           42\n",
       "Heroic                   19\n",
       "HAVU                     16\n",
       "Virtus.pro Parimatch     16\n",
       "forZe                    12\n",
       "Virtus.pro               11\n",
       "NAVI GG.BET              11\n",
       "Nemiga Gaming            10\n",
       "K23                      10\n",
       "FURIA                     9\n",
       "Spirit                    9\n",
       "Winstrike                 9\n",
       "FURIA eSports             6\n",
       "Complexity                5\n",
       "Team One                  5\n",
       "Name: WinningTeam, dtype: int64"
      ]
     },
     "execution_count": 145,
     "metadata": {},
     "output_type": "execute_result"
    }
   ],
   "source": [
    "roundData.WinningTeam.value_counts()"
   ]
  },
  {
   "cell_type": "code",
   "execution_count": 146,
   "id": "aboriginal-master",
   "metadata": {},
   "outputs": [],
   "source": [
    "roundsPlayed = 0\n",
    "for x in roundData.MatchId.unique():\n",
    "    roundsPlayed += roundData[roundData['MatchId'] == x].RoundNum.iloc[-1]"
   ]
  },
  {
   "cell_type": "code",
   "execution_count": 147,
   "id": "settled-bouquet",
   "metadata": {},
   "outputs": [
    {
     "data": {
      "text/plain": [
       "340"
      ]
     },
     "execution_count": 147,
     "metadata": {},
     "output_type": "execute_result"
    }
   ],
   "source": [
    "roundsPlayed"
   ]
  },
  {
   "cell_type": "code",
   "execution_count": 148,
   "id": "frank-music",
   "metadata": {
    "scrolled": true
   },
   "outputs": [
    {
     "data": {
      "text/plain": [
       "Index(['nafany', 'Ax1Le', 'interz', 'Hobbit', 'sh1ro', 'sh1r0', 'SH1R0',\n",
       "       'Ax1Le.VulkanBet', 'HObbit', 'HObbit.', 'HObbit.VulkanBet', 'stavn',\n",
       "       'nafany.VulkanBet', 'KSCERATO', 'sh1ro.VulkanBet', 'interz.VulkanBet',\n",
       "       'cadiaN', '-Ax1Le-', 'VINI', 'arT', 'yuurih', 'electronic',\n",
       "       'xsepower x VulkanBET', 'Jame', 'sLowi', 'junior', 'SANJI',\n",
       "       'FL1T x LUKOIL', 'xseveN', 'elian', 'Qikert', 'ZOREE', 'TeSeS',\n",
       "       'Aerial', 'Boombl4', 'sdy.Parimatch', 'refrezh', 'Mir.Parimatch',\n",
       "       'RUSH', 'kade0 1XBET', 'chopper.Parimatch', 'Jyo', 'Jame * Parimatch',\n",
       "       'facecrack x LUKOIL', 'magixx.Parimatch', 's1mple', 'lollipop21k',\n",
       "       'buster * Parimatch', 'buster', 'Maluk3', 'jemi',\n",
       "       'YEKINDAR * Parimatch', 'mou 1XBET', 'almazer x LUKOIL', 'YEKINDAR',\n",
       "       'SANJI * Parimatch', 'n0rb3r7', 'Lack1', 'Xo66uT', 'boX', 'sjuush',\n",
       "       'k0nfig', 'pesadelo', 'malbsMd', 'niko ', 'nealan', 'mds',\n",
       "       'Jerry x VulkanBET', 'b1t', 'Perfecto', 'n0rb3r7 1XBET', 'prt', 'b0RUP',\n",
       "       'Keoz 1XBET', 'blameF', 'neaLaN 1XBET', 'nickelback',\n",
       "       'Qikert * Parimatch', 'degster.Parimatch', 'speed4k', 'poizon', 'jks',\n",
       "       'Skullz'],\n",
       "      dtype='object')"
      ]
     },
     "execution_count": 148,
     "metadata": {},
     "output_type": "execute_result"
    }
   ],
   "source": [
    "killData.AttackerName.value_counts().index"
   ]
  },
  {
   "cell_type": "code",
   "execution_count": 149,
   "id": "sticky-inside",
   "metadata": {},
   "outputs": [
    {
     "data": {
      "text/plain": [
       "Index(['Tick', 'Second', 'AttackerSteamId', 'AttackerName', 'AttackerTeam',\n",
       "       'AttackerSide', 'AttackerX', 'AttackerY', 'AttackerZ', 'AttackerAreaId',\n",
       "       'AttackerAreaName', 'AttackerViewX', 'AttackerViewY', 'VictimSteamId',\n",
       "       'VictimName', 'VictimTeam', 'VictimSide', 'VictimX', 'VictimY',\n",
       "       'VictimZ', 'VictimAreaId', 'VictimAreaName', 'VictimViewX',\n",
       "       'VictimViewY', 'AssisterSteamId', 'AssisterName', 'AssisterTeam',\n",
       "       'AssisterSide', 'AssisterX', 'AssisterY', 'AssisterZ', 'AssisterAreaId',\n",
       "       'AssisterAreaName', 'IsWallbang', 'IsFlashed', 'IsHeadshot', 'IsTrade',\n",
       "       'PlayerTradedName', 'PlayerTradedTeam', 'PlayerTradedSteamId',\n",
       "       'IsFirstKill', 'Weapon', 'RoundNum', 'MatchId', 'MapName'],\n",
       "      dtype='object')"
      ]
     },
     "execution_count": 149,
     "metadata": {},
     "output_type": "execute_result"
    }
   ],
   "source": [
    "killData.columns"
   ]
  },
  {
   "cell_type": "code",
   "execution_count": 150,
   "id": "breeding-blade",
   "metadata": {},
   "outputs": [],
   "source": [
    "shiro_names = ['sh1ro', 'sh1r0', 'SH1R0','sh1ro.VulkanBet']\n",
    "hobbit_names = ['Hobbit','HObbit', 'HObbit.',  'HObbit.VulkanBet']\n",
    "interz_names = ['interz','interz.VulkanBet']\n",
    "nafany_names = ['nafany','nafany.VulkanBet']\n",
    "ax1le_names = ['-Ax1Le-', 'Ax1Le', 'Ax1Le.VulkanBet']"
   ]
  },
  {
   "cell_type": "markdown",
   "id": "sitting-israel",
   "metadata": {},
   "source": [
    "# Kills + Damages"
   ]
  },
  {
   "cell_type": "code",
   "execution_count": 151,
   "id": "pleasant-wedding",
   "metadata": {},
   "outputs": [],
   "source": [
    "sh1roKills = killData[(killData['AttackerName'].isin(shiro_names)) |(killData['VictimName'].isin(shiro_names))]\n",
    "hobbitKills = killData[(killData['AttackerName'].isin(hobbit_names)) |(killData['VictimName'].isin(hobbit_names))]\n",
    "interzKills = killData[(killData['AttackerName'].isin(interz_names)) |(killData['VictimName'].isin(interz_names))]\n",
    "nafanyKills = killData[(killData['AttackerName'].isin(nafany_names)) |(killData['VictimName'].isin(nafany_names))]\n",
    "ax1leKills = killData[(killData['AttackerName'].isin(ax1le_names)) |(killData['VictimName'].isin(ax1le_names))]"
   ]
  },
  {
   "cell_type": "code",
   "execution_count": 152,
   "id": "intense-northeast",
   "metadata": {
    "scrolled": true
   },
   "outputs": [
    {
     "data": {
      "text/plain": [
       "Index(['Tick', 'Second', 'AttackerSteamId', 'AttackerName', 'AttackerTeam',\n",
       "       'AttackerSide', 'AttackerX', 'AttackerY', 'AttackerZ', 'AttackerAreaId',\n",
       "       'AttackerAreaName', 'AttackerViewX', 'AttackerViewY', 'VictimSteamId',\n",
       "       'VictimName', 'VictimTeam', 'VictimSide', 'VictimX', 'VictimY',\n",
       "       'VictimZ', 'VictimAreaId', 'VictimAreaName', 'VictimViewX',\n",
       "       'VictimViewY', 'Weapon', 'HpDamage', 'HpDamageTaken', 'ArmorDamage',\n",
       "       'ArmorDamageTaken', 'HitGroup', 'RoundNum', 'MatchId', 'MapName'],\n",
       "      dtype='object')"
      ]
     },
     "execution_count": 152,
     "metadata": {},
     "output_type": "execute_result"
    }
   ],
   "source": [
    "damageData.columns"
   ]
  },
  {
   "cell_type": "code",
   "execution_count": 153,
   "id": "meaningful-arizona",
   "metadata": {},
   "outputs": [],
   "source": [
    "sh1roDamages = damageData[(damageData['AttackerName'].isin(shiro_names)) |(damageData['VictimName'].isin(shiro_names))]\n",
    "hobbitDamages = damageData[(damageData['AttackerName'].isin(hobbit_names)) |(damageData['VictimName'].isin(hobbit_names))]\n",
    "interzDamages = damageData[(damageData['AttackerName'].isin(interz_names)) |(damageData['VictimName'].isin(interz_names))]\n",
    "nafanyDamages = damageData[(damageData['AttackerName'].isin(nafany_names)) |(damageData['VictimName'].isin(nafany_names))]\n",
    "ax1leDamages = damageData[(damageData['AttackerName'].isin(ax1le_names)) |(damageData['VictimName'].isin(ax1le_names))]"
   ]
  },
  {
   "cell_type": "markdown",
   "id": "periodic-partner",
   "metadata": {},
   "source": [
    "## Sh1ro"
   ]
  },
  {
   "cell_type": "code",
   "execution_count": 154,
   "id": "naval-commons",
   "metadata": {
    "scrolled": true
   },
   "outputs": [
    {
     "data": {
      "text/plain": [
       "AWP             54.9%\n",
       "AK-47           10.9%\n",
       "Desert Eagle     7.7%\n",
       "USP-S            7.4%\n",
       "p250             6.0%\n",
       "SSG 08           3.2%\n",
       "AUG              2.5%\n",
       "M4A4             1.4%\n",
       "SG 553           1.4%\n",
       "Tec-9            1.1%\n",
       "M4A1             0.7%\n",
       "FAMAS            0.7%\n",
       "Glock-18         0.7%\n",
       "Galil AR         0.4%\n",
       "Molotov          0.4%\n",
       "Five-SeveN       0.4%\n",
       "Knife            0.4%\n",
       "Name: Weapon, dtype: object"
      ]
     },
     "execution_count": 154,
     "metadata": {},
     "output_type": "execute_result"
    }
   ],
   "source": [
    "#Sh1ro's Weapon distirbution\n",
    "sh1roKills[sh1roKills['AttackerName'].isin(shiro_names)].Weapon.value_counts(normalize=True).mul(100).round(1).astype(str) + '%'\n"
   ]
  },
  {
   "cell_type": "code",
   "execution_count": 155,
   "id": "otherwise-republican",
   "metadata": {},
   "outputs": [
    {
     "name": "stderr",
     "output_type": "stream",
     "text": [
      "/home/nk095x/.local/lib/python3.6/site-packages/ipykernel_launcher.py:2: UserWarning: Boolean Series key will be reindexed to match DataFrame index.\n",
      "  \n"
     ]
    },
    {
     "data": {
      "text/plain": [
       "AWP             62.1%\n",
       "USP-S           13.7%\n",
       "Desert Eagle     8.1%\n",
       "SSG 08           4.0%\n",
       "AUG              3.2%\n",
       "M4A4             3.2%\n",
       "M4A1             1.6%\n",
       "FAMAS            1.6%\n",
       "p250             0.8%\n",
       "Five-SeveN       0.8%\n",
       "AK-47            0.8%\n",
       "Name: Weapon, dtype: object"
      ]
     },
     "execution_count": 155,
     "metadata": {},
     "output_type": "execute_result"
    }
   ],
   "source": [
    "#sh1r0's weapon distribution on ct\n",
    "sh1roKills[sh1roKills['AttackerName'].isin(shiro_names)][sh1roKills['AttackerSide'] == 'CT'].Weapon.value_counts(normalize=True).mul(100).round(1).astype(str) + '%'\n"
   ]
  },
  {
   "cell_type": "code",
   "execution_count": 156,
   "id": "naked-translator",
   "metadata": {
    "scrolled": true
   },
   "outputs": [
    {
     "name": "stderr",
     "output_type": "stream",
     "text": [
      "/home/nk095x/.local/lib/python3.6/site-packages/ipykernel_launcher.py:2: UserWarning: Boolean Series key will be reindexed to match DataFrame index.\n",
      "  \n"
     ]
    },
    {
     "data": {
      "text/plain": [
       "AWP             49.4%\n",
       "AK-47           18.8%\n",
       "p250            10.0%\n",
       "Desert Eagle     7.5%\n",
       "SG 553           2.5%\n",
       "SSG 08           2.5%\n",
       "USP-S            2.5%\n",
       "Tec-9            1.9%\n",
       "AUG              1.9%\n",
       "Glock-18         1.2%\n",
       "Knife            0.6%\n",
       "Galil AR         0.6%\n",
       "Molotov          0.6%\n",
       "Name: Weapon, dtype: object"
      ]
     },
     "execution_count": 156,
     "metadata": {},
     "output_type": "execute_result"
    }
   ],
   "source": [
    "#sh1ro's weapon distribution on T\n",
    "sh1roKills[sh1roKills['AttackerName'].isin(shiro_names)][sh1roKills['AttackerSide'] == 'T'].Weapon.value_counts(normalize=True).mul(100).round(1).astype(str) + '%'\n"
   ]
  },
  {
   "cell_type": "code",
   "execution_count": 157,
   "id": "coated-philippines",
   "metadata": {
    "scrolled": true
   },
   "outputs": [
    {
     "data": {
      "text/plain": [
       "Ticketbooth                  9.5%\n",
       "Top Balcony                  5.3%\n",
       "T Palace Stairs Peek         4.9%\n",
       "Default A                    4.2%\n",
       "CT Side Apps                 4.2%\n",
       "                             ... \n",
       "Van Barrel Peek              0.4%\n",
       "Top Mid towards Apps         0.4%\n",
       "Close Right Market Window    0.4%\n",
       "Sandwhich                    0.4%\n",
       "Top Connector                0.4%\n",
       "Name: AttackerAreaName, Length: 67, dtype: object"
      ]
     },
     "execution_count": 157,
     "metadata": {},
     "output_type": "execute_result"
    }
   ],
   "source": [
    "#sh1ro's frequency distribution for location he was at when he got a kill\n",
    "sh1roKills[sh1roKills['AttackerName'].isin(shiro_names)].AttackerAreaName.value_counts(normalize=True).mul(100).round(1).astype(str) + '%'\n"
   ]
  },
  {
   "cell_type": "code",
   "execution_count": 158,
   "id": "photographic-index",
   "metadata": {
    "scrolled": true
   },
   "outputs": [
    {
     "name": "stderr",
     "output_type": "stream",
     "text": [
      "/home/nk095x/.local/lib/python3.6/site-packages/ipykernel_launcher.py:2: UserWarning: Boolean Series key will be reindexed to match DataFrame index.\n",
      "  \n"
     ]
    },
    {
     "data": {
      "text/plain": [
       "Ticketbooth                               18.5%\n",
       "Bottom Stairs                              5.6%\n",
       "Snipers Nest                               5.6%\n",
       "Stairs Palace Peek                         5.6%\n",
       "Default A                                  4.8%\n",
       "Snipers Palace Peek                        4.0%\n",
       "Close Market door                          4.0%\n",
       "Right Side Snipers Nest                    3.2%\n",
       "Triple Box                                 3.2%\n",
       "Deep Jungle                                3.2%\n",
       "Back Left B Site From T's' Perspective     3.2%\n",
       "Right Side Connector                       3.2%\n",
       "Deep CT                                    3.2%\n",
       "Catwalk Plant B Site                       2.4%\n",
       "Market Window Peek                         2.4%\n",
       "Catwalk T Aparments Peek                   2.4%\n",
       "CT Left Side                               1.6%\n",
       "Elevated Snipers Awp Peek                  1.6%\n",
       "Leftside Connector                         1.6%\n",
       "Deep Palace                                1.6%\n",
       "A Site Exposed to Stairs Connector Cat     1.6%\n",
       "Back Right B Site from T's Perspective     1.6%\n",
       "CT Outside Market                          1.6%\n",
       "Top STairs                                 1.6%\n",
       "Under balcony                              0.8%\n",
       "Left Side Platform                         0.8%\n",
       "B Bombsite Cross to Catwalk                0.8%\n",
       "CT Deep Catwalk Mid peek                   0.8%\n",
       "Bottom Connector                           0.8%\n",
       "B Site Default Plant                       0.8%\n",
       "T Apps TV                                  0.8%\n",
       "Catwalk Connector Peek                     0.8%\n",
       "Bottom Mid Ladder Room Peek                0.8%\n",
       "Underpass                                  0.8%\n",
       "T Spawn towards Apps                       0.8%\n",
       "Deep T Apps Underpass STairs               0.8%\n",
       "Connector behind box                       0.8%\n",
       "CT Catwalk                                 0.8%\n",
       "Bench Closer To Jungle                     0.8%\n",
       "Name: AttackerAreaName, dtype: object"
      ]
     },
     "execution_count": 158,
     "metadata": {},
     "output_type": "execute_result"
    }
   ],
   "source": [
    "#shr1ro's frequency distribution for location he was at when he got a kill as a CT\n",
    "sh1roKills[sh1roKills['AttackerName'].isin(shiro_names)][sh1roKills['AttackerSide'] == 'CT'].AttackerAreaName.value_counts(normalize=True).mul(100).round(1).astype(str) + '%'\n"
   ]
  },
  {
   "cell_type": "code",
   "execution_count": 159,
   "id": "armed-accent",
   "metadata": {
    "scrolled": true
   },
   "outputs": [
    {
     "name": "stderr",
     "output_type": "stream",
     "text": [
      "/home/nk095x/.local/lib/python3.6/site-packages/ipykernel_launcher.py:2: UserWarning: Boolean Series key will be reindexed to match DataFrame index.\n",
      "  \n",
      "/home/nk095x/.local/lib/python3.6/site-packages/ipykernel_launcher.py:2: UserWarning: Boolean Series key will be reindexed to match DataFrame index.\n",
      "  \n"
     ]
    },
    {
     "data": {
      "text/plain": [
       "Ticketbooth                               17.9%\n",
       "Right Side Snipers Nest                   14.3%\n",
       "Snipers Nest                              10.7%\n",
       "Right Side Connector                       7.1%\n",
       "Bottom Stairs                              7.1%\n",
       "Elevated Snipers Awp Peek                  7.1%\n",
       "Deep Palace                                7.1%\n",
       "Back Right B Site from T's Perspective     7.1%\n",
       "Default A                                  3.6%\n",
       "A Site Exposed to Stairs Connector Cat     3.6%\n",
       "Underpass                                  3.6%\n",
       "Market Window Peek                         3.6%\n",
       "Stairs Palace Peek                         3.6%\n",
       "Bottom Mid Ladder Room Peek                3.6%\n",
       "Name: AttackerAreaName, dtype: object"
      ]
     },
     "execution_count": 159,
     "metadata": {},
     "output_type": "execute_result"
    }
   ],
   "source": [
    "#sh1r0's frequency distribution of hislocation when he's creating a pick as a ct\n",
    "sh1roKills[sh1roKills['AttackerName'].isin(shiro_names)][sh1roKills['AttackerSide'] == 'CT'][sh1roKills['IsFirstKill'] == True].AttackerAreaName.value_counts(normalize=True).mul(100).round(1).astype(str) + '%'\n"
   ]
  },
  {
   "cell_type": "code",
   "execution_count": 160,
   "id": "clear-george",
   "metadata": {
    "scrolled": true
   },
   "outputs": [
    {
     "name": "stderr",
     "output_type": "stream",
     "text": [
      "/home/nk095x/.local/lib/python3.6/site-packages/ipykernel_launcher.py:2: UserWarning: Boolean Series key will be reindexed to match DataFrame index.\n",
      "  \n",
      "/home/nk095x/.local/lib/python3.6/site-packages/ipykernel_launcher.py:2: UserWarning: Boolean Series key will be reindexed to match DataFrame index.\n",
      "  \n"
     ]
    },
    {
     "data": {
      "text/plain": [
       "Right Side Snipers Nest                   18.2%\n",
       "Ticketbooth                               13.6%\n",
       "Elevated Snipers Awp Peek                  9.1%\n",
       "Deep Palace                                9.1%\n",
       "Right Side Connector                       9.1%\n",
       "Snipers Nest                               9.1%\n",
       "Back Right B Site from T's Perspective     9.1%\n",
       "Bottom Stairs                              4.5%\n",
       "Underpass                                  4.5%\n",
       "Market Window Peek                         4.5%\n",
       "Stairs Palace Peek                         4.5%\n",
       "Bottom Mid Ladder Room Peek                4.5%\n",
       "Name: AttackerAreaName, dtype: object"
      ]
     },
     "execution_count": 160,
     "metadata": {},
     "output_type": "execute_result"
    }
   ],
   "source": [
    "#sh1r0's frequency distribution of hislocation when he's creating a pick as a ct with the awp\n",
    "sh1roKills[sh1roKills['AttackerName'].isin(shiro_names)][sh1roKills['AttackerSide'] == 'CT'][sh1roKills['IsFirstKill'] == True][sh1roKills['Weapon'] == 'AWP'].AttackerAreaName.value_counts(normalize=True).mul(100).round(1).astype(str) + '%'\n"
   ]
  },
  {
   "cell_type": "code",
   "execution_count": null,
   "id": "10e0aa59",
   "metadata": {},
   "outputs": [],
   "source": [
    "sh1roKills[sh1roKills['AttackerName'].isin(shiro_names)][sh1roKills['AttackerSide'] == 'CT'][sh1roKills['IsFirstKill'] == True][sh1roKills['Weapon'] == 'AWP']"
   ]
  },
  {
   "cell_type": "code",
   "execution_count": 161,
   "id": "916aebc8",
   "metadata": {
    "scrolled": true
   },
   "outputs": [
    {
     "name": "stderr",
     "output_type": "stream",
     "text": [
      "/home/nk095x/.local/lib/python3.6/site-packages/ipykernel_launcher.py:2: UserWarning: Boolean Series key will be reindexed to match DataFrame index.\n",
      "  \n"
     ]
    },
    {
     "data": {
      "text/plain": [
       "Top Balcony                               9.4%\n",
       "T Palace Stairs Peek                      8.8%\n",
       "CT Side Apps                              7.5%\n",
       "Left Side Platform                        6.2%\n",
       "Close Left CT A Ramp                      5.0%\n",
       "T Deep Apps Underpass/Apps Peek           3.8%\n",
       "Default A                                 3.8%\n",
       "Deep Palace                               3.8%\n",
       "Behind Big Boxes                          3.1%\n",
       "A Ramp                                    3.1%\n",
       "Catwalk T Aparments Peek                  3.1%\n",
       "Ticketbooth                               2.5%\n",
       "B Site Default Plant                      2.5%\n",
       "Top Mid Left Side                         2.5%\n",
       "Top Mid Boxes Left Side Peek              1.9%\n",
       "T Spawn A Ramp                            1.9%\n",
       "Back Left B Site From T's' Perspective    1.2%\n",
       "Firebox                                   1.2%\n",
       "Back Right B Site from T's Perspective    1.2%\n",
       "Top Mid Right Side                        1.2%\n",
       "Tetris                                    1.2%\n",
       "Mid Close Connector                       1.2%\n",
       "Bottom Connector                          1.2%\n",
       "Inside Market Doors                       1.2%\n",
       "Deep Catwalk                              1.2%\n",
       "Underpass                                 1.2%\n",
       "Deep CT                                   1.2%\n",
       "Underneath B apps plat                    1.2%\n",
       "CT Catwalk                                0.6%\n",
       "market                                    0.6%\n",
       "Jungle Plant                              0.6%\n",
       "Van Barrel Peek                           0.6%\n",
       "B Bombsite Cross to Catwalk               0.6%\n",
       "Catwalk Connector Peek                    0.6%\n",
       "Close Right Market Window                 0.6%\n",
       "Close A Ramp                              0.6%\n",
       "Top STairs                                0.6%\n",
       "Deep T Apps Underpass STairs              0.6%\n",
       "Under balcony                             0.6%\n",
       "Deep Jungle                               0.6%\n",
       "Connector behind box                      0.6%\n",
       "T Apps TV                                 0.6%\n",
       "Top Connector                             0.6%\n",
       "B site Market Plant                       0.6%\n",
       "T Spawn towards Apps                      0.6%\n",
       "Deep T Apps                               0.6%\n",
       "Sandwhich                                 0.6%\n",
       "Bottom Mid Ladder Room Peek               0.6%\n",
       "A Site                                    0.6%\n",
       "A Site Exposed to Stairs Connector Cat    0.6%\n",
       "Top Mid towards Apps                      0.6%\n",
       "Bottom Stairs                             0.6%\n",
       "Triple Box                                0.6%\n",
       "Snipers Palace Peek                       0.6%\n",
       "Name: AttackerAreaName, dtype: object"
      ]
     },
     "execution_count": 161,
     "metadata": {},
     "output_type": "execute_result"
    }
   ],
   "source": [
    "#shr1ro's frequency distribution for location he was at when he got a kill as a T\n",
    "sh1roKills[sh1roKills['AttackerName'].isin(shiro_names)][sh1roKills['AttackerSide'] == 'T'].AttackerAreaName.value_counts(normalize=True).mul(100).round(1).astype(str) + '%'\n"
   ]
  },
  {
   "cell_type": "code",
   "execution_count": 162,
   "id": "811945e7",
   "metadata": {
    "scrolled": false
   },
   "outputs": [
    {
     "name": "stderr",
     "output_type": "stream",
     "text": [
      "/home/nk095x/.local/lib/python3.6/site-packages/ipykernel_launcher.py:2: UserWarning: Boolean Series key will be reindexed to match DataFrame index.\n",
      "  \n",
      "/home/nk095x/.local/lib/python3.6/site-packages/ipykernel_launcher.py:2: UserWarning: Boolean Series key will be reindexed to match DataFrame index.\n",
      "  \n"
     ]
    },
    {
     "data": {
      "text/plain": [
       "Top Mid Left Side                  12.5%\n",
       "Deep Palace                        12.5%\n",
       "T Deep Apps Underpass/Apps Peek    12.5%\n",
       "CT Side Apps                       12.5%\n",
       "Left Side Platform                  6.2%\n",
       "T Spawn A Ramp                      6.2%\n",
       "Deep T Apps                         6.2%\n",
       "Catwalk T Aparments Peek            6.2%\n",
       "Top Mid Right Side                  6.2%\n",
       "Mid Close Connector                 6.2%\n",
       "Jungle Plant                        6.2%\n",
       "Underpass                           6.2%\n",
       "Name: AttackerAreaName, dtype: object"
      ]
     },
     "execution_count": 162,
     "metadata": {},
     "output_type": "execute_result"
    }
   ],
   "source": [
    "#shr1ro's frequency distribution for location he was at when he got an opening kill as a T\n",
    "sh1roKills[sh1roKills['AttackerName'].isin(shiro_names)][sh1roKills['AttackerSide'] == 'T'][sh1roKills['IsFirstKill'] == True].AttackerAreaName.value_counts(normalize=True).mul(100).round(1).astype(str) + '%'\n"
   ]
  },
  {
   "cell_type": "code",
   "execution_count": 163,
   "id": "6508afb9",
   "metadata": {},
   "outputs": [
    {
     "name": "stderr",
     "output_type": "stream",
     "text": [
      "/home/nk095x/.local/lib/python3.6/site-packages/ipykernel_launcher.py:2: UserWarning: Boolean Series key will be reindexed to match DataFrame index.\n",
      "  \n"
     ]
    },
    {
     "data": {
      "text/plain": [
       "T Palace Stairs Peek                      12.7%\n",
       "Left Side Platform                         7.6%\n",
       "CT Side Apps                               6.3%\n",
       "Top Balcony                                6.3%\n",
       "Top Mid Left Side                          5.1%\n",
       "Default A                                  5.1%\n",
       "Catwalk T Aparments Peek                   5.1%\n",
       "Close Left CT A Ramp                       3.8%\n",
       "T Deep Apps Underpass/Apps Peek            3.8%\n",
       "Deep Palace                                3.8%\n",
       "Top Mid Boxes Left Side Peek               2.5%\n",
       "Mid Close Connector                        2.5%\n",
       "Top Mid Right Side                         2.5%\n",
       "Bottom Connector                           2.5%\n",
       "T Spawn A Ramp                             2.5%\n",
       "A Ramp                                     2.5%\n",
       "Tetris                                     2.5%\n",
       "Firebox                                    2.5%\n",
       "Close A Ramp                               1.3%\n",
       "Catwalk Connector Peek                     1.3%\n",
       "T Spawn towards Apps                       1.3%\n",
       "Deep T Apps Underpass STairs               1.3%\n",
       "Top Connector                              1.3%\n",
       "Bottom Stairs                              1.3%\n",
       "T Apps TV                                  1.3%\n",
       "Deep Catwalk                               1.3%\n",
       "Back Right B Site from T's Perspective     1.3%\n",
       "Underpass                                  1.3%\n",
       "A Site Exposed to Stairs Connector Cat     1.3%\n",
       "Behind Big Boxes                           1.3%\n",
       "CT Catwalk                                 1.3%\n",
       "Connector behind box                       1.3%\n",
       "Deep T Apps                                1.3%\n",
       "Sandwhich                                  1.3%\n",
       "Name: AttackerAreaName, dtype: object"
      ]
     },
     "execution_count": 163,
     "metadata": {},
     "output_type": "execute_result"
    }
   ],
   "source": [
    "#shr1ro's frequency distribution for location he was at when he got a kill as a T with the awp\n",
    "sh1roKills[sh1roKills['AttackerName'].isin(shiro_names)][sh1roKills['AttackerSide'] == 'T'][sh1roKills['Weapon'] == 'AWP'].AttackerAreaName.value_counts(normalize=True).mul(100).round(1).astype(str) + '%'\n"
   ]
  },
  {
   "cell_type": "code",
   "execution_count": 164,
   "id": "d8bd6cf1",
   "metadata": {
    "scrolled": true
   },
   "outputs": [
    {
     "name": "stderr",
     "output_type": "stream",
     "text": [
      "/home/nk095x/.local/lib/python3.6/site-packages/ipykernel_launcher.py:2: UserWarning: Boolean Series key will be reindexed to match DataFrame index.\n",
      "  \n",
      "/home/nk095x/.local/lib/python3.6/site-packages/ipykernel_launcher.py:2: UserWarning: Boolean Series key will be reindexed to match DataFrame index.\n",
      "  \n"
     ]
    },
    {
     "data": {
      "text/plain": [
       "Top Mid Left Side                  16.7%\n",
       "T Deep Apps Underpass/Apps Peek    16.7%\n",
       "Deep Palace                        16.7%\n",
       "Left Side Platform                  8.3%\n",
       "Deep T Apps                         8.3%\n",
       "Catwalk T Aparments Peek            8.3%\n",
       "Top Mid Right Side                  8.3%\n",
       "Mid Close Connector                 8.3%\n",
       "T Spawn A Ramp                      8.3%\n",
       "Name: AttackerAreaName, dtype: object"
      ]
     },
     "execution_count": 164,
     "metadata": {},
     "output_type": "execute_result"
    }
   ],
   "source": [
    "#shr1ro's frequency distribution for location he was at when he got an opening kill as a T with the awp\n",
    "sh1roKills[sh1roKills['AttackerName'].isin(shiro_names)][sh1roKills['AttackerSide'] == 'T'][sh1roKills['IsFirstKill'] == True][sh1roKills['Weapon'] == 'AWP'].AttackerAreaName.value_counts(normalize=True).mul(100).round(1).astype(str) + '%'\n"
   ]
  },
  {
   "cell_type": "code",
   "execution_count": 167,
   "id": "adequate-auditor",
   "metadata": {
    "scrolled": true
   },
   "outputs": [
    {
     "name": "stderr",
     "output_type": "stream",
     "text": [
      "/home/nk095x/.local/lib/python3.6/site-packages/ipykernel_launcher.py:4: UserWarning: Boolean Series key will be reindexed to match DataFrame index.\n",
      "  after removing the cwd from sys.path.\n",
      "/home/nk095x/.local/lib/python3.6/site-packages/ipykernel_launcher.py:5: UserWarning: Boolean Series key will be reindexed to match DataFrame index.\n",
      "  \"\"\"\n"
     ]
    },
    {
     "name": "stdout",
     "output_type": "stream",
     "text": [
      "| Places                                 |   Kills |   Deaths |   KD Diff | Damage Dealt   | Damage Taken   | Damage Differential   |\n",
      "|----------------------------------------|---------|----------|-----------|----------------|----------------|-----------------------|\n",
      "| Catwalk Connector Peek                 |       1 |        0 |         1 | 12             | 0              | 12                    |\n",
      "| Deep Palace                            |       2 |        0 |         2 | 200            | 0              | 200                   |\n",
      "| T Deep Apps Underpass/Apps Peek        |       0 |        0 |         0 | 0              | 0              | 0                     |\n",
      "| Underneath B apps plat                 |       0 |        1 |        -1 | 0              | 100            | -100                  |\n",
      "| T Palace Stairs Peek                   |       0 |        0 |         0 | 0              | 0              | 0                     |\n",
      "| A Site Exposed to Stairs Connector Cat |       2 |        0 |         2 | 200            | 0              | 200                   |\n",
      "| CT Side Apps                           |       0 |        0 |         0 | 0              | 0              | 0                     |\n",
      "| Left Side Platform                     |       1 |        2 |        -1 | 131            | 130            | 1                     |\n",
      "| T Apps TV                              |       1 |        0 |         1 | 100            | 0              | 100                   |\n",
      "| Snipers Nest                           |       7 |        1 |         6 | 1114           | 336            | 778                   |\n",
      "| Close Market door                      |       5 |        3 |         2 | 708            | 445            | 263                   |\n",
      "| A Ramp                                 |       0 |        0 |         0 | 0              | 0              | 0                     |\n",
      "| Close Left CT A Ramp                   |       0 |        0 |         0 | 0              | 0              | 0                     |\n",
      "| Deep Jungle                            |       4 |        2 |         2 | 311            | 276            | 35                    |\n",
      "| Deep T Spawn T Ramp                    |       0 |        0 |         0 | 0              | 0              | 0                     |\n",
      "| Ticketbooth                            |      23 |        7 |        16 | 2191           | 1010           | 1181                  |\n",
      "| Close Right Market Window              |       0 |        0 |         0 | 0              | 0              | 0                     |\n",
      "| Triple Box                             |       4 |        4 |         0 | 379            | 374            | 5                     |\n",
      "| A Site                                 |       0 |        0 |         0 | 0              | 0              | 0                     |\n",
      "| Snipers Palace Peek                    |       5 |        3 |         2 | 463            | 389            | 74                    |\n",
      "| Deep CT                                |       4 |        2 |         2 | 580            | 143            | 437                   |\n",
      "| Stairs Palace Peek                     |       7 |        1 |         6 | 550            | 251            | 299                   |\n",
      "| Back Left B Site From T's' Perspective |       4 |        2 |         2 | 292            | 173            | 119                   |\n",
      "| Under balcony                          |       1 |        2 |        -1 | 56             | 104            | -48                   |\n",
      "| Deep T Apps Underpass STairs           |       1 |        0 |         1 | 77             | 0              | 77                    |\n",
      "| Underpass                              |       1 |        0 |         1 | 149            | 21             | 128                   |\n",
      "| Market Window Peek                     |       3 |        0 |         3 | 362            | 102            | 260                   |\n",
      "| Arch                                   |       0 |        0 |         0 | 0              | 0              | 0                     |\n",
      "| Mid Close Connector                    |       0 |        1 |        -1 | 40             | 52             | -12                   |\n",
      "| Deep T Apps                            |       0 |        0 |         0 | 0              | 0              | 0                     |\n",
      "| Default A                              |       6 |        2 |         4 | 580            | 227            | 353                   |\n",
      "| Bottom Connector                       |       1 |        1 |         0 | 100            | 56             | 44                    |\n",
      "| Catwalk T Aparments Peek               |       3 |        1 |         2 | 201            | 103            | 98                    |\n",
      "| Tucked in corner Market                |       0 |        0 |         0 | N/A            | N/A            | N/A                   |\n",
      "|                                        |       0 |        0 |         0 | N/A            | N/A            | N/A                   |\n",
      "| CT Catwalk                             |       1 |        0 |         1 | 134            | 32             | 102                   |\n",
      "| Top Balcony                            |       0 |        0 |         0 | 0              | 96             | -96                   |\n",
      "| Balcony Boaxes                         |       0 |        0 |         0 | 3              | 0              | 3                     |\n",
      "| T Deep apps                            |       0 |        0 |         0 | N/A            | N/A            | N/A                   |\n",
      "| Back Right B Site from T's Perspective |       2 |        2 |         0 | 200            | 243            | -43                   |\n",
      "| T Spawn towards Apps                   |       1 |        0 |         1 | 100            | 0              | 100                   |\n",
      "| Back B Site Peeking Apps/Plat          |       0 |        1 |        -1 | 64             | 97             | -33                   |\n",
      "| Elevated Snipers Awp Peek              |       2 |        1 |         1 | 345            | 127            | 218                   |\n",
      "| B Bombsite Cross to Catwalk            |       1 |        0 |         1 | 100            | 11             | 89                    |\n",
      "| CT Deep Catwalk Mid peek               |       1 |        0 |         1 | 70             | 8              | 62                    |\n",
      "| Bottom Mid Ladder Room Peek            |       1 |        1 |         0 | 100            | 100            | 0                     |\n",
      "| Right Side Connector                   |       4 |        2 |         2 | 512            | 250            | 262                   |\n",
      "| Jungle Plant                           |       0 |        0 |         0 | 0              | 0              | 0                     |\n",
      "| Tetris                                 |       0 |        0 |         0 | 0              | 0              | 0                     |\n",
      "| Top Mid Boxes Left Side Peek           |       0 |        0 |         0 | 0              | 0              | 0                     |\n",
      "| Behind Big Boxes                       |       0 |        0 |         0 | 0              | 0              | 0                     |\n",
      "| Top Van                                |       0 |        0 |         0 | N/A            | N/A            | N/A                   |\n",
      "| Sandwhich                              |       0 |        0 |         0 | 0              | 0              | 0                     |\n",
      "| CT Left Side                           |       2 |        3 |        -1 | 138            | 309            | -171                  |\n",
      "| Bottom Stairs                          |       7 |        2 |         5 | 710            | 318            | 392                   |\n",
      "| B Site Default Plant                   |       1 |        0 |         1 | 90             | 0              | 90                    |\n",
      "| Right Side Snipers Nest                |       4 |        0 |         4 | 466            | 0              | 466                   |\n",
      "| CT Spawn                               |       0 |        0 |         0 | N/A            | N/A            | N/A                   |\n",
      "| Top Connector                          |       0 |        0 |         0 | 0              | 0              | 0                     |\n",
      "| Van Barrel Peek                        |       0 |        0 |         0 | 0              | 0              | 0                     |\n",
      "| Ninja                                  |       0 |        2 |        -2 | N/A            | N/A            | N/A                   |\n",
      "| Headshot Angle Close A Ramp            |       0 |        0 |         0 | N/A            | N/A            | N/A                   |\n",
      "| Close A Ramp                           |       0 |        0 |         0 | 0              | 0              | 0                     |\n",
      "| Top Mid                                |       0 |        0 |         0 | 0              | 0              | 0                     |\n",
      "| Top STairs                             |       2 |        1 |         1 | 211            | 120            | 91                    |\n",
      "| Left Side corner deep jungle           |       0 |        1 |        -1 | 145            | 24             | 121                   |\n",
      "| Ladder Room Catwalk Side               |       0 |        0 |         0 | N/A            | N/A            | N/A                   |\n",
      "| Top Mid Right Side                     |       0 |        0 |         0 | 0              | 0              | 0                     |\n",
      "| Forest                                 |       0 |        0 |         0 | 0              | 0              | 0                     |\n",
      "| Catwalk Plant B Site                   |       3 |        0 |         3 | 297            | 123            | 174                   |\n",
      "| Top Mid Left Side                      |       0 |        0 |         0 | 0              | 0              | 0                     |\n",
      "| B site Market Plant                    |       0 |        0 |         0 | 0              | 0              | 0                     |\n",
      "| CT Outside Market                      |       2 |        0 |         2 | 140            | 0              | 140                   |\n",
      "| Connector behind box                   |       1 |        0 |         1 | 100            | 0              | 100                   |\n",
      "| Inside Market Doors                    |       0 |        0 |         0 | 0              | 0              | 0                     |\n",
      "| Bench                                  |       0 |        0 |         0 | 0              | 0              | 0                     |\n",
      "| Top Mid Boxes Right Side Peek          |       0 |        0 |         0 | 0              | 0              | 0                     |\n",
      "| Deep Catwalk                           |       0 |        1 |        -1 | 0              | 100            | -100                  |\n",
      "| Firebox                                |       0 |        0 |         0 | 0              | 0              | 0                     |\n",
      "| Leftside Connector                     |       2 |        1 |         1 | 200            | 100            | 100                   |\n",
      "| T Spawn A Ramp                         |       0 |        0 |         0 | 0              | 0              | 0                     |\n",
      "| Semi Elevated CT Van                   |       0 |        0 |         0 | N/A            | N/A            | N/A                   |\n",
      "| Top Mid towards Apps                   |       0 |        0 |         0 | 0              | 0              | 0                     |\n",
      "| market                                 |       0 |        1 |        -1 | 0              | 62             | -62                   |\n",
      "| Under window B apps                    |       0 |        0 |         0 | 3              | 0              | 3                     |\n",
      "| Bench Closer To Jungle                 |       1 |        0 |         1 | 101            | 0              | 101                   |\n"
     ]
    },
    {
     "name": "stderr",
     "output_type": "stream",
     "text": [
      "/home/nk095x/.local/lib/python3.6/site-packages/ipykernel_launcher.py:8: UserWarning: Boolean Series key will be reindexed to match DataFrame index.\n",
      "  \n",
      "/home/nk095x/.local/lib/python3.6/site-packages/ipykernel_launcher.py:9: UserWarning: Boolean Series key will be reindexed to match DataFrame index.\n",
      "  if __name__ == '__main__':\n"
     ]
    }
   ],
   "source": [
    "#kill death differenitals and damage differentiasl broken down by locatiuon  as a ct\n",
    "print(prettyPrintPlayerDamageTable(sh1roDamages, sh1roKills, shiro_names, 'CT'))"
   ]
  },
  {
   "cell_type": "code",
   "execution_count": 168,
   "id": "atmospheric-export",
   "metadata": {
    "scrolled": false
   },
   "outputs": [
    {
     "name": "stderr",
     "output_type": "stream",
     "text": [
      "/home/nk095x/.local/lib/python3.6/site-packages/ipykernel_launcher.py:4: UserWarning: Boolean Series key will be reindexed to match DataFrame index.\n",
      "  after removing the cwd from sys.path.\n",
      "/home/nk095x/.local/lib/python3.6/site-packages/ipykernel_launcher.py:5: UserWarning: Boolean Series key will be reindexed to match DataFrame index.\n",
      "  \"\"\"\n",
      "/home/nk095x/.local/lib/python3.6/site-packages/ipykernel_launcher.py:8: UserWarning: Boolean Series key will be reindexed to match DataFrame index.\n",
      "  \n",
      "/home/nk095x/.local/lib/python3.6/site-packages/ipykernel_launcher.py:9: UserWarning: Boolean Series key will be reindexed to match DataFrame index.\n",
      "  if __name__ == '__main__':\n"
     ]
    },
    {
     "name": "stdout",
     "output_type": "stream",
     "text": [
      "| Places                                 |   Kills |   Deaths |   KD Diff | Damage Dealt   | Damage Taken   | Damage Differential   |\n",
      "|----------------------------------------|---------|----------|-----------|----------------|----------------|-----------------------|\n",
      "| Catwalk Connector Peek                 |       1 |        1 |         0 | 100            | 100            | 0                     |\n",
      "| Deep Palace                            |       6 |        2 |         4 | 578            | 545            | 33                    |\n",
      "| T Deep Apps Underpass/Apps Peek        |       6 |        1 |         5 | 551            | 82             | 469                   |\n",
      "| Underneath B apps plat                 |       2 |        0 |         2 | 98             | 0              | 98                    |\n",
      "| T Palace Stairs Peek                   |      14 |        7 |         7 | 1578           | 924            | 654                   |\n",
      "| A Site Exposed to Stairs Connector Cat |       1 |        2 |        -1 | 86             | 138            | -52                   |\n",
      "| CT Side Apps                           |      12 |       18 |        -6 | 1599           | 1912           | -313                  |\n",
      "| Left Side Platform                     |      10 |       11 |        -1 | 813            | 1020           | -207                  |\n",
      "| T Apps TV                              |       1 |        1 |         0 | 108            | 100            | 8                     |\n",
      "| Snipers Nest                           |       0 |        0 |         0 | 0              | 0              | 0                     |\n",
      "| Close Market door                      |       0 |        1 |        -1 | 0              | 152            | -152                  |\n",
      "| A Ramp                                 |       5 |        8 |        -3 | 741            | 940            | -199                  |\n",
      "| Close Left CT A Ramp                   |       8 |        2 |         6 | 807            | 318            | 489                   |\n",
      "| Deep Jungle                            |       1 |        0 |         1 | 100            | 0              | 100                   |\n",
      "| Deep T Spawn T Ramp                    |       0 |        1 |        -1 | 1              | 100            | -99                   |\n",
      "| Ticketbooth                            |       4 |        1 |         3 | 488            | 165            | 323                   |\n",
      "| Close Right Market Window              |       1 |        1 |         0 | 168            | 100            | 68                    |\n",
      "| Triple Box                             |       1 |        2 |        -1 | 5              | 197            | -192                  |\n",
      "| A Site                                 |       1 |        6 |        -5 | 162            | 605            | -443                  |\n",
      "| Snipers Palace Peek                    |       1 |        0 |         1 | 50             | 0              | 50                    |\n",
      "| Deep CT                                |       2 |        1 |         1 | 35             | 172            | -137                  |\n",
      "| Stairs Palace Peek                     |       0 |        0 |         0 | 0              | 0              | 0                     |\n",
      "| Back Left B Site From T's' Perspective |       2 |        0 |         2 | 173            | 0              | 173                   |\n",
      "| Under balcony                          |       1 |        0 |         1 | 9              | 0              | 9                     |\n",
      "| Deep T Apps Underpass STairs           |       1 |        0 |         1 | 90             | 0              | 90                    |\n",
      "| Underpass                              |       2 |        0 |         2 | 200            | 163            | 37                    |\n",
      "| Market Window Peek                     |       0 |        0 |         0 | 0              | 0              | 0                     |\n",
      "| Arch                                   |       0 |        1 |        -1 | 95             | 2              | 93                    |\n",
      "| Mid Close Connector                    |       2 |        1 |         1 | 244            | 67             | 177                   |\n",
      "| Deep T Apps                            |       1 |        1 |         0 | 206            | 410            | -204                  |\n",
      "| Default A                              |       6 |        8 |        -2 | 535            | 862            | -327                  |\n",
      "| Bottom Connector                       |       2 |        1 |         1 | 216            | 116            | 100                   |\n",
      "| Catwalk T Aparments Peek               |       5 |        0 |         5 | 381            | 59             | 322                   |\n",
      "| Tucked in corner Market                |       0 |        0 |         0 | N/A            | N/A            | N/A                   |\n",
      "|                                        |       0 |        0 |         0 | N/A            | N/A            | N/A                   |\n",
      "| CT Catwalk                             |       1 |        0 |         1 | 141            | 0              | 141                   |\n",
      "| Top Balcony                            |      15 |        3 |        12 | 1534           | 631            | 903                   |\n",
      "| Balcony Boaxes                         |       0 |        0 |         0 | 0              | 0              | 0                     |\n",
      "| T Deep apps                            |       0 |        1 |        -1 | N/A            | N/A            | N/A                   |\n",
      "| Back Right B Site from T's Perspective |       2 |        0 |         2 | 217            | 2              | 215                   |\n",
      "| T Spawn towards Apps                   |       1 |        0 |         1 | 130            | 0              | 130                   |\n",
      "| Back B Site Peeking Apps/Plat          |       0 |        3 |        -3 | 42             | 323            | -281                  |\n",
      "| Elevated Snipers Awp Peek              |       0 |        0 |         0 | 0              | 0              | 0                     |\n",
      "| B Bombsite Cross to Catwalk            |       1 |        4 |        -3 | 166            | 376            | -210                  |\n",
      "| CT Deep Catwalk Mid peek               |       0 |        0 |         0 | 75             | 94             | -19                   |\n",
      "| Bottom Mid Ladder Room Peek            |       1 |        0 |         1 | 65             | 0              | 65                    |\n",
      "| Right Side Connector                   |       0 |        0 |         0 | 0              | 0              | 0                     |\n",
      "| Jungle Plant                           |       1 |        0 |         1 | 108            | 24             | 84                    |\n",
      "| Tetris                                 |       2 |        1 |         1 | 135            | 255            | -120                  |\n",
      "| Top Mid Boxes Left Side Peek           |       3 |        0 |         3 | 368            | 14             | 354                   |\n",
      "| Behind Big Boxes                       |       5 |        1 |         4 | 460            | 226            | 234                   |\n",
      "| Top Van                                |       0 |        0 |         0 | N/A            | N/A            | N/A                   |\n",
      "| Sandwhich                              |       1 |        1 |         0 | 100            | 122            | -22                   |\n",
      "| CT Left Side                           |       0 |        0 |         0 | 0              | 0              | 0                     |\n",
      "| Bottom Stairs                          |       1 |        2 |        -1 | 103            | 149            | -46                   |\n",
      "| B Site Default Plant                   |       4 |        4 |         0 | 224            | 318            | -94                   |\n",
      "| Right Side Snipers Nest                |       0 |        0 |         0 | 0              | 0              | 0                     |\n",
      "| CT Spawn                               |       0 |        0 |         0 | N/A            | N/A            | N/A                   |\n",
      "| Top Connector                          |       1 |        2 |        -1 | 94             | 200            | -106                  |\n",
      "| Van Barrel Peek                        |       1 |        0 |         1 | 46             | 0              | 46                    |\n",
      "| Ninja                                  |       0 |        0 |         0 | N/A            | N/A            | N/A                   |\n",
      "| Headshot Angle Close A Ramp            |       0 |        0 |         0 | N/A            | N/A            | N/A                   |\n",
      "| Close A Ramp                           |       1 |        3 |        -2 | 100            | 219            | -119                  |\n",
      "| Top Mid                                |       0 |        1 |        -1 | 16             | 100            | -84                   |\n",
      "| Top STairs                             |       1 |        0 |         1 | 101            | 0              | 101                   |\n",
      "| Left Side corner deep jungle           |       0 |        0 |         0 | 0              | 0              | 0                     |\n",
      "| Ladder Room Catwalk Side               |       0 |        1 |        -1 | N/A            | N/A            | N/A                   |\n",
      "| Top Mid Right Side                     |       2 |        0 |         2 | 166            | 26             | 140                   |\n",
      "| Forest                                 |       0 |        1 |        -1 | 26             | 100            | -74                   |\n",
      "| Catwalk Plant B Site                   |       0 |        0 |         0 | 0              | 4              | -4                    |\n",
      "| Top Mid Left Side                      |       4 |        6 |        -2 | 584            | 795            | -211                  |\n",
      "| B site Market Plant                    |       1 |        3 |        -2 | 20             | 257            | -237                  |\n",
      "| CT Outside Market                      |       0 |        0 |         0 | 0              | 0              | 0                     |\n",
      "| Connector behind box                   |       1 |        1 |         0 | 152            | 98             | 54                    |\n",
      "| Inside Market Doors                    |       2 |        0 |         2 | 146            | 51             | 95                    |\n",
      "| Bench                                  |       0 |        2 |        -2 | 137            | 220            | -83                   |\n",
      "| Top Mid Boxes Right Side Peek          |       0 |        0 |         0 | 26             | 9              | 17                    |\n",
      "| Deep Catwalk                           |       2 |        1 |         1 | 134            | 145            | -11                   |\n",
      "| Firebox                                |       2 |        4 |        -2 | 102            | 386            | -284                  |\n",
      "| Leftside Connector                     |       0 |        0 |         0 | 0              | 0              | 0                     |\n",
      "| T Spawn A Ramp                         |       3 |        1 |         2 | 335            | 81             | 254                   |\n",
      "| Semi Elevated CT Van                   |       0 |        0 |         0 | N/A            | N/A            | N/A                   |\n",
      "| Top Mid towards Apps                   |       1 |        3 |        -2 | 103            | 264            | -161                  |\n",
      "| market                                 |       1 |        0 |         1 | 100            | 27             | 73                    |\n",
      "| Under window B apps                    |       0 |        0 |         0 | 0              | 0              | 0                     |\n",
      "| Bench Closer To Jungle                 |       0 |        0 |         0 | 0              | 0              | 0                     |\n"
     ]
    }
   ],
   "source": [
    "#kill death differenitals and damage differentiasl broken down by locatiuon  as a T\n",
    "print(prettyPrintPlayerDamageTable(sh1roDamages, sh1roKills, shiro_names, 'T'))"
   ]
  },
  {
   "cell_type": "markdown",
   "id": "norman-winter",
   "metadata": {},
   "source": [
    "## Hobbit"
   ]
  },
  {
   "cell_type": "code",
   "execution_count": 169,
   "id": "simple-article",
   "metadata": {
    "scrolled": false
   },
   "outputs": [
    {
     "data": {
      "text/plain": [
       "AK-47           49.8%\n",
       "M4A4            16.0%\n",
       "MP9              7.6%\n",
       "USP-S            7.2%\n",
       "Galil AR         6.8%\n",
       "Glock-18         3.4%\n",
       "Desert Eagle     3.4%\n",
       "Molotov          1.3%\n",
       "Tec-9            0.8%\n",
       "CZ75 Auto        0.8%\n",
       "AWP              0.8%\n",
       "HE Grenade       0.4%\n",
       "UMP-45           0.4%\n",
       "XM1014           0.4%\n",
       "FAMAS            0.4%\n",
       "MAC-10           0.4%\n",
       "Name: Weapon, dtype: object"
      ]
     },
     "execution_count": 169,
     "metadata": {},
     "output_type": "execute_result"
    }
   ],
   "source": [
    "#weapon usage distribution\n",
    "hobbitKills[hobbitKills['AttackerName'].isin(hobbit_names)].Weapon.value_counts(normalize=True).mul(100).round(1).astype(str) + '%'\n"
   ]
  },
  {
   "cell_type": "code",
   "execution_count": 170,
   "id": "gentle-merchandise",
   "metadata": {
    "scrolled": true
   },
   "outputs": [
    {
     "name": "stderr",
     "output_type": "stream",
     "text": [
      "/home/nk095x/.local/lib/python3.6/site-packages/ipykernel_launcher.py:2: UserWarning: Boolean Series key will be reindexed to match DataFrame index.\n",
      "  \n"
     ]
    },
    {
     "data": {
      "text/plain": [
       "M4A4            33.6%\n",
       "AK-47           22.4%\n",
       "MP9             16.8%\n",
       "USP-S           14.0%\n",
       "Desert Eagle     4.7%\n",
       "Galil AR         2.8%\n",
       "CZ75 Auto        1.9%\n",
       "UMP-45           0.9%\n",
       "FAMAS            0.9%\n",
       "HE Grenade       0.9%\n",
       "XM1014           0.9%\n",
       "Name: Weapon, dtype: object"
      ]
     },
     "execution_count": 170,
     "metadata": {},
     "output_type": "execute_result"
    }
   ],
   "source": [
    "#weapon usage as a ct distribution\n",
    "hobbitKills[hobbitKills['AttackerName'].isin(hobbit_names)][hobbitKills['AttackerSide'] == 'CT'].Weapon.value_counts(normalize=True).mul(100).round(1).astype(str) + '%'\n"
   ]
  },
  {
   "cell_type": "code",
   "execution_count": 171,
   "id": "alpine-merit",
   "metadata": {
    "scrolled": false
   },
   "outputs": [
    {
     "name": "stderr",
     "output_type": "stream",
     "text": [
      "/home/nk095x/.local/lib/python3.6/site-packages/ipykernel_launcher.py:2: UserWarning: Boolean Series key will be reindexed to match DataFrame index.\n",
      "  \n"
     ]
    },
    {
     "data": {
      "text/plain": [
       "AK-47           72.3%\n",
       "Galil AR        10.0%\n",
       "Glock-18         6.2%\n",
       "Molotov          2.3%\n",
       "Desert Eagle     2.3%\n",
       "Tec-9            1.5%\n",
       "M4A4             1.5%\n",
       "USP-S            1.5%\n",
       "AWP              1.5%\n",
       "MAC-10           0.8%\n",
       "Name: Weapon, dtype: object"
      ]
     },
     "execution_count": 171,
     "metadata": {},
     "output_type": "execute_result"
    }
   ],
   "source": [
    "#weapon usage as a t distribution\n",
    "hobbitKills[hobbitKills['AttackerName'].isin(hobbit_names)][hobbitKills['AttackerSide'] == 'T'].Weapon.value_counts(normalize=True).mul(100).round(1).astype(str) + '%'\n"
   ]
  },
  {
   "cell_type": "code",
   "execution_count": 172,
   "id": "dutch-spectrum",
   "metadata": {
    "scrolled": true
   },
   "outputs": [
    {
     "data": {
      "text/plain": [
       "Ticketbooth                  8.4%\n",
       "Top Balcony                  5.9%\n",
       "Sandwhich                    5.1%\n",
       "Deep Palace                  4.6%\n",
       "Tetris                       3.8%\n",
       "                             ... \n",
       "Top STairs                   0.4%\n",
       "Close Right Market Window    0.4%\n",
       "Top Mid Right Side           0.4%\n",
       "Catwalk Plant B Site         0.4%\n",
       "T Spawn A Ramp               0.4%\n",
       "Name: AttackerAreaName, Length: 63, dtype: object"
      ]
     },
     "execution_count": 172,
     "metadata": {},
     "output_type": "execute_result"
    }
   ],
   "source": [
    "#distribution of location hobbit was at when he got a Kill \n",
    "hobbitKills[hobbitKills['AttackerName'].isin(hobbit_names)].AttackerAreaName.value_counts(normalize=True).mul(100).round(1).astype(str) + '%'\n"
   ]
  },
  {
   "cell_type": "code",
   "execution_count": 173,
   "id": "korean-switzerland",
   "metadata": {
    "scrolled": true
   },
   "outputs": [
    {
     "name": "stderr",
     "output_type": "stream",
     "text": [
      "/home/nk095x/.local/lib/python3.6/site-packages/ipykernel_launcher.py:2: UserWarning: Boolean Series key will be reindexed to match DataFrame index.\n",
      "  \n"
     ]
    },
    {
     "data": {
      "text/plain": [
       "Ticketbooth                               17.8%\n",
       "Top Balcony                               11.2%\n",
       "Sandwhich                                  6.5%\n",
       "Under balcony                              5.6%\n",
       "Default A                                  4.7%\n",
       "A Ramp                                     4.7%\n",
       "T Palace Stairs Peek                       3.7%\n",
       "A Site                                     3.7%\n",
       "Bottom Stairs                              3.7%\n",
       "Firebox                                    2.8%\n",
       "Close A Ramp                               2.8%\n",
       "Tetris                                     2.8%\n",
       "A Site Exposed to Stairs Connector Cat     2.8%\n",
       "Triple Box                                 2.8%\n",
       "CT Outside Market                          1.9%\n",
       "B Bombsite Cross to Catwalk                1.9%\n",
       "CT Left Side                               1.9%\n",
       "CT Spawn                                   1.9%\n",
       "Leftside Connector                         1.9%\n",
       "Ninja                                      0.9%\n",
       "Top Mid                                    0.9%\n",
       "Top STairs                                 0.9%\n",
       "Stairs Palace Peek                         0.9%\n",
       "Balcony Boaxes                             0.9%\n",
       "Deep T Apps Underpass STairs               0.9%\n",
       "Deep Palace                                0.9%\n",
       "Close Left CT A Ramp                       0.9%\n",
       "Deep Catwalk                               0.9%\n",
       "Market Window Peek                         0.9%\n",
       "Underpass                                  0.9%\n",
       "Close Right Market Window                  0.9%\n",
       "CT Deep Catwalk Mid peek                   0.9%\n",
       "Catwalk T Aparments Peek                   0.9%\n",
       "Under balcony on top of the little box     0.9%\n",
       "Catwalk Plant B Site                       0.9%\n",
       "Name: AttackerAreaName, dtype: object"
      ]
     },
     "execution_count": 173,
     "metadata": {},
     "output_type": "execute_result"
    }
   ],
   "source": [
    "#distribution of the locaiotn hobbit was at whne he got a kill as a CT\n",
    "hobbitKills[hobbitKills['AttackerName'].isin(hobbit_names)][hobbitKills['AttackerSide'] == 'CT'].AttackerAreaName.value_counts(normalize=True).mul(100).round(1).astype(str) + '%'\n"
   ]
  },
  {
   "cell_type": "code",
   "execution_count": 174,
   "id": "adaptive-reflection",
   "metadata": {
    "scrolled": true
   },
   "outputs": [
    {
     "name": "stderr",
     "output_type": "stream",
     "text": [
      "/home/nk095x/.local/lib/python3.6/site-packages/ipykernel_launcher.py:2: UserWarning: Boolean Series key will be reindexed to match DataFrame index.\n",
      "  \n",
      "/home/nk095x/.local/lib/python3.6/site-packages/ipykernel_launcher.py:2: UserWarning: Boolean Series key will be reindexed to match DataFrame index.\n",
      "  \n"
     ]
    },
    {
     "data": {
      "text/plain": [
       "Ticketbooth             41.2%\n",
       "T Palace Stairs Peek    11.8%\n",
       "Triple Box              11.8%\n",
       "CT Left Side             5.9%\n",
       "Close A Ramp             5.9%\n",
       "Under balcony            5.9%\n",
       "Underpass                5.9%\n",
       "Top Balcony              5.9%\n",
       "Stairs Palace Peek       5.9%\n",
       "Name: AttackerAreaName, dtype: object"
      ]
     },
     "execution_count": 174,
     "metadata": {},
     "output_type": "execute_result"
    }
   ],
   "source": [
    "#distribution of the location hobbit was at when he got an opening kill as a CT\n",
    "hobbitKills[hobbitKills['AttackerName'].isin(hobbit_names)][hobbitKills['AttackerSide'] == 'CT'][hobbitKills['IsFirstKill'] == True].AttackerAreaName.value_counts(normalize=True).mul(100).round(1).astype(str) + '%'\n"
   ]
  },
  {
   "cell_type": "code",
   "execution_count": 175,
   "id": "9824627f",
   "metadata": {
    "scrolled": true
   },
   "outputs": [
    {
     "name": "stderr",
     "output_type": "stream",
     "text": [
      "/home/nk095x/.local/lib/python3.6/site-packages/ipykernel_launcher.py:2: UserWarning: Boolean Series key will be reindexed to match DataFrame index.\n",
      "  \n"
     ]
    },
    {
     "data": {
      "text/plain": [
       "Deep Palace                               7.7%\n",
       "Underpass                                 4.6%\n",
       "Tetris                                    4.6%\n",
       "Deep Catwalk                              4.6%\n",
       "Bottom Stairs                             3.8%\n",
       "Mid Close Connector                       3.8%\n",
       "Sandwhich                                 3.8%\n",
       "CT Side Apps                              3.8%\n",
       "Bottom Connector                          3.1%\n",
       "A Site Exposed to Stairs Connector Cat    3.1%\n",
       "Chair                                     3.1%\n",
       "Right Side Connector                      2.3%\n",
       "Catwalk Connector Peek                    2.3%\n",
       "A Site                                    2.3%\n",
       "CT Catwalk                                2.3%\n",
       "Back B Site Peeking Apps/Plat             2.3%\n",
       "Deep Jungle                               2.3%\n",
       "A Ramp                                    2.3%\n",
       "CT Deep Catwalk Mid peek                  2.3%\n",
       "market                                    1.5%\n",
       "Top Mid Catwalk                           1.5%\n",
       "Stairs Palace Peek                        1.5%\n",
       "B Bombsite Cross to Catwalk               1.5%\n",
       "Top Mid Left Side                         1.5%\n",
       "Deep T Apps Underpass STairs              1.5%\n",
       "Firebox                                   1.5%\n",
       "Top Balcony                               1.5%\n",
       "Top Mid Boxes Left Side Peek              1.5%\n",
       "Top Connector                             1.5%\n",
       "Top Mid towards Apps                      1.5%\n",
       "Ladder Room Catwalk Side                  1.5%\n",
       "Catwalk T Aparments Peek                  1.5%\n",
       "Deep CT                                   0.8%\n",
       "Apartments Right CT Corner                0.8%\n",
       "Close Market Window                       0.8%\n",
       "Tucked in corner Market                   0.8%\n",
       "Underneath B apps plat                    0.8%\n",
       "T Deep Apps Underpass/Apps Peek           0.8%\n",
       "Jungle Plant                              0.8%\n",
       "Ninja                                     0.8%\n",
       "Top Mid                                   0.8%\n",
       "Leftside Connector                        0.8%\n",
       "CT Outside Market                         0.8%\n",
       "Ticketbooth                               0.8%\n",
       "Top Mid Right Side                        0.8%\n",
       "Bench                                     0.8%\n",
       "Register Market                           0.8%\n",
       "Bench Closer to Tribox                    0.8%\n",
       "T Spawn A Ramp                            0.8%\n",
       "CT Spawn                                  0.8%\n",
       "Triple Box                                0.8%\n",
       "Close A Ramp                              0.8%\n",
       "Name: AttackerAreaName, dtype: object"
      ]
     },
     "execution_count": 175,
     "metadata": {},
     "output_type": "execute_result"
    }
   ],
   "source": [
    "#distribution of the locaiotn hobbit was at whne he got a kill as a T\n",
    "hobbitKills[hobbitKills['AttackerName'].isin(hobbit_names)][hobbitKills['AttackerSide'] == 'T'].AttackerAreaName.value_counts(normalize=True).mul(100).round(1).astype(str) + '%'\n"
   ]
  },
  {
   "cell_type": "code",
   "execution_count": 176,
   "id": "15ae0d6a",
   "metadata": {
    "scrolled": true
   },
   "outputs": [
    {
     "name": "stderr",
     "output_type": "stream",
     "text": [
      "/home/nk095x/.local/lib/python3.6/site-packages/ipykernel_launcher.py:2: UserWarning: Boolean Series key will be reindexed to match DataFrame index.\n",
      "  \n",
      "/home/nk095x/.local/lib/python3.6/site-packages/ipykernel_launcher.py:2: UserWarning: Boolean Series key will be reindexed to match DataFrame index.\n",
      "  \n"
     ]
    },
    {
     "data": {
      "text/plain": [
       "Underpass                          18.2%\n",
       "Deep T Apps Underpass STairs        9.1%\n",
       "Mid Close Connector                 9.1%\n",
       "Top Mid Left Side                   4.5%\n",
       "Sandwhich                           4.5%\n",
       "Top Mid Right Side                  4.5%\n",
       "Top Mid Catwalk                     4.5%\n",
       "Catwalk Connector Peek              4.5%\n",
       "Tetris                              4.5%\n",
       "Deep Palace                         4.5%\n",
       "T Spawn A Ramp                      4.5%\n",
       "Firebox                             4.5%\n",
       "A Ramp                              4.5%\n",
       "T Deep Apps Underpass/Apps Peek     4.5%\n",
       "Chair                               4.5%\n",
       "Bottom Stairs                       4.5%\n",
       "Top Mid Boxes Left Side Peek        4.5%\n",
       "Name: AttackerAreaName, dtype: object"
      ]
     },
     "execution_count": 176,
     "metadata": {},
     "output_type": "execute_result"
    }
   ],
   "source": [
    "#distribution of the location hobbit was at when he got an opening kill as a T\n",
    "hobbitKills[hobbitKills['AttackerName'].isin(hobbit_names)][hobbitKills['AttackerSide'] == 'T'][hobbitKills['IsFirstKill'] == True].AttackerAreaName.value_counts(normalize=True).mul(100).round(1).astype(str) + '%'\n"
   ]
  },
  {
   "cell_type": "code",
   "execution_count": 177,
   "id": "abstract-cruise",
   "metadata": {
    "scrolled": true
   },
   "outputs": [
    {
     "name": "stderr",
     "output_type": "stream",
     "text": [
      "/home/nk095x/.local/lib/python3.6/site-packages/ipykernel_launcher.py:4: UserWarning: Boolean Series key will be reindexed to match DataFrame index.\n",
      "  after removing the cwd from sys.path.\n",
      "/home/nk095x/.local/lib/python3.6/site-packages/ipykernel_launcher.py:5: UserWarning: Boolean Series key will be reindexed to match DataFrame index.\n",
      "  \"\"\"\n",
      "/home/nk095x/.local/lib/python3.6/site-packages/ipykernel_launcher.py:8: UserWarning: Boolean Series key will be reindexed to match DataFrame index.\n",
      "  \n",
      "/home/nk095x/.local/lib/python3.6/site-packages/ipykernel_launcher.py:9: UserWarning: Boolean Series key will be reindexed to match DataFrame index.\n",
      "  if __name__ == '__main__':\n"
     ]
    },
    {
     "name": "stdout",
     "output_type": "stream",
     "text": [
      "| Places                                 |   Kills |   Deaths |   KD Diff | Damage Dealt   | Damage Taken   | Damage Differential   |\n",
      "|----------------------------------------|---------|----------|-----------|----------------|----------------|-----------------------|\n",
      "| A Ramp                                 |       5 |        1 |         4 | 473            | 253            | 220                   |\n",
      "| Sandwhich                              |       7 |        4 |         3 | 770            | 412            | 358                   |\n",
      "| Market Window Peek                     |       1 |        0 |         1 | 79             | 26             | 53                    |\n",
      "| Close A Ramp                           |       3 |        2 |         1 | 512            | 186            | 326                   |\n",
      "| Tetris                                 |       3 |        2 |         1 | 300            | 221            | 79                    |\n",
      "| A Site                                 |       4 |        2 |         2 | 481            | 243            | 238                   |\n",
      "| Bottom Connector                       |       0 |        1 |        -1 | 0              | 19             | -19                   |\n",
      "| T Deep apps                            |       0 |        1 |        -1 | 54             | 100            | -46                   |\n",
      "| Catwalk T Aparments Peek               |       1 |        0 |         1 | 100            | 22             | 78                    |\n",
      "| Ladder Room Catwalk Side               |       0 |        0 |         0 | 0              | 0              | 0                     |\n",
      "| Deep Catwalk                           |       1 |        1 |         0 | 25             | 78             | -53                   |\n",
      "| B site Market Plant                    |       0 |        0 |         0 | N/A            | N/A            | N/A                   |\n",
      "| Bottom Mid Ladder Room Peek            |       0 |        0 |         0 | 0              | 0              | 0                     |\n",
      "| Mid Close Connector                    |       0 |        0 |         0 | 0              | 81             | -81                   |\n",
      "| Left Side Platform                     |       0 |        0 |         0 | 46             | 0              | 46                    |\n",
      "| Bottom Stairs                          |       4 |        5 |        -1 | 508            | 500            | 8                     |\n",
      "| Deep Jungle                            |       0 |        1 |        -1 | 68             | 100            | -32                   |\n",
      "| Jungle Plant                           |       0 |        1 |        -1 | 40             | 100            | -60                   |\n",
      "| Top Connector                          |       0 |        0 |         0 | 0              | 0              | 0                     |\n",
      "| CT Outside Market                      |       2 |        0 |         2 | 88             | 0              | 88                    |\n",
      "| Under balcony                          |       6 |        4 |         2 | 565            | 462            | 103                   |\n",
      "| Default A                              |       5 |        4 |         1 | 819            | 457            | 362                   |\n",
      "| Bench Closer to Tribox                 |       0 |        0 |         0 | 0              | 0              | 0                     |\n",
      "| CT Deep Catwalk Mid peek               |       1 |        0 |         1 | 28             | 0              | 28                    |\n",
      "| B Bombsite Cross to Catwalk            |       2 |        0 |         2 | 172            | 0              | 172                   |\n",
      "| Top Balcony                            |      12 |       11 |         1 | 1570           | 1093           | 477                   |\n",
      "| Top Mid                                |       1 |        0 |         1 | 32             | 0              | 32                    |\n",
      "| Leftside Connector                     |       2 |        0 |         2 | 177            | 54             | 123                   |\n",
      "| Top Mid Boxes Left Side Peek           |       0 |        0 |         0 | 0              | 0              | 0                     |\n",
      "| Close Market door                      |       0 |        1 |        -1 | N/A            | N/A            | N/A                   |\n",
      "| A Site Exposed to Stairs Connector Cat |       3 |        1 |         2 | 198            | 126            | 72                    |\n",
      "| Underpass                              |       1 |        0 |         1 | 36             | 0              | 36                    |\n",
      "| Triple Box                             |       3 |        2 |         1 | 440            | 232            | 208                   |\n",
      "| Deep CT                                |       0 |        0 |         0 | 91             | 70             | 21                    |\n",
      "| Deep Palace                            |       1 |        1 |         0 | 245            | 100            | 145                   |\n",
      "| Chair                                  |       0 |        0 |         0 | 42             | 0              | 42                    |\n",
      "| Back B Site Peeking Apps/Plat          |       0 |        0 |         0 | 0              | 0              | 0                     |\n",
      "| Close Right Market Window              |       1 |        0 |         1 | 4              | 0              | 4                     |\n",
      "| T Deep Apps Underpass/Apps Peek        |       0 |        0 |         0 | 0              | 0              | 0                     |\n",
      "| T apps entrance close left             |       0 |        0 |         0 | N/A            | N/A            | N/A                   |\n",
      "| Stairs Palace Peek                     |       1 |        0 |         1 | 134            | 74             | 60                    |\n",
      "| Right Side Connector                   |       0 |        0 |         0 | 0              | 0              | 0                     |\n",
      "| Top Mid Left Side                      |       0 |        0 |         0 | 0              | 0              | 0                     |\n",
      "| Catwalk Plant B Site                   |       1 |        0 |         1 | 49             | 34             | 15                    |\n",
      "| Firebox                                |       3 |        0 |         3 | 68             | 0              | 68                    |\n",
      "| Deep T Apps Underpass STairs           |       1 |        0 |         1 | 57             | 0              | 57                    |\n",
      "| Catwalk Connector Peek                 |       0 |        0 |         0 | 0              | 0              | 0                     |\n",
      "| Ticketbooth                            |      19 |        9 |        10 | 2245           | 1293           | 952                   |\n",
      "| Back Left B Site From T's' Perspective |       0 |        1 |        -1 | N/A            | N/A            | N/A                   |\n",
      "| Semi Elevated CT Van                   |       0 |        0 |         0 | N/A            | N/A            | N/A                   |\n",
      "| CT Catwalk                             |       0 |        1 |        -1 | 29             | 68             | -39                   |\n",
      "| T Palace Stairs Peek                   |       4 |        2 |         2 | 337            | 340            | -3                    |\n",
      "| Arch                                   |       0 |        0 |         0 | 0              | 0              | 0                     |\n",
      "| market                                 |       0 |        0 |         0 | 21             | 0              | 21                    |\n",
      "| Close Market Window                    |       0 |        0 |         0 | 12             | 0              | 12                    |\n",
      "| CT Side Apps                           |       0 |        0 |         0 | 0              | 0              | 0                     |\n",
      "| Inside Market Doors                    |       0 |        1 |        -1 | N/A            | N/A            | N/A                   |\n",
      "| Elevated Snipers Awp Peek              |       0 |        0 |         0 | N/A            | N/A            | N/A                   |\n",
      "| T Spawn A Ramp                         |       0 |        1 |        -1 | 0              | 26             | -26                   |\n",
      "| Snipers Nest                           |       0 |        0 |         0 | N/A            | N/A            | N/A                   |\n",
      "| B Site Default Plant                   |       0 |        0 |         0 | N/A            | N/A            | N/A                   |\n",
      "| Bench                                  |       0 |        0 |         0 | 0              | 0              | 0                     |\n",
      "| Left Side corner deep jungle           |       0 |        0 |         0 | N/A            | N/A            | N/A                   |\n",
      "| Top Mid Right Side                     |       0 |        0 |         0 | 0              | 0              | 0                     |\n",
      "| CT Left Side                           |       2 |        1 |         1 | 140            | 9              | 131                   |\n",
      "| Under balcony on top of the little box |       1 |        0 |         1 | 100            | 0              | 100                   |\n",
      "| Middle Bench                           |       0 |        0 |         0 | N/A            | N/A            | N/A                   |\n",
      "| Right Side Snipers Nest                |       0 |        0 |         0 | N/A            | N/A            | N/A                   |\n",
      "| Snipers Palace Peek                    |       0 |        0 |         0 | N/A            | N/A            | N/A                   |\n",
      "| CT Spawn                               |       2 |        1 |         1 | 58             | 46             | 12                    |\n",
      "| Balcony Boaxes                         |       1 |        1 |         0 | 76             | 156            | -80                   |\n",
      "| T Spawn                                |       0 |        0 |         0 | 0              | 0              | 0                     |\n",
      "| Top Mid towards Apps                   |       0 |        0 |         0 | 0              | 0              | 0                     |\n",
      "| Tucked in corner Market                |       0 |        0 |         0 | 0              | 0              | 0                     |\n",
      "| Register Market                        |       0 |        0 |         0 | 0              | 0              | 0                     |\n",
      "| Apartments Right CT Corner             |       0 |        0 |         0 | 0              | 0              | 0                     |\n",
      "| Top Mid Catwalk                        |       0 |        0 |         0 | 0              | 0              | 0                     |\n",
      "| Underneath B apps plat                 |       0 |        0 |         0 | 0              | 0              | 0                     |\n",
      "| Ninja                                  |       1 |        0 |         1 | 91             | 0              | 91                    |\n",
      "| Deep T Apps                            |       0 |        0 |         0 | 0              | 0              | 0                     |\n",
      "| Under window B apps                    |       0 |        0 |         0 | N/A            | N/A            | N/A                   |\n",
      "| Top STairs                             |       1 |        1 |         0 | 100            | 12             | 88                    |\n",
      "| Close Left CT A Ramp                   |       1 |        2 |        -1 | 313            | 114            | 199                   |\n"
     ]
    }
   ],
   "source": [
    "#hobbit ct kd + damage differentials\n",
    "print(prettyPrintPlayerDamageTable(hobbitDamages, hobbitKills, hobbit_names, 'CT'))"
   ]
  },
  {
   "cell_type": "code",
   "execution_count": 178,
   "id": "according-zoning",
   "metadata": {
    "scrolled": false
   },
   "outputs": [
    {
     "name": "stderr",
     "output_type": "stream",
     "text": [
      "/home/nk095x/.local/lib/python3.6/site-packages/ipykernel_launcher.py:4: UserWarning: Boolean Series key will be reindexed to match DataFrame index.\n",
      "  after removing the cwd from sys.path.\n",
      "/home/nk095x/.local/lib/python3.6/site-packages/ipykernel_launcher.py:5: UserWarning: Boolean Series key will be reindexed to match DataFrame index.\n",
      "  \"\"\"\n"
     ]
    },
    {
     "name": "stdout",
     "output_type": "stream",
     "text": [
      "| Places                                 |   Kills |   Deaths |   KD Diff | Damage Dealt   | Damage Taken   | Damage Differential   |\n",
      "|----------------------------------------|---------|----------|-----------|----------------|----------------|-----------------------|\n",
      "| A Ramp                                 |       3 |       17 |       -14 | 772            | 1766           | -994                  |\n",
      "| Sandwhich                              |       5 |        1 |         4 | 553            | 244            | 309                   |\n",
      "| Market Window Peek                     |       0 |        0 |         0 | 0              | 0              | 0                     |\n",
      "| Close A Ramp                           |       1 |        2 |        -1 | 214            | 159            | 55                    |\n",
      "| Tetris                                 |       6 |        2 |         4 | 470            | 433            | 37                    |\n",
      "| A Site                                 |       3 |        2 |         1 | 400            | 292            | 108                   |\n",
      "| Bottom Connector                       |       4 |        3 |         1 | 528            | 399            | 129                   |\n",
      "| T Deep apps                            |       0 |        1 |        -1 | 0              | 12             | -12                   |\n",
      "| Catwalk T Aparments Peek               |       2 |        1 |         1 | 114            | 191            | -77                   |\n",
      "| Ladder Room Catwalk Side               |       2 |        0 |         2 | 129            | 2              | 127                   |\n",
      "| Deep Catwalk                           |       6 |        3 |         3 | 618            | 459            | 159                   |\n",
      "| B site Market Plant                    |       0 |        0 |         0 | N/A            | N/A            | N/A                   |\n",
      "| Bottom Mid Ladder Room Peek            |       0 |        1 |        -1 | 17             | 100            | -83                   |\n",
      "| Mid Close Connector                    |       5 |        6 |        -1 | 545            | 713            | -168                  |\n",
      "| Left Side Platform                     |       0 |        4 |        -4 | 0              | 321            | -321                  |\n",
      "| Bottom Stairs                          |       5 |        4 |         1 | 388            | 475            | -87                   |\n",
      "| Deep Jungle                            |       3 |        5 |        -2 | 294            | 430            | -136                  |\n",
      "| Jungle Plant                           |       1 |        3 |        -2 | 193            | 258            | -65                   |\n",
      "| Top Connector                          |       2 |        1 |         1 | 167            | 100            | 67                    |\n",
      "| CT Outside Market                      |       1 |        0 |         1 | 100            | 33             | 67                    |\n",
      "| Under balcony                          |       0 |        0 |         0 | 0              | 0              | 0                     |\n",
      "| Default A                              |       0 |        2 |        -2 | 82             | 206            | -124                  |\n",
      "| Bench Closer to Tribox                 |       1 |        0 |         1 | 90             | 48             | 42                    |\n",
      "| CT Deep Catwalk Mid peek               |       3 |        6 |        -3 | 295            | 488            | -193                  |\n",
      "| B Bombsite Cross to Catwalk            |       2 |        4 |        -2 | 221            | 400            | -179                  |\n",
      "| Top Balcony                            |       2 |        3 |        -1 | 126            | 196            | -70                   |\n",
      "| Top Mid                                |       1 |        5 |        -4 | 110            | 418            | -308                  |\n",
      "| Leftside Connector                     |       1 |        0 |         1 | 100            | 84             | 16                    |\n",
      "| Top Mid Boxes Left Side Peek           |       2 |        2 |         0 | 269            | 260            | 9                     |\n",
      "| Close Market door                      |       0 |        0 |         0 | N/A            | N/A            | N/A                   |\n",
      "| A Site Exposed to Stairs Connector Cat |       4 |        2 |         2 | 308            | 265            | 43                    |\n",
      "| Underpass                              |       6 |        6 |         0 | 1061           | 1040           | 21                    |\n",
      "| Triple Box                             |       1 |        2 |        -1 | 210            | 200            | 10                    |\n",
      "| Deep CT                                |       1 |        0 |         1 | 100            | 97             | 3                     |\n",
      "| Deep Palace                            |      10 |        1 |         9 | 910            | 233            | 677                   |\n",
      "| Chair                                  |       4 |        0 |         4 | 411            | 40             | 371                   |\n",
      "| Back B Site Peeking Apps/Plat          |       3 |        1 |         2 | 262            | 217            | 45                    |\n",
      "| Close Right Market Window              |       0 |        1 |        -1 | 0              | 100            | -100                  |\n",
      "| T Deep Apps Underpass/Apps Peek        |       1 |        2 |        -1 | 100            | 200            | -100                  |\n",
      "| T apps entrance close left             |       0 |        1 |        -1 | N/A            | N/A            | N/A                   |\n",
      "| Stairs Palace Peek                     |       2 |        3 |        -1 | 342            | 213            | 129                   |\n",
      "| Right Side Connector                   |       3 |        1 |         2 | 226            | 95             | 131                   |\n",
      "| Top Mid Left Side                      |       2 |        5 |        -3 | 471            | 651            | -180                  |\n",
      "| Catwalk Plant B Site                   |       0 |        1 |        -1 | 0              | 17             | -17                   |\n",
      "| Firebox                                |       2 |        0 |         2 | 13             | 4              | 9                     |\n",
      "| Deep T Apps Underpass STairs           |       2 |        2 |         0 | 364            | 200            | 164                   |\n",
      "| Catwalk Connector Peek                 |       3 |        0 |         3 | 300            | 133            | 167                   |\n",
      "| Ticketbooth                            |       1 |        2 |        -1 | 127            | 149            | -22                   |\n",
      "| Back Left B Site From T's' Perspective |       0 |        0 |         0 | N/A            | N/A            | N/A                   |\n",
      "| Semi Elevated CT Van                   |       0 |        1 |        -1 | N/A            | N/A            | N/A                   |\n",
      "| CT Catwalk                             |       3 |        2 |         1 | 203            | 297            | -94                   |\n",
      "| T Palace Stairs Peek                   |       0 |        0 |         0 | 0              | 51             | -51                   |\n",
      "| Arch                                   |       0 |        1 |        -1 | 40             | 91             | -51                   |\n",
      "| market                                 |       2 |        0 |         2 | 223            | 60             | 163                   |\n",
      "| Close Market Window                    |       1 |        0 |         1 | 46             | 56             | -10                   |\n",
      "| CT Side Apps                           |       5 |        4 |         1 | 435            | 433            | 2                     |\n",
      "| Inside Market Doors                    |       0 |        1 |        -1 | N/A            | N/A            | N/A                   |\n",
      "| Elevated Snipers Awp Peek              |       0 |        1 |        -1 | N/A            | N/A            | N/A                   |\n",
      "| T Spawn A Ramp                         |       1 |        0 |         1 | 100            | 18             | 82                    |\n",
      "| Snipers Nest                           |       0 |        1 |        -1 | N/A            | N/A            | N/A                   |\n",
      "| B Site Default Plant                   |       0 |        1 |        -1 | N/A            | N/A            | N/A                   |\n",
      "| Bench                                  |       1 |        1 |         0 | 100            | 100            | 0                     |\n",
      "| Left Side corner deep jungle           |       0 |        0 |         0 | N/A            | N/A            | N/A                   |\n",
      "| Top Mid Right Side                     |       1 |        2 |        -1 | 241            | 218            | 23                    |\n",
      "| CT Left Side                           |       0 |        1 |        -1 | 91             | 100            | -9                    |\n",
      "| Under balcony on top of the little box |       0 |        0 |         0 | 0              | 0              | 0                     |\n",
      "| Middle Bench                           |       0 |        1 |        -1 | N/A            | N/A            | N/A                   |\n",
      "| Right Side Snipers Nest                |       0 |        1 |        -1 | N/A            | N/A            | N/A                   |\n",
      "| Snipers Palace Peek                    |       0 |        2 |        -2 | N/A            | N/A            | N/A                   |\n",
      "| CT Spawn                               |       1 |        0 |         1 | 100            | 0              | 100                   |\n",
      "| Balcony Boaxes                         |       0 |        0 |         0 | 4              | 0              | 4                     |\n",
      "| T Spawn                                |       0 |        1 |        -1 | 75             | 34             | 41                    |\n",
      "| Top Mid towards Apps                   |       2 |        1 |         1 | 385            | 67             | 318                   |\n",
      "| Tucked in corner Market                |       1 |        0 |         1 | 2              | 0              | 2                     |\n",
      "| Register Market                        |       1 |        1 |         0 | 45             | 104            | -59                   |\n",
      "| Apartments Right CT Corner             |       1 |        0 |         1 | 100            | 0              | 100                   |\n",
      "| Top Mid Catwalk                        |       2 |        5 |        -3 | 254            | 445            | -191                  |\n",
      "| Underneath B apps plat                 |       1 |        2 |        -1 | 92             | 161            | -69                   |\n",
      "| Ninja                                  |       1 |        0 |         1 | 100            | 22             | 78                    |\n",
      "| Deep T Apps                            |       0 |        2 |        -2 | 219            | 255            | -36                   |\n",
      "| Under window B apps                    |       0 |        0 |         0 | N/A            | N/A            | N/A                   |\n",
      "| Top STairs                             |       0 |        1 |        -1 | 0              | 3              | -3                    |\n",
      "| Close Left CT A Ramp                   |       0 |        1 |        -1 | 42             | 108            | -66                   |\n"
     ]
    },
    {
     "name": "stderr",
     "output_type": "stream",
     "text": [
      "/home/nk095x/.local/lib/python3.6/site-packages/ipykernel_launcher.py:8: UserWarning: Boolean Series key will be reindexed to match DataFrame index.\n",
      "  \n",
      "/home/nk095x/.local/lib/python3.6/site-packages/ipykernel_launcher.py:9: UserWarning: Boolean Series key will be reindexed to match DataFrame index.\n",
      "  if __name__ == '__main__':\n"
     ]
    }
   ],
   "source": [
    "#hobbit t kd and damage differentials.\n",
    "print(prettyPrintPlayerDamageTable(hobbitDamages, hobbitKills, hobbit_names, 'T'))"
   ]
  },
  {
   "cell_type": "markdown",
   "id": "grand-technical",
   "metadata": {},
   "source": [
    "## Interz"
   ]
  },
  {
   "cell_type": "code",
   "execution_count": 179,
   "id": "basic-toolbox",
   "metadata": {
    "scrolled": true
   },
   "outputs": [
    {
     "data": {
      "text/plain": [
       "AK-47           52.9%\n",
       "M4A4            16.0%\n",
       "USP-S            5.9%\n",
       "FAMAS            4.8%\n",
       "Galil AR         4.8%\n",
       "Glock-18         3.2%\n",
       "Desert Eagle     2.7%\n",
       "AUG              2.1%\n",
       "Tec-9            1.6%\n",
       "MP9              1.6%\n",
       "AWP              1.1%\n",
       "p250             1.1%\n",
       "HE Grenade       0.5%\n",
       "UMP-45           0.5%\n",
       "Five-SeveN       0.5%\n",
       "MAC-10           0.5%\n",
       "Name: Weapon, dtype: object"
      ]
     },
     "execution_count": 179,
     "metadata": {},
     "output_type": "execute_result"
    }
   ],
   "source": [
    "#weapon usage distribuition\n",
    "interzKills[interzKills['AttackerName'].isin(interz_names)].Weapon.value_counts(normalize=True).mul(100).round(1).astype(str) + '%'\n"
   ]
  },
  {
   "cell_type": "code",
   "execution_count": 180,
   "id": "human-patio",
   "metadata": {
    "scrolled": false
   },
   "outputs": [
    {
     "name": "stderr",
     "output_type": "stream",
     "text": [
      "/home/nk095x/.local/lib/python3.6/site-packages/ipykernel_launcher.py:2: UserWarning: Boolean Series key will be reindexed to match DataFrame index.\n",
      "  \n"
     ]
    },
    {
     "data": {
      "text/plain": [
       "M4A4            39.1%\n",
       "USP-S           15.9%\n",
       "AK-47           14.5%\n",
       "FAMAS           13.0%\n",
       "AUG              5.8%\n",
       "MP9              2.9%\n",
       "Desert Eagle     2.9%\n",
       "UMP-45           1.4%\n",
       "Galil AR         1.4%\n",
       "AWP              1.4%\n",
       "Five-SeveN       1.4%\n",
       "Name: Weapon, dtype: object"
      ]
     },
     "execution_count": 180,
     "metadata": {},
     "output_type": "execute_result"
    }
   ],
   "source": [
    "#weapon usage distribution as ct\n",
    "interzKills[interzKills['AttackerName'].isin(interz_names)][interzKills['AttackerSide'] == 'CT'].Weapon.value_counts(normalize=True).mul(100).round(1).astype(str) + '%'\n"
   ]
  },
  {
   "cell_type": "code",
   "execution_count": 181,
   "id": "primary-express",
   "metadata": {
    "scrolled": false
   },
   "outputs": [
    {
     "name": "stderr",
     "output_type": "stream",
     "text": [
      "/home/nk095x/.local/lib/python3.6/site-packages/ipykernel_launcher.py:2: UserWarning: Boolean Series key will be reindexed to match DataFrame index.\n",
      "  \n"
     ]
    },
    {
     "data": {
      "text/plain": [
       "AK-47           75.4%\n",
       "Galil AR         6.8%\n",
       "Glock-18         5.1%\n",
       "Desert Eagle     2.5%\n",
       "Tec-9            2.5%\n",
       "M4A4             2.5%\n",
       "p250             1.7%\n",
       "HE Grenade       0.8%\n",
       "MP9              0.8%\n",
       "MAC-10           0.8%\n",
       "AWP              0.8%\n",
       "Name: Weapon, dtype: object"
      ]
     },
     "execution_count": 181,
     "metadata": {},
     "output_type": "execute_result"
    }
   ],
   "source": [
    "#weapon usage distribution as a T\n",
    "interzKills[interzKills['AttackerName'].isin(interz_names)][interzKills['AttackerSide'] == 'T'].Weapon.value_counts(normalize=True).mul(100).round(1).astype(str) + '%'\n"
   ]
  },
  {
   "cell_type": "code",
   "execution_count": 182,
   "id": "incoming-diversity",
   "metadata": {
    "scrolled": false
   },
   "outputs": [
    {
     "data": {
      "text/plain": [
       "Top Balcony                               7.5%\n",
       "Underneath B apps plat                    7.0%\n",
       "Left Side Platform                        5.9%\n",
       "T Palace Stairs Peek                      5.9%\n",
       "Back Left B Site From T's' Perspective    5.3%\n",
       "Sandwhich                                 4.3%\n",
       "Deep Palace                               3.7%\n",
       "Bench                                     3.7%\n",
       "Van Barrel Peek                           3.2%\n",
       "Deep T Apps                               3.2%\n",
       "A Site                                    2.7%\n",
       "Deep Jungle                               2.7%\n",
       "Ticketbooth                               2.1%\n",
       "Catwalk Plant B Site                      2.1%\n",
       "Deep CT                                   2.1%\n",
       "CT Catwalk                                2.1%\n",
       "Forest                                    1.6%\n",
       "CT Side Apps                              1.6%\n",
       "Back B Site Peeking Apps/Plat             1.6%\n",
       "CT Spawn                                  1.6%\n",
       "T Spawn A Ramp                            1.6%\n",
       "Bottom Connector                          1.6%\n",
       "B site Market Plant                       1.6%\n",
       "Bottom Stairs                             1.6%\n",
       "Close Left CT A Ramp                      1.1%\n",
       "A Ramp                                    1.1%\n",
       "Triple Box                                1.1%\n",
       "A Site Exposed to Stairs Connector Cat    1.1%\n",
       "B Site Default Plant                      1.1%\n",
       "Close Market door                         1.1%\n",
       "Top Mid towards Apps                      1.1%\n",
       "Apartments Right CT Corner                1.1%\n",
       "Right Side Platform                       1.1%\n",
       "CT Outside Market                         1.1%\n",
       "T Deep Apps Underpass/Apps Peek           1.1%\n",
       "Tetris                                    1.1%\n",
       "Firebox                                   1.1%\n",
       "Market Window Peek                        0.5%\n",
       "Bench Closer To Jungle                    0.5%\n",
       "T Deep apps                               0.5%\n",
       "Mid Close Connector                       0.5%\n",
       "Under balcony                             0.5%\n",
       "Catwalk Connector Peek                    0.5%\n",
       "T Apps TV                                 0.5%\n",
       "market                                    0.5%\n",
       "Deep Catwalk                              0.5%\n",
       "Snipers Nest                              0.5%\n",
       "Top STairs                                0.5%\n",
       "Ninja                                     0.5%\n",
       "Ladder Room Catwalk Side                  0.5%\n",
       "Top Mid Boxes Right Side Peek             0.5%\n",
       "Left Side corner deep jungle              0.5%\n",
       "Default A                                 0.5%\n",
       "Right Side Snipers Nest                   0.5%\n",
       "Top Van                                   0.5%\n",
       "Name: AttackerAreaName, dtype: object"
      ]
     },
     "execution_count": 182,
     "metadata": {},
     "output_type": "execute_result"
    }
   ],
   "source": [
    "#Distribution of the location he was at when he got a kill\n",
    "interzKills[interzKills['AttackerName'].isin(interz_names)].AttackerAreaName.value_counts(normalize=True).mul(100).round(1).astype(str) + '%'\n"
   ]
  },
  {
   "cell_type": "code",
   "execution_count": 183,
   "id": "gentle-battle",
   "metadata": {
    "scrolled": true
   },
   "outputs": [
    {
     "name": "stderr",
     "output_type": "stream",
     "text": [
      "/home/nk095x/.local/lib/python3.6/site-packages/ipykernel_launcher.py:2: UserWarning: Boolean Series key will be reindexed to match DataFrame index.\n",
      "  \n"
     ]
    },
    {
     "data": {
      "text/plain": [
       "Back Left B Site From T's' Perspective    14.5%\n",
       "Left Side Platform                        10.1%\n",
       "Bench                                      8.7%\n",
       "Underneath B apps plat                     7.2%\n",
       "CT Catwalk                                 5.8%\n",
       "Deep CT                                    4.3%\n",
       "Deep T Apps                                4.3%\n",
       "CT Spawn                                   4.3%\n",
       "Close Market door                          2.9%\n",
       "Deep Jungle                                2.9%\n",
       "Back B Site Peeking Apps/Plat              2.9%\n",
       "Right Side Platform                        2.9%\n",
       "B site Market Plant                        2.9%\n",
       "Ticketbooth                                2.9%\n",
       "Bottom Connector                           2.9%\n",
       "Catwalk Plant B Site                       2.9%\n",
       "Top STairs                                 1.4%\n",
       "Ladder Room Catwalk Side                   1.4%\n",
       "Mid Close Connector                        1.4%\n",
       "market                                     1.4%\n",
       "CT Outside Market                          1.4%\n",
       "Left Side corner deep jungle               1.4%\n",
       "A Site Exposed to Stairs Connector Cat     1.4%\n",
       "Catwalk Connector Peek                     1.4%\n",
       "Snipers Nest                               1.4%\n",
       "Top Van                                    1.4%\n",
       "Triple Box                                 1.4%\n",
       "CT Side Apps                               1.4%\n",
       "Name: AttackerAreaName, dtype: object"
      ]
     },
     "execution_count": 183,
     "metadata": {},
     "output_type": "execute_result"
    }
   ],
   "source": [
    "#distribution of the location interz was at when he got a kill as a CT\n",
    "interzKills[interzKills['AttackerName'].isin(interz_names)][interzKills['AttackerSide'] == 'CT'].AttackerAreaName.value_counts(normalize=True).mul(100).round(1).astype(str) + '%'\n"
   ]
  },
  {
   "cell_type": "code",
   "execution_count": 184,
   "id": "graduate-samba",
   "metadata": {
    "scrolled": false
   },
   "outputs": [
    {
     "name": "stderr",
     "output_type": "stream",
     "text": [
      "/home/nk095x/.local/lib/python3.6/site-packages/ipykernel_launcher.py:2: UserWarning: Boolean Series key will be reindexed to match DataFrame index.\n",
      "  \n",
      "/home/nk095x/.local/lib/python3.6/site-packages/ipykernel_launcher.py:2: UserWarning: Boolean Series key will be reindexed to match DataFrame index.\n",
      "  \n"
     ]
    },
    {
     "data": {
      "text/plain": [
       "Back Left B Site From T's' Perspective    57.1%\n",
       "Left Side Platform                        14.3%\n",
       "Back B Site Peeking Apps/Plat             14.3%\n",
       "CT Side Apps                              14.3%\n",
       "Name: AttackerAreaName, dtype: object"
      ]
     },
     "execution_count": 184,
     "metadata": {},
     "output_type": "execute_result"
    }
   ],
   "source": [
    "#distribution of the location interz was at when he got a=n opening kill as a CT\n",
    "interzKills[interzKills['AttackerName'].isin(interz_names)][interzKills['AttackerSide'] == 'CT'][interzKills['IsFirstKill'] == True].AttackerAreaName.value_counts(normalize=True).mul(100).round(1).astype(str) + '%'\n"
   ]
  },
  {
   "cell_type": "code",
   "execution_count": 186,
   "id": "d3bf0831",
   "metadata": {
    "scrolled": true
   },
   "outputs": [
    {
     "name": "stderr",
     "output_type": "stream",
     "text": [
      "/home/nk095x/.local/lib/python3.6/site-packages/ipykernel_launcher.py:2: UserWarning: Boolean Series key will be reindexed to match DataFrame index.\n",
      "  \n",
      "/home/nk095x/.local/lib/python3.6/site-packages/ipykernel_launcher.py:2: UserWarning: Boolean Series key will be reindexed to match DataFrame index.\n",
      "  \n"
     ]
    },
    {
     "data": {
      "text/plain": [
       "Deep Palace                   37.5%\n",
       "Apartments Right CT Corner    12.5%\n",
       "Deep T Apps                   12.5%\n",
       "T Palace Stairs Peek           6.2%\n",
       "Top Balcony                    6.2%\n",
       "Left Side Platform             6.2%\n",
       "Deep Catwalk                   6.2%\n",
       "T Spawn A Ramp                 6.2%\n",
       "CT Side Apps                   6.2%\n",
       "Name: AttackerAreaName, dtype: object"
      ]
     },
     "execution_count": 186,
     "metadata": {},
     "output_type": "execute_result"
    }
   ],
   "source": [
    "#distribution of the location interz was at when he got a=n opening kill as a T\n",
    "interzKills[interzKills['AttackerName'].isin(interz_names)][interzKills['AttackerSide'] == 'T'][interzKills['IsFirstKill'] == True].AttackerAreaName.value_counts(normalize=True).mul(100).round(1).astype(str) + '%'\n"
   ]
  },
  {
   "cell_type": "code",
   "execution_count": 187,
   "id": "opposed-military",
   "metadata": {
    "scrolled": true
   },
   "outputs": [
    {
     "name": "stderr",
     "output_type": "stream",
     "text": [
      "/home/nk095x/.local/lib/python3.6/site-packages/ipykernel_launcher.py:4: UserWarning: Boolean Series key will be reindexed to match DataFrame index.\n",
      "  after removing the cwd from sys.path.\n",
      "/home/nk095x/.local/lib/python3.6/site-packages/ipykernel_launcher.py:5: UserWarning: Boolean Series key will be reindexed to match DataFrame index.\n",
      "  \"\"\"\n"
     ]
    },
    {
     "name": "stdout",
     "output_type": "stream",
     "text": [
      "| Places                                 |   Kills |   Deaths |   KD Diff | Damage Dealt   | Damage Taken   | Damage Differential   |\n",
      "|----------------------------------------|---------|----------|-----------|----------------|----------------|-----------------------|\n",
      "| T Palace Stairs Peek                   |       0 |        0 |         0 | 0              | 0              | 0                     |\n",
      "| Top Balcony                            |       0 |        0 |         0 | 145            | 0              | 145                   |\n",
      "| A Site Exposed to Stairs Connector Cat |       1 |        1 |         0 | 50             | 126            | -76                   |\n",
      "| B site Market Plant                    |       2 |        1 |         1 | 155            | 88             | 67                    |\n",
      "| Default A                              |       0 |        0 |         0 | 0              | 13             | -13                   |\n",
      "| T Deep apps                            |       0 |        0 |         0 | 0              | 0              | 0                     |\n",
      "| T Deep Apps Underpass/Apps Peek        |       0 |        0 |         0 | 27             | 44             | -17                   |\n",
      "| CT Catwalk                             |       4 |        1 |         3 | 294            | 182            | 112                   |\n",
      "| Van Barrel Peek                        |       0 |        1 |        -1 | 103            | 185            | -82                   |\n",
      "| Inside Market Doors                    |       0 |        0 |         0 | N/A            | N/A            | N/A                   |\n",
      "| Underneath B apps plat                 |       5 |        5 |         0 | 676            | 637            | 39                    |\n",
      "| Arch                                   |       0 |        0 |         0 | 50             | 0              | 50                    |\n",
      "| Deep Jungle                            |       2 |        3 |        -1 | 220            | 300            | -80                   |\n",
      "| Close A Ramp                           |       0 |        0 |         0 | 0              | 0              | 0                     |\n",
      "| Bottom Stairs                          |       0 |        0 |         0 | 0              | 54             | -54                   |\n",
      "| Back Left B Site From T's' Perspective |      10 |        2 |         8 | 942            | 307            | 635                   |\n",
      "| Deep CT                                |       3 |        1 |         2 | 310            | 100            | 210                   |\n",
      "| Back B Site Peeking Apps/Plat          |       2 |        1 |         1 | 287            | 140            | 147                   |\n",
      "| Bottom Connector                       |       2 |        1 |         1 | 122            | 100            | 22                    |\n",
      "| Deep T Apps                            |       3 |        0 |         3 | 300            | 54             | 246                   |\n",
      "| Snipers Palace Peek                    |       0 |        1 |        -1 | 84             | 100            | -16                   |\n",
      "| CT Side Apps                           |       1 |        2 |        -1 | 142            | 200            | -58                   |\n",
      "| Catwalk Connector Peek                 |       1 |        0 |         1 | 25             | 13             | 12                    |\n",
      "| Back Right B Site from T's Perspective |       0 |        0 |         0 | 13             | 33             | -20                   |\n",
      "| A Site                                 |       0 |        0 |         0 | 0              | 0              | 0                     |\n",
      "| Sandwhich                              |       0 |        0 |         0 | 0              | 0              | 0                     |\n",
      "| Forest                                 |       0 |        0 |         0 | 0              | 0              | 0                     |\n",
      "| Ticketbooth                            |       2 |        4 |        -2 | 178            | 382            | -204                  |\n",
      "| Deep Palace                            |       0 |        0 |         0 | 0              | 0              | 0                     |\n",
      "| Bench                                  |       6 |        3 |         3 | 532            | 401            | 131                   |\n",
      "| Catwalk Plant B Site                   |       2 |        3 |        -1 | 139            | 233            | -94                   |\n",
      "| Top Mid towards Apps                   |       0 |        0 |         0 | 0              | 0              | 0                     |\n",
      "| Left Side Platform                     |       7 |        4 |         3 | 703            | 428            | 275                   |\n",
      "| Close Market door                      |       2 |        0 |         2 | 242            | 100            | 142                   |\n",
      "| Tetris                                 |       0 |        0 |         0 | 0              | 0              | 0                     |\n",
      "| Firebox                                |       0 |        1 |        -1 | 0              | 100            | -100                  |\n",
      "| A Ramp                                 |       0 |        0 |         0 | 0              | 0              | 0                     |\n",
      "| market                                 |       1 |        1 |         0 | 107            | 164            | -57                   |\n",
      "| Close Right Market Window              |       0 |        1 |        -1 | N/A            | N/A            | N/A                   |\n",
      "| Deep Catwalk                           |       0 |        0 |         0 | 29             | 0              | 29                    |\n",
      "| CT Spawn                               |       3 |        1 |         2 | 223            | 127            | 96                    |\n",
      "| Triple Box                             |       1 |        4 |        -3 | 241            | 400            | -159                  |\n",
      "| Leftside Connector                     |       0 |        1 |        -1 | N/A            | N/A            | N/A                   |\n",
      "| CT Deep Catwalk Mid peek               |       0 |        3 |        -3 | 83             | 305            | -222                  |\n",
      "| Semi Elevated CT Van                   |       0 |        0 |         0 | 3              | 31             | -28                   |\n",
      "| Close Left CT A Ramp                   |       0 |        0 |         0 | 0              | 0              | 0                     |\n",
      "| B Site Default Plant                   |       0 |        0 |         0 | 48             | 0              | 48                    |\n",
      "| Top Mid Boxes Right Side Peek          |       0 |        0 |         0 | 0              | 0              | 0                     |\n",
      "| Underpass                              |       0 |        0 |         0 | 0              | 0              | 0                     |\n",
      "| Bench Closer To Jungle                 |       0 |        0 |         0 | 0              | 0              | 0                     |\n",
      "| Murder Hole                            |       0 |        0 |         0 | N/A            | N/A            | N/A                   |\n",
      "| Under balcony                          |       0 |        0 |         0 | 0              | 0              | 0                     |\n",
      "|                                        |       0 |        0 |         0 | N/A            | N/A            | N/A                   |\n",
      "| Snipers Nest                           |       1 |        1 |         0 | 100            | 100            | 0                     |\n",
      "| Apartments Right CT Corner             |       0 |        0 |         0 | 0              | 0              | 0                     |\n",
      "| Ninja                                  |       0 |        0 |         0 | 0              | 0              | 0                     |\n",
      "| Top Mid Right Side                     |       0 |        0 |         0 | N/A            | N/A            | N/A                   |\n",
      "| T Apps TV                              |       0 |        0 |         0 | 0              | 0              | 0                     |\n",
      "| Mid Close Connector                    |       1 |        1 |         0 | 64             | 100            | -36                   |\n",
      "| Market Window Peek                     |       0 |        0 |         0 | 0              | 8              | -8                    |\n",
      "| T Spawn A Ramp                         |       0 |        0 |         0 | 0              | 0              | 0                     |\n",
      "| CT Left Side                           |       0 |        1 |        -1 | 79             | 100            | -21                   |\n",
      "| Catwalk T Aparments Peek               |       0 |        0 |         0 | 52             | 15             | 37                    |\n",
      "| Left Side corner deep jungle           |       1 |        0 |         1 | 96             | 0              | 96                    |\n",
      "| Balcony Boaxes                         |       0 |        0 |         0 | 0              | 0              | 0                     |\n",
      "| Stairs Palace Peek                     |       0 |        0 |         0 | N/A            | N/A            | N/A                   |\n",
      "| Right Side Platform                    |       2 |        1 |         1 | 234            | 121            | 113                   |\n",
      "| Top Van                                |       1 |        2 |        -1 | 141            | 115            | 26                    |\n",
      "| Bottom Mid Ladder Room Peek            |       0 |        0 |         0 | N/A            | N/A            | N/A                   |\n",
      "| B Bombsite Cross to Catwalk            |       0 |        2 |        -2 | 0              | 200            | -200                  |\n",
      "| Elevated Snipers Awp Peek              |       0 |        0 |         0 | N/A            | N/A            | N/A                   |\n",
      "| CT Outside Market                      |       1 |        1 |         0 | 185            | 123            | 62                    |\n",
      "| Close Market Window                    |       0 |        0 |         0 | N/A            | N/A            | N/A                   |\n",
      "| Right Side Snipers Nest                |       0 |        0 |         0 | 0              | 0              | 0                     |\n",
      "| Ladder Room Catwalk Side               |       1 |        0 |         1 | 67             | 0              | 67                    |\n",
      "| Under window B apps                    |       0 |        0 |         0 | N/A            | N/A            | N/A                   |\n",
      "| Top STairs                             |       1 |        0 |         1 | 33             | 0              | 33                    |\n",
      "| Chair                                  |       0 |        0 |         0 | N/A            | N/A            | N/A                   |\n"
     ]
    },
    {
     "name": "stderr",
     "output_type": "stream",
     "text": [
      "/home/nk095x/.local/lib/python3.6/site-packages/ipykernel_launcher.py:8: UserWarning: Boolean Series key will be reindexed to match DataFrame index.\n",
      "  \n",
      "/home/nk095x/.local/lib/python3.6/site-packages/ipykernel_launcher.py:9: UserWarning: Boolean Series key will be reindexed to match DataFrame index.\n",
      "  if __name__ == '__main__':\n"
     ]
    }
   ],
   "source": [
    "print(prettyPrintPlayerDamageTable(interzDamages, interzKills, interz_names, 'CT'))"
   ]
  },
  {
   "cell_type": "code",
   "execution_count": 188,
   "id": "exempt-given",
   "metadata": {
    "scrolled": true
   },
   "outputs": [
    {
     "name": "stderr",
     "output_type": "stream",
     "text": [
      "/home/nk095x/.local/lib/python3.6/site-packages/ipykernel_launcher.py:4: UserWarning: Boolean Series key will be reindexed to match DataFrame index.\n",
      "  after removing the cwd from sys.path.\n",
      "/home/nk095x/.local/lib/python3.6/site-packages/ipykernel_launcher.py:5: UserWarning: Boolean Series key will be reindexed to match DataFrame index.\n",
      "  \"\"\"\n"
     ]
    },
    {
     "name": "stdout",
     "output_type": "stream",
     "text": [
      "| Places                                 |   Kills |   Deaths |   KD Diff | Damage Dealt   | Damage Taken   | Damage Differential   |\n",
      "|----------------------------------------|---------|----------|-----------|----------------|----------------|-----------------------|\n",
      "| T Palace Stairs Peek                   |      11 |       16 |        -5 | 1512           | 1771           | -259                  |\n",
      "| Top Balcony                            |      14 |        9 |         5 | 1486           | 1142           | 344                   |\n",
      "| A Site Exposed to Stairs Connector Cat |       1 |        4 |        -3 | 29             | 374            | -345                  |\n",
      "| B site Market Plant                    |       1 |        0 |         1 | 66             | 0              | 66                    |\n",
      "| Default A                              |       1 |        6 |        -5 | 420            | 627            | -207                  |\n",
      "| T Deep apps                            |       1 |        0 |         1 | 100            | 40             | 60                    |\n",
      "| T Deep Apps Underpass/Apps Peek        |       2 |        0 |         2 | 133            | 0              | 133                   |\n",
      "| CT Catwalk                             |       0 |        0 |         0 | 0              | 0              | 0                     |\n",
      "| Van Barrel Peek                        |       6 |        3 |         3 | 577            | 222            | 355                   |\n",
      "| Inside Market Doors                    |       0 |        0 |         0 | N/A            | N/A            | N/A                   |\n",
      "| Underneath B apps plat                 |       8 |        5 |         3 | 666            | 611            | 55                    |\n",
      "| Arch                                   |       0 |        1 |        -1 | 52             | 32             | 20                    |\n",
      "| Deep Jungle                            |       3 |        0 |         3 | 286            | 0              | 286                   |\n",
      "| Close A Ramp                           |       0 |        3 |        -3 | 105            | 317            | -212                  |\n",
      "| Bottom Stairs                          |       3 |        0 |         3 | 334            | 147            | 187                   |\n",
      "| Back Left B Site From T's' Perspective |       0 |        0 |         0 | 0              | 0              | 0                     |\n",
      "| Deep CT                                |       1 |        0 |         1 | 100            | 21             | 79                    |\n",
      "| Back B Site Peeking Apps/Plat          |       1 |        5 |        -4 | 221            | 447            | -226                  |\n",
      "| Bottom Connector                       |       1 |        1 |         0 | 100            | 100            | 0                     |\n",
      "| Deep T Apps                            |       3 |        1 |         2 | 305            | 444            | -139                  |\n",
      "| Snipers Palace Peek                    |       0 |        2 |        -2 | 22             | 170            | -148                  |\n",
      "| CT Side Apps                           |       2 |       12 |       -10 | 263            | 1144           | -881                  |\n",
      "| Catwalk Connector Peek                 |       0 |        1 |        -1 | 0              | 32             | -32                   |\n",
      "| Back Right B Site from T's Perspective |       0 |        0 |         0 | 0              | 0              | 0                     |\n",
      "| A Site                                 |       5 |        5 |         0 | 640            | 557            | 83                    |\n",
      "| Sandwhich                              |       8 |        4 |         4 | 816            | 447            | 369                   |\n",
      "| Forest                                 |       3 |        0 |         3 | 219            | 63             | 156                   |\n",
      "| Ticketbooth                            |       2 |        2 |         0 | 89             | 110            | -21                   |\n",
      "| Deep Palace                            |       7 |        6 |         1 | 960            | 1011           | -51                   |\n",
      "| Bench                                  |       1 |        5 |        -4 | 85             | 482            | -397                  |\n",
      "| Catwalk Plant B Site                   |       2 |        2 |         0 | 160            | 222            | -62                   |\n",
      "| Top Mid towards Apps                   |       2 |        0 |         2 | 112            | 27             | 85                    |\n",
      "| Left Side Platform                     |       4 |        6 |        -2 | 585            | 768            | -183                  |\n",
      "| Close Market door                      |       0 |        0 |         0 | 0              | 0              | 0                     |\n",
      "| Tetris                                 |       2 |        3 |        -1 | 257            | 301            | -44                   |\n",
      "| Firebox                                |       2 |        2 |         0 | 311            | 227            | 84                    |\n",
      "| A Ramp                                 |       2 |        5 |        -3 | 341            | 826            | -485                  |\n",
      "| market                                 |       0 |        0 |         0 | 0              | 0              | 0                     |\n",
      "| Close Right Market Window              |       0 |        0 |         0 | N/A            | N/A            | N/A                   |\n",
      "| Deep Catwalk                           |       1 |        2 |        -1 | 100            | 200            | -100                  |\n",
      "| CT Spawn                               |       0 |        0 |         0 | 0              | 0              | 0                     |\n",
      "| Triple Box                             |       1 |        3 |        -2 | 163            | 259            | -96                   |\n",
      "| Leftside Connector                     |       0 |        0 |         0 | N/A            | N/A            | N/A                   |\n",
      "| CT Deep Catwalk Mid peek               |       0 |        0 |         0 | 0              | 0              | 0                     |\n",
      "| Semi Elevated CT Van                   |       0 |        1 |        -1 | 79             | 148            | -69                   |\n",
      "| Close Left CT A Ramp                   |       2 |        3 |        -1 | 200            | 291            | -91                   |\n",
      "| B Site Default Plant                   |       2 |        2 |         0 | 181            | 79             | 102                   |\n",
      "| Top Mid Boxes Right Side Peek          |       1 |        1 |         0 | 106            | 87             | 19                    |\n",
      "| Underpass                              |       0 |        1 |        -1 | 48             | 114            | -66                   |\n",
      "| Bench Closer To Jungle                 |       1 |        0 |         1 | 29             | 0              | 29                    |\n",
      "| Murder Hole                            |       0 |        0 |         0 | N/A            | N/A            | N/A                   |\n",
      "| Under balcony                          |       1 |        1 |         0 | 148            | 233            | -85                   |\n",
      "|                                        |       0 |        0 |         0 | N/A            | N/A            | N/A                   |\n",
      "| Snipers Nest                           |       0 |        2 |        -2 | 57             | 200            | -143                  |\n",
      "| Apartments Right CT Corner             |       2 |        1 |         1 | 173            | 111            | 62                    |\n",
      "| Ninja                                  |       1 |        0 |         1 | 20             | 0              | 20                    |\n",
      "| Top Mid Right Side                     |       0 |        0 |         0 | N/A            | N/A            | N/A                   |\n",
      "| T Apps TV                              |       1 |        1 |         0 | 100            | 14             | 86                    |\n",
      "| Mid Close Connector                    |       0 |        0 |         0 | 0              | 68             | -68                   |\n",
      "| Market Window Peek                     |       1 |        1 |         0 | 100            | 58             | 42                    |\n",
      "| T Spawn A Ramp                         |       3 |        2 |         1 | 408            | 287            | 121                   |\n",
      "| CT Left Side                           |       0 |        0 |         0 | 0              | 0              | 0                     |\n",
      "| Catwalk T Aparments Peek               |       0 |        0 |         0 | 0              | 0              | 0                     |\n",
      "| Left Side corner deep jungle           |       0 |        0 |         0 | 0              | 0              | 0                     |\n",
      "| Balcony Boaxes                         |       0 |        2 |        -2 | 21             | 200            | -179                  |\n",
      "| Stairs Palace Peek                     |       0 |        0 |         0 | N/A            | N/A            | N/A                   |\n",
      "| Right Side Platform                    |       0 |        2 |        -2 | 70             | 203            | -133                  |\n",
      "| Top Van                                |       0 |        0 |         0 | 54             | 0              | 54                    |\n",
      "| Bottom Mid Ladder Room Peek            |       0 |        0 |         0 | N/A            | N/A            | N/A                   |\n",
      "| B Bombsite Cross to Catwalk            |       0 |        1 |        -1 | 68             | 100            | -32                   |\n",
      "| Elevated Snipers Awp Peek              |       0 |        0 |         0 | N/A            | N/A            | N/A                   |\n",
      "| CT Outside Market                      |       1 |        0 |         1 | 100            | 0              | 100                   |\n",
      "| Close Market Window                    |       0 |        0 |         0 | N/A            | N/A            | N/A                   |\n",
      "| Right Side Snipers Nest                |       1 |        0 |         1 | 92             | 0              | 92                    |\n",
      "| Ladder Room Catwalk Side               |       0 |        0 |         0 | 0              | 0              | 0                     |\n",
      "| Under window B apps                    |       0 |        0 |         0 | N/A            | N/A            | N/A                   |\n",
      "| Top STairs                             |       0 |        0 |         0 | 0              | 0              | 0                     |\n",
      "| Chair                                  |       0 |        0 |         0 | N/A            | N/A            | N/A                   |\n"
     ]
    },
    {
     "name": "stderr",
     "output_type": "stream",
     "text": [
      "/home/nk095x/.local/lib/python3.6/site-packages/ipykernel_launcher.py:8: UserWarning: Boolean Series key will be reindexed to match DataFrame index.\n",
      "  \n",
      "/home/nk095x/.local/lib/python3.6/site-packages/ipykernel_launcher.py:9: UserWarning: Boolean Series key will be reindexed to match DataFrame index.\n",
      "  if __name__ == '__main__':\n"
     ]
    }
   ],
   "source": [
    "print(prettyPrintPlayerDamageTable(interzDamages, interzKills, interz_names, 'T'))"
   ]
  },
  {
   "cell_type": "markdown",
   "id": "adjusted-chemical",
   "metadata": {},
   "source": [
    "## Nafany"
   ]
  },
  {
   "cell_type": "code",
   "execution_count": 189,
   "id": "seven-illustration",
   "metadata": {
    "scrolled": false
   },
   "outputs": [
    {
     "data": {
      "text/plain": [
       "AK-47                 37.8%\n",
       "M4A4                  21.8%\n",
       "FAMAS                  6.1%\n",
       "AUG                    5.0%\n",
       "Desert Eagle           5.0%\n",
       "USP-S                  4.6%\n",
       "UMP-45                 3.4%\n",
       "MAC-10                 3.4%\n",
       "Galil AR               2.3%\n",
       "p250                   2.3%\n",
       "SG 553                 2.3%\n",
       "AWP                    1.5%\n",
       "HE Grenade             1.1%\n",
       "Tec-9                  1.1%\n",
       "Molotov                0.8%\n",
       "Glock-18               0.8%\n",
       "Incendiary Grenade     0.4%\n",
       "MP9                    0.4%\n",
       "Name: Weapon, dtype: object"
      ]
     },
     "execution_count": 189,
     "metadata": {},
     "output_type": "execute_result"
    }
   ],
   "source": [
    "#weapon usage\n",
    "nafanyKills[nafanyKills['AttackerName'].isin(nafany_names)].Weapon.value_counts(normalize=True).mul(100).round(1).astype(str) + '%'\n"
   ]
  },
  {
   "cell_type": "code",
   "execution_count": 190,
   "id": "smaller-eating",
   "metadata": {
    "scrolled": false
   },
   "outputs": [
    {
     "name": "stderr",
     "output_type": "stream",
     "text": [
      "/home/nk095x/.local/lib/python3.6/site-packages/ipykernel_launcher.py:2: UserWarning: Boolean Series key will be reindexed to match DataFrame index.\n",
      "  \n"
     ]
    },
    {
     "data": {
      "text/plain": [
       "M4A4                  40.1%\n",
       "AK-47                 11.7%\n",
       "FAMAS                 10.9%\n",
       "AUG                    9.5%\n",
       "USP-S                  8.8%\n",
       "UMP-45                 6.6%\n",
       "SG 553                 2.9%\n",
       "Galil AR               2.9%\n",
       "HE Grenade             2.2%\n",
       "Desert Eagle           1.5%\n",
       "Tec-9                  0.7%\n",
       "Incendiary Grenade     0.7%\n",
       "AWP                    0.7%\n",
       "MP9                    0.7%\n",
       "Name: Weapon, dtype: object"
      ]
     },
     "execution_count": 190,
     "metadata": {},
     "output_type": "execute_result"
    }
   ],
   "source": [
    "#nafany wepaon usage as a ct\n",
    "nafanyKills[nafanyKills['AttackerName'].isin(nafany_names)][nafanyKills['AttackerSide'] == 'CT'].Weapon.value_counts(normalize=True).mul(100).round(1).astype(str) + '%'\n"
   ]
  },
  {
   "cell_type": "code",
   "execution_count": 191,
   "id": "cardiovascular-crime",
   "metadata": {
    "scrolled": false
   },
   "outputs": [
    {
     "name": "stderr",
     "output_type": "stream",
     "text": [
      "/home/nk095x/.local/lib/python3.6/site-packages/ipykernel_launcher.py:2: UserWarning: Boolean Series key will be reindexed to match DataFrame index.\n",
      "  \n"
     ]
    },
    {
     "data": {
      "text/plain": [
       "AK-47           66.4%\n",
       "Desert Eagle     8.8%\n",
       "MAC-10           7.2%\n",
       "p250             4.8%\n",
       "AWP              2.4%\n",
       "Molotov          1.6%\n",
       "M4A4             1.6%\n",
       "Glock-18         1.6%\n",
       "Tec-9            1.6%\n",
       "SG 553           1.6%\n",
       "Galil AR         1.6%\n",
       "FAMAS            0.8%\n",
       "Name: Weapon, dtype: object"
      ]
     },
     "execution_count": 191,
     "metadata": {},
     "output_type": "execute_result"
    }
   ],
   "source": [
    "#weapon usage as a t\n",
    "nafanyKills[nafanyKills['AttackerName'].isin(nafany_names)][nafanyKills['AttackerSide'] == 'T'].Weapon.value_counts(normalize=True).mul(100).round(1).astype(str) + '%'\n"
   ]
  },
  {
   "cell_type": "code",
   "execution_count": 192,
   "id": "rough-reply",
   "metadata": {
    "scrolled": true
   },
   "outputs": [
    {
     "data": {
      "text/plain": [
       "Mid Close Connector                       7.6%\n",
       "Deep Jungle                               6.5%\n",
       "Snipers Palace Peek                       4.6%\n",
       "A Ramp                                    4.6%\n",
       "Top Mid                                   3.8%\n",
       "                                          ... \n",
       "market                                    0.4%\n",
       "Left Side corner deep jungle              0.4%\n",
       "Deep CT                                   0.4%\n",
       "Top Mid Catwalk                           0.4%\n",
       "Back Right B Site from T's Perspective    0.4%\n",
       "Name: AttackerAreaName, Length: 70, dtype: object"
      ]
     },
     "execution_count": 192,
     "metadata": {},
     "output_type": "execute_result"
    }
   ],
   "source": [
    "#location he was at when he got a kill\n",
    "nafanyKills[nafanyKills['AttackerName'].isin(nafany_names)].AttackerAreaName.value_counts(normalize=True).mul(100).round(1).astype(str) + '%'\n"
   ]
  },
  {
   "cell_type": "code",
   "execution_count": 193,
   "id": "coastal-basic",
   "metadata": {
    "scrolled": true
   },
   "outputs": [
    {
     "name": "stderr",
     "output_type": "stream",
     "text": [
      "/home/nk095x/.local/lib/python3.6/site-packages/ipykernel_launcher.py:2: UserWarning: Boolean Series key will be reindexed to match DataFrame index.\n",
      "  \n"
     ]
    },
    {
     "data": {
      "text/plain": [
       "Mid Close Connector                       9.5%\n",
       "Deep Jungle                               8.0%\n",
       "Snipers Nest                              7.3%\n",
       "Snipers Palace Peek                       7.3%\n",
       "Bottom Stairs                             5.1%\n",
       "Top Mid                                   5.1%\n",
       "Leftside Connector                        4.4%\n",
       "A Site Exposed to Stairs Connector Cat    4.4%\n",
       "Ticketbooth                               3.6%\n",
       "Triple Box                                2.9%\n",
       "Default A                                 2.2%\n",
       "Top Mid Left Side                         2.2%\n",
       "Connector behind box                      2.2%\n",
       "Right Side Connector                      2.2%\n",
       "Bottom Connector                          2.2%\n",
       "Close Market door                         1.5%\n",
       "Under balcony                             1.5%\n",
       "Deep T Apps                               1.5%\n",
       "Firebox                                   1.5%\n",
       "Back B Site Peeking Apps/Plat             1.5%\n",
       "A Ramp                                    1.5%\n",
       "Top STairs                                1.5%\n",
       "CT Catwalk                                1.5%\n",
       "CT Deep Catwalk Mid peek                  0.7%\n",
       "Back Left B Site From T's' Perspective    0.7%\n",
       "Back Right B Site from T's Perspective    0.7%\n",
       "Deep T Apps Underpass STairs              0.7%\n",
       "Top Balcony                               0.7%\n",
       "Apartments Right CT Corner                0.7%\n",
       "Bench Closer To Jungle                    0.7%\n",
       "T Deep apps                               0.7%\n",
       "Deep Catwalk                              0.7%\n",
       "Stairs Palace Peek                        0.7%\n",
       "Elevated Snipers Awp Peek                 0.7%\n",
       "market                                    0.7%\n",
       "Close Left CT A Ramp                      0.7%\n",
       "Under window B apps                       0.7%\n",
       "B site Market Plant                       0.7%\n",
       "Deep T Spawn T Ramp                       0.7%\n",
       "CT Spawn                                  0.7%\n",
       "Bench Closer to Tribox                    0.7%\n",
       "Right Side Snipers Nest                   0.7%\n",
       "Close Right Market Window                 0.7%\n",
       "Top Connector                             0.7%\n",
       "Underpass                                 0.7%\n",
       "CT Outside Market                         0.7%\n",
       "Ninja                                     0.7%\n",
       "Inside Market Doors                       0.7%\n",
       "T Palace Stairs Peek                      0.7%\n",
       "A Site                                    0.7%\n",
       "Name: AttackerAreaName, dtype: object"
      ]
     },
     "execution_count": 193,
     "metadata": {},
     "output_type": "execute_result"
    }
   ],
   "source": [
    "#location nafany was at when he got a kill as a CT\n",
    "nafanyKills[nafanyKills['AttackerName'].isin(nafany_names)][nafanyKills['AttackerSide'] == 'CT'].AttackerAreaName.value_counts(normalize=True).mul(100).round(1).astype(str) + '%'\n"
   ]
  },
  {
   "cell_type": "code",
   "execution_count": 194,
   "id": "introductory-credit",
   "metadata": {
    "scrolled": false
   },
   "outputs": [
    {
     "name": "stderr",
     "output_type": "stream",
     "text": [
      "/home/nk095x/.local/lib/python3.6/site-packages/ipykernel_launcher.py:2: UserWarning: Boolean Series key will be reindexed to match DataFrame index.\n",
      "  \n",
      "/home/nk095x/.local/lib/python3.6/site-packages/ipykernel_launcher.py:2: UserWarning: Boolean Series key will be reindexed to match DataFrame index.\n",
      "  \n"
     ]
    },
    {
     "data": {
      "text/plain": [
       "Mid Close Connector           29.6%\n",
       "Snipers Nest                  11.1%\n",
       "Bottom Connector               7.4%\n",
       "Snipers Palace Peek            7.4%\n",
       "Top Mid                        7.4%\n",
       "Deep Jungle                    7.4%\n",
       "Default A                      3.7%\n",
       "Right Side Connector           3.7%\n",
       "Right Side Snipers Nest        3.7%\n",
       "Bottom Stairs                  3.7%\n",
       "Apartments Right CT Corner     3.7%\n",
       "Deep T Spawn T Ramp            3.7%\n",
       "Leftside Connector             3.7%\n",
       "Ticketbooth                    3.7%\n",
       "Name: AttackerAreaName, dtype: object"
      ]
     },
     "execution_count": 194,
     "metadata": {},
     "output_type": "execute_result"
    }
   ],
   "source": [
    "#location nafany was at when he got a first kill as a ct\n",
    "nafanyKills[nafanyKills['AttackerName'].isin(nafany_names)][nafanyKills['AttackerSide'] == 'CT'][nafanyKills['IsFirstKill'] == True].AttackerAreaName.value_counts(normalize=True).mul(100).round(1).astype(str) + '%'\n"
   ]
  },
  {
   "cell_type": "code",
   "execution_count": 195,
   "id": "fb7ea91a",
   "metadata": {
    "scrolled": false
   },
   "outputs": [
    {
     "name": "stderr",
     "output_type": "stream",
     "text": [
      "/home/nk095x/.local/lib/python3.6/site-packages/ipykernel_launcher.py:2: UserWarning: Boolean Series key will be reindexed to match DataFrame index.\n",
      "  \n"
     ]
    },
    {
     "data": {
      "text/plain": [
       "A Ramp                                    8.0%\n",
       "A Site                                    6.4%\n",
       "Mid Close Connector                       5.6%\n",
       "Deep Jungle                               4.8%\n",
       "CT Side Apps                              4.0%\n",
       "Right Side Connector                      3.2%\n",
       "Deep Catwalk                              3.2%\n",
       "Default A                                 3.2%\n",
       "CT Deep Catwalk Mid peek                  3.2%\n",
       "Ticketbooth                               3.2%\n",
       "Bottom Connector                          3.2%\n",
       "Close A Ramp                              3.2%\n",
       "Top Connector                             2.4%\n",
       "Bottom Stairs                             2.4%\n",
       "Ladder Room Catwalk Side                  2.4%\n",
       "Top STairs                                2.4%\n",
       "Under balcony                             2.4%\n",
       "Top Mid                                   2.4%\n",
       "A Site Exposed to Stairs Connector Cat    2.4%\n",
       "Top Mid Boxes Left Side Peek              1.6%\n",
       "Van Barrel Peek                           1.6%\n",
       "T Spawn A Ramp                            1.6%\n",
       "Snipers Palace Peek                       1.6%\n",
       "Right Side Snipers Nest                   1.6%\n",
       "Tetris                                    1.6%\n",
       "Top Van                                   1.6%\n",
       "Left Side Platform                        1.6%\n",
       "Top Mid Left Side                         1.6%\n",
       "CT Catwalk                                1.6%\n",
       "Catwalk Connector Peek                    1.6%\n",
       "Jungle Plant                              0.8%\n",
       "Catwalk T Aparments Peek                  0.8%\n",
       "Top Mid Catwalk                           0.8%\n",
       "T Palace Stairs Peek                      0.8%\n",
       "T Deep apps                               0.8%\n",
       "Close Left CT A Ramp                      0.8%\n",
       "Firebox                                   0.8%\n",
       "Inside Market Doors                       0.8%\n",
       "Stairs Palace Peek                        0.8%\n",
       "T Apps TV                                 0.8%\n",
       "Balcony Boaxes                            0.8%\n",
       "Middle Bench                              0.8%\n",
       "Bench Closer To Jungle                    0.8%\n",
       "Close Right Market Window                 0.8%\n",
       "Left Side corner deep jungle              0.8%\n",
       "Deep CT                                   0.8%\n",
       "Chair                                     0.8%\n",
       "Catwalk Plant B Site                      0.8%\n",
       "Name: AttackerAreaName, dtype: object"
      ]
     },
     "execution_count": 195,
     "metadata": {},
     "output_type": "execute_result"
    }
   ],
   "source": [
    "#location nafany was at when he got a kill as a T\n",
    "nafanyKills[nafanyKills['AttackerName'].isin(nafany_names)][nafanyKills['AttackerSide'] == 'T'].AttackerAreaName.value_counts(normalize=True).mul(100).round(1).astype(str) + '%'\n"
   ]
  },
  {
   "cell_type": "code",
   "execution_count": 196,
   "id": "f3d521e6",
   "metadata": {
    "scrolled": false
   },
   "outputs": [
    {
     "name": "stderr",
     "output_type": "stream",
     "text": [
      "/home/nk095x/.local/lib/python3.6/site-packages/ipykernel_launcher.py:2: UserWarning: Boolean Series key will be reindexed to match DataFrame index.\n",
      "  \n",
      "/home/nk095x/.local/lib/python3.6/site-packages/ipykernel_launcher.py:2: UserWarning: Boolean Series key will be reindexed to match DataFrame index.\n",
      "  \n"
     ]
    },
    {
     "data": {
      "text/plain": [
       "Mid Close Connector             12.5%\n",
       "Top Mid                         12.5%\n",
       "Ladder Room Catwalk Side         8.3%\n",
       "A Ramp                           8.3%\n",
       "Catwalk Connector Peek           4.2%\n",
       "Deep Jungle                      4.2%\n",
       "A Site                           4.2%\n",
       "Top Mid Catwalk                  4.2%\n",
       "Under balcony                    4.2%\n",
       "Close A Ramp                     4.2%\n",
       "Tetris                           4.2%\n",
       "Top Mid Left Side                4.2%\n",
       "Bottom Connector                 4.2%\n",
       "Top Mid Boxes Left Side Peek     4.2%\n",
       "T Spawn A Ramp                   4.2%\n",
       "Bottom Stairs                    4.2%\n",
       "Right Side Connector             4.2%\n",
       "Catwalk Plant B Site             4.2%\n",
       "Name: AttackerAreaName, dtype: object"
      ]
     },
     "execution_count": 196,
     "metadata": {},
     "output_type": "execute_result"
    }
   ],
   "source": [
    "#location nafany was at when he got a first kill as a t\n",
    "nafanyKills[nafanyKills['AttackerName'].isin(nafany_names)][nafanyKills['AttackerSide'] == 'T'][nafanyKills['IsFirstKill'] == True].AttackerAreaName.value_counts(normalize=True).mul(100).round(1).astype(str) + '%'\n"
   ]
  },
  {
   "cell_type": "code",
   "execution_count": 197,
   "id": "greek-elder",
   "metadata": {
    "scrolled": true
   },
   "outputs": [
    {
     "name": "stderr",
     "output_type": "stream",
     "text": [
      "/home/nk095x/.local/lib/python3.6/site-packages/ipykernel_launcher.py:4: UserWarning: Boolean Series key will be reindexed to match DataFrame index.\n",
      "  after removing the cwd from sys.path.\n",
      "/home/nk095x/.local/lib/python3.6/site-packages/ipykernel_launcher.py:5: UserWarning: Boolean Series key will be reindexed to match DataFrame index.\n",
      "  \"\"\"\n",
      "/home/nk095x/.local/lib/python3.6/site-packages/ipykernel_launcher.py:8: UserWarning: Boolean Series key will be reindexed to match DataFrame index.\n",
      "  \n",
      "/home/nk095x/.local/lib/python3.6/site-packages/ipykernel_launcher.py:9: UserWarning: Boolean Series key will be reindexed to match DataFrame index.\n",
      "  if __name__ == '__main__':\n"
     ]
    },
    {
     "name": "stdout",
     "output_type": "stream",
     "text": [
      "| Places                                 |   Kills |   Deaths |   KD Diff | Damage Dealt   | Damage Taken   | Damage Differential   |\n",
      "|----------------------------------------|---------|----------|-----------|----------------|----------------|-----------------------|\n",
      "| Right Side Snipers Nest                |       1 |        1 |         0 | 121            | 132            | -11                   |\n",
      "| market                                 |       1 |        0 |         1 | 142            | 0              | 142                   |\n",
      "| Right Side Connector                   |       3 |        1 |         2 | 217            | 178            | 39                    |\n",
      "| A Site                                 |       1 |        0 |         1 | 66             | 0              | 66                    |\n",
      "| A Ramp                                 |       2 |        2 |         0 | 167            | 200            | -33                   |\n",
      "| T Deep apps                            |       1 |        0 |         1 | 15             | 0              | 15                    |\n",
      "| Close Right Market Window              |       1 |        0 |         1 | 50             | 99             | -49                   |\n",
      "| Ticketbooth                            |       5 |        1 |         4 | 558            | 100            | 458                   |\n",
      "| Top Mid Left Side                      |       3 |        0 |         3 | 267            | 22             | 245                   |\n",
      "| Deep Jungle                            |      11 |        9 |         2 | 1486           | 968            | 518                   |\n",
      "| Underpass                              |       1 |        0 |         1 | 1              | 0              | 1                     |\n",
      "| Bottom Stairs                          |       7 |        3 |         4 | 677            | 555            | 122                   |\n",
      "| Connector behind box                   |       3 |        2 |         1 | 241            | 272            | -31                   |\n",
      "| Snipers Nest                           |      10 |        2 |         8 | 1119           | 485            | 634                   |\n",
      "| Bench Closer to Tribox                 |       1 |        0 |         1 | 100            | 52             | 48                    |\n",
      "| Triple Box                             |       4 |        1 |         3 | 193            | 1              | 192                   |\n",
      "| Close Market door                      |       2 |        1 |         1 | 350            | 124            | 226                   |\n",
      "| Elevated Snipers Awp Peek              |       1 |        0 |         1 | 100            | 0              | 100                   |\n",
      "| Snipers Palace Peek                    |      10 |        3 |         7 | 763            | 392            | 371                   |\n",
      "| Deep CT                                |       0 |        1 |        -1 | 15             | 100            | -85                   |\n",
      "| Bench                                  |       0 |        1 |        -1 | 11             | 132            | -121                  |\n",
      "| Top Connector                          |       1 |        4 |        -3 | 124            | 297            | -173                  |\n",
      "| Mid Close Connector                    |      13 |        6 |         7 | 1454           | 691            | 763                   |\n",
      "| Tetris                                 |       0 |        0 |         0 | 93             | 99             | -6                    |\n",
      "| Catwalk Plant B Site                   |       0 |        1 |        -1 | 0              | 1              | -1                    |\n",
      "| Deep T Apps Underpass STairs           |       1 |        3 |        -2 | 174            | 300            | -126                  |\n",
      "| Top Balcony                            |       1 |        0 |         1 | 74             | 26             | 48                    |\n",
      "| Deep T Apps                            |       2 |        1 |         1 | 200            | 100            | 100                   |\n",
      "| Van Barrel Peek                        |       0 |        0 |         0 | 0              | 0              | 0                     |\n",
      "| Balcony Boaxes                         |       0 |        0 |         0 | 0              | 0              | 0                     |\n",
      "| Default A                              |       3 |        2 |         1 | 446            | 151            | 295                   |\n",
      "| Top Mid                                |       7 |        2 |         5 | 576            | 273            | 303                   |\n",
      "| Bottom Mid Ladder Room Peek            |       0 |        0 |         0 | N/A            | N/A            | N/A                   |\n",
      "| A Site Exposed to Stairs Connector Cat |       6 |        3 |         3 | 476            | 399            | 77                    |\n",
      "| Top STairs                             |       2 |        0 |         2 | 133            | 27             | 106                   |\n",
      "| Catwalk Connector Peek                 |       0 |        1 |        -1 | 30             | 184            | -154                  |\n",
      "| Leftside Connector                     |       6 |        3 |         3 | 786            | 550            | 236                   |\n",
      "| Right Side Platform                    |       0 |        0 |         0 | 0              | 0              | 0                     |\n",
      "| Underneath B apps plat                 |       0 |        0 |         0 | 0              | 0              | 0                     |\n",
      "| Deep Catwalk                           |       1 |        0 |         1 | 0              | 0              | 0                     |\n",
      "| CT Deep Catwalk Mid peek               |       1 |        1 |         0 | 94             | 100            | -6                    |\n",
      "| Close Market Window                    |       0 |        0 |         0 | N/A            | N/A            | N/A                   |\n",
      "| Close Left CT A Ramp                   |       1 |        0 |         1 | 4              | 0              | 4                     |\n",
      "| Jungle Plant                           |       0 |        1 |        -1 | 0              | 100            | -100                  |\n",
      "| Bottom Connector                       |       3 |        0 |         3 | 313            | 210            | 103                   |\n",
      "| Left Side corner deep jungle           |       0 |        3 |        -3 | 88             | 300            | -212                  |\n",
      "| Ladder Room Catwalk Side               |       0 |        0 |         0 | 0              | 0              | 0                     |\n",
      "| T Deep Apps Underpass/Apps Peek        |       0 |        0 |         0 | N/A            | N/A            | N/A                   |\n",
      "| CT Outside Market                      |       1 |        0 |         1 | 92             | 0              | 92                    |\n",
      "| CT Side Apps                           |       0 |        0 |         0 | 0              | 0              | 0                     |\n",
      "| Top Mid Right Side                     |       0 |        1 |        -1 | 0              | 46             | -46                   |\n",
      "| Deep T Spawn T Ramp                    |       1 |        0 |         1 | 100            | 0              | 100                   |\n",
      "| Top Mid towards Apps                   |       0 |        1 |        -1 | 0              | 73             | -73                   |\n",
      "| Close A Ramp                           |       0 |        0 |         0 | 0              | 0              | 0                     |\n",
      "| Under window B apps                    |       1 |        1 |         0 | 98             | 100            | -2                    |\n",
      "| Under balcony                          |       2 |        1 |         1 | 84             | 100            | -16                   |\n",
      "| Ninja                                  |       1 |        0 |         1 | 100            | 46             | 54                    |\n",
      "| CT Catwalk                             |       2 |        0 |         2 | 180            | 36             | 144                   |\n",
      "| Catwalk T Aparments Peek               |       0 |        0 |         0 | 36             | 99             | -63                   |\n",
      "| Left Side Platform                     |       0 |        0 |         0 | 35             | 0              | 35                    |\n",
      "| Back Left B Site From T's' Perspective |       1 |        2 |        -1 | 78             | 101            | -23                   |\n",
      "| Top Mid Catwalk                        |       0 |        0 |         0 | 0              | 0              | 0                     |\n",
      "| Deep Palace                            |       0 |        0 |         0 | 0              | 0              | 0                     |\n",
      "| Register Market                        |       0 |        0 |         0 | 107            | 0              | 107                   |\n",
      "| Sandwhich                              |       0 |        1 |        -1 | N/A            | N/A            | N/A                   |\n",
      "| Firebox                                |       2 |        0 |         2 | 113            | 53             | 60                    |\n",
      "| T Spawn A Ramp                         |       0 |        0 |         0 | 0              | 0              | 0                     |\n",
      "| Market Window Peek                     |       0 |        0 |         0 | 46             | 0              | 46                    |\n",
      "| T Palace Stairs Peek                   |       1 |        0 |         1 | 38             | 0              | 38                    |\n",
      "| Back Right B Site from T's Perspective |       1 |        1 |         0 | 95             | 108            | -13                   |\n",
      "| B site Market Plant                    |       1 |        1 |         0 | 83             | 73             | 10                    |\n",
      "| Inside Market Doors                    |       1 |        0 |         1 | 100            | 96             | 4                     |\n",
      "| Semi Elevated CT Van                   |       0 |        0 |         0 | 0              | 11             | -11                   |\n",
      "| Middle Bench                           |       0 |        0 |         0 | 0              | 0              | 0                     |\n",
      "| T Apps TV                              |       0 |        0 |         0 | 0              | 0              | 0                     |\n",
      "| Forest                                 |       0 |        0 |         0 | 27             | 0              | 27                    |\n",
      "| Back B Site Peeking Apps/Plat          |       2 |        0 |         2 | 170            | 73             | 97                    |\n",
      "| Top Van                                |       0 |        0 |         0 | 36             | 0              | 36                    |\n",
      "| Stairs Palace Peek                     |       1 |        3 |        -2 | 262            | 251            | 11                    |\n",
      "| CT Spawn                               |       1 |        0 |         1 | 100            | 0              | 100                   |\n",
      "| Top Mid Boxes Left Side Peek           |       0 |        0 |         0 | 0              | 0              | 0                     |\n",
      "| CT Left Side                           |       0 |        0 |         0 | N/A            | N/A            | N/A                   |\n",
      "| Bench Closer To Jungle                 |       1 |        0 |         1 | 91             | 0              | 91                    |\n",
      "| Arch                                   |       0 |        1 |        -1 | 0              | 100            | -100                  |\n",
      "| B Bombsite Cross to Catwalk            |       0 |        1 |        -1 | 46             | 64             | -18                   |\n",
      "| Chair                                  |       0 |        0 |         0 | 0              | 0              | 0                     |\n",
      "| Top Mid on top of Boxes                |       0 |        0 |         0 | N/A            | N/A            | N/A                   |\n",
      "| Apartments Right CT Corner             |       1 |        0 |         1 | 0              | 0              | 0                     |\n"
     ]
    }
   ],
   "source": [
    "#damage + kd differentials as a CT\n",
    "print(prettyPrintPlayerDamageTable(nafanyDamages, nafanyKills, nafany_names, 'CT'))"
   ]
  },
  {
   "cell_type": "code",
   "execution_count": 198,
   "id": "severe-artwork",
   "metadata": {},
   "outputs": [
    {
     "data": {
      "text/plain": [
       "['sh1ro', 'sh1r0', 'SH1R0', 'sh1ro.VulkanBet']"
      ]
     },
     "execution_count": 198,
     "metadata": {},
     "output_type": "execute_result"
    }
   ],
   "source": [
    "shiro_names"
   ]
  },
  {
   "cell_type": "code",
   "execution_count": 199,
   "id": "egyptian-chocolate",
   "metadata": {
    "scrolled": true
   },
   "outputs": [
    {
     "name": "stderr",
     "output_type": "stream",
     "text": [
      "/home/nk095x/.local/lib/python3.6/site-packages/ipykernel_launcher.py:4: UserWarning: Boolean Series key will be reindexed to match DataFrame index.\n",
      "  after removing the cwd from sys.path.\n",
      "/home/nk095x/.local/lib/python3.6/site-packages/ipykernel_launcher.py:5: UserWarning: Boolean Series key will be reindexed to match DataFrame index.\n",
      "  \"\"\"\n",
      "/home/nk095x/.local/lib/python3.6/site-packages/ipykernel_launcher.py:8: UserWarning: Boolean Series key will be reindexed to match DataFrame index.\n",
      "  \n",
      "/home/nk095x/.local/lib/python3.6/site-packages/ipykernel_launcher.py:9: UserWarning: Boolean Series key will be reindexed to match DataFrame index.\n",
      "  if __name__ == '__main__':\n"
     ]
    },
    {
     "name": "stdout",
     "output_type": "stream",
     "text": [
      "| Places                                 |   Kills |   Deaths |   KD Diff | Damage Dealt   | Damage Taken   | Damage Differential   |\n",
      "|----------------------------------------|---------|----------|-----------|----------------|----------------|-----------------------|\n",
      "| Right Side Snipers Nest                |       2 |        1 |         1 | 148            | 17             | 131                   |\n",
      "| market                                 |       0 |        0 |         0 | 0              | 0              | 0                     |\n",
      "| Right Side Connector                   |       4 |        1 |         3 | 316            | 252            | 64                    |\n",
      "| A Site                                 |       8 |        5 |         3 | 1031           | 662            | 369                   |\n",
      "| A Ramp                                 |      10 |        7 |         3 | 964            | 904            | 60                    |\n",
      "| T Deep apps                            |       1 |        0 |         1 | 100            | 42             | 58                    |\n",
      "| Close Right Market Window              |       1 |        1 |         0 | 127            | 51             | 76                    |\n",
      "| Ticketbooth                            |       4 |        4 |         0 | 430            | 362            | 68                    |\n",
      "| Top Mid Left Side                      |       2 |        9 |        -7 | 340            | 1083           | -743                  |\n",
      "| Deep Jungle                            |       6 |        7 |        -1 | 361            | 661            | -300                  |\n",
      "| Underpass                              |       0 |        1 |        -1 | 19             | 100            | -81                   |\n",
      "| Bottom Stairs                          |       3 |        5 |        -2 | 389            | 369            | 20                    |\n",
      "| Connector behind box                   |       0 |        0 |         0 | 0              | 0              | 0                     |\n",
      "| Snipers Nest                           |       0 |        0 |         0 | 0              | 29             | -29                   |\n",
      "| Bench Closer to Tribox                 |       0 |        2 |        -2 | 0              | 160            | -160                  |\n",
      "| Triple Box                             |       0 |        1 |        -1 | 26             | 114            | -88                   |\n",
      "| Close Market door                      |       0 |        1 |        -1 | 194            | 100            | 94                    |\n",
      "| Elevated Snipers Awp Peek              |       0 |        0 |         0 | 0              | 0              | 0                     |\n",
      "| Snipers Palace Peek                    |       2 |        0 |         2 | 200            | 53             | 147                   |\n",
      "| Deep CT                                |       1 |        0 |         1 | 27             | 27             | 0                     |\n",
      "| Bench                                  |       0 |        0 |         0 | 151            | 61             | 90                    |\n",
      "| Top Connector                          |       3 |        4 |        -1 | 159            | 318            | -159                  |\n",
      "| Mid Close Connector                    |       7 |        9 |        -2 | 616            | 988            | -372                  |\n",
      "| Tetris                                 |       2 |        4 |        -2 | 229            | 378            | -149                  |\n",
      "| Catwalk Plant B Site                   |       1 |        1 |         0 | 100            | 67             | 33                    |\n",
      "| Deep T Apps Underpass STairs           |       0 |        1 |        -1 | 0              | 100            | -100                  |\n",
      "| Top Balcony                            |       0 |        5 |        -5 | 26             | 456            | -430                  |\n",
      "| Deep T Apps                            |       0 |        6 |        -6 | 97             | 682            | -585                  |\n",
      "| Van Barrel Peek                        |       2 |        1 |         1 | 106            | 5              | 101                   |\n",
      "| Balcony Boaxes                         |       1 |        0 |         1 | 100            | 84             | 16                    |\n",
      "| Default A                              |       4 |        3 |         1 | 306            | 305            | 1                     |\n",
      "| Top Mid                                |       3 |        7 |        -4 | 381            | 696            | -315                  |\n",
      "| Bottom Mid Ladder Room Peek            |       0 |        0 |         0 | N/A            | N/A            | N/A                   |\n",
      "| A Site Exposed to Stairs Connector Cat |       3 |        3 |         0 | 371            | 401            | -30                   |\n",
      "| Top STairs                             |       3 |        1 |         2 | 295            | 178            | 117                   |\n",
      "| Catwalk Connector Peek                 |       2 |        6 |        -4 | 458            | 711            | -253                  |\n",
      "| Leftside Connector                     |       0 |        1 |        -1 | 27             | 108            | -81                   |\n",
      "| Right Side Platform                    |       0 |        0 |         0 | 8              | 8              | 0                     |\n",
      "| Underneath B apps plat                 |       0 |        0 |         0 | 72             | 72             | 0                     |\n",
      "| Deep Catwalk                           |       4 |        4 |         0 | 372            | 256            | 116                   |\n",
      "| CT Deep Catwalk Mid peek               |       4 |        1 |         3 | 341            | 177            | 164                   |\n",
      "| Close Market Window                    |       0 |        0 |         0 | N/A            | N/A            | N/A                   |\n",
      "| Close Left CT A Ramp                   |       1 |        0 |         1 | 23             | 66             | -43                   |\n",
      "| Jungle Plant                           |       1 |        1 |         0 | 100            | 7              | 93                    |\n",
      "| Bottom Connector                       |       4 |        2 |         2 | 396            | 275            | 121                   |\n",
      "| Left Side corner deep jungle           |       1 |        0 |         1 | 100            | 0              | 100                   |\n",
      "| Ladder Room Catwalk Side               |       3 |        3 |         0 | 291            | 240            | 51                    |\n",
      "| T Deep Apps Underpass/Apps Peek        |       0 |        1 |        -1 | N/A            | N/A            | N/A                   |\n",
      "| CT Outside Market                      |       0 |        2 |        -2 | 34             | 173            | -139                  |\n",
      "| CT Side Apps                           |       5 |        9 |        -4 | 602            | 1095           | -493                  |\n",
      "| Top Mid Right Side                     |       0 |        1 |        -1 | 99             | 126            | -27                   |\n",
      "| Deep T Spawn T Ramp                    |       0 |        1 |        -1 | 0              | 100            | -100                  |\n",
      "| Top Mid towards Apps                   |       0 |        3 |        -3 | 20             | 366            | -346                  |\n",
      "| Close A Ramp                           |       4 |        2 |         2 | 400            | 228            | 172                   |\n",
      "| Under window B apps                    |       0 |        0 |         0 | 53             | 54             | -1                    |\n",
      "| Under balcony                          |       3 |        0 |         3 | 184            | 0              | 184                   |\n",
      "| Ninja                                  |       0 |        1 |        -1 | 54             | 76             | -22                   |\n",
      "| CT Catwalk                             |       2 |        7 |        -5 | 392            | 630            | -238                  |\n",
      "| Catwalk T Aparments Peek               |       1 |        2 |        -1 | 188            | 172            | 16                    |\n",
      "| Left Side Platform                     |       2 |        5 |        -3 | 420            | 672            | -252                  |\n",
      "| Back Left B Site From T's' Perspective |       0 |        0 |         0 | 0              | 0              | 0                     |\n",
      "| Top Mid Catwalk                        |       1 |        1 |         0 | 100            | 144            | -44                   |\n",
      "| Deep Palace                            |       0 |        0 |         0 | 38             | 1              | 37                    |\n",
      "| Register Market                        |       0 |        0 |         0 | 0              | 0              | 0                     |\n",
      "| Sandwhich                              |       0 |        0 |         0 | N/A            | N/A            | N/A                   |\n",
      "| Firebox                                |       1 |        0 |         1 | 59             | 27             | 32                    |\n",
      "| T Spawn A Ramp                         |       2 |        1 |         1 | 112            | 227            | -115                  |\n",
      "| Market Window Peek                     |       0 |        1 |        -1 | 66             | 100            | -34                   |\n",
      "| T Palace Stairs Peek                   |       1 |        3 |        -2 | 154            | 299            | -145                  |\n",
      "| Back Right B Site from T's Perspective |       0 |        1 |        -1 | 0              | 39             | -39                   |\n",
      "| B site Market Plant                    |       0 |        0 |         0 | 0              | 0              | 0                     |\n",
      "| Inside Market Doors                    |       1 |        0 |         1 | 100            | 0              | 100                   |\n",
      "| Semi Elevated CT Van                   |       0 |        1 |        -1 | 36             | 100            | -64                   |\n",
      "| Middle Bench                           |       1 |        0 |         1 | 67             | 0              | 67                    |\n",
      "| T Apps TV                              |       1 |        1 |         0 | 100            | 127            | -27                   |\n",
      "| Forest                                 |       0 |        1 |        -1 | 0              | 84             | -84                   |\n",
      "| Back B Site Peeking Apps/Plat          |       0 |        0 |         0 | 52             | 0              | 52                    |\n",
      "| Top Van                                |       2 |        0 |         2 | 133            | 0              | 133                   |\n",
      "| Stairs Palace Peek                     |       1 |        1 |         0 | 154            | 100            | 54                    |\n",
      "| CT Spawn                               |       0 |        0 |         0 | 0              | 0              | 0                     |\n",
      "| Top Mid Boxes Left Side Peek           |       2 |        1 |         1 | 251            | 121            | 130                   |\n",
      "| CT Left Side                           |       0 |        0 |         0 | N/A            | N/A            | N/A                   |\n",
      "| Bench Closer To Jungle                 |       1 |        0 |         1 | 86             | 0              | 86                    |\n",
      "| Arch                                   |       0 |        0 |         0 | 9              | 4              | 5                     |\n",
      "| B Bombsite Cross to Catwalk            |       0 |        5 |        -5 | 0              | 266            | -266                  |\n",
      "| Chair                                  |       1 |        2 |        -1 | 15             | 200            | -185                  |\n",
      "| Top Mid on top of Boxes                |       0 |        0 |         0 | N/A            | N/A            | N/A                   |\n",
      "| Apartments Right CT Corner             |       0 |        2 |        -2 | 6              | 151            | -145                  |\n"
     ]
    }
   ],
   "source": [
    "#damage + kd differentials as a T\n",
    "print(prettyPrintPlayerDamageTable(nafanyDamages, nafanyKills, nafany_names, 'T'))"
   ]
  },
  {
   "cell_type": "markdown",
   "id": "stone-dividend",
   "metadata": {},
   "source": [
    "## Ax1le"
   ]
  },
  {
   "cell_type": "code",
   "execution_count": 200,
   "id": "established-vancouver",
   "metadata": {
    "scrolled": true
   },
   "outputs": [
    {
     "data": {
      "text/plain": [
       "AK-47           60.3%\n",
       "M4A4            11.3%\n",
       "USP-S            5.3%\n",
       "FAMAS            4.0%\n",
       "Tec-9            2.7%\n",
       "Galil AR         2.7%\n",
       "AUG              2.3%\n",
       "Desert Eagle     2.3%\n",
       "p250             1.7%\n",
       "HE Grenade       1.3%\n",
       "Glock-18         1.3%\n",
       "UMP-45           1.0%\n",
       "AWP              1.0%\n",
       "SSG 08           0.7%\n",
       "M4A1             0.7%\n",
       "MAC-10           0.7%\n",
       "MP9              0.3%\n",
       "Molotov          0.3%\n",
       "Name: Weapon, dtype: object"
      ]
     },
     "execution_count": 200,
     "metadata": {},
     "output_type": "execute_result"
    }
   ],
   "source": [
    "#weapon usage\n",
    "ax1leKills[ax1leKills['AttackerName'].isin(ax1le_names)].Weapon.value_counts(normalize=True).mul(100).round(1).astype(str) + '%'\n"
   ]
  },
  {
   "cell_type": "code",
   "execution_count": 201,
   "id": "advisory-thanks",
   "metadata": {
    "scrolled": false
   },
   "outputs": [
    {
     "name": "stderr",
     "output_type": "stream",
     "text": [
      "/home/nk095x/.local/lib/python3.6/site-packages/ipykernel_launcher.py:2: UserWarning: Boolean Series key will be reindexed to match DataFrame index.\n",
      "  \n"
     ]
    },
    {
     "data": {
      "text/plain": [
       "AK-47           42.3%\n",
       "M4A4            24.1%\n",
       "USP-S           10.9%\n",
       "FAMAS            8.8%\n",
       "AUG              5.1%\n",
       "UMP-45           2.2%\n",
       "HE Grenade       2.2%\n",
       "Desert Eagle     1.5%\n",
       "SSG 08           1.5%\n",
       "M4A1             1.5%\n",
       "Name: Weapon, dtype: object"
      ]
     },
     "execution_count": 201,
     "metadata": {},
     "output_type": "execute_result"
    }
   ],
   "source": [
    "#weapon usage as a ct\n",
    "ax1leKills[ax1leKills['AttackerName'].isin(ax1le_names)][ax1leKills['AttackerSide'] == 'CT'].Weapon.value_counts(normalize=True).mul(100).round(1).astype(str) + '%'\n"
   ]
  },
  {
   "cell_type": "code",
   "execution_count": 202,
   "id": "studied-suffering",
   "metadata": {
    "scrolled": false
   },
   "outputs": [
    {
     "name": "stderr",
     "output_type": "stream",
     "text": [
      "/home/nk095x/.local/lib/python3.6/site-packages/ipykernel_launcher.py:2: UserWarning: Boolean Series key will be reindexed to match DataFrame index.\n",
      "  \n"
     ]
    },
    {
     "data": {
      "text/plain": [
       "AK-47           75.5%\n",
       "Tec-9            4.9%\n",
       "Galil AR         4.9%\n",
       "p250             3.1%\n",
       "Desert Eagle     3.1%\n",
       "Glock-18         2.5%\n",
       "AWP              1.8%\n",
       "MAC-10           1.2%\n",
       "MP9              0.6%\n",
       "USP-S            0.6%\n",
       "HE Grenade       0.6%\n",
       "Molotov          0.6%\n",
       "M4A4             0.6%\n",
       "Name: Weapon, dtype: object"
      ]
     },
     "execution_count": 202,
     "metadata": {},
     "output_type": "execute_result"
    }
   ],
   "source": [
    "#distribution of weapon usgae as a t\n",
    "ax1leKills[ax1leKills['AttackerName'].isin(ax1le_names)][ax1leKills['AttackerSide'] == 'T'].Weapon.value_counts(normalize=True).mul(100).round(1).astype(str) + '%'\n"
   ]
  },
  {
   "cell_type": "code",
   "execution_count": 203,
   "id": "major-thomson",
   "metadata": {
    "scrolled": false
   },
   "outputs": [
    {
     "data": {
      "text/plain": [
       "Deep Catwalk                    15.3%\n",
       "CT Side Apps                     6.0%\n",
       "CT Catwalk                       5.3%\n",
       "Catwalk T Aparments Peek         4.0%\n",
       "B Bombsite Cross to Catwalk      3.7%\n",
       "                                ...  \n",
       "CT Spawn                         0.3%\n",
       "Top Mid Boxes Left Side Peek     0.3%\n",
       "Top Mid towards Apps             0.3%\n",
       "Register Market                  0.3%\n",
       "Stairs Palace Peek               0.3%\n",
       "Name: AttackerAreaName, Length: 69, dtype: object"
      ]
     },
     "execution_count": 203,
     "metadata": {},
     "output_type": "execute_result"
    }
   ],
   "source": [
    "#distribution of locaiotn ax1le is at when he gets a kill\n",
    "ax1leKills[ax1leKills['AttackerName'].isin(ax1le_names)].AttackerAreaName.value_counts(normalize=True).mul(100).round(1).astype(str) + '%'\n"
   ]
  },
  {
   "cell_type": "code",
   "execution_count": 204,
   "id": "vertical-inventory",
   "metadata": {
    "scrolled": true
   },
   "outputs": [
    {
     "name": "stderr",
     "output_type": "stream",
     "text": [
      "/home/nk095x/.local/lib/python3.6/site-packages/ipykernel_launcher.py:2: UserWarning: Boolean Series key will be reindexed to match DataFrame index.\n",
      "  \n"
     ]
    },
    {
     "data": {
      "text/plain": [
       "Deep Catwalk                              31.4%\n",
       "CT Catwalk                                 9.5%\n",
       "Catwalk T Aparments Peek                   8.8%\n",
       "CT Deep Catwalk Mid peek                   4.4%\n",
       "Ladder Room Catwalk Side                   2.9%\n",
       "Right Side Snipers Nest                    2.9%\n",
       "Deep Jungle                                2.9%\n",
       "Mid Close Connector                        2.2%\n",
       "Arch                                       2.2%\n",
       "CT Side Apps                               2.2%\n",
       "Underneath B apps plat                     2.2%\n",
       "Snipers Palace Peek                        1.5%\n",
       "Bench                                      1.5%\n",
       "Deep CT                                    1.5%\n",
       "Firebox                                    1.5%\n",
       "Catwalk Connector Peek                     1.5%\n",
       "Back Left B Site From T's' Perspective     1.5%\n",
       "Top Connector                              1.5%\n",
       "Bottom Stairs                              1.5%\n",
       "Ticketbooth                                1.5%\n",
       "Underpass                                  1.5%\n",
       "Left Side corner deep jungle               1.5%\n",
       "A Site Exposed to Stairs Connector Cat     1.5%\n",
       "Close Market door                          0.7%\n",
       "Deep T Apps                                0.7%\n",
       "Stairs Palace Peek                         0.7%\n",
       "CT Left Side                               0.7%\n",
       "Top Mid                                    0.7%\n",
       "Close Market Window                        0.7%\n",
       "B Site Default Plant                       0.7%\n",
       "Leftside Connector                         0.7%\n",
       "Bottom Connector                           0.7%\n",
       "Top STairs                                 0.7%\n",
       "Top Mid Left Side                          0.7%\n",
       "T Deep Apps Underpass/Apps Peek            0.7%\n",
       "Back Right B Site from T's Perspective     0.7%\n",
       "Bottom Mid Boosting Snipers                0.7%\n",
       "Underpass Peek from Snipers                0.7%\n",
       "Name: AttackerAreaName, dtype: object"
      ]
     },
     "execution_count": 204,
     "metadata": {},
     "output_type": "execute_result"
    }
   ],
   "source": [
    "#distribution of location ax1le was at when he got a kill as a ct\n",
    "ax1leKills[ax1leKills['AttackerName'].isin(ax1le_names)][ax1leKills['AttackerSide'] == 'CT'].AttackerAreaName.value_counts(normalize=True).mul(100).round(1).astype(str) + '%'\n"
   ]
  },
  {
   "cell_type": "code",
   "execution_count": 205,
   "id": "1794aaef",
   "metadata": {},
   "outputs": [
    {
     "name": "stderr",
     "output_type": "stream",
     "text": [
      "/home/nk095x/.local/lib/python3.6/site-packages/ipykernel_launcher.py:1: UserWarning: Boolean Series key will be reindexed to match DataFrame index.\n",
      "  \"\"\"Entry point for launching an IPython kernel.\n"
     ]
    },
    {
     "data": {
      "text/html": [
       "<div>\n",
       "<style scoped>\n",
       "    .dataframe tbody tr th:only-of-type {\n",
       "        vertical-align: middle;\n",
       "    }\n",
       "\n",
       "    .dataframe tbody tr th {\n",
       "        vertical-align: top;\n",
       "    }\n",
       "\n",
       "    .dataframe thead th {\n",
       "        text-align: right;\n",
       "    }\n",
       "</style>\n",
       "<table border=\"1\" class=\"dataframe\">\n",
       "  <thead>\n",
       "    <tr style=\"text-align: right;\">\n",
       "      <th></th>\n",
       "      <th>Tick</th>\n",
       "      <th>Second</th>\n",
       "      <th>AttackerSteamId</th>\n",
       "      <th>AttackerName</th>\n",
       "      <th>AttackerTeam</th>\n",
       "      <th>AttackerSide</th>\n",
       "      <th>AttackerX</th>\n",
       "      <th>AttackerY</th>\n",
       "      <th>AttackerZ</th>\n",
       "      <th>AttackerAreaId</th>\n",
       "      <th>...</th>\n",
       "      <th>IsHeadshot</th>\n",
       "      <th>IsTrade</th>\n",
       "      <th>PlayerTradedName</th>\n",
       "      <th>PlayerTradedTeam</th>\n",
       "      <th>PlayerTradedSteamId</th>\n",
       "      <th>IsFirstKill</th>\n",
       "      <th>Weapon</th>\n",
       "      <th>RoundNum</th>\n",
       "      <th>MatchId</th>\n",
       "      <th>MapName</th>\n",
       "    </tr>\n",
       "  </thead>\n",
       "  <tbody>\n",
       "    <tr>\n",
       "      <th>23</th>\n",
       "      <td>41529</td>\n",
       "      <td>37.093750</td>\n",
       "      <td>7.656120e+16</td>\n",
       "      <td>Ax1Le</td>\n",
       "      <td>Gambit</td>\n",
       "      <td>T</td>\n",
       "      <td>-701.981689</td>\n",
       "      <td>-778.488708</td>\n",
       "      <td>-261.968750</td>\n",
       "      <td>133.0</td>\n",
       "      <td>...</td>\n",
       "      <td>False</td>\n",
       "      <td>False</td>\n",
       "      <td>KSCERATO</td>\n",
       "      <td>FURIA</td>\n",
       "      <td>7.656120e+16</td>\n",
       "      <td>False</td>\n",
       "      <td>Galil AR</td>\n",
       "      <td>3</td>\n",
       "      <td>furia-vs-gambit-m3-mirage</td>\n",
       "      <td>de_mirage</td>\n",
       "    </tr>\n",
       "    <tr>\n",
       "      <th>26</th>\n",
       "      <td>49878</td>\n",
       "      <td>40.226562</td>\n",
       "      <td>7.656120e+16</td>\n",
       "      <td>Ax1Le</td>\n",
       "      <td>Gambit</td>\n",
       "      <td>T</td>\n",
       "      <td>109.615761</td>\n",
       "      <td>-1420.176636</td>\n",
       "      <td>-175.968750</td>\n",
       "      <td>15.0</td>\n",
       "      <td>...</td>\n",
       "      <td>True</td>\n",
       "      <td>False</td>\n",
       "      <td>Hobbit</td>\n",
       "      <td>Gambit</td>\n",
       "      <td>7.656120e+16</td>\n",
       "      <td>False</td>\n",
       "      <td>AK-47</td>\n",
       "      <td>4</td>\n",
       "      <td>furia-vs-gambit-m3-mirage</td>\n",
       "      <td>de_mirage</td>\n",
       "    </tr>\n",
       "    <tr>\n",
       "      <th>30</th>\n",
       "      <td>62987</td>\n",
       "      <td>47.593750</td>\n",
       "      <td>7.656120e+16</td>\n",
       "      <td>Ax1Le</td>\n",
       "      <td>Gambit</td>\n",
       "      <td>T</td>\n",
       "      <td>-2043.782227</td>\n",
       "      <td>497.751678</td>\n",
       "      <td>-166.405701</td>\n",
       "      <td>51.0</td>\n",
       "      <td>...</td>\n",
       "      <td>True</td>\n",
       "      <td>False</td>\n",
       "      <td>None</td>\n",
       "      <td>None</td>\n",
       "      <td>NaN</td>\n",
       "      <td>True</td>\n",
       "      <td>Tec-9</td>\n",
       "      <td>5</td>\n",
       "      <td>furia-vs-gambit-m3-mirage</td>\n",
       "      <td>de_mirage</td>\n",
       "    </tr>\n",
       "    <tr>\n",
       "      <th>31</th>\n",
       "      <td>63299</td>\n",
       "      <td>50.031250</td>\n",
       "      <td>7.656120e+16</td>\n",
       "      <td>Ax1Le</td>\n",
       "      <td>Gambit</td>\n",
       "      <td>T</td>\n",
       "      <td>-2026.625244</td>\n",
       "      <td>369.252319</td>\n",
       "      <td>-159.968750</td>\n",
       "      <td>50.0</td>\n",
       "      <td>...</td>\n",
       "      <td>True</td>\n",
       "      <td>False</td>\n",
       "      <td>KSCERATO</td>\n",
       "      <td>FURIA</td>\n",
       "      <td>7.656120e+16</td>\n",
       "      <td>False</td>\n",
       "      <td>Tec-9</td>\n",
       "      <td>5</td>\n",
       "      <td>furia-vs-gambit-m3-mirage</td>\n",
       "      <td>de_mirage</td>\n",
       "    </tr>\n",
       "    <tr>\n",
       "      <th>43</th>\n",
       "      <td>91651</td>\n",
       "      <td>29.664062</td>\n",
       "      <td>7.656120e+16</td>\n",
       "      <td>Ax1Le</td>\n",
       "      <td>Gambit</td>\n",
       "      <td>T</td>\n",
       "      <td>-1628.958984</td>\n",
       "      <td>811.719604</td>\n",
       "      <td>-47.968750</td>\n",
       "      <td>20.0</td>\n",
       "      <td>...</td>\n",
       "      <td>True</td>\n",
       "      <td>False</td>\n",
       "      <td>None</td>\n",
       "      <td>None</td>\n",
       "      <td>NaN</td>\n",
       "      <td>True</td>\n",
       "      <td>AK-47</td>\n",
       "      <td>7</td>\n",
       "      <td>furia-vs-gambit-m3-mirage</td>\n",
       "      <td>de_mirage</td>\n",
       "    </tr>\n",
       "    <tr>\n",
       "      <th>...</th>\n",
       "      <td>...</td>\n",
       "      <td>...</td>\n",
       "      <td>...</td>\n",
       "      <td>...</td>\n",
       "      <td>...</td>\n",
       "      <td>...</td>\n",
       "      <td>...</td>\n",
       "      <td>...</td>\n",
       "      <td>...</td>\n",
       "      <td>...</td>\n",
       "      <td>...</td>\n",
       "      <td>...</td>\n",
       "      <td>...</td>\n",
       "      <td>...</td>\n",
       "      <td>...</td>\n",
       "      <td>...</td>\n",
       "      <td>...</td>\n",
       "      <td>...</td>\n",
       "      <td>...</td>\n",
       "      <td>...</td>\n",
       "      <td>...</td>\n",
       "    </tr>\n",
       "    <tr>\n",
       "      <th>2239</th>\n",
       "      <td>77093</td>\n",
       "      <td>57.007874</td>\n",
       "      <td>7.656120e+16</td>\n",
       "      <td>-Ax1Le-</td>\n",
       "      <td>Gambit</td>\n",
       "      <td>T</td>\n",
       "      <td>370.008881</td>\n",
       "      <td>-785.899414</td>\n",
       "      <td>-162.788467</td>\n",
       "      <td>774.0</td>\n",
       "      <td>...</td>\n",
       "      <td>False</td>\n",
       "      <td>False</td>\n",
       "      <td>elian</td>\n",
       "      <td>Winstrike</td>\n",
       "      <td>7.656120e+16</td>\n",
       "      <td>False</td>\n",
       "      <td>AK-47</td>\n",
       "      <td>5</td>\n",
       "      <td>winstrike-vs-gambit-m2-mirage</td>\n",
       "      <td>de_mirage</td>\n",
       "    </tr>\n",
       "    <tr>\n",
       "      <th>2265</th>\n",
       "      <td>130840</td>\n",
       "      <td>38.440945</td>\n",
       "      <td>7.656120e+16</td>\n",
       "      <td>-Ax1Le-</td>\n",
       "      <td>Gambit</td>\n",
       "      <td>T</td>\n",
       "      <td>-751.584045</td>\n",
       "      <td>-1637.730835</td>\n",
       "      <td>-169.341675</td>\n",
       "      <td>397.0</td>\n",
       "      <td>...</td>\n",
       "      <td>False</td>\n",
       "      <td>False</td>\n",
       "      <td>nafany</td>\n",
       "      <td>Gambit</td>\n",
       "      <td>7.656120e+16</td>\n",
       "      <td>False</td>\n",
       "      <td>Galil AR</td>\n",
       "      <td>9</td>\n",
       "      <td>winstrike-vs-gambit-m2-mirage</td>\n",
       "      <td>de_mirage</td>\n",
       "    </tr>\n",
       "    <tr>\n",
       "      <th>2266</th>\n",
       "      <td>132042</td>\n",
       "      <td>47.905512</td>\n",
       "      <td>7.656120e+16</td>\n",
       "      <td>-Ax1Le-</td>\n",
       "      <td>Gambit</td>\n",
       "      <td>T</td>\n",
       "      <td>-958.325378</td>\n",
       "      <td>-1469.916992</td>\n",
       "      <td>-167.968750</td>\n",
       "      <td>38.0</td>\n",
       "      <td>...</td>\n",
       "      <td>True</td>\n",
       "      <td>False</td>\n",
       "      <td>n0rb3r7</td>\n",
       "      <td>Winstrike</td>\n",
       "      <td>7.656120e+16</td>\n",
       "      <td>False</td>\n",
       "      <td>Galil AR</td>\n",
       "      <td>9</td>\n",
       "      <td>winstrike-vs-gambit-m2-mirage</td>\n",
       "      <td>de_mirage</td>\n",
       "    </tr>\n",
       "    <tr>\n",
       "      <th>2280</th>\n",
       "      <td>172426</td>\n",
       "      <td>107.779528</td>\n",
       "      <td>7.656120e+16</td>\n",
       "      <td>-Ax1Le-</td>\n",
       "      <td>Gambit</td>\n",
       "      <td>T</td>\n",
       "      <td>-1057.785278</td>\n",
       "      <td>295.986816</td>\n",
       "      <td>-159.968750</td>\n",
       "      <td>228.0</td>\n",
       "      <td>...</td>\n",
       "      <td>False</td>\n",
       "      <td>False</td>\n",
       "      <td>nickelback</td>\n",
       "      <td>Winstrike</td>\n",
       "      <td>7.656120e+16</td>\n",
       "      <td>False</td>\n",
       "      <td>AK-47</td>\n",
       "      <td>11</td>\n",
       "      <td>winstrike-vs-gambit-m2-mirage</td>\n",
       "      <td>de_mirage</td>\n",
       "    </tr>\n",
       "    <tr>\n",
       "      <th>2296</th>\n",
       "      <td>219737</td>\n",
       "      <td>91.133858</td>\n",
       "      <td>7.656120e+16</td>\n",
       "      <td>-Ax1Le-</td>\n",
       "      <td>Gambit</td>\n",
       "      <td>T</td>\n",
       "      <td>282.086365</td>\n",
       "      <td>-1436.000122</td>\n",
       "      <td>-175.968750</td>\n",
       "      <td>60.0</td>\n",
       "      <td>...</td>\n",
       "      <td>False</td>\n",
       "      <td>False</td>\n",
       "      <td>nafany</td>\n",
       "      <td>Gambit</td>\n",
       "      <td>7.656120e+16</td>\n",
       "      <td>False</td>\n",
       "      <td>AK-47</td>\n",
       "      <td>14</td>\n",
       "      <td>winstrike-vs-gambit-m2-mirage</td>\n",
       "      <td>de_mirage</td>\n",
       "    </tr>\n",
       "  </tbody>\n",
       "</table>\n",
       "<p>163 rows × 45 columns</p>\n",
       "</div>"
      ],
      "text/plain": [
       "        Tick      Second  AttackerSteamId AttackerName AttackerTeam  \\\n",
       "23     41529   37.093750     7.656120e+16        Ax1Le       Gambit   \n",
       "26     49878   40.226562     7.656120e+16        Ax1Le       Gambit   \n",
       "30     62987   47.593750     7.656120e+16        Ax1Le       Gambit   \n",
       "31     63299   50.031250     7.656120e+16        Ax1Le       Gambit   \n",
       "43     91651   29.664062     7.656120e+16        Ax1Le       Gambit   \n",
       "...      ...         ...              ...          ...          ...   \n",
       "2239   77093   57.007874     7.656120e+16      -Ax1Le-       Gambit   \n",
       "2265  130840   38.440945     7.656120e+16      -Ax1Le-       Gambit   \n",
       "2266  132042   47.905512     7.656120e+16      -Ax1Le-       Gambit   \n",
       "2280  172426  107.779528     7.656120e+16      -Ax1Le-       Gambit   \n",
       "2296  219737   91.133858     7.656120e+16      -Ax1Le-       Gambit   \n",
       "\n",
       "     AttackerSide    AttackerX    AttackerY   AttackerZ  AttackerAreaId  ...  \\\n",
       "23              T  -701.981689  -778.488708 -261.968750           133.0  ...   \n",
       "26              T   109.615761 -1420.176636 -175.968750            15.0  ...   \n",
       "30              T -2043.782227   497.751678 -166.405701            51.0  ...   \n",
       "31              T -2026.625244   369.252319 -159.968750            50.0  ...   \n",
       "43              T -1628.958984   811.719604  -47.968750            20.0  ...   \n",
       "...           ...          ...          ...         ...             ...  ...   \n",
       "2239            T   370.008881  -785.899414 -162.788467           774.0  ...   \n",
       "2265            T  -751.584045 -1637.730835 -169.341675           397.0  ...   \n",
       "2266            T  -958.325378 -1469.916992 -167.968750            38.0  ...   \n",
       "2280            T -1057.785278   295.986816 -159.968750           228.0  ...   \n",
       "2296            T   282.086365 -1436.000122 -175.968750            60.0  ...   \n",
       "\n",
       "     IsHeadshot  IsTrade  PlayerTradedName  PlayerTradedTeam  \\\n",
       "23        False    False          KSCERATO             FURIA   \n",
       "26         True    False            Hobbit            Gambit   \n",
       "30         True    False              None              None   \n",
       "31         True    False          KSCERATO             FURIA   \n",
       "43         True    False              None              None   \n",
       "...         ...      ...               ...               ...   \n",
       "2239      False    False             elian         Winstrike   \n",
       "2265      False    False            nafany            Gambit   \n",
       "2266       True    False           n0rb3r7         Winstrike   \n",
       "2280      False    False        nickelback         Winstrike   \n",
       "2296      False    False            nafany            Gambit   \n",
       "\n",
       "     PlayerTradedSteamId IsFirstKill    Weapon  RoundNum  \\\n",
       "23          7.656120e+16       False  Galil AR         3   \n",
       "26          7.656120e+16       False     AK-47         4   \n",
       "30                   NaN        True     Tec-9         5   \n",
       "31          7.656120e+16       False     Tec-9         5   \n",
       "43                   NaN        True     AK-47         7   \n",
       "...                  ...         ...       ...       ...   \n",
       "2239        7.656120e+16       False     AK-47         5   \n",
       "2265        7.656120e+16       False  Galil AR         9   \n",
       "2266        7.656120e+16       False  Galil AR         9   \n",
       "2280        7.656120e+16       False     AK-47        11   \n",
       "2296        7.656120e+16       False     AK-47        14   \n",
       "\n",
       "                            MatchId    MapName  \n",
       "23        furia-vs-gambit-m3-mirage  de_mirage  \n",
       "26        furia-vs-gambit-m3-mirage  de_mirage  \n",
       "30        furia-vs-gambit-m3-mirage  de_mirage  \n",
       "31        furia-vs-gambit-m3-mirage  de_mirage  \n",
       "43        furia-vs-gambit-m3-mirage  de_mirage  \n",
       "...                             ...        ...  \n",
       "2239  winstrike-vs-gambit-m2-mirage  de_mirage  \n",
       "2265  winstrike-vs-gambit-m2-mirage  de_mirage  \n",
       "2266  winstrike-vs-gambit-m2-mirage  de_mirage  \n",
       "2280  winstrike-vs-gambit-m2-mirage  de_mirage  \n",
       "2296  winstrike-vs-gambit-m2-mirage  de_mirage  \n",
       "\n",
       "[163 rows x 45 columns]"
      ]
     },
     "execution_count": 205,
     "metadata": {},
     "output_type": "execute_result"
    }
   ],
   "source": [
    "ax1leKills[ax1leKills['AttackerName'].isin(ax1le_names)][ax1leKills['AttackerSide'] == 'T']\n"
   ]
  },
  {
   "cell_type": "code",
   "execution_count": 206,
   "id": "ccda334c",
   "metadata": {
    "scrolled": false
   },
   "outputs": [
    {
     "name": "stderr",
     "output_type": "stream",
     "text": [
      "/home/nk095x/.local/lib/python3.6/site-packages/ipykernel_launcher.py:1: UserWarning: Boolean Series key will be reindexed to match DataFrame index.\n",
      "  \"\"\"Entry point for launching an IPython kernel.\n"
     ]
    },
    {
     "data": {
      "text/html": [
       "<div>\n",
       "<style scoped>\n",
       "    .dataframe tbody tr th:only-of-type {\n",
       "        vertical-align: middle;\n",
       "    }\n",
       "\n",
       "    .dataframe tbody tr th {\n",
       "        vertical-align: top;\n",
       "    }\n",
       "\n",
       "    .dataframe thead th {\n",
       "        text-align: right;\n",
       "    }\n",
       "</style>\n",
       "<table border=\"1\" class=\"dataframe\">\n",
       "  <thead>\n",
       "    <tr style=\"text-align: right;\">\n",
       "      <th></th>\n",
       "      <th>Tick</th>\n",
       "      <th>Second</th>\n",
       "      <th>AttackerSteamId</th>\n",
       "      <th>AttackerName</th>\n",
       "      <th>AttackerTeam</th>\n",
       "      <th>AttackerSide</th>\n",
       "      <th>AttackerX</th>\n",
       "      <th>AttackerY</th>\n",
       "      <th>AttackerZ</th>\n",
       "      <th>AttackerAreaId</th>\n",
       "      <th>...</th>\n",
       "      <th>IsHeadshot</th>\n",
       "      <th>IsTrade</th>\n",
       "      <th>PlayerTradedName</th>\n",
       "      <th>PlayerTradedTeam</th>\n",
       "      <th>PlayerTradedSteamId</th>\n",
       "      <th>IsFirstKill</th>\n",
       "      <th>Weapon</th>\n",
       "      <th>RoundNum</th>\n",
       "      <th>MatchId</th>\n",
       "      <th>MapName</th>\n",
       "    </tr>\n",
       "  </thead>\n",
       "  <tbody>\n",
       "    <tr>\n",
       "      <th>134</th>\n",
       "      <td>324453</td>\n",
       "      <td>38.703125</td>\n",
       "      <td>7.656120e+16</td>\n",
       "      <td>junior</td>\n",
       "      <td>FURIA</td>\n",
       "      <td>T</td>\n",
       "      <td>-1922.015137</td>\n",
       "      <td>758.596741</td>\n",
       "      <td>-47.968750</td>\n",
       "      <td>359.0</td>\n",
       "      <td>...</td>\n",
       "      <td>False</td>\n",
       "      <td>False</td>\n",
       "      <td>KSCERATO</td>\n",
       "      <td>FURIA</td>\n",
       "      <td>7.656120e+16</td>\n",
       "      <td>False</td>\n",
       "      <td>AWP</td>\n",
       "      <td>22</td>\n",
       "      <td>furia-vs-gambit-m3-mirage</td>\n",
       "      <td>de_mirage</td>\n",
       "    </tr>\n",
       "    <tr>\n",
       "      <th>146</th>\n",
       "      <td>347970</td>\n",
       "      <td>101.000000</td>\n",
       "      <td>7.656120e+16</td>\n",
       "      <td>yuurih</td>\n",
       "      <td>FURIA</td>\n",
       "      <td>T</td>\n",
       "      <td>-1234.552368</td>\n",
       "      <td>-1241.450195</td>\n",
       "      <td>-167.968750</td>\n",
       "      <td>1090.0</td>\n",
       "      <td>...</td>\n",
       "      <td>False</td>\n",
       "      <td>False</td>\n",
       "      <td>sh1r0</td>\n",
       "      <td>Gambit</td>\n",
       "      <td>7.656120e+16</td>\n",
       "      <td>False</td>\n",
       "      <td>AK-47</td>\n",
       "      <td>23</td>\n",
       "      <td>furia-vs-gambit-m3-mirage</td>\n",
       "      <td>de_mirage</td>\n",
       "    </tr>\n",
       "    <tr>\n",
       "      <th>151</th>\n",
       "      <td>357647</td>\n",
       "      <td>50.585938</td>\n",
       "      <td>7.656120e+16</td>\n",
       "      <td>KSCERATO</td>\n",
       "      <td>FURIA</td>\n",
       "      <td>T</td>\n",
       "      <td>-1851.837280</td>\n",
       "      <td>688.108093</td>\n",
       "      <td>-47.968750</td>\n",
       "      <td>160.0</td>\n",
       "      <td>...</td>\n",
       "      <td>False</td>\n",
       "      <td>False</td>\n",
       "      <td>VINI</td>\n",
       "      <td>FURIA</td>\n",
       "      <td>7.656120e+16</td>\n",
       "      <td>False</td>\n",
       "      <td>AK-47</td>\n",
       "      <td>24</td>\n",
       "      <td>furia-vs-gambit-m3-mirage</td>\n",
       "      <td>de_mirage</td>\n",
       "    </tr>\n",
       "    <tr>\n",
       "      <th>154</th>\n",
       "      <td>366175</td>\n",
       "      <td>30.828125</td>\n",
       "      <td>7.656120e+16</td>\n",
       "      <td>yuurih</td>\n",
       "      <td>FURIA</td>\n",
       "      <td>T</td>\n",
       "      <td>-1037.843872</td>\n",
       "      <td>-671.085754</td>\n",
       "      <td>-263.968750</td>\n",
       "      <td>1325.0</td>\n",
       "      <td>...</td>\n",
       "      <td>True</td>\n",
       "      <td>False</td>\n",
       "      <td>None</td>\n",
       "      <td>None</td>\n",
       "      <td>NaN</td>\n",
       "      <td>True</td>\n",
       "      <td>AK-47</td>\n",
       "      <td>25</td>\n",
       "      <td>furia-vs-gambit-m3-mirage</td>\n",
       "      <td>de_mirage</td>\n",
       "    </tr>\n",
       "    <tr>\n",
       "      <th>269</th>\n",
       "      <td>260160</td>\n",
       "      <td>56.779528</td>\n",
       "      <td>7.656120e+16</td>\n",
       "      <td>poizon</td>\n",
       "      <td>Complexity</td>\n",
       "      <td>T</td>\n",
       "      <td>357.678802</td>\n",
       "      <td>289.942780</td>\n",
       "      <td>-260.031647</td>\n",
       "      <td>82.0</td>\n",
       "      <td>...</td>\n",
       "      <td>True</td>\n",
       "      <td>False</td>\n",
       "      <td>RUSH</td>\n",
       "      <td>Complexity</td>\n",
       "      <td>7.656120e+16</td>\n",
       "      <td>False</td>\n",
       "      <td>Desert Eagle</td>\n",
       "      <td>17</td>\n",
       "      <td>gambit-vs-complexity-m2-mirage</td>\n",
       "      <td>de_mirage</td>\n",
       "    </tr>\n",
       "    <tr>\n",
       "      <th>...</th>\n",
       "      <td>...</td>\n",
       "      <td>...</td>\n",
       "      <td>...</td>\n",
       "      <td>...</td>\n",
       "      <td>...</td>\n",
       "      <td>...</td>\n",
       "      <td>...</td>\n",
       "      <td>...</td>\n",
       "      <td>...</td>\n",
       "      <td>...</td>\n",
       "      <td>...</td>\n",
       "      <td>...</td>\n",
       "      <td>...</td>\n",
       "      <td>...</td>\n",
       "      <td>...</td>\n",
       "      <td>...</td>\n",
       "      <td>...</td>\n",
       "      <td>...</td>\n",
       "      <td>...</td>\n",
       "      <td>...</td>\n",
       "      <td>...</td>\n",
       "    </tr>\n",
       "    <tr>\n",
       "      <th>2186</th>\n",
       "      <td>253138</td>\n",
       "      <td>73.251969</td>\n",
       "      <td>7.656120e+16</td>\n",
       "      <td>malbsMd</td>\n",
       "      <td>Team One</td>\n",
       "      <td>T</td>\n",
       "      <td>-107.439087</td>\n",
       "      <td>-1926.666016</td>\n",
       "      <td>-167.968750</td>\n",
       "      <td>460.0</td>\n",
       "      <td>...</td>\n",
       "      <td>False</td>\n",
       "      <td>False</td>\n",
       "      <td>sh1r0</td>\n",
       "      <td>Gambit</td>\n",
       "      <td>7.656120e+16</td>\n",
       "      <td>False</td>\n",
       "      <td>M4A1</td>\n",
       "      <td>17</td>\n",
       "      <td>teamone-vs-gambit-m2-mirage</td>\n",
       "      <td>de_mirage</td>\n",
       "    </tr>\n",
       "    <tr>\n",
       "      <th>2196</th>\n",
       "      <td>275488</td>\n",
       "      <td>90.228346</td>\n",
       "      <td>7.656120e+16</td>\n",
       "      <td>Maluk3</td>\n",
       "      <td>Team One</td>\n",
       "      <td>T</td>\n",
       "      <td>-642.452881</td>\n",
       "      <td>-898.969788</td>\n",
       "      <td>-234.480164</td>\n",
       "      <td>134.0</td>\n",
       "      <td>...</td>\n",
       "      <td>False</td>\n",
       "      <td>False</td>\n",
       "      <td>malbsMd</td>\n",
       "      <td>Team One</td>\n",
       "      <td>7.656120e+16</td>\n",
       "      <td>False</td>\n",
       "      <td>AWP</td>\n",
       "      <td>19</td>\n",
       "      <td>teamone-vs-gambit-m2-mirage</td>\n",
       "      <td>de_mirage</td>\n",
       "    </tr>\n",
       "    <tr>\n",
       "      <th>2309</th>\n",
       "      <td>249751</td>\n",
       "      <td>28.125984</td>\n",
       "      <td>7.656120e+16</td>\n",
       "      <td>nickelback</td>\n",
       "      <td>Winstrike</td>\n",
       "      <td>T</td>\n",
       "      <td>-1009.848511</td>\n",
       "      <td>-342.732971</td>\n",
       "      <td>-364.598541</td>\n",
       "      <td>2441.0</td>\n",
       "      <td>...</td>\n",
       "      <td>False</td>\n",
       "      <td>False</td>\n",
       "      <td>n0rb3r7</td>\n",
       "      <td>Winstrike</td>\n",
       "      <td>7.656120e+16</td>\n",
       "      <td>False</td>\n",
       "      <td>Glock-18</td>\n",
       "      <td>16</td>\n",
       "      <td>winstrike-vs-gambit-m2-mirage</td>\n",
       "      <td>de_mirage</td>\n",
       "    </tr>\n",
       "    <tr>\n",
       "      <th>2323</th>\n",
       "      <td>281300</td>\n",
       "      <td>71.763780</td>\n",
       "      <td>7.656120e+16</td>\n",
       "      <td>nealan</td>\n",
       "      <td>Winstrike</td>\n",
       "      <td>T</td>\n",
       "      <td>-1597.663086</td>\n",
       "      <td>769.796326</td>\n",
       "      <td>-47.968750</td>\n",
       "      <td>116.0</td>\n",
       "      <td>...</td>\n",
       "      <td>False</td>\n",
       "      <td>False</td>\n",
       "      <td>interz</td>\n",
       "      <td>Gambit</td>\n",
       "      <td>7.656120e+16</td>\n",
       "      <td>False</td>\n",
       "      <td>Galil AR</td>\n",
       "      <td>18</td>\n",
       "      <td>winstrike-vs-gambit-m2-mirage</td>\n",
       "      <td>de_mirage</td>\n",
       "    </tr>\n",
       "    <tr>\n",
       "      <th>2331</th>\n",
       "      <td>304294</td>\n",
       "      <td>31.763780</td>\n",
       "      <td>7.656120e+16</td>\n",
       "      <td>nickelback</td>\n",
       "      <td>Winstrike</td>\n",
       "      <td>T</td>\n",
       "      <td>221.957382</td>\n",
       "      <td>-306.377075</td>\n",
       "      <td>-167.747452</td>\n",
       "      <td>110.0</td>\n",
       "      <td>...</td>\n",
       "      <td>True</td>\n",
       "      <td>False</td>\n",
       "      <td>n0rb3r7</td>\n",
       "      <td>Winstrike</td>\n",
       "      <td>7.656120e+16</td>\n",
       "      <td>False</td>\n",
       "      <td>AK-47</td>\n",
       "      <td>20</td>\n",
       "      <td>winstrike-vs-gambit-m2-mirage</td>\n",
       "      <td>de_mirage</td>\n",
       "    </tr>\n",
       "  </tbody>\n",
       "</table>\n",
       "<p>72 rows × 45 columns</p>\n",
       "</div>"
      ],
      "text/plain": [
       "        Tick      Second  AttackerSteamId AttackerName AttackerTeam  \\\n",
       "134   324453   38.703125     7.656120e+16       junior        FURIA   \n",
       "146   347970  101.000000     7.656120e+16       yuurih        FURIA   \n",
       "151   357647   50.585938     7.656120e+16     KSCERATO        FURIA   \n",
       "154   366175   30.828125     7.656120e+16       yuurih        FURIA   \n",
       "269   260160   56.779528     7.656120e+16       poizon   Complexity   \n",
       "...      ...         ...              ...          ...          ...   \n",
       "2186  253138   73.251969     7.656120e+16      malbsMd     Team One   \n",
       "2196  275488   90.228346     7.656120e+16       Maluk3     Team One   \n",
       "2309  249751   28.125984     7.656120e+16   nickelback    Winstrike   \n",
       "2323  281300   71.763780     7.656120e+16       nealan    Winstrike   \n",
       "2331  304294   31.763780     7.656120e+16   nickelback    Winstrike   \n",
       "\n",
       "     AttackerSide    AttackerX    AttackerY   AttackerZ  AttackerAreaId  ...  \\\n",
       "134             T -1922.015137   758.596741  -47.968750           359.0  ...   \n",
       "146             T -1234.552368 -1241.450195 -167.968750          1090.0  ...   \n",
       "151             T -1851.837280   688.108093  -47.968750           160.0  ...   \n",
       "154             T -1037.843872  -671.085754 -263.968750          1325.0  ...   \n",
       "269             T   357.678802   289.942780 -260.031647            82.0  ...   \n",
       "...           ...          ...          ...         ...             ...  ...   \n",
       "2186            T  -107.439087 -1926.666016 -167.968750           460.0  ...   \n",
       "2196            T  -642.452881  -898.969788 -234.480164           134.0  ...   \n",
       "2309            T -1009.848511  -342.732971 -364.598541          2441.0  ...   \n",
       "2323            T -1597.663086   769.796326  -47.968750           116.0  ...   \n",
       "2331            T   221.957382  -306.377075 -167.747452           110.0  ...   \n",
       "\n",
       "     IsHeadshot  IsTrade  PlayerTradedName  PlayerTradedTeam  \\\n",
       "134       False    False          KSCERATO             FURIA   \n",
       "146       False    False             sh1r0            Gambit   \n",
       "151       False    False              VINI             FURIA   \n",
       "154        True    False              None              None   \n",
       "269        True    False              RUSH        Complexity   \n",
       "...         ...      ...               ...               ...   \n",
       "2186      False    False             sh1r0            Gambit   \n",
       "2196      False    False           malbsMd          Team One   \n",
       "2309      False    False           n0rb3r7         Winstrike   \n",
       "2323      False    False            interz            Gambit   \n",
       "2331       True    False           n0rb3r7         Winstrike   \n",
       "\n",
       "     PlayerTradedSteamId IsFirstKill        Weapon  RoundNum  \\\n",
       "134         7.656120e+16       False           AWP        22   \n",
       "146         7.656120e+16       False         AK-47        23   \n",
       "151         7.656120e+16       False         AK-47        24   \n",
       "154                  NaN        True         AK-47        25   \n",
       "269         7.656120e+16       False  Desert Eagle        17   \n",
       "...                  ...         ...           ...       ...   \n",
       "2186        7.656120e+16       False          M4A1        17   \n",
       "2196        7.656120e+16       False           AWP        19   \n",
       "2309        7.656120e+16       False      Glock-18        16   \n",
       "2323        7.656120e+16       False      Galil AR        18   \n",
       "2331        7.656120e+16       False         AK-47        20   \n",
       "\n",
       "                             MatchId    MapName  \n",
       "134        furia-vs-gambit-m3-mirage  de_mirage  \n",
       "146        furia-vs-gambit-m3-mirage  de_mirage  \n",
       "151        furia-vs-gambit-m3-mirage  de_mirage  \n",
       "154        furia-vs-gambit-m3-mirage  de_mirage  \n",
       "269   gambit-vs-complexity-m2-mirage  de_mirage  \n",
       "...                              ...        ...  \n",
       "2186     teamone-vs-gambit-m2-mirage  de_mirage  \n",
       "2196     teamone-vs-gambit-m2-mirage  de_mirage  \n",
       "2309   winstrike-vs-gambit-m2-mirage  de_mirage  \n",
       "2323   winstrike-vs-gambit-m2-mirage  de_mirage  \n",
       "2331   winstrike-vs-gambit-m2-mirage  de_mirage  \n",
       "\n",
       "[72 rows x 45 columns]"
      ]
     },
     "execution_count": 206,
     "metadata": {},
     "output_type": "execute_result"
    }
   ],
   "source": [
    "ax1leKills[ax1leKills['VictimName'].isin(ax1le_names)][ax1leKills['AttackerSide'] == 'T']"
   ]
  },
  {
   "cell_type": "code",
   "execution_count": 207,
   "id": "317ae084",
   "metadata": {},
   "outputs": [
    {
     "name": "stderr",
     "output_type": "stream",
     "text": [
      "/home/nk095x/.local/lib/python3.6/site-packages/ipykernel_launcher.py:1: UserWarning: Boolean Series key will be reindexed to match DataFrame index.\n",
      "  \"\"\"Entry point for launching an IPython kernel.\n",
      "/home/nk095x/.local/lib/python3.6/site-packages/ipykernel_launcher.py:1: UserWarning: Boolean Series key will be reindexed to match DataFrame index.\n",
      "  \"\"\"Entry point for launching an IPython kernel.\n"
     ]
    },
    {
     "data": {
      "text/plain": [
       "18"
      ]
     },
     "execution_count": 207,
     "metadata": {},
     "output_type": "execute_result"
    }
   ],
   "source": [
    "len(ax1leKills[ax1leKills['AttackerName'].isin(ax1le_names)][ax1leKills['AttackerSide'] == 'T'][ax1leKills['IsFirstKill'] == True])"
   ]
  },
  {
   "cell_type": "code",
   "execution_count": 208,
   "id": "971caf59",
   "metadata": {},
   "outputs": [
    {
     "name": "stderr",
     "output_type": "stream",
     "text": [
      "/home/nk095x/.local/lib/python3.6/site-packages/ipykernel_launcher.py:1: UserWarning: Boolean Series key will be reindexed to match DataFrame index.\n",
      "  \"\"\"Entry point for launching an IPython kernel.\n"
     ]
    },
    {
     "data": {
      "text/plain": [
       "163"
      ]
     },
     "execution_count": 208,
     "metadata": {},
     "output_type": "execute_result"
    }
   ],
   "source": [
    "len(ax1leKills[ax1leKills['AttackerName'].isin(ax1le_names)][ax1leKills['AttackerSide'] == 'T'])"
   ]
  },
  {
   "cell_type": "code",
   "execution_count": 209,
   "id": "broadband-chocolate",
   "metadata": {
    "scrolled": true
   },
   "outputs": [
    {
     "name": "stderr",
     "output_type": "stream",
     "text": [
      "/home/nk095x/.local/lib/python3.6/site-packages/ipykernel_launcher.py:2: UserWarning: Boolean Series key will be reindexed to match DataFrame index.\n",
      "  \n",
      "/home/nk095x/.local/lib/python3.6/site-packages/ipykernel_launcher.py:2: UserWarning: Boolean Series key will be reindexed to match DataFrame index.\n",
      "  \n"
     ]
    },
    {
     "data": {
      "text/plain": [
       "Deep Catwalk                65.0%\n",
       "Catwalk T Aparments Peek    10.0%\n",
       "Ladder Room Catwalk Side     5.0%\n",
       "Mid Close Connector          5.0%\n",
       "CT Catwalk                   5.0%\n",
       "Arch                         5.0%\n",
       "CT Deep Catwalk Mid peek     5.0%\n",
       "Name: AttackerAreaName, dtype: object"
      ]
     },
     "execution_count": 209,
     "metadata": {},
     "output_type": "execute_result"
    }
   ],
   "source": [
    "#Location ax1le was at when he got an opening kill as a CT\n",
    "ax1leKills[ax1leKills['AttackerName'].isin(ax1le_names)][ax1leKills['AttackerSide'] == 'CT'][ax1leKills['IsFirstKill'] == True].AttackerAreaName.value_counts(normalize=True).mul(100).round(1).astype(str) + '%'\n"
   ]
  },
  {
   "cell_type": "code",
   "execution_count": 210,
   "id": "35eaa048",
   "metadata": {
    "scrolled": true
   },
   "outputs": [
    {
     "name": "stderr",
     "output_type": "stream",
     "text": [
      "/home/nk095x/.local/lib/python3.6/site-packages/ipykernel_launcher.py:2: UserWarning: Boolean Series key will be reindexed to match DataFrame index.\n",
      "  \n"
     ]
    },
    {
     "data": {
      "text/plain": [
       "CT Side Apps                              9.2%\n",
       "B Bombsite Cross to Catwalk               6.7%\n",
       "Left Side Platform                        4.9%\n",
       "Deep T Apps Underpass STairs              4.3%\n",
       "Deep Jungle                               4.3%\n",
       "Deep T Apps                               3.7%\n",
       "Ticketbooth                               3.7%\n",
       "Back B Site Peeking Apps/Plat             3.1%\n",
       "Underpass                                 2.5%\n",
       "Default A                                 2.5%\n",
       "A Site Exposed to Stairs Connector Cat    2.5%\n",
       "A Site                                    2.5%\n",
       "Tetris                                    2.5%\n",
       "Top Mid Left Side                         2.5%\n",
       "A Ramp                                    2.5%\n",
       "T Deep Apps Underpass/Apps Peek           2.5%\n",
       "Van Barrel Peek                           2.5%\n",
       "B site Market Plant                       1.8%\n",
       "Triple Box                                1.8%\n",
       "Catwalk Plant B Site                      1.8%\n",
       "Top Van                                   1.8%\n",
       "T Palace Stairs Peek                      1.8%\n",
       "CT Catwalk                                1.8%\n",
       "Deep Catwalk                              1.8%\n",
       "Mid Close Connector                       1.8%\n",
       "Close Right Market Window                 1.8%\n",
       "Bench                                     1.2%\n",
       "Forest                                    1.2%\n",
       "Back Left B Site From T's' Perspective    1.2%\n",
       "Close A Ramp                              1.2%\n",
       "CT Outside Market                         1.2%\n",
       "Bench Closer to Tribox                    1.2%\n",
       "Catwalk Connector Peek                    1.2%\n",
       "Jungle Plant                              0.6%\n",
       "B Site Default Plant                      0.6%\n",
       "T Spawn A Ramp                            0.6%\n",
       "Bench Closer To Jungle                    0.6%\n",
       "Close Market door                         0.6%\n",
       "Behind Big Boxes                          0.6%\n",
       "Firebox                                   0.6%\n",
       "Back Right B Site from T's Perspective    0.6%\n",
       "Snipers Palace Peek                       0.6%\n",
       "Middle Bench                              0.6%\n",
       "Sandwhich                                 0.6%\n",
       "Inside Market Doors                       0.6%\n",
       "Underneath B apps plat                    0.6%\n",
       "CT Spawn                                  0.6%\n",
       "Bottom Stairs                             0.6%\n",
       "Right Side Connector                      0.6%\n",
       "Deep CT                                   0.6%\n",
       "Top Mid Boxes Left Side Peek              0.6%\n",
       "Top Mid towards Apps                      0.6%\n",
       "Register Market                           0.6%\n",
       "Top Connector                             0.6%\n",
       "Name: AttackerAreaName, dtype: object"
      ]
     },
     "execution_count": 210,
     "metadata": {},
     "output_type": "execute_result"
    }
   ],
   "source": [
    "#distribution of location ax1le was at when he got a kill as a t\n",
    "ax1leKills[ax1leKills['AttackerName'].isin(ax1le_names)][ax1leKills['AttackerSide'] == 'T'].AttackerAreaName.value_counts(normalize=True).mul(100).round(1).astype(str) + '%'\n"
   ]
  },
  {
   "cell_type": "code",
   "execution_count": 211,
   "id": "75f2cb63",
   "metadata": {
    "scrolled": true
   },
   "outputs": [
    {
     "name": "stderr",
     "output_type": "stream",
     "text": [
      "/home/nk095x/.local/lib/python3.6/site-packages/ipykernel_launcher.py:2: UserWarning: Boolean Series key will be reindexed to match DataFrame index.\n",
      "  \n",
      "/home/nk095x/.local/lib/python3.6/site-packages/ipykernel_launcher.py:2: UserWarning: Boolean Series key will be reindexed to match DataFrame index.\n",
      "  \n"
     ]
    },
    {
     "data": {
      "text/plain": [
       "Deep T Apps Underpass STairs       11.1%\n",
       "B Bombsite Cross to Catwalk        11.1%\n",
       "Underpass                          11.1%\n",
       "Deep T Apps                        11.1%\n",
       "CT Side Apps                       11.1%\n",
       "Top Mid Left Side                  11.1%\n",
       "Top Mid towards Apps                5.6%\n",
       "Tetris                              5.6%\n",
       "Bench Closer to Tribox              5.6%\n",
       "A Site                              5.6%\n",
       "Left Side Platform                  5.6%\n",
       "T Deep Apps Underpass/Apps Peek     5.6%\n",
       "Name: AttackerAreaName, dtype: object"
      ]
     },
     "execution_count": 211,
     "metadata": {},
     "output_type": "execute_result"
    }
   ],
   "source": [
    "#Location ax1le was at when he got an opening kill as a T\n",
    "ax1leKills[ax1leKills['AttackerName'].isin(ax1le_names)][ax1leKills['AttackerSide'] == 'T'][ax1leKills['IsFirstKill'] == True].AttackerAreaName.value_counts(normalize=True).mul(100).round(1).astype(str) + '%'\n"
   ]
  },
  {
   "cell_type": "code",
   "execution_count": 212,
   "id": "opponent-inspector",
   "metadata": {
    "scrolled": true
   },
   "outputs": [
    {
     "name": "stderr",
     "output_type": "stream",
     "text": [
      "/home/nk095x/.local/lib/python3.6/site-packages/ipykernel_launcher.py:4: UserWarning: Boolean Series key will be reindexed to match DataFrame index.\n",
      "  after removing the cwd from sys.path.\n",
      "/home/nk095x/.local/lib/python3.6/site-packages/ipykernel_launcher.py:5: UserWarning: Boolean Series key will be reindexed to match DataFrame index.\n",
      "  \"\"\"\n",
      "/home/nk095x/.local/lib/python3.6/site-packages/ipykernel_launcher.py:8: UserWarning: Boolean Series key will be reindexed to match DataFrame index.\n",
      "  \n",
      "/home/nk095x/.local/lib/python3.6/site-packages/ipykernel_launcher.py:9: UserWarning: Boolean Series key will be reindexed to match DataFrame index.\n",
      "  if __name__ == '__main__':\n"
     ]
    },
    {
     "name": "stdout",
     "output_type": "stream",
     "text": [
      "| Places                                 |   Kills |   Deaths |   KD Diff | Damage Dealt   | Damage Taken   | Damage Differential   |\n",
      "|----------------------------------------|---------|----------|-----------|----------------|----------------|-----------------------|\n",
      "| Arch                                   |       3 |        2 |         1 | 469            | 200            | 269                   |\n",
      "| Snipers Nest                           |       0 |        0 |         0 | 50             | 0              | 50                    |\n",
      "| Mid Close Connector                    |       3 |        1 |         2 | 420            | 192            | 228                   |\n",
      "| Close A Ramp                           |       0 |        0 |         0 | 17             | 13             | 4                     |\n",
      "| Ticketbooth                            |       2 |        5 |        -3 | 272            | 463            | -191                  |\n",
      "| Left Side Platform                     |       0 |        1 |        -1 | 0              | 6              | -6                    |\n",
      "| B Site Default Plant                   |       1 |        0 |         1 | 41             | 66             | -25                   |\n",
      "| Inside Market Doors                    |       0 |        1 |        -1 | 76             | 100            | -24                   |\n",
      "| CT Side Apps                           |       3 |        0 |         3 | 246            | 166            | 80                    |\n",
      "| B Bombsite Cross to Catwalk            |       0 |        0 |         0 | 0              | 0              | 0                     |\n",
      "| B site Market Plant                    |       0 |        0 |         0 | 0              | 0              | 0                     |\n",
      "| Deep Jungle                            |       4 |        1 |         3 | 340            | 124            | 216                   |\n",
      "| Bottom Stairs                          |       2 |        3 |        -1 | 266            | 375            | -109                  |\n",
      "| Default A                              |       0 |        0 |         0 | 27             | 14             | 13                    |\n",
      "| Van Barrel Peek                        |       0 |        0 |         0 | 0              | 0              | 0                     |\n",
      "| Underneath B apps plat                 |       3 |        1 |         2 | 241            | 100            | 141                   |\n",
      "| A Site Exposed to Stairs Connector Cat |       2 |        0 |         2 | 149            | 59             | 90                    |\n",
      "| Right Side Snipers Nest                |       4 |        2 |         2 | 397            | 200            | 197                   |\n",
      "| Catwalk T Aparments Peek               |      12 |        6 |         6 | 1415           | 642            | 773                   |\n",
      "| Deep Catwalk                           |      43 |       18 |        25 | 4359           | 2154           | 2205                  |\n",
      "| Close Market door                      |       1 |        3 |        -2 | 76             | 288            | -212                  |\n",
      "| Snipers Palace Peek                    |       2 |        2 |         0 | 156            | 200            | -44                   |\n",
      "| Bottom Mid Boosting Snipers            |       1 |        0 |         1 | 6              | 0              | 6                     |\n",
      "| Deep CT                                |       2 |        1 |         1 | 163            | 100            | 63                    |\n",
      "| Semi Elevated CT Van                   |       0 |        0 |         0 | N/A            | N/A            | N/A                   |\n",
      "| Register Market                        |       0 |        0 |         0 | 0              | 0              | 0                     |\n",
      "| CT Deep Catwalk Mid peek               |       6 |        2 |         4 | 859            | 272            | 587                   |\n",
      "| Deep T Apps Underpass STairs           |       0 |        0 |         0 | 15             | 9              | 6                     |\n",
      "| Leftside Connector                     |       1 |        0 |         1 | 15             | 0              | 15                    |\n",
      "| Deep T Apps                            |       1 |        0 |         1 | 100            | 72             | 28                    |\n",
      "| T Deep Apps Underpass/Apps Peek        |       1 |        1 |         0 | 156            | 100            | 56                    |\n",
      "| Back B Site Peeking Apps/Plat          |       0 |        0 |         0 | 0              | 0              | 0                     |\n",
      "| CT Catwalk                             |      13 |        1 |        12 | 1442           | 536            | 906                   |\n",
      "| Top Mid towards Apps                   |       0 |        0 |         0 | 0              | 0              | 0                     |\n",
      "| Top Mid                                |       1 |        1 |         0 | 71             | 100            | -29                   |\n",
      "| Jungle Plant                           |       0 |        0 |         0 | 0              | 0              | 0                     |\n",
      "| T Palace Stairs Peek                   |       0 |        0 |         0 | 0              | 0              | 0                     |\n",
      "| Tetris                                 |       0 |        1 |        -1 | 0              | 100            | -100                  |\n",
      "| A Ramp                                 |       0 |        0 |         0 | 0              | 8              | -8                    |\n",
      "| Underpass                              |       2 |        0 |         2 | 200            | 54             | 146                   |\n",
      "| Bench Closer to Tribox                 |       0 |        0 |         0 | 24             | 0              | 24                    |\n",
      "| Ninja                                  |       0 |        0 |         0 | N/A            | N/A            | N/A                   |\n",
      "| Bench                                  |       2 |        1 |         1 | 206            | 100            | 106                   |\n",
      "| Close Right Market Window              |       0 |        0 |         0 | 0              | 0              | 0                     |\n",
      "| Top Mid Boxes Left Side Peek           |       0 |        0 |         0 | 0              | 0              | 0                     |\n",
      "| Catwalk Plant B Site                   |       0 |        0 |         0 | 0              | 0              | 0                     |\n",
      "| Bottom Connector                       |       1 |        1 |         0 | 139            | 111            | 28                    |\n",
      "| Back Left B Site From T's' Perspective |       2 |        1 |         1 | 201            | 100            | 101                   |\n",
      "| Top Mid Left Side                      |       1 |        1 |         0 | 100            | 100            | 0                     |\n",
      "| market                                 |       0 |        0 |         0 | N/A            | N/A            | N/A                   |\n",
      "| Top Van                                |       0 |        0 |         0 | 14             | 9              | 5                     |\n",
      "| Middle Bench                           |       0 |        0 |         0 | 0              | 0              | 0                     |\n",
      "| Catwalk Connector Peek                 |       2 |        0 |         2 | 146            | 91             | 55                    |\n",
      "| Triple Box                             |       0 |        1 |        -1 | 0              | 100            | -100                  |\n",
      "| Firebox                                |       2 |        1 |         1 | 145            | 100            | 45                    |\n",
      "| Market Window Peek                     |       0 |        2 |        -2 | 94             | 121            | -27                   |\n",
      "| CT Left Side                           |       1 |        0 |         1 | 50             | 16             | 34                    |\n",
      "| Right Side Platform                    |       0 |        0 |         0 | N/A            | N/A            | N/A                   |\n",
      "| Ladder Room Catwalk Side               |       4 |        1 |         3 | 294            | 80             | 214                   |\n",
      "| Sandwhich                              |       0 |        0 |         0 | 0              | 0              | 0                     |\n",
      "| Top Mid Catwalk                        |       0 |        0 |         0 | N/A            | N/A            | N/A                   |\n",
      "| CT Outside Market                      |       0 |        1 |        -1 | 41             | 100            | -59                   |\n",
      "| CT Spawn                               |       0 |        1 |        -1 | 63             | 100            | -37                   |\n",
      "| Top STairs                             |       1 |        0 |         1 | 52             | 0              | 52                    |\n",
      "| A Site                                 |       0 |        0 |         0 | 0              | 0              | 0                     |\n",
      "| T Spawn A Ramp                         |       0 |        0 |         0 | 0              | 0              | 0                     |\n",
      "| Close Left CT A Ramp                   |       0 |        0 |         0 | 0              | 9              | -9                    |\n",
      "| Top Connector                          |       2 |        1 |         1 | 92             | 100            | -8                    |\n",
      "| Forest                                 |       0 |        0 |         0 | 0              | 0              | 0                     |\n",
      "| Left Side corner deep jungle           |       2 |        0 |         2 | 153            | 27             | 126                   |\n",
      "| Top Balcony                            |       0 |        0 |         0 | 0              | 0              | 0                     |\n",
      "| Back Right B Site from T's Perspective |       1 |        1 |         0 | 74             | 100            | -26                   |\n",
      "| Underpass Peek from Snipers            |       1 |        0 |         1 | N/A            | N/A            | N/A                   |\n",
      "| Elevated Snipers Awp Peek              |       0 |        0 |         0 | N/A            | N/A            | N/A                   |\n",
      "| Right Side Connector                   |       0 |        0 |         0 | 26             | 0              | 26                    |\n",
      "| Murder Hole                            |       0 |        1 |        -1 | N/A            | N/A            | N/A                   |\n",
      "| Top Mid Boxes Right Side Peek          |       0 |        0 |         0 | N/A            | N/A            | N/A                   |\n",
      "| Bench Closer To Jungle                 |       0 |        0 |         0 | 0              | 0              | 0                     |\n",
      "| Stairs Palace Peek                     |       1 |        0 |         1 | 139            | 0              | 139                   |\n",
      "| Bottom Mid Ladder Room Peek            |       0 |        1 |        -1 | 0              | 1              | -1                    |\n",
      "| Behind Big Boxes                       |       0 |        1 |        -1 | 0              | 100            | -100                  |\n",
      "|                                        |       0 |        0 |         0 | N/A            | N/A            | N/A                   |\n",
      "| T Spawn towards Apps                   |       0 |        1 |        -1 | 96             | 100            | -4                    |\n",
      "| Deep Palace                            |       0 |        0 |         0 | 0              | 0              | 0                     |\n",
      "| Balcony Boaxes                         |       0 |        0 |         0 | N/A            | N/A            | N/A                   |\n",
      "| Close Market Window                    |       1 |        0 |         1 | 62             | 44             | 18                    |\n"
     ]
    }
   ],
   "source": [
    "#kd + damage differentials as ct\n",
    "print(prettyPrintPlayerDamageTable(ax1leDamages, ax1leKills, ax1le_names, 'CT'))"
   ]
  },
  {
   "cell_type": "code",
   "execution_count": 213,
   "id": "developing-animation",
   "metadata": {
    "scrolled": true
   },
   "outputs": [
    {
     "name": "stderr",
     "output_type": "stream",
     "text": [
      "/home/nk095x/.local/lib/python3.6/site-packages/ipykernel_launcher.py:4: UserWarning: Boolean Series key will be reindexed to match DataFrame index.\n",
      "  after removing the cwd from sys.path.\n",
      "/home/nk095x/.local/lib/python3.6/site-packages/ipykernel_launcher.py:5: UserWarning: Boolean Series key will be reindexed to match DataFrame index.\n",
      "  \"\"\"\n",
      "/home/nk095x/.local/lib/python3.6/site-packages/ipykernel_launcher.py:8: UserWarning: Boolean Series key will be reindexed to match DataFrame index.\n",
      "  \n",
      "/home/nk095x/.local/lib/python3.6/site-packages/ipykernel_launcher.py:9: UserWarning: Boolean Series key will be reindexed to match DataFrame index.\n",
      "  if __name__ == '__main__':\n"
     ]
    },
    {
     "name": "stdout",
     "output_type": "stream",
     "text": [
      "| Places                                 |   Kills |   Deaths |   KD Diff | Damage Dealt   | Damage Taken   | Damage Differential   |\n",
      "|----------------------------------------|---------|----------|-----------|----------------|----------------|-----------------------|\n",
      "| Arch                                   |       0 |        2 |        -2 | 98             | 145            | -47                   |\n",
      "| Snipers Nest                           |       0 |        0 |         0 | 12             | 0              | 12                    |\n",
      "| Mid Close Connector                    |       3 |        6 |        -3 | 315            | 630            | -315                  |\n",
      "| Close A Ramp                           |       2 |        3 |        -1 | 316            | 307            | 9                     |\n",
      "| Ticketbooth                            |       6 |        3 |         3 | 475            | 389            | 86                    |\n",
      "| Left Side Platform                     |       8 |        7 |         1 | 923            | 920            | 3                     |\n",
      "| B Site Default Plant                   |       1 |        2 |        -1 | 32             | 133            | -101                  |\n",
      "| Inside Market Doors                    |       1 |        1 |         0 | 171            | 50             | 121                   |\n",
      "| CT Side Apps                           |      15 |       12 |         3 | 1618           | 1474           | 144                   |\n",
      "| B Bombsite Cross to Catwalk            |      11 |        6 |         5 | 1075           | 870            | 205                   |\n",
      "| B site Market Plant                    |       3 |        0 |         3 | 153            | 0              | 153                   |\n",
      "| Deep Jungle                            |       7 |        5 |         2 | 715            | 634            | 81                    |\n",
      "| Bottom Stairs                          |       1 |       10 |        -9 | 301            | 976            | -675                  |\n",
      "| Default A                              |       4 |        3 |         1 | 321            | 350            | -29                   |\n",
      "| Van Barrel Peek                        |       4 |        0 |         4 | 310            | 50             | 260                   |\n",
      "| Underneath B apps plat                 |       1 |        3 |        -2 | 222            | 354            | -132                  |\n",
      "| A Site Exposed to Stairs Connector Cat |       4 |        4 |         0 | 447            | 256            | 191                   |\n",
      "| Right Side Snipers Nest                |       0 |        0 |         0 | 0              | 0              | 0                     |\n",
      "| Catwalk T Aparments Peek               |       0 |        0 |         0 | 0              | 20             | -20                   |\n",
      "| Deep Catwalk                           |       3 |        1 |         2 | 202            | 116            | 86                    |\n",
      "| Close Market door                      |       1 |        0 |         1 | 27             | 19             | 8                     |\n",
      "| Snipers Palace Peek                    |       1 |        0 |         1 | 150            | 0              | 150                   |\n",
      "| Bottom Mid Boosting Snipers            |       0 |        0 |         0 | 0              | 0              | 0                     |\n",
      "| Deep CT                                |       1 |        1 |         0 | 133            | 166            | -33                   |\n",
      "| Semi Elevated CT Van                   |       0 |        0 |         0 | N/A            | N/A            | N/A                   |\n",
      "| Register Market                        |       1 |        0 |         1 | 42             | 0              | 42                    |\n",
      "| CT Deep Catwalk Mid peek               |       0 |        0 |         0 | 0              | 0              | 0                     |\n",
      "| Deep T Apps Underpass STairs           |       7 |        2 |         5 | 665            | 238            | 427                   |\n",
      "| Leftside Connector                     |       0 |        1 |        -1 | 0              | 100            | -100                  |\n",
      "| Deep T Apps                            |       6 |       12 |        -6 | 931            | 1559           | -628                  |\n",
      "| T Deep Apps Underpass/Apps Peek        |       4 |        6 |        -2 | 619            | 798            | -179                  |\n",
      "| Back B Site Peeking Apps/Plat          |       5 |        1 |         4 | 466            | 170            | 296                   |\n",
      "| CT Catwalk                             |       3 |        1 |         2 | 282            | 192            | 90                    |\n",
      "| Top Mid towards Apps                   |       1 |        2 |        -1 | 214            | 285            | -71                   |\n",
      "| Top Mid                                |       0 |        1 |        -1 | 32             | 100            | -68                   |\n",
      "| Jungle Plant                           |       1 |        1 |         0 | 108            | 78             | 30                    |\n",
      "| T Palace Stairs Peek                   |       3 |        1 |         2 | 182            | 234            | -52                   |\n",
      "| Tetris                                 |       4 |        1 |         3 | 332            | 209            | 123                   |\n",
      "| A Ramp                                 |       4 |        6 |        -2 | 476            | 684            | -208                  |\n",
      "| Underpass                              |       4 |        6 |        -2 | 483            | 752            | -269                  |\n",
      "| Bench Closer to Tribox                 |       2 |        0 |         2 | 208            | 90             | 118                   |\n",
      "| Ninja                                  |       0 |        0 |         0 | N/A            | N/A            | N/A                   |\n",
      "| Bench                                  |       2 |        0 |         2 | 121            | 0              | 121                   |\n",
      "| Close Right Market Window              |       3 |        1 |         2 | 240            | 7              | 233                   |\n",
      "| Top Mid Boxes Left Side Peek           |       1 |        0 |         1 | 32             | 0              | 32                    |\n",
      "| Catwalk Plant B Site                   |       3 |        2 |         1 | 295            | 96             | 199                   |\n",
      "| Bottom Connector                       |       0 |        0 |         0 | 0              | 0              | 0                     |\n",
      "| Back Left B Site From T's' Perspective |       2 |        2 |         0 | 223            | 107            | 116                   |\n",
      "| Top Mid Left Side                      |       4 |        3 |         1 | 405            | 333            | 72                    |\n",
      "| market                                 |       0 |        0 |         0 | N/A            | N/A            | N/A                   |\n",
      "| Top Van                                |       3 |        3 |         0 | 259            | 216            | 43                    |\n",
      "| Middle Bench                           |       1 |        0 |         1 | 100            | 8              | 92                    |\n",
      "| Catwalk Connector Peek                 |       2 |        5 |        -3 | 200            | 417            | -217                  |\n",
      "| Triple Box                             |       3 |        0 |         3 | 239            | 0              | 239                   |\n",
      "| Firebox                                |       1 |        2 |        -1 | 146            | 151            | -5                    |\n",
      "| Market Window Peek                     |       0 |        2 |        -2 | 50             | 176            | -126                  |\n",
      "| CT Left Side                           |       0 |        0 |         0 | 0              | 0              | 0                     |\n",
      "| Right Side Platform                    |       0 |        2 |        -2 | N/A            | N/A            | N/A                   |\n",
      "| Ladder Room Catwalk Side               |       0 |        1 |        -1 | 0              | 116            | -116                  |\n",
      "| Sandwhich                              |       1 |        2 |        -1 | 74             | 110            | -36                   |\n",
      "| Top Mid Catwalk                        |       0 |        1 |        -1 | N/A            | N/A            | N/A                   |\n",
      "| CT Outside Market                      |       2 |        0 |         2 | 164            | 0              | 164                   |\n",
      "| CT Spawn                               |       1 |        0 |         1 | 60             | 0              | 60                    |\n",
      "| Top STairs                             |       0 |        2 |        -2 | 26             | 216            | -190                  |\n",
      "| A Site                                 |       4 |        4 |         0 | 429            | 525            | -96                   |\n",
      "| T Spawn A Ramp                         |       1 |        2 |        -1 | 99             | 188            | -89                   |\n",
      "| Close Left CT A Ramp                   |       0 |        1 |        -1 | 3              | 94             | -91                   |\n",
      "| Top Connector                          |       1 |        2 |        -1 | 101            | 236            | -135                  |\n",
      "| Forest                                 |       2 |        2 |         0 | 116            | 147            | -31                   |\n",
      "| Left Side corner deep jungle           |       0 |        0 |         0 | 0              | 0              | 0                     |\n",
      "| Top Balcony                            |       0 |        1 |        -1 | 52             | 51             | 1                     |\n",
      "| Back Right B Site from T's Perspective |       1 |        0 |         1 | 100            | 0              | 100                   |\n",
      "| Underpass Peek from Snipers            |       0 |        0 |         0 | N/A            | N/A            | N/A                   |\n",
      "| Elevated Snipers Awp Peek              |       0 |        0 |         0 | N/A            | N/A            | N/A                   |\n",
      "| Right Side Connector                   |       1 |        1 |         0 | 176            | 96             | 80                    |\n",
      "| Murder Hole                            |       0 |        0 |         0 | N/A            | N/A            | N/A                   |\n",
      "| Top Mid Boxes Right Side Peek          |       0 |        0 |         0 | N/A            | N/A            | N/A                   |\n",
      "| Bench Closer To Jungle                 |       1 |        0 |         1 | 92             | 77             | 15                    |\n",
      "| Stairs Palace Peek                     |       0 |        0 |         0 | 0              | 0              | 0                     |\n",
      "| Bottom Mid Ladder Room Peek            |       0 |        1 |        -1 | 17             | 113            | -96                   |\n",
      "| Behind Big Boxes                       |       1 |        0 |         1 | 100            | 0              | 100                   |\n",
      "|                                        |       0 |        0 |         0 | N/A            | N/A            | N/A                   |\n",
      "| T Spawn towards Apps                   |       0 |        0 |         0 | 64             | 0              | 64                    |\n",
      "| Deep Palace                            |       0 |        2 |        -2 | 151            | 200            | -49                   |\n",
      "| Balcony Boaxes                         |       0 |        0 |         0 | N/A            | N/A            | N/A                   |\n",
      "| Close Market Window                    |       0 |        0 |         0 | 0              | 0              | 0                     |\n"
     ]
    }
   ],
   "source": [
    "#kd + damage differntials for ax1le as a t\n",
    "print(prettyPrintPlayerDamageTable(ax1leDamages, ax1leKills, ax1le_names, 'T'))"
   ]
  },
  {
   "cell_type": "code",
   "execution_count": null,
   "id": "84f79a14",
   "metadata": {},
   "outputs": [],
   "source": []
  },
  {
   "cell_type": "code",
   "execution_count": null,
   "id": "2ab6febf",
   "metadata": {},
   "outputs": [],
   "source": []
  },
  {
   "cell_type": "code",
   "execution_count": null,
   "id": "5e1ca866",
   "metadata": {},
   "outputs": [],
   "source": []
  },
  {
   "cell_type": "code",
   "execution_count": null,
   "id": "bd64678a",
   "metadata": {},
   "outputs": [],
   "source": []
  },
  {
   "cell_type": "code",
   "execution_count": null,
   "id": "e3fac30e",
   "metadata": {},
   "outputs": [],
   "source": []
  },
  {
   "cell_type": "code",
   "execution_count": null,
   "id": "9f648fef",
   "metadata": {},
   "outputs": [],
   "source": []
  },
  {
   "cell_type": "code",
   "execution_count": null,
   "id": "26066a7f",
   "metadata": {},
   "outputs": [],
   "source": []
  },
  {
   "cell_type": "code",
   "execution_count": null,
   "id": "d0508251",
   "metadata": {},
   "outputs": [],
   "source": []
  },
  {
   "cell_type": "code",
   "execution_count": null,
   "id": "4503bc28",
   "metadata": {},
   "outputs": [],
   "source": []
  },
  {
   "cell_type": "code",
   "execution_count": null,
   "id": "6a7c8637",
   "metadata": {},
   "outputs": [],
   "source": []
  },
  {
   "cell_type": "code",
   "execution_count": null,
   "id": "f94785dc",
   "metadata": {},
   "outputs": [],
   "source": []
  },
  {
   "cell_type": "code",
   "execution_count": null,
   "id": "3fcc6910",
   "metadata": {},
   "outputs": [],
   "source": []
  },
  {
   "cell_type": "code",
   "execution_count": null,
   "id": "65240e1c",
   "metadata": {},
   "outputs": [],
   "source": []
  },
  {
   "cell_type": "code",
   "execution_count": null,
   "id": "537d2e6f",
   "metadata": {},
   "outputs": [],
   "source": []
  },
  {
   "cell_type": "code",
   "execution_count": null,
   "id": "d35c10a7",
   "metadata": {},
   "outputs": [],
   "source": []
  },
  {
   "cell_type": "code",
   "execution_count": null,
   "id": "3902db45",
   "metadata": {},
   "outputs": [],
   "source": []
  },
  {
   "cell_type": "code",
   "execution_count": null,
   "id": "d08836a2",
   "metadata": {},
   "outputs": [],
   "source": []
  },
  {
   "cell_type": "code",
   "execution_count": null,
   "id": "e17fea4f",
   "metadata": {},
   "outputs": [],
   "source": []
  },
  {
   "cell_type": "code",
   "execution_count": null,
   "id": "08973ef1",
   "metadata": {},
   "outputs": [],
   "source": []
  },
  {
   "cell_type": "code",
   "execution_count": null,
   "id": "26555139",
   "metadata": {},
   "outputs": [],
   "source": []
  },
  {
   "cell_type": "code",
   "execution_count": null,
   "id": "2014849a",
   "metadata": {},
   "outputs": [],
   "source": []
  },
  {
   "cell_type": "code",
   "execution_count": null,
   "id": "219c9e5a",
   "metadata": {},
   "outputs": [],
   "source": []
  },
  {
   "cell_type": "code",
   "execution_count": null,
   "id": "dd2111e5",
   "metadata": {},
   "outputs": [],
   "source": []
  },
  {
   "cell_type": "code",
   "execution_count": null,
   "id": "4cbc7baa",
   "metadata": {},
   "outputs": [],
   "source": []
  },
  {
   "cell_type": "code",
   "execution_count": null,
   "id": "d40ca2cc",
   "metadata": {},
   "outputs": [],
   "source": []
  },
  {
   "cell_type": "code",
   "execution_count": null,
   "id": "d6b008a4",
   "metadata": {},
   "outputs": [],
   "source": []
  },
  {
   "cell_type": "code",
   "execution_count": null,
   "id": "013a7f05",
   "metadata": {},
   "outputs": [],
   "source": []
  },
  {
   "cell_type": "code",
   "execution_count": null,
   "id": "e54ecbad",
   "metadata": {},
   "outputs": [],
   "source": []
  },
  {
   "cell_type": "code",
   "execution_count": null,
   "id": "5c28d7ed",
   "metadata": {},
   "outputs": [],
   "source": []
  },
  {
   "cell_type": "code",
   "execution_count": null,
   "id": "1c3d24c6",
   "metadata": {},
   "outputs": [],
   "source": []
  },
  {
   "cell_type": "code",
   "execution_count": null,
   "id": "04f735ad",
   "metadata": {},
   "outputs": [],
   "source": []
  },
  {
   "cell_type": "code",
   "execution_count": null,
   "id": "d64f0b59",
   "metadata": {},
   "outputs": [],
   "source": []
  },
  {
   "cell_type": "code",
   "execution_count": null,
   "id": "fe0b6565",
   "metadata": {},
   "outputs": [],
   "source": []
  },
  {
   "cell_type": "code",
   "execution_count": null,
   "id": "7095d7fb",
   "metadata": {},
   "outputs": [],
   "source": []
  },
  {
   "cell_type": "code",
   "execution_count": null,
   "id": "39c7e60f",
   "metadata": {},
   "outputs": [],
   "source": []
  },
  {
   "cell_type": "code",
   "execution_count": null,
   "id": "9c871590",
   "metadata": {},
   "outputs": [],
   "source": []
  },
  {
   "cell_type": "code",
   "execution_count": null,
   "id": "8e0e8aaa",
   "metadata": {},
   "outputs": [],
   "source": []
  },
  {
   "cell_type": "code",
   "execution_count": null,
   "id": "de304f55",
   "metadata": {},
   "outputs": [],
   "source": []
  },
  {
   "cell_type": "code",
   "execution_count": null,
   "id": "239268d6",
   "metadata": {},
   "outputs": [],
   "source": []
  },
  {
   "cell_type": "code",
   "execution_count": null,
   "id": "724d68b8",
   "metadata": {},
   "outputs": [],
   "source": []
  },
  {
   "cell_type": "code",
   "execution_count": null,
   "id": "e068022b",
   "metadata": {},
   "outputs": [],
   "source": []
  },
  {
   "cell_type": "code",
   "execution_count": null,
   "id": "b8bffc83",
   "metadata": {},
   "outputs": [],
   "source": []
  },
  {
   "cell_type": "code",
   "execution_count": null,
   "id": "2457a5a9",
   "metadata": {},
   "outputs": [],
   "source": []
  },
  {
   "cell_type": "code",
   "execution_count": null,
   "id": "d549945c",
   "metadata": {},
   "outputs": [],
   "source": []
  },
  {
   "cell_type": "code",
   "execution_count": null,
   "id": "c6d52895",
   "metadata": {},
   "outputs": [],
   "source": []
  },
  {
   "cell_type": "code",
   "execution_count": null,
   "id": "66972ee1",
   "metadata": {},
   "outputs": [],
   "source": []
  },
  {
   "cell_type": "code",
   "execution_count": null,
   "id": "95b77a1f",
   "metadata": {},
   "outputs": [],
   "source": []
  },
  {
   "cell_type": "code",
   "execution_count": null,
   "id": "d3ce3160",
   "metadata": {},
   "outputs": [],
   "source": []
  },
  {
   "cell_type": "code",
   "execution_count": null,
   "id": "81421fb7",
   "metadata": {},
   "outputs": [],
   "source": []
  },
  {
   "cell_type": "code",
   "execution_count": null,
   "id": "02406bd4",
   "metadata": {},
   "outputs": [],
   "source": []
  }
 ],
 "metadata": {
  "kernelspec": {
   "display_name": "Python 3",
   "language": "python",
   "name": "python3"
  },
  "language_info": {
   "codemirror_mode": {
    "name": "ipython",
    "version": 3
   },
   "file_extension": ".py",
   "mimetype": "text/x-python",
   "name": "python",
   "nbconvert_exporter": "python",
   "pygments_lexer": "ipython3",
   "version": "3.6.13"
  }
 },
 "nbformat": 4,
 "nbformat_minor": 5
}
