{
 "cells": [
  {
   "cell_type": "code",
   "execution_count": 1,
   "id": "6c9c6727",
   "metadata": {},
   "outputs": [],
   "source": [
    "from csgo.parser import DemoParser\n",
    "import numpy\n",
    "import csv\n",
    "import pandas\n",
    "import pyserialem\n",
    "import os\n",
    "from tabulate import tabulate"
   ]
  },
  {
   "cell_type": "code",
   "execution_count": 2,
   "id": "neither-contribution",
   "metadata": {},
   "outputs": [],
   "source": [
    "def getDemoPaths(dir_path):\n",
    "    demoPaths = []\n",
    "    x = 0\n",
    "    for filename in os.listdir(dir_path):\n",
    "        demoPaths.append(os.path.join(dir_path, filename))\n",
    "    return demoPaths"
   ]
  },
  {
   "cell_type": "code",
   "execution_count": 3,
   "id": "hindu-battle",
   "metadata": {},
   "outputs": [],
   "source": [
    "def generateDemoParsers(paths):\n",
    "    demo_parsers = []\n",
    "    for x in paths:\n",
    "        demoParser = DemoParser(demofile=x, demo_id = x.split('/')[-1].split('.')[0].split('_')[0], parse_rate=128)\n",
    "        demo_parsers.append(demoParser)\n",
    "    print(\"# Demo Parsers: \" + str(len(demo_parsers)))\n",
    "    return demo_parsers"
   ]
  },
  {
   "cell_type": "code",
   "execution_count": 4,
   "id": "trying-banks",
   "metadata": {},
   "outputs": [],
   "source": [
    "def generateData(parsers):\n",
    "    mapData, killData, nadeData, flashData, roundData, damageData = [], [], [], [], [], []\n",
    "    for x in parsers:\n",
    "        x.parse()\n",
    "        mapData.append(x.parse(return_type=\"df\"))\n",
    "        killData.append(x._parse_kills(return_type=\"df\"))\n",
    "        nadeData.append(x._parse_grenades(return_type=\"df\"))\n",
    "        flashData.append(x._parse_flashes(return_type=\"df\"))\n",
    "        roundData.append(x._parse_rounds(return_type=\"df\"))\n",
    "        damageData.append(x._parse_damages(return_type=\"df\"))\n",
    "    return (mapData, killData, nadeData, flashData, roundData, damageData)"
   ]
  },
  {
   "cell_type": "code",
   "execution_count": 5,
   "id": "vocal-masters",
   "metadata": {},
   "outputs": [],
   "source": [
    "def concat_data(aggregate_data):\n",
    "    final_df = None\n",
    "    for x in aggregate_data:\n",
    "        final_df = pandas.concat([final_df, x], ignore_index=True)\n",
    "    return final_df"
   ]
  },
  {
   "cell_type": "code",
   "execution_count": 6,
   "id": "sacred-election",
   "metadata": {},
   "outputs": [],
   "source": [
    "def prettyPrintPlayerDamageTable(playerDamages, playerKills, playerNames, side, totalRounds):\n",
    "    temp = extractDamageDifferentials(playerDamages, playerNames, side)\n",
    "    temp1 = calculateKDByPlace(playerKills,playerNames, side)\n",
    "    \n",
    "    for key, val in temp1.items():\n",
    "        if(key in temp.keys()):\n",
    "            temp1[key]['Damage Dealt'] = temp[key]['Damage Dealt']\n",
    "            temp1[key]['Damage Taken'] = temp[key]['Damage Taken']\n",
    "            temp1[key]['Damage Differential'] = temp[key]['Damage Differential']\n",
    "        else:\n",
    "            temp1[key]['Damage Dealt'] = \"N/A\"\n",
    "            temp1[key]['Damage Taken'] = \"N/A\"\n",
    "            temp1[key]['Damage Differential'] = \"N/A\"\n",
    "            \n",
    "    prettyPrint = {\"Places\" : [], \"Kills\" : [], \"Deaths\" : [], \"KD Diff\" : [], \"Damage Dealt\" : [], \"Damage Taken\" : [], \"Damage Differential\" : [], \"DD Per 30\" : []}\n",
    "    \n",
    "    for key, val in temp1.items():\n",
    "        prettyPrint['Places'].append(key)\n",
    "        prettyPrint['Kills'].append(val['kills'])\n",
    "        prettyPrint['Deaths'].append(val['deaths'])\n",
    "        prettyPrint['KD Diff'].append(val['+-'])\n",
    "        prettyPrint['Damage Dealt'].append(val['Damage Dealt'])\n",
    "        prettyPrint['Damage Taken'].append(val['Damage Taken'])\n",
    "        prettyPrint['Damage Differential'].append(val['Damage Differential'])\n",
    "        if(val['Damage Differential'] != 'N/A'):\n",
    "            prettyPrint['DD Per 30'].append(int(val['Damage Differential']) * 30 / totalRounds)\n",
    "        else:\n",
    "            prettyPrint['DD Per 30'].append('N/A')\n",
    "    \n",
    "    return(tabulate(prettyPrint, headers=prettyPrint.keys(), tablefmt=\"github\"))"
   ]
  },
  {
   "cell_type": "code",
   "execution_count": 7,
   "id": "endless-character",
   "metadata": {},
   "outputs": [],
   "source": [
    "def extractDamageDifferentials(mapData, players, side):\n",
    "    ret = {}\n",
    "    for x in mapData[mapData['AttackerName'].isin(players)].AttackerAreaName.unique():\n",
    "        damageDone = mapData[mapData['AttackerName'].isin(players)][mapData['AttackerSide'] == side][mapData['AttackerAreaName'] == x].HpDamageTaken.sum()\n",
    "        damageTaken = mapData[mapData['VictimName'].isin(players)][mapData['VictimSide'] == side][mapData['VictimAreaName'] == x].HpDamageTaken.sum()\n",
    "        ret[x] = {\"Damage Dealt\" : damageDone, \"Damage Taken\" : damageTaken, \"Damage Differential\" : (damageDone - damageTaken)}\n",
    "    return ret"
   ]
  },
  {
   "cell_type": "code",
   "execution_count": 8,
   "id": "specific-wireless",
   "metadata": {},
   "outputs": [],
   "source": [
    "def calculateKDByPlace(kills, players, side):\n",
    "    places = []\n",
    "    temp = kills.copy()\n",
    "    for x in temp.AttackerAreaName.unique():\n",
    "        places.append(x)\n",
    "    ret = {}\n",
    "    for place in places:\n",
    "        kill = len(kills[kills['AttackerName'].isin(players)][kills['AttackerAreaName'] == place][kills['AttackerSide'] == side])\n",
    "        deaths = len(kills[kills['VictimName'].isin(players)][kills['VictimAreaName'] == place][kills['VictimSide'] == side])\n",
    "        temp2 = {'kills' : kill, 'deaths' : deaths, '+-' : (kill-deaths)}\n",
    "        ret[place] = temp2\n",
    "    return ret"
   ]
  },
  {
   "cell_type": "code",
   "execution_count": 9,
   "id": "tested-borough",
   "metadata": {},
   "outputs": [],
   "source": [
    "dir_path = \"./demos/elige/inferno/Inferno\""
   ]
  },
  {
   "cell_type": "code",
   "execution_count": 10,
   "id": "concrete-curtis",
   "metadata": {},
   "outputs": [],
   "source": [
    "demoPaths = getDemoPaths(dir_path)"
   ]
  },
  {
   "cell_type": "code",
   "execution_count": 11,
   "id": "standard-pressing",
   "metadata": {
    "scrolled": true
   },
   "outputs": [
    {
     "name": "stderr",
     "output_type": "stream",
     "text": [
      "16:50:52 [INFO] Go version>=1.14.0\n",
      "16:50:52 [INFO] Initialized CSGODemoParser with demofile /home/nk095x/cs_demos/csgo/demos/elige/inferno/Inferno/astralis-vs-liquid-m1-inferno.dem\n",
      "16:50:52 [INFO] Setting demo id to astralis-vs-liquid-m1-inferno\n",
      "16:50:52 [INFO] Setting parse rate to 128\n",
      "16:50:52 [INFO] Go version>=1.14.0\n",
      "16:50:52 [INFO] Initialized CSGODemoParser with demofile /home/nk095x/cs_demos/csgo/demos/elige/inferno/Inferno/big-vs-liquid-m1-inferno.dem\n",
      "16:50:52 [INFO] Setting demo id to big-vs-liquid-m1-inferno\n",
      "16:50:52 [INFO] Setting parse rate to 128\n",
      "16:50:52 [INFO] Go version>=1.14.0\n",
      "16:50:52 [INFO] Initialized CSGODemoParser with demofile /home/nk095x/cs_demos/csgo/demos/elige/inferno/Inferno/endpoint-vs-liquid-m1-inferno_2346957.dem\n",
      "16:50:52 [INFO] Setting demo id to endpoint-vs-liquid-m1-inferno\n",
      "16:50:52 [INFO] Setting parse rate to 128\n",
      "16:50:52 [INFO] Go version>=1.14.0\n",
      "16:50:52 [INFO] Initialized CSGODemoParser with demofile /home/nk095x/cs_demos/csgo/demos/elige/inferno/Inferno/evil-geniuses-vs-liquid-m1-inferno.dem\n",
      "16:50:52 [INFO] Setting demo id to evil-geniuses-vs-liquid-m1-inferno\n",
      "16:50:52 [INFO] Setting parse rate to 128\n",
      "16:50:52 [INFO] Go version>=1.14.0\n",
      "16:50:52 [INFO] Initialized CSGODemoParser with demofile /home/nk095x/cs_demos/csgo/demos/elige/inferno/Inferno/evil-geniuses-vs-liquid-m1-inferno_2346960.dem\n",
      "16:50:52 [INFO] Setting demo id to evil-geniuses-vs-liquid-m1-inferno\n",
      "16:50:52 [INFO] Setting parse rate to 128\n",
      "16:50:52 [INFO] Go version>=1.14.0\n",
      "16:50:52 [INFO] Initialized CSGODemoParser with demofile /home/nk095x/cs_demos/csgo/demos/elige/inferno/Inferno/faze-vs-liquid-m2-inferno.dem\n",
      "16:50:52 [INFO] Setting demo id to faze-vs-liquid-m2-inferno\n",
      "16:50:52 [INFO] Setting parse rate to 128\n",
      "16:50:52 [INFO] Go version>=1.14.0\n",
      "16:50:52 [INFO] Initialized CSGODemoParser with demofile /home/nk095x/cs_demos/csgo/demos/elige/inferno/Inferno/furia-vs-liquid-m2-inferno.dem\n",
      "16:50:52 [INFO] Setting demo id to furia-vs-liquid-m2-inferno\n",
      "16:50:52 [INFO] Setting parse rate to 128\n",
      "16:50:52 [INFO] Go version>=1.14.0\n",
      "16:50:52 [INFO] Initialized CSGODemoParser with demofile /home/nk095x/cs_demos/csgo/demos/elige/inferno/Inferno/g2-vs-liquid-m3-inferno_2347019.dem\n",
      "16:50:52 [INFO] Setting demo id to g2-vs-liquid-m3-inferno\n",
      "16:50:52 [INFO] Setting parse rate to 128\n",
      "16:50:52 [INFO] Go version>=1.14.0\n",
      "16:50:52 [INFO] Initialized CSGODemoParser with demofile /home/nk095x/cs_demos/csgo/demos/elige/inferno/Inferno/liquid-vs-astralis-m2-inferno.dem\n",
      "16:50:52 [INFO] Setting demo id to liquid-vs-astralis-m2-inferno\n",
      "16:50:52 [INFO] Setting parse rate to 128\n",
      "16:50:52 [INFO] Go version>=1.14.0\n",
      "16:50:52 [INFO] Initialized CSGODemoParser with demofile /home/nk095x/cs_demos/csgo/demos/elige/inferno/Inferno/liquid-vs-mousesports-m1-inferno.dem\n",
      "16:50:52 [INFO] Setting demo id to liquid-vs-mousesports-m1-inferno\n",
      "16:50:52 [INFO] Setting parse rate to 128\n",
      "16:50:52 [INFO] Go version>=1.14.0\n",
      "16:50:52 [INFO] Initialized CSGODemoParser with demofile /home/nk095x/cs_demos/csgo/demos/elige/inferno/Inferno/liquid-vs-natus-vincere-m1-inferno.dem\n",
      "16:50:52 [INFO] Setting demo id to liquid-vs-natus-vincere-m1-inferno\n",
      "16:50:52 [INFO] Setting parse rate to 128\n",
      "16:50:53 [INFO] Go version>=1.14.0\n",
      "16:50:53 [INFO] Initialized CSGODemoParser with demofile /home/nk095x/cs_demos/csgo/demos/elige/inferno/Inferno/liquid-vs-pain-m3-inferno.dem\n",
      "16:50:53 [INFO] Setting demo id to liquid-vs-pain-m3-inferno\n",
      "16:50:53 [INFO] Setting parse rate to 128\n",
      "16:50:53 [INFO] Go version>=1.14.0\n",
      "16:50:53 [INFO] Initialized CSGODemoParser with demofile /home/nk095x/cs_demos/csgo/demos/elige/inferno/Inferno/liquid-vs-triumph-m1-inferno.dem\n",
      "16:50:53 [INFO] Setting demo id to liquid-vs-triumph-m1-inferno\n",
      "16:50:53 [INFO] Setting parse rate to 128\n",
      "16:50:53 [INFO] Go version>=1.14.0\n",
      "16:50:53 [INFO] Initialized CSGODemoParser with demofile /home/nk095x/cs_demos/csgo/demos/elige/inferno/Inferno/liquid-vs-triumph-m2-inferno_2347105.dem\n",
      "16:50:53 [INFO] Setting demo id to liquid-vs-triumph-m2-inferno\n",
      "16:50:53 [INFO] Setting parse rate to 128\n",
      "16:50:53 [INFO] Go version>=1.14.0\n",
      "16:50:53 [INFO] Initialized CSGODemoParser with demofile /home/nk095x/cs_demos/csgo/demos/elige/inferno/Inferno/mibr-vs-liquid-m2-inferno.dem\n",
      "16:50:53 [INFO] Setting demo id to mibr-vs-liquid-m2-inferno\n",
      "16:50:53 [INFO] Setting parse rate to 128\n",
      "16:50:53 [INFO] Go version>=1.14.0\n",
      "16:50:53 [INFO] Initialized CSGODemoParser with demofile /home/nk095x/cs_demos/csgo/demos/elige/inferno/Inferno/natus-vincere-vs-liquid-m1-inferno.dem\n",
      "16:50:53 [INFO] Setting demo id to natus-vincere-vs-liquid-m1-inferno\n",
      "16:50:53 [INFO] Setting parse rate to 128\n"
     ]
    },
    {
     "name": "stdout",
     "output_type": "stream",
     "text": [
      "# Demo Parsers: 16\n"
     ]
    }
   ],
   "source": [
    "demoParsers = generateDemoParsers(demoPaths)"
   ]
  },
  {
   "cell_type": "code",
   "execution_count": 12,
   "id": "flush-webmaster",
   "metadata": {},
   "outputs": [
    {
     "name": "stdout",
     "output_type": "stream",
     "text": [
      "16\n"
     ]
    }
   ],
   "source": [
    "print(len(demoPaths))"
   ]
  },
  {
   "cell_type": "code",
   "execution_count": 13,
   "id": "aboriginal-german",
   "metadata": {},
   "outputs": [
    {
     "name": "stdout",
     "output_type": "stream",
     "text": [
      "['./demos/elige/inferno/Inferno/astralis-vs-liquid-m1-inferno.dem', './demos/elige/inferno/Inferno/big-vs-liquid-m1-inferno.dem', './demos/elige/inferno/Inferno/endpoint-vs-liquid-m1-inferno_2346957.dem', './demos/elige/inferno/Inferno/evil-geniuses-vs-liquid-m1-inferno.dem', './demos/elige/inferno/Inferno/evil-geniuses-vs-liquid-m1-inferno_2346960.dem', './demos/elige/inferno/Inferno/faze-vs-liquid-m2-inferno.dem', './demos/elige/inferno/Inferno/furia-vs-liquid-m2-inferno.dem', './demos/elige/inferno/Inferno/g2-vs-liquid-m3-inferno_2347019.dem', './demos/elige/inferno/Inferno/liquid-vs-astralis-m2-inferno.dem', './demos/elige/inferno/Inferno/liquid-vs-mousesports-m1-inferno.dem', './demos/elige/inferno/Inferno/liquid-vs-natus-vincere-m1-inferno.dem', './demos/elige/inferno/Inferno/liquid-vs-pain-m3-inferno.dem', './demos/elige/inferno/Inferno/liquid-vs-triumph-m1-inferno.dem', './demos/elige/inferno/Inferno/liquid-vs-triumph-m2-inferno_2347105.dem', './demos/elige/inferno/Inferno/mibr-vs-liquid-m2-inferno.dem', './demos/elige/inferno/Inferno/natus-vincere-vs-liquid-m1-inferno.dem']\n"
     ]
    }
   ],
   "source": [
    "print(demoPaths)"
   ]
  },
  {
   "cell_type": "code",
   "execution_count": 14,
   "id": "comic-absorption",
   "metadata": {},
   "outputs": [
    {
     "name": "stderr",
     "output_type": "stream",
     "text": [
      "16:50:53 [INFO] Running Golang parser from /home/nk095x/cs_demos/csgo/csgo/parser/\n",
      "16:50:53 [INFO] Looking for file at /home/nk095x/cs_demos/csgo/demos/elige/inferno/Inferno/astralis-vs-liquid-m1-inferno.dem\n",
      "16:51:11 [INFO] Wrote demo parse output to astralis-vs-liquid-m1-inferno.json\n",
      "16:51:11 [INFO] Reading in JSON from astralis-vs-liquid-m1-inferno.json\n",
      "16:51:12 [INFO] JSON data loaded, available in the `json` attribute to parser\n",
      "16:51:12 [INFO] Successfully parsed JSON output\n",
      "16:51:12 [INFO] Successfully returned JSON output\n",
      "16:51:12 [INFO] Running Golang parser from /home/nk095x/cs_demos/csgo/csgo/parser/\n",
      "16:51:12 [INFO] Looking for file at /home/nk095x/cs_demos/csgo/demos/elige/inferno/Inferno/astralis-vs-liquid-m1-inferno.dem\n",
      "16:51:30 [INFO] Wrote demo parse output to astralis-vs-liquid-m1-inferno.json\n",
      "16:51:30 [INFO] Reading in JSON from astralis-vs-liquid-m1-inferno.json\n",
      "16:51:31 [INFO] JSON data loaded, available in the `json` attribute to parser\n",
      "16:51:31 [INFO] Successfully parsed JSON output\n",
      "16:51:31 [INFO] Successfully returned JSON output\n",
      "16:51:31 [INFO] Parsed rounds to Pandas DataFrame\n",
      "16:51:31 [INFO] Parsed kills to Pandas DataFrame\n",
      "16:51:31 [INFO] Parsed damages to Pandas DataFrame\n",
      "16:51:31 [INFO] Parsed grenades to Pandas DataFrame\n",
      "16:51:31 [INFO] Parsed flashes to Pandas DataFrame\n",
      "16:51:31 [INFO] Parsed bomb_events to Pandas DataFrame\n",
      "16:51:31 [INFO] Parsed frames to Pandas DataFrame\n",
      "16:51:31 [INFO] Parsed player frames to Pandas DataFrame\n",
      "16:51:31 [INFO] Returned dataframe output\n",
      "16:51:31 [INFO] Parsed kills to Pandas DataFrame\n",
      "16:51:31 [INFO] Parsed grenades to Pandas DataFrame\n",
      "16:51:31 [INFO] Parsed flashes to Pandas DataFrame\n",
      "16:51:31 [INFO] Parsed rounds to Pandas DataFrame\n",
      "16:51:31 [INFO] Parsed damages to Pandas DataFrame\n",
      "16:51:31 [INFO] Running Golang parser from /home/nk095x/cs_demos/csgo/csgo/parser/\n",
      "16:51:31 [INFO] Looking for file at /home/nk095x/cs_demos/csgo/demos/elige/inferno/Inferno/big-vs-liquid-m1-inferno.dem\n",
      "16:51:50 [INFO] Wrote demo parse output to big-vs-liquid-m1-inferno.json\n",
      "16:51:50 [INFO] Reading in JSON from big-vs-liquid-m1-inferno.json\n",
      "16:51:50 [INFO] JSON data loaded, available in the `json` attribute to parser\n",
      "16:51:50 [INFO] Successfully parsed JSON output\n",
      "16:51:50 [INFO] Successfully returned JSON output\n",
      "16:51:50 [INFO] Running Golang parser from /home/nk095x/cs_demos/csgo/csgo/parser/\n",
      "16:51:50 [INFO] Looking for file at /home/nk095x/cs_demos/csgo/demos/elige/inferno/Inferno/big-vs-liquid-m1-inferno.dem\n",
      "16:52:08 [INFO] Wrote demo parse output to big-vs-liquid-m1-inferno.json\n",
      "16:52:08 [INFO] Reading in JSON from big-vs-liquid-m1-inferno.json\n",
      "16:52:09 [INFO] JSON data loaded, available in the `json` attribute to parser\n",
      "16:52:09 [INFO] Successfully parsed JSON output\n",
      "16:52:09 [INFO] Successfully returned JSON output\n",
      "16:52:09 [INFO] Parsed rounds to Pandas DataFrame\n",
      "16:52:09 [INFO] Parsed kills to Pandas DataFrame\n",
      "16:52:09 [INFO] Parsed damages to Pandas DataFrame\n",
      "16:52:09 [INFO] Parsed grenades to Pandas DataFrame\n",
      "16:52:09 [INFO] Parsed flashes to Pandas DataFrame\n",
      "16:52:09 [INFO] Parsed bomb_events to Pandas DataFrame\n",
      "16:52:09 [INFO] Parsed frames to Pandas DataFrame\n",
      "16:52:09 [INFO] Parsed player frames to Pandas DataFrame\n",
      "16:52:09 [INFO] Returned dataframe output\n",
      "16:52:09 [INFO] Parsed kills to Pandas DataFrame\n",
      "16:52:09 [INFO] Parsed grenades to Pandas DataFrame\n",
      "16:52:09 [INFO] Parsed flashes to Pandas DataFrame\n",
      "16:52:09 [INFO] Parsed rounds to Pandas DataFrame\n",
      "16:52:09 [INFO] Parsed damages to Pandas DataFrame\n",
      "16:52:09 [INFO] Running Golang parser from /home/nk095x/cs_demos/csgo/csgo/parser/\n",
      "16:52:09 [INFO] Looking for file at /home/nk095x/cs_demos/csgo/demos/elige/inferno/Inferno/endpoint-vs-liquid-m1-inferno_2346957.dem\n",
      "16:52:30 [INFO] Wrote demo parse output to endpoint-vs-liquid-m1-inferno.json\n",
      "16:52:30 [INFO] Reading in JSON from endpoint-vs-liquid-m1-inferno.json\n",
      "16:52:30 [INFO] JSON data loaded, available in the `json` attribute to parser\n",
      "16:52:30 [INFO] Successfully parsed JSON output\n",
      "16:52:30 [INFO] Successfully returned JSON output\n",
      "16:52:30 [INFO] Running Golang parser from /home/nk095x/cs_demos/csgo/csgo/parser/\n",
      "16:52:30 [INFO] Looking for file at /home/nk095x/cs_demos/csgo/demos/elige/inferno/Inferno/endpoint-vs-liquid-m1-inferno_2346957.dem\n",
      "16:52:52 [INFO] Wrote demo parse output to endpoint-vs-liquid-m1-inferno.json\n",
      "16:52:52 [INFO] Reading in JSON from endpoint-vs-liquid-m1-inferno.json\n",
      "16:52:53 [INFO] JSON data loaded, available in the `json` attribute to parser\n",
      "16:52:53 [INFO] Successfully parsed JSON output\n",
      "16:52:53 [INFO] Successfully returned JSON output\n",
      "16:52:53 [INFO] Parsed rounds to Pandas DataFrame\n",
      "16:52:53 [INFO] Parsed kills to Pandas DataFrame\n",
      "16:52:53 [INFO] Parsed damages to Pandas DataFrame\n",
      "16:52:53 [INFO] Parsed grenades to Pandas DataFrame\n",
      "16:52:53 [INFO] Parsed flashes to Pandas DataFrame\n",
      "16:52:53 [INFO] Parsed bomb_events to Pandas DataFrame\n",
      "16:52:53 [INFO] Parsed frames to Pandas DataFrame\n",
      "16:52:53 [INFO] Parsed player frames to Pandas DataFrame\n",
      "16:52:53 [INFO] Returned dataframe output\n",
      "16:52:53 [INFO] Parsed kills to Pandas DataFrame\n",
      "16:52:53 [INFO] Parsed grenades to Pandas DataFrame\n",
      "16:52:53 [INFO] Parsed flashes to Pandas DataFrame\n",
      "16:52:53 [INFO] Parsed rounds to Pandas DataFrame\n",
      "16:52:53 [INFO] Parsed damages to Pandas DataFrame\n",
      "16:52:53 [INFO] Running Golang parser from /home/nk095x/cs_demos/csgo/csgo/parser/\n",
      "16:52:53 [INFO] Looking for file at /home/nk095x/cs_demos/csgo/demos/elige/inferno/Inferno/evil-geniuses-vs-liquid-m1-inferno.dem\n",
      "16:53:16 [INFO] Wrote demo parse output to evil-geniuses-vs-liquid-m1-inferno.json\n",
      "16:53:16 [INFO] Reading in JSON from evil-geniuses-vs-liquid-m1-inferno.json\n",
      "16:53:17 [INFO] JSON data loaded, available in the `json` attribute to parser\n",
      "16:53:17 [INFO] Successfully parsed JSON output\n",
      "16:53:17 [INFO] Successfully returned JSON output\n",
      "16:53:17 [INFO] Running Golang parser from /home/nk095x/cs_demos/csgo/csgo/parser/\n",
      "16:53:17 [INFO] Looking for file at /home/nk095x/cs_demos/csgo/demos/elige/inferno/Inferno/evil-geniuses-vs-liquid-m1-inferno.dem\n",
      "16:53:39 [INFO] Wrote demo parse output to evil-geniuses-vs-liquid-m1-inferno.json\n",
      "16:53:39 [INFO] Reading in JSON from evil-geniuses-vs-liquid-m1-inferno.json\n",
      "16:53:40 [INFO] JSON data loaded, available in the `json` attribute to parser\n",
      "16:53:40 [INFO] Successfully parsed JSON output\n",
      "16:53:40 [INFO] Successfully returned JSON output\n",
      "16:53:40 [INFO] Parsed rounds to Pandas DataFrame\n",
      "16:53:40 [INFO] Parsed kills to Pandas DataFrame\n",
      "16:53:40 [INFO] Parsed damages to Pandas DataFrame\n",
      "16:53:40 [INFO] Parsed grenades to Pandas DataFrame\n",
      "16:53:40 [INFO] Parsed flashes to Pandas DataFrame\n",
      "16:53:40 [INFO] Parsed bomb_events to Pandas DataFrame\n",
      "16:53:40 [INFO] Parsed frames to Pandas DataFrame\n",
      "16:53:40 [INFO] Parsed player frames to Pandas DataFrame\n",
      "16:53:40 [INFO] Returned dataframe output\n",
      "16:53:40 [INFO] Parsed kills to Pandas DataFrame\n",
      "16:53:40 [INFO] Parsed grenades to Pandas DataFrame\n",
      "16:53:40 [INFO] Parsed flashes to Pandas DataFrame\n",
      "16:53:40 [INFO] Parsed rounds to Pandas DataFrame\n",
      "16:53:40 [INFO] Parsed damages to Pandas DataFrame\n",
      "16:53:40 [INFO] Running Golang parser from /home/nk095x/cs_demos/csgo/csgo/parser/\n",
      "16:53:40 [INFO] Looking for file at /home/nk095x/cs_demos/csgo/demos/elige/inferno/Inferno/evil-geniuses-vs-liquid-m1-inferno_2346960.dem\n",
      "16:53:58 [INFO] Wrote demo parse output to evil-geniuses-vs-liquid-m1-inferno.json\n",
      "16:53:58 [INFO] Reading in JSON from evil-geniuses-vs-liquid-m1-inferno.json\n",
      "16:53:58 [INFO] JSON data loaded, available in the `json` attribute to parser\n",
      "16:53:58 [INFO] Successfully parsed JSON output\n",
      "16:53:58 [INFO] Successfully returned JSON output\n",
      "16:53:58 [INFO] Running Golang parser from /home/nk095x/cs_demos/csgo/csgo/parser/\n",
      "16:53:58 [INFO] Looking for file at /home/nk095x/cs_demos/csgo/demos/elige/inferno/Inferno/evil-geniuses-vs-liquid-m1-inferno_2346960.dem\n",
      "16:54:15 [INFO] Wrote demo parse output to evil-geniuses-vs-liquid-m1-inferno.json\n",
      "16:54:15 [INFO] Reading in JSON from evil-geniuses-vs-liquid-m1-inferno.json\n",
      "16:54:16 [INFO] JSON data loaded, available in the `json` attribute to parser\n",
      "16:54:16 [INFO] Successfully parsed JSON output\n",
      "16:54:16 [INFO] Successfully returned JSON output\n"
     ]
    },
    {
     "name": "stderr",
     "output_type": "stream",
     "text": [
      "16:54:16 [INFO] Parsed rounds to Pandas DataFrame\n",
      "16:54:16 [INFO] Parsed kills to Pandas DataFrame\n",
      "16:54:16 [INFO] Parsed damages to Pandas DataFrame\n",
      "16:54:16 [INFO] Parsed grenades to Pandas DataFrame\n",
      "16:54:16 [INFO] Parsed flashes to Pandas DataFrame\n",
      "16:54:16 [INFO] Parsed bomb_events to Pandas DataFrame\n",
      "16:54:16 [INFO] Parsed frames to Pandas DataFrame\n",
      "16:54:16 [INFO] Parsed player frames to Pandas DataFrame\n",
      "16:54:16 [INFO] Returned dataframe output\n",
      "16:54:16 [INFO] Parsed kills to Pandas DataFrame\n",
      "16:54:16 [INFO] Parsed grenades to Pandas DataFrame\n",
      "16:54:16 [INFO] Parsed flashes to Pandas DataFrame\n",
      "16:54:16 [INFO] Parsed rounds to Pandas DataFrame\n",
      "16:54:16 [INFO] Parsed damages to Pandas DataFrame\n",
      "16:54:16 [INFO] Running Golang parser from /home/nk095x/cs_demos/csgo/csgo/parser/\n",
      "16:54:16 [INFO] Looking for file at /home/nk095x/cs_demos/csgo/demos/elige/inferno/Inferno/faze-vs-liquid-m2-inferno.dem\n",
      "16:54:32 [INFO] Wrote demo parse output to faze-vs-liquid-m2-inferno.json\n",
      "16:54:32 [INFO] Reading in JSON from faze-vs-liquid-m2-inferno.json\n",
      "16:54:32 [INFO] JSON data loaded, available in the `json` attribute to parser\n",
      "16:54:32 [INFO] Successfully parsed JSON output\n",
      "16:54:32 [INFO] Successfully returned JSON output\n",
      "16:54:32 [INFO] Running Golang parser from /home/nk095x/cs_demos/csgo/csgo/parser/\n",
      "16:54:32 [INFO] Looking for file at /home/nk095x/cs_demos/csgo/demos/elige/inferno/Inferno/faze-vs-liquid-m2-inferno.dem\n",
      "16:54:48 [INFO] Wrote demo parse output to faze-vs-liquid-m2-inferno.json\n",
      "16:54:48 [INFO] Reading in JSON from faze-vs-liquid-m2-inferno.json\n",
      "16:54:48 [INFO] JSON data loaded, available in the `json` attribute to parser\n",
      "16:54:48 [INFO] Successfully parsed JSON output\n",
      "16:54:48 [INFO] Successfully returned JSON output\n",
      "16:54:48 [INFO] Parsed rounds to Pandas DataFrame\n",
      "16:54:48 [INFO] Parsed kills to Pandas DataFrame\n",
      "16:54:48 [INFO] Parsed damages to Pandas DataFrame\n",
      "16:54:48 [INFO] Parsed grenades to Pandas DataFrame\n",
      "16:54:48 [INFO] Parsed flashes to Pandas DataFrame\n",
      "16:54:48 [INFO] Parsed bomb_events to Pandas DataFrame\n",
      "16:54:49 [INFO] Parsed frames to Pandas DataFrame\n",
      "16:54:49 [INFO] Parsed player frames to Pandas DataFrame\n",
      "16:54:49 [INFO] Returned dataframe output\n",
      "16:54:49 [INFO] Parsed kills to Pandas DataFrame\n",
      "16:54:49 [INFO] Parsed grenades to Pandas DataFrame\n",
      "16:54:49 [INFO] Parsed flashes to Pandas DataFrame\n",
      "16:54:49 [INFO] Parsed rounds to Pandas DataFrame\n",
      "16:54:49 [INFO] Parsed damages to Pandas DataFrame\n",
      "16:54:49 [INFO] Running Golang parser from /home/nk095x/cs_demos/csgo/csgo/parser/\n",
      "16:54:49 [INFO] Looking for file at /home/nk095x/cs_demos/csgo/demos/elige/inferno/Inferno/furia-vs-liquid-m2-inferno.dem\n",
      "16:55:01 [INFO] Wrote demo parse output to furia-vs-liquid-m2-inferno.json\n",
      "16:55:01 [INFO] Reading in JSON from furia-vs-liquid-m2-inferno.json\n",
      "16:55:02 [INFO] JSON data loaded, available in the `json` attribute to parser\n",
      "16:55:02 [INFO] Successfully parsed JSON output\n",
      "16:55:02 [INFO] Successfully returned JSON output\n",
      "16:55:02 [INFO] Running Golang parser from /home/nk095x/cs_demos/csgo/csgo/parser/\n",
      "16:55:02 [INFO] Looking for file at /home/nk095x/cs_demos/csgo/demos/elige/inferno/Inferno/furia-vs-liquid-m2-inferno.dem\n",
      "16:55:14 [INFO] Wrote demo parse output to furia-vs-liquid-m2-inferno.json\n",
      "16:55:14 [INFO] Reading in JSON from furia-vs-liquid-m2-inferno.json\n",
      "16:55:15 [INFO] JSON data loaded, available in the `json` attribute to parser\n",
      "16:55:15 [INFO] Successfully parsed JSON output\n",
      "16:55:15 [INFO] Successfully returned JSON output\n",
      "16:55:15 [INFO] Parsed rounds to Pandas DataFrame\n",
      "16:55:15 [INFO] Parsed kills to Pandas DataFrame\n",
      "16:55:15 [INFO] Parsed damages to Pandas DataFrame\n",
      "16:55:15 [INFO] Parsed grenades to Pandas DataFrame\n",
      "16:55:15 [INFO] Parsed flashes to Pandas DataFrame\n",
      "16:55:15 [INFO] Parsed bomb_events to Pandas DataFrame\n",
      "16:55:15 [INFO] Parsed frames to Pandas DataFrame\n",
      "16:55:15 [INFO] Parsed player frames to Pandas DataFrame\n",
      "16:55:15 [INFO] Returned dataframe output\n",
      "16:55:15 [INFO] Parsed kills to Pandas DataFrame\n",
      "16:55:15 [INFO] Parsed grenades to Pandas DataFrame\n",
      "16:55:15 [INFO] Parsed flashes to Pandas DataFrame\n",
      "16:55:15 [INFO] Parsed rounds to Pandas DataFrame\n",
      "16:55:15 [INFO] Parsed damages to Pandas DataFrame\n",
      "16:55:15 [INFO] Running Golang parser from /home/nk095x/cs_demos/csgo/csgo/parser/\n",
      "16:55:15 [INFO] Looking for file at /home/nk095x/cs_demos/csgo/demos/elige/inferno/Inferno/g2-vs-liquid-m3-inferno_2347019.dem\n",
      "16:55:35 [INFO] Wrote demo parse output to g2-vs-liquid-m3-inferno.json\n",
      "16:55:35 [INFO] Reading in JSON from g2-vs-liquid-m3-inferno.json\n",
      "16:55:35 [INFO] JSON data loaded, available in the `json` attribute to parser\n",
      "16:55:35 [INFO] Successfully parsed JSON output\n",
      "16:55:35 [INFO] Successfully returned JSON output\n",
      "16:55:35 [INFO] Running Golang parser from /home/nk095x/cs_demos/csgo/csgo/parser/\n",
      "16:55:35 [INFO] Looking for file at /home/nk095x/cs_demos/csgo/demos/elige/inferno/Inferno/g2-vs-liquid-m3-inferno_2347019.dem\n",
      "16:55:55 [INFO] Wrote demo parse output to g2-vs-liquid-m3-inferno.json\n",
      "16:55:55 [INFO] Reading in JSON from g2-vs-liquid-m3-inferno.json\n",
      "16:55:56 [INFO] JSON data loaded, available in the `json` attribute to parser\n",
      "16:55:56 [INFO] Successfully parsed JSON output\n",
      "16:55:56 [INFO] Successfully returned JSON output\n",
      "16:55:56 [INFO] Parsed rounds to Pandas DataFrame\n",
      "16:55:56 [INFO] Parsed kills to Pandas DataFrame\n",
      "16:55:56 [INFO] Parsed damages to Pandas DataFrame\n",
      "16:55:56 [INFO] Parsed grenades to Pandas DataFrame\n",
      "16:55:56 [INFO] Parsed flashes to Pandas DataFrame\n",
      "16:55:56 [INFO] Parsed bomb_events to Pandas DataFrame\n",
      "16:55:56 [INFO] Parsed frames to Pandas DataFrame\n",
      "16:55:56 [INFO] Parsed player frames to Pandas DataFrame\n",
      "16:55:56 [INFO] Returned dataframe output\n",
      "16:55:56 [INFO] Parsed kills to Pandas DataFrame\n",
      "16:55:56 [INFO] Parsed grenades to Pandas DataFrame\n",
      "16:55:56 [INFO] Parsed flashes to Pandas DataFrame\n",
      "16:55:56 [INFO] Parsed rounds to Pandas DataFrame\n",
      "16:55:56 [INFO] Parsed damages to Pandas DataFrame\n",
      "16:55:56 [INFO] Running Golang parser from /home/nk095x/cs_demos/csgo/csgo/parser/\n",
      "16:55:56 [INFO] Looking for file at /home/nk095x/cs_demos/csgo/demos/elige/inferno/Inferno/liquid-vs-astralis-m2-inferno.dem\n",
      "16:56:11 [INFO] Wrote demo parse output to liquid-vs-astralis-m2-inferno.json\n",
      "16:56:11 [INFO] Reading in JSON from liquid-vs-astralis-m2-inferno.json\n",
      "16:56:12 [INFO] JSON data loaded, available in the `json` attribute to parser\n",
      "16:56:12 [INFO] Successfully parsed JSON output\n",
      "16:56:12 [INFO] Successfully returned JSON output\n",
      "16:56:12 [INFO] Running Golang parser from /home/nk095x/cs_demos/csgo/csgo/parser/\n",
      "16:56:12 [INFO] Looking for file at /home/nk095x/cs_demos/csgo/demos/elige/inferno/Inferno/liquid-vs-astralis-m2-inferno.dem\n",
      "16:56:27 [INFO] Wrote demo parse output to liquid-vs-astralis-m2-inferno.json\n",
      "16:56:27 [INFO] Reading in JSON from liquid-vs-astralis-m2-inferno.json\n",
      "16:56:28 [INFO] JSON data loaded, available in the `json` attribute to parser\n",
      "16:56:28 [INFO] Successfully parsed JSON output\n",
      "16:56:28 [INFO] Successfully returned JSON output\n",
      "16:56:28 [INFO] Parsed rounds to Pandas DataFrame\n",
      "16:56:28 [INFO] Parsed kills to Pandas DataFrame\n",
      "16:56:28 [INFO] Parsed damages to Pandas DataFrame\n",
      "16:56:28 [INFO] Parsed grenades to Pandas DataFrame\n",
      "16:56:28 [INFO] Parsed flashes to Pandas DataFrame\n",
      "16:56:28 [INFO] Parsed bomb_events to Pandas DataFrame\n",
      "16:56:28 [INFO] Parsed frames to Pandas DataFrame\n",
      "16:56:28 [INFO] Parsed player frames to Pandas DataFrame\n",
      "16:56:28 [INFO] Returned dataframe output\n",
      "16:56:28 [INFO] Parsed kills to Pandas DataFrame\n",
      "16:56:28 [INFO] Parsed grenades to Pandas DataFrame\n",
      "16:56:28 [INFO] Parsed flashes to Pandas DataFrame\n",
      "16:56:28 [INFO] Parsed rounds to Pandas DataFrame\n",
      "16:56:28 [INFO] Parsed damages to Pandas DataFrame\n",
      "16:56:28 [INFO] Running Golang parser from /home/nk095x/cs_demos/csgo/csgo/parser/\n",
      "16:56:28 [INFO] Looking for file at /home/nk095x/cs_demos/csgo/demos/elige/inferno/Inferno/liquid-vs-mousesports-m1-inferno.dem\n",
      "16:56:50 [INFO] Wrote demo parse output to liquid-vs-mousesports-m1-inferno.json\n",
      "16:56:50 [INFO] Reading in JSON from liquid-vs-mousesports-m1-inferno.json\n",
      "16:56:50 [INFO] JSON data loaded, available in the `json` attribute to parser\n"
     ]
    },
    {
     "name": "stderr",
     "output_type": "stream",
     "text": [
      "16:56:50 [INFO] Successfully parsed JSON output\n",
      "16:56:50 [INFO] Successfully returned JSON output\n",
      "16:56:50 [INFO] Running Golang parser from /home/nk095x/cs_demos/csgo/csgo/parser/\n",
      "16:56:50 [INFO] Looking for file at /home/nk095x/cs_demos/csgo/demos/elige/inferno/Inferno/liquid-vs-mousesports-m1-inferno.dem\n",
      "16:57:11 [INFO] Wrote demo parse output to liquid-vs-mousesports-m1-inferno.json\n",
      "16:57:11 [INFO] Reading in JSON from liquid-vs-mousesports-m1-inferno.json\n",
      "16:57:11 [INFO] JSON data loaded, available in the `json` attribute to parser\n",
      "16:57:11 [INFO] Successfully parsed JSON output\n",
      "16:57:11 [INFO] Successfully returned JSON output\n",
      "16:57:11 [INFO] Parsed rounds to Pandas DataFrame\n",
      "16:57:11 [INFO] Parsed kills to Pandas DataFrame\n",
      "16:57:11 [INFO] Parsed damages to Pandas DataFrame\n",
      "16:57:11 [INFO] Parsed grenades to Pandas DataFrame\n",
      "16:57:11 [INFO] Parsed flashes to Pandas DataFrame\n",
      "16:57:11 [INFO] Parsed bomb_events to Pandas DataFrame\n",
      "16:57:11 [INFO] Parsed frames to Pandas DataFrame\n",
      "16:57:12 [INFO] Parsed player frames to Pandas DataFrame\n",
      "16:57:12 [INFO] Returned dataframe output\n",
      "16:57:12 [INFO] Parsed kills to Pandas DataFrame\n",
      "16:57:12 [INFO] Parsed grenades to Pandas DataFrame\n",
      "16:57:12 [INFO] Parsed flashes to Pandas DataFrame\n",
      "16:57:12 [INFO] Parsed rounds to Pandas DataFrame\n",
      "16:57:12 [INFO] Parsed damages to Pandas DataFrame\n",
      "16:57:12 [INFO] Running Golang parser from /home/nk095x/cs_demos/csgo/csgo/parser/\n",
      "16:57:12 [INFO] Looking for file at /home/nk095x/cs_demos/csgo/demos/elige/inferno/Inferno/liquid-vs-natus-vincere-m1-inferno.dem\n",
      "16:57:33 [INFO] Wrote demo parse output to liquid-vs-natus-vincere-m1-inferno.json\n",
      "16:57:33 [INFO] Reading in JSON from liquid-vs-natus-vincere-m1-inferno.json\n",
      "16:57:34 [INFO] JSON data loaded, available in the `json` attribute to parser\n",
      "16:57:34 [INFO] Successfully parsed JSON output\n",
      "16:57:34 [INFO] Successfully returned JSON output\n",
      "16:57:34 [INFO] Running Golang parser from /home/nk095x/cs_demos/csgo/csgo/parser/\n",
      "16:57:34 [INFO] Looking for file at /home/nk095x/cs_demos/csgo/demos/elige/inferno/Inferno/liquid-vs-natus-vincere-m1-inferno.dem\n",
      "16:57:55 [INFO] Wrote demo parse output to liquid-vs-natus-vincere-m1-inferno.json\n",
      "16:57:55 [INFO] Reading in JSON from liquid-vs-natus-vincere-m1-inferno.json\n",
      "16:57:55 [INFO] JSON data loaded, available in the `json` attribute to parser\n",
      "16:57:55 [INFO] Successfully parsed JSON output\n",
      "16:57:55 [INFO] Successfully returned JSON output\n",
      "16:57:55 [INFO] Parsed rounds to Pandas DataFrame\n",
      "16:57:55 [INFO] Parsed kills to Pandas DataFrame\n",
      "16:57:55 [INFO] Parsed damages to Pandas DataFrame\n",
      "16:57:55 [INFO] Parsed grenades to Pandas DataFrame\n",
      "16:57:55 [INFO] Parsed flashes to Pandas DataFrame\n",
      "16:57:55 [INFO] Parsed bomb_events to Pandas DataFrame\n",
      "16:57:56 [INFO] Parsed frames to Pandas DataFrame\n",
      "16:57:56 [INFO] Parsed player frames to Pandas DataFrame\n",
      "16:57:56 [INFO] Returned dataframe output\n",
      "16:57:56 [INFO] Parsed kills to Pandas DataFrame\n",
      "16:57:56 [INFO] Parsed grenades to Pandas DataFrame\n",
      "16:57:56 [INFO] Parsed flashes to Pandas DataFrame\n",
      "16:57:56 [INFO] Parsed rounds to Pandas DataFrame\n",
      "16:57:56 [INFO] Parsed damages to Pandas DataFrame\n",
      "16:57:56 [INFO] Running Golang parser from /home/nk095x/cs_demos/csgo/csgo/parser/\n",
      "16:57:56 [INFO] Looking for file at /home/nk095x/cs_demos/csgo/demos/elige/inferno/Inferno/liquid-vs-pain-m3-inferno.dem\n",
      "16:58:12 [INFO] Wrote demo parse output to liquid-vs-pain-m3-inferno.json\n",
      "16:58:12 [INFO] Reading in JSON from liquid-vs-pain-m3-inferno.json\n",
      "16:58:13 [INFO] JSON data loaded, available in the `json` attribute to parser\n",
      "16:58:13 [INFO] Successfully parsed JSON output\n",
      "16:58:13 [INFO] Successfully returned JSON output\n",
      "16:58:13 [INFO] Running Golang parser from /home/nk095x/cs_demos/csgo/csgo/parser/\n",
      "16:58:13 [INFO] Looking for file at /home/nk095x/cs_demos/csgo/demos/elige/inferno/Inferno/liquid-vs-pain-m3-inferno.dem\n",
      "16:58:30 [INFO] Wrote demo parse output to liquid-vs-pain-m3-inferno.json\n",
      "16:58:30 [INFO] Reading in JSON from liquid-vs-pain-m3-inferno.json\n",
      "16:58:31 [INFO] JSON data loaded, available in the `json` attribute to parser\n",
      "16:58:31 [INFO] Successfully parsed JSON output\n",
      "16:58:31 [INFO] Successfully returned JSON output\n",
      "16:58:31 [INFO] Parsed rounds to Pandas DataFrame\n",
      "16:58:31 [INFO] Parsed kills to Pandas DataFrame\n",
      "16:58:31 [INFO] Parsed damages to Pandas DataFrame\n",
      "16:58:31 [INFO] Parsed grenades to Pandas DataFrame\n",
      "16:58:31 [INFO] Parsed flashes to Pandas DataFrame\n",
      "16:58:31 [INFO] Parsed bomb_events to Pandas DataFrame\n",
      "16:58:31 [INFO] Parsed frames to Pandas DataFrame\n",
      "16:58:31 [INFO] Parsed player frames to Pandas DataFrame\n",
      "16:58:31 [INFO] Returned dataframe output\n",
      "16:58:31 [INFO] Parsed kills to Pandas DataFrame\n",
      "16:58:31 [INFO] Parsed grenades to Pandas DataFrame\n",
      "16:58:31 [INFO] Parsed flashes to Pandas DataFrame\n",
      "16:58:31 [INFO] Parsed rounds to Pandas DataFrame\n",
      "16:58:31 [INFO] Parsed damages to Pandas DataFrame\n",
      "16:58:31 [INFO] Running Golang parser from /home/nk095x/cs_demos/csgo/csgo/parser/\n",
      "16:58:31 [INFO] Looking for file at /home/nk095x/cs_demos/csgo/demos/elige/inferno/Inferno/liquid-vs-triumph-m1-inferno.dem\n",
      "16:58:50 [INFO] Wrote demo parse output to liquid-vs-triumph-m1-inferno.json\n",
      "16:58:50 [INFO] Reading in JSON from liquid-vs-triumph-m1-inferno.json\n",
      "16:58:51 [INFO] JSON data loaded, available in the `json` attribute to parser\n",
      "16:58:51 [INFO] Successfully parsed JSON output\n",
      "16:58:51 [INFO] Successfully returned JSON output\n",
      "16:58:51 [INFO] Running Golang parser from /home/nk095x/cs_demos/csgo/csgo/parser/\n",
      "16:58:51 [INFO] Looking for file at /home/nk095x/cs_demos/csgo/demos/elige/inferno/Inferno/liquid-vs-triumph-m1-inferno.dem\n",
      "16:59:09 [INFO] Wrote demo parse output to liquid-vs-triumph-m1-inferno.json\n",
      "16:59:09 [INFO] Reading in JSON from liquid-vs-triumph-m1-inferno.json\n",
      "16:59:09 [INFO] JSON data loaded, available in the `json` attribute to parser\n",
      "16:59:09 [INFO] Successfully parsed JSON output\n",
      "16:59:09 [INFO] Successfully returned JSON output\n",
      "16:59:09 [INFO] Parsed rounds to Pandas DataFrame\n",
      "16:59:09 [INFO] Parsed kills to Pandas DataFrame\n",
      "16:59:09 [INFO] Parsed damages to Pandas DataFrame\n",
      "16:59:10 [INFO] Parsed grenades to Pandas DataFrame\n",
      "16:59:10 [INFO] Parsed flashes to Pandas DataFrame\n",
      "16:59:10 [INFO] Parsed bomb_events to Pandas DataFrame\n",
      "16:59:10 [INFO] Parsed frames to Pandas DataFrame\n",
      "16:59:10 [INFO] Parsed player frames to Pandas DataFrame\n",
      "16:59:10 [INFO] Returned dataframe output\n",
      "16:59:10 [INFO] Parsed kills to Pandas DataFrame\n",
      "16:59:10 [INFO] Parsed grenades to Pandas DataFrame\n",
      "16:59:10 [INFO] Parsed flashes to Pandas DataFrame\n",
      "16:59:10 [INFO] Parsed rounds to Pandas DataFrame\n",
      "16:59:10 [INFO] Parsed damages to Pandas DataFrame\n",
      "16:59:10 [INFO] Running Golang parser from /home/nk095x/cs_demos/csgo/csgo/parser/\n",
      "16:59:10 [INFO] Looking for file at /home/nk095x/cs_demos/csgo/demos/elige/inferno/Inferno/liquid-vs-triumph-m2-inferno_2347105.dem\n",
      "16:59:29 [INFO] Wrote demo parse output to liquid-vs-triumph-m2-inferno.json\n",
      "16:59:29 [INFO] Reading in JSON from liquid-vs-triumph-m2-inferno.json\n",
      "16:59:30 [INFO] JSON data loaded, available in the `json` attribute to parser\n",
      "16:59:30 [INFO] Successfully parsed JSON output\n",
      "16:59:30 [INFO] Successfully returned JSON output\n",
      "16:59:30 [INFO] Running Golang parser from /home/nk095x/cs_demos/csgo/csgo/parser/\n",
      "16:59:30 [INFO] Looking for file at /home/nk095x/cs_demos/csgo/demos/elige/inferno/Inferno/liquid-vs-triumph-m2-inferno_2347105.dem\n",
      "16:59:49 [INFO] Wrote demo parse output to liquid-vs-triumph-m2-inferno.json\n",
      "16:59:49 [INFO] Reading in JSON from liquid-vs-triumph-m2-inferno.json\n",
      "16:59:50 [INFO] JSON data loaded, available in the `json` attribute to parser\n",
      "16:59:50 [INFO] Successfully parsed JSON output\n",
      "16:59:50 [INFO] Successfully returned JSON output\n",
      "16:59:50 [INFO] Parsed rounds to Pandas DataFrame\n",
      "16:59:50 [INFO] Parsed kills to Pandas DataFrame\n",
      "16:59:50 [INFO] Parsed damages to Pandas DataFrame\n",
      "16:59:50 [INFO] Parsed grenades to Pandas DataFrame\n",
      "16:59:50 [INFO] Parsed flashes to Pandas DataFrame\n",
      "16:59:50 [INFO] Parsed bomb_events to Pandas DataFrame\n",
      "16:59:50 [INFO] Parsed frames to Pandas DataFrame\n",
      "16:59:50 [INFO] Parsed player frames to Pandas DataFrame\n",
      "16:59:50 [INFO] Returned dataframe output\n"
     ]
    },
    {
     "name": "stderr",
     "output_type": "stream",
     "text": [
      "16:59:50 [INFO] Parsed kills to Pandas DataFrame\n",
      "16:59:50 [INFO] Parsed grenades to Pandas DataFrame\n",
      "16:59:50 [INFO] Parsed flashes to Pandas DataFrame\n",
      "16:59:50 [INFO] Parsed rounds to Pandas DataFrame\n",
      "16:59:50 [INFO] Parsed damages to Pandas DataFrame\n",
      "16:59:50 [INFO] Running Golang parser from /home/nk095x/cs_demos/csgo/csgo/parser/\n",
      "16:59:50 [INFO] Looking for file at /home/nk095x/cs_demos/csgo/demos/elige/inferno/Inferno/mibr-vs-liquid-m2-inferno.dem\n",
      "17:00:07 [INFO] Wrote demo parse output to mibr-vs-liquid-m2-inferno.json\n",
      "17:00:07 [INFO] Reading in JSON from mibr-vs-liquid-m2-inferno.json\n",
      "17:00:08 [INFO] JSON data loaded, available in the `json` attribute to parser\n",
      "17:00:08 [INFO] Successfully parsed JSON output\n",
      "17:00:08 [INFO] Successfully returned JSON output\n",
      "17:00:08 [INFO] Running Golang parser from /home/nk095x/cs_demos/csgo/csgo/parser/\n",
      "17:00:08 [INFO] Looking for file at /home/nk095x/cs_demos/csgo/demos/elige/inferno/Inferno/mibr-vs-liquid-m2-inferno.dem\n",
      "17:00:25 [INFO] Wrote demo parse output to mibr-vs-liquid-m2-inferno.json\n",
      "17:00:25 [INFO] Reading in JSON from mibr-vs-liquid-m2-inferno.json\n",
      "17:00:26 [INFO] JSON data loaded, available in the `json` attribute to parser\n",
      "17:00:26 [INFO] Successfully parsed JSON output\n",
      "17:00:26 [INFO] Successfully returned JSON output\n",
      "17:00:26 [INFO] Parsed rounds to Pandas DataFrame\n",
      "17:00:26 [INFO] Parsed kills to Pandas DataFrame\n",
      "17:00:26 [INFO] Parsed damages to Pandas DataFrame\n",
      "17:00:26 [INFO] Parsed grenades to Pandas DataFrame\n",
      "17:00:26 [INFO] Parsed flashes to Pandas DataFrame\n",
      "17:00:26 [INFO] Parsed bomb_events to Pandas DataFrame\n",
      "17:00:26 [INFO] Parsed frames to Pandas DataFrame\n",
      "17:00:26 [INFO] Parsed player frames to Pandas DataFrame\n",
      "17:00:26 [INFO] Returned dataframe output\n",
      "17:00:26 [INFO] Parsed kills to Pandas DataFrame\n",
      "17:00:26 [INFO] Parsed grenades to Pandas DataFrame\n",
      "17:00:26 [INFO] Parsed flashes to Pandas DataFrame\n",
      "17:00:26 [INFO] Parsed rounds to Pandas DataFrame\n",
      "17:00:26 [INFO] Parsed damages to Pandas DataFrame\n",
      "17:00:26 [INFO] Running Golang parser from /home/nk095x/cs_demos/csgo/csgo/parser/\n",
      "17:00:26 [INFO] Looking for file at /home/nk095x/cs_demos/csgo/demos/elige/inferno/Inferno/natus-vincere-vs-liquid-m1-inferno.dem\n",
      "17:00:43 [INFO] Wrote demo parse output to natus-vincere-vs-liquid-m1-inferno.json\n",
      "17:00:43 [INFO] Reading in JSON from natus-vincere-vs-liquid-m1-inferno.json\n",
      "17:00:44 [INFO] JSON data loaded, available in the `json` attribute to parser\n",
      "17:00:44 [INFO] Successfully parsed JSON output\n",
      "17:00:44 [INFO] Successfully returned JSON output\n",
      "17:00:44 [INFO] Running Golang parser from /home/nk095x/cs_demos/csgo/csgo/parser/\n",
      "17:00:44 [INFO] Looking for file at /home/nk095x/cs_demos/csgo/demos/elige/inferno/Inferno/natus-vincere-vs-liquid-m1-inferno.dem\n",
      "17:01:03 [INFO] Wrote demo parse output to natus-vincere-vs-liquid-m1-inferno.json\n",
      "17:01:03 [INFO] Reading in JSON from natus-vincere-vs-liquid-m1-inferno.json\n",
      "17:01:04 [INFO] JSON data loaded, available in the `json` attribute to parser\n",
      "17:01:04 [INFO] Successfully parsed JSON output\n",
      "17:01:04 [INFO] Successfully returned JSON output\n",
      "17:01:04 [INFO] Parsed rounds to Pandas DataFrame\n",
      "17:01:04 [INFO] Parsed kills to Pandas DataFrame\n",
      "17:01:04 [INFO] Parsed damages to Pandas DataFrame\n",
      "17:01:04 [INFO] Parsed grenades to Pandas DataFrame\n",
      "17:01:04 [INFO] Parsed flashes to Pandas DataFrame\n",
      "17:01:04 [INFO] Parsed bomb_events to Pandas DataFrame\n",
      "17:01:04 [INFO] Parsed frames to Pandas DataFrame\n",
      "17:01:04 [INFO] Parsed player frames to Pandas DataFrame\n",
      "17:01:04 [INFO] Returned dataframe output\n",
      "17:01:04 [INFO] Parsed kills to Pandas DataFrame\n",
      "17:01:04 [INFO] Parsed grenades to Pandas DataFrame\n",
      "17:01:04 [INFO] Parsed flashes to Pandas DataFrame\n",
      "17:01:04 [INFO] Parsed rounds to Pandas DataFrame\n",
      "17:01:04 [INFO] Parsed damages to Pandas DataFrame\n"
     ]
    }
   ],
   "source": [
    "maps, kills, nades, flashs, rounds, damages = generateData(demoParsers)"
   ]
  },
  {
   "cell_type": "code",
   "execution_count": 15,
   "id": "legendary-bench",
   "metadata": {},
   "outputs": [],
   "source": [
    "failedDemos = []\n",
    "eligeMaps, eligeKills, eligeNades, eligeFlashs, eligeRounds, eligeDamages = [], [], [], [], [], []\n",
    "for x in range(len(kills)):\n",
    "    if(kills[x].shape[0] > 100):\n",
    "        eligeMaps.append(maps[x])\n",
    "        eligeKills.append(kills[x])\n",
    "        eligeNades.append(nades[x])\n",
    "        eligeFlashs.append(flashs[x])\n",
    "        eligeRounds.append(rounds[x])\n",
    "        eligeDamages.append(damages[x])\n",
    "    else:\n",
    "        failedDemos.append(x)"
   ]
  },
  {
   "cell_type": "code",
   "execution_count": 16,
   "id": "honest-asbestos",
   "metadata": {},
   "outputs": [],
   "source": [
    "killData = concat_data(eligeKills)\n",
    "nadeData = concat_data(eligeNades)\n",
    "flashData = concat_data(eligeFlashs)\n",
    "roundData = concat_data(eligeRounds)\n",
    "damageData = concat_data(eligeDamages)"
   ]
  },
  {
   "cell_type": "code",
   "execution_count": 17,
   "id": "contrary-lunch",
   "metadata": {
    "scrolled": false
   },
   "outputs": [
    {
     "data": {
      "text/plain": [
       "387"
      ]
     },
     "execution_count": 17,
     "metadata": {},
     "output_type": "execute_result"
    }
   ],
   "source": [
    "rounds = 0\n",
    "for x in roundData.MatchId.unique():\n",
    "    rounds += roundData[roundData['MatchId'] == x].RoundNum.iloc[-1]\n",
    "rounds"
   ]
  },
  {
   "cell_type": "code",
   "execution_count": 18,
   "id": "blank-indication",
   "metadata": {},
   "outputs": [
    {
     "data": {
      "text/plain": [
       "Index(['Tick', 'Second', 'AttackerSteamId', 'AttackerName', 'AttackerTeam',\n",
       "       'AttackerSide', 'AttackerX', 'AttackerY', 'AttackerZ', 'AttackerAreaId',\n",
       "       'AttackerAreaName', 'AttackerViewX', 'AttackerViewY', 'PlayerSteamId',\n",
       "       'PlayerName', 'PlayerTeam', 'PlayerSide', 'PlayerX', 'PlayerY',\n",
       "       'PlayerZ', 'PlayerAreaId', 'PlayerAreaName', 'PlayerViewX',\n",
       "       'PlayerViewY', 'RoundNum', 'MatchId', 'MapName'],\n",
       "      dtype='object')"
      ]
     },
     "execution_count": 18,
     "metadata": {},
     "output_type": "execute_result"
    }
   ],
   "source": [
    "flashData.columns"
   ]
  },
  {
   "cell_type": "code",
   "execution_count": 19,
   "id": "soviet-officer",
   "metadata": {},
   "outputs": [],
   "source": [
    "eligeDamage = damageData[(damageData['AttackerName'] == 'EliGE') |(damageData['VictimName'] == 'EliGE')]"
   ]
  },
  {
   "cell_type": "code",
   "execution_count": 20,
   "id": "little-brazil",
   "metadata": {},
   "outputs": [],
   "source": [
    "eligeKills = killData[(killData['AttackerName'] == 'EliGE') | (killData['VictimName'] == 'EliGE')]"
   ]
  },
  {
   "cell_type": "code",
   "execution_count": 21,
   "id": "correct-certification",
   "metadata": {
    "scrolled": true
   },
   "outputs": [
    {
     "data": {
      "text/plain": [
       "AK-47                 44.5%\n",
       "M4A4                  15.2%\n",
       "AUG                   14.8%\n",
       "Desert Eagle           8.1%\n",
       "Glock-18               3.9%\n",
       "USP-S                  3.5%\n",
       "FAMAS                  2.1%\n",
       "Galil AR               1.4%\n",
       "MP9                    1.1%\n",
       "Molotov                1.1%\n",
       "UMP-45                 1.1%\n",
       "P2000                  0.7%\n",
       "MAC-10                 0.7%\n",
       "HE Grenade             0.7%\n",
       "p250                   0.4%\n",
       "Incendiary Grenade     0.4%\n",
       "Dual Berettas          0.4%\n",
       "Name: Weapon, dtype: object"
      ]
     },
     "execution_count": 21,
     "metadata": {},
     "output_type": "execute_result"
    }
   ],
   "source": [
    "## Frequency Distribution of Weapons Used when getting Kills\n",
    "eligeKills[eligeKills['AttackerName'] == 'EliGE'].Weapon.value_counts(normalize=True).mul(100).round(1).astype(str) + '%'"
   ]
  },
  {
   "cell_type": "code",
   "execution_count": 22,
   "id": "discrete-translator",
   "metadata": {},
   "outputs": [
    {
     "name": "stderr",
     "output_type": "stream",
     "text": [
      "/home/nk095x/.local/lib/python3.7/site-packages/ipykernel_launcher.py:2: UserWarning: Boolean Series key will be reindexed to match DataFrame index.\n",
      "  \n"
     ]
    },
    {
     "data": {
      "text/plain": [
       "AUG                   27.3%\n",
       "M4A4                  25.3%\n",
       "AK-47                 20.8%\n",
       "Desert Eagle          11.0%\n",
       "USP-S                  6.5%\n",
       "FAMAS                  3.9%\n",
       "P2000                  1.3%\n",
       "UMP-45                 0.6%\n",
       "MP9                    0.6%\n",
       "p250                   0.6%\n",
       "Incendiary Grenade     0.6%\n",
       "Dual Berettas          0.6%\n",
       "HE Grenade             0.6%\n",
       "Name: Weapon, dtype: object"
      ]
     },
     "execution_count": 22,
     "metadata": {},
     "output_type": "execute_result"
    }
   ],
   "source": [
    "## Frequency Distribution of Weapons Used when getting Kills on CT Side\n",
    "eligeKills[eligeKills['AttackerName'] == 'EliGE'][eligeKills['AttackerSide'] == 'CT'].Weapon.value_counts(normalize=True).mul(100).round(1).astype(str) + '%'"
   ]
  },
  {
   "cell_type": "code",
   "execution_count": 23,
   "id": "involved-development",
   "metadata": {},
   "outputs": [
    {
     "name": "stderr",
     "output_type": "stream",
     "text": [
      "/home/nk095x/.local/lib/python3.7/site-packages/ipykernel_launcher.py:2: UserWarning: Boolean Series key will be reindexed to match DataFrame index.\n",
      "  \n"
     ]
    },
    {
     "data": {
      "text/plain": [
       "AK-47           72.9%\n",
       "Glock-18         8.5%\n",
       "Desert Eagle     4.7%\n",
       "M4A4             3.1%\n",
       "Galil AR         3.1%\n",
       "Molotov          2.3%\n",
       "MP9              1.6%\n",
       "MAC-10           1.6%\n",
       "UMP-45           1.6%\n",
       "HE Grenade       0.8%\n",
       "Name: Weapon, dtype: object"
      ]
     },
     "execution_count": 23,
     "metadata": {},
     "output_type": "execute_result"
    }
   ],
   "source": [
    "## Frequency Distribution of Weapons Used when getting Kills on T Side\n",
    "eligeKills[eligeKills['AttackerName'] == 'EliGE'][eligeKills['AttackerSide'] == 'T'].Weapon.value_counts(normalize=True).mul(100).round(1).astype(str) + '%'"
   ]
  },
  {
   "cell_type": "code",
   "execution_count": 24,
   "id": "saving-madrid",
   "metadata": {},
   "outputs": [
    {
     "data": {
      "text/plain": [
       "BombsiteA     20.8%\n",
       "BombsiteB     17.0%\n",
       "Apartments    11.3%\n",
       "Banana         9.9%\n",
       "TopofMid       8.8%\n",
       "Middle         6.4%\n",
       "Pit            5.7%\n",
       "Graveyard      3.9%\n",
       "Balcony        3.2%\n",
       "CTSpawn        3.2%\n",
       "Ruins          3.2%\n",
       "Arch           2.8%\n",
       "Library        1.8%\n",
       "Quad           0.7%\n",
       "LowerMid       0.4%\n",
       "Underpass      0.4%\n",
       "SecondMid      0.4%\n",
       "TRamp          0.4%\n",
       "Name: AttackerAreaName, dtype: object"
      ]
     },
     "execution_count": 24,
     "metadata": {},
     "output_type": "execute_result"
    }
   ],
   "source": [
    "## Frequency Distribution of your location when you got a kill\n",
    "eligeKills[eligeKills['AttackerName'] == 'EliGE'].AttackerAreaName.value_counts(normalize=True).mul(100).round(1).astype(str) + '%'"
   ]
  },
  {
   "cell_type": "code",
   "execution_count": 25,
   "id": "retained-ocean",
   "metadata": {},
   "outputs": [
    {
     "name": "stderr",
     "output_type": "stream",
     "text": [
      "/home/nk095x/.local/lib/python3.7/site-packages/ipykernel_launcher.py:2: UserWarning: Boolean Series key will be reindexed to match DataFrame index.\n",
      "  \n"
     ]
    },
    {
     "data": {
      "text/plain": [
       "BombsiteA     27.9%\n",
       "BombsiteB     13.6%\n",
       "TopofMid       9.7%\n",
       "Graveyard      7.1%\n",
       "Apartments     7.1%\n",
       "Pit            5.8%\n",
       "Banana         5.2%\n",
       "Ruins          5.2%\n",
       "CTSpawn        3.9%\n",
       "Middle         3.2%\n",
       "Arch           3.2%\n",
       "Balcony        2.6%\n",
       "Library        2.6%\n",
       "Quad           1.3%\n",
       "TRamp          0.6%\n",
       "LowerMid       0.6%\n",
       "Name: AttackerAreaName, dtype: object"
      ]
     },
     "execution_count": 25,
     "metadata": {},
     "output_type": "execute_result"
    }
   ],
   "source": [
    "## Frequency Distribution of your location when you got a kill on CT Side\n",
    "eligeKills[eligeKills['AttackerName'] == 'EliGE'][eligeKills['AttackerSide'] == 'CT'].AttackerAreaName.value_counts(normalize=True).mul(100).round(1).astype(str) + '%'"
   ]
  },
  {
   "cell_type": "code",
   "execution_count": 26,
   "id": "sized-speaking",
   "metadata": {},
   "outputs": [
    {
     "name": "stderr",
     "output_type": "stream",
     "text": [
      "/home/nk095x/.local/lib/python3.7/site-packages/ipykernel_launcher.py:2: UserWarning: Boolean Series key will be reindexed to match DataFrame index.\n",
      "  \n"
     ]
    },
    {
     "data": {
      "text/plain": [
       "BombsiteB     20.9%\n",
       "Apartments    16.3%\n",
       "Banana        15.5%\n",
       "BombsiteA     12.4%\n",
       "Middle        10.1%\n",
       "TopofMid       7.8%\n",
       "Pit            5.4%\n",
       "Balcony        3.9%\n",
       "Arch           2.3%\n",
       "CTSpawn        2.3%\n",
       "Ruins          0.8%\n",
       "SecondMid      0.8%\n",
       "Library        0.8%\n",
       "Underpass      0.8%\n",
       "Name: AttackerAreaName, dtype: object"
      ]
     },
     "execution_count": 26,
     "metadata": {},
     "output_type": "execute_result"
    }
   ],
   "source": [
    "## Frequency Distribution of your location when you got a kill on T Side\n",
    "eligeKills[eligeKills['AttackerName'] == 'EliGE'][eligeKills['AttackerSide'] == 'T'].AttackerAreaName.value_counts(normalize=True).mul(100).round(1).astype(str) + '%'"
   ]
  },
  {
   "cell_type": "code",
   "execution_count": 27,
   "id": "beneficial-branch",
   "metadata": {},
   "outputs": [
    {
     "name": "stderr",
     "output_type": "stream",
     "text": [
      "/home/nk095x/.local/lib/python3.7/site-packages/ipykernel_launcher.py:2: UserWarning: Boolean Series key will be reindexed to match DataFrame index.\n",
      "  \n",
      "/home/nk095x/.local/lib/python3.7/site-packages/ipykernel_launcher.py:2: UserWarning: Boolean Series key will be reindexed to match DataFrame index.\n",
      "  \n"
     ]
    },
    {
     "data": {
      "text/plain": [
       "BombsiteA     27.6%\n",
       "Apartments    27.6%\n",
       "TopofMid      20.7%\n",
       "Balcony        3.4%\n",
       "LowerMid       3.4%\n",
       "Graveyard      3.4%\n",
       "BombsiteB      3.4%\n",
       "Library        3.4%\n",
       "Banana         3.4%\n",
       "Arch           3.4%\n",
       "Name: AttackerAreaName, dtype: object"
      ]
     },
     "execution_count": 27,
     "metadata": {},
     "output_type": "execute_result"
    }
   ],
   "source": [
    "## Frequency Distribution of your location when you got a kill on CT Side and its the first kill in the round (5v4 creation opportunities)\n",
    "eligeKills[eligeKills['AttackerName'] == 'EliGE'][eligeKills['AttackerSide'] == 'CT'][eligeKills['IsFirstKill'] == True].AttackerAreaName.value_counts(normalize=True).mul(100).round(1).astype(str) + '%'"
   ]
  },
  {
   "cell_type": "code",
   "execution_count": 28,
   "id": "authorized-raleigh",
   "metadata": {},
   "outputs": [
    {
     "name": "stderr",
     "output_type": "stream",
     "text": [
      "/home/nk095x/.local/lib/python3.7/site-packages/ipykernel_launcher.py:2: UserWarning: Boolean Series key will be reindexed to match DataFrame index.\n",
      "  \n",
      "/home/nk095x/.local/lib/python3.7/site-packages/ipykernel_launcher.py:2: UserWarning: Boolean Series key will be reindexed to match DataFrame index.\n",
      "  \n"
     ]
    },
    {
     "data": {
      "text/plain": [
       "Apartments    33.3%\n",
       "Middle        22.2%\n",
       "Banana        16.7%\n",
       "Arch           5.6%\n",
       "Balcony        5.6%\n",
       "BombsiteA      5.6%\n",
       "BombsiteB      5.6%\n",
       "SecondMid      5.6%\n",
       "Name: AttackerAreaName, dtype: object"
      ]
     },
     "execution_count": 28,
     "metadata": {},
     "output_type": "execute_result"
    }
   ],
   "source": [
    "## Frequency Distribution of your location when you got a kill on T Side and its the first kill in the round (5v4 creation opportunities)\n",
    "eligeKills[eligeKills['AttackerName'] == 'EliGE'][eligeKills['AttackerSide'] == 'T'][eligeKills['IsFirstKill'] == True].AttackerAreaName.value_counts(normalize=True).mul(100).round(1).astype(str) + '%'"
   ]
  },
  {
   "cell_type": "code",
   "execution_count": 29,
   "id": "graphic-thermal",
   "metadata": {},
   "outputs": [
    {
     "name": "stderr",
     "output_type": "stream",
     "text": [
      "/home/nk095x/.local/lib/python3.7/site-packages/ipykernel_launcher.py:4: UserWarning: Boolean Series key will be reindexed to match DataFrame index.\n",
      "  after removing the cwd from sys.path.\n",
      "/home/nk095x/.local/lib/python3.7/site-packages/ipykernel_launcher.py:5: UserWarning: Boolean Series key will be reindexed to match DataFrame index.\n",
      "  \"\"\"\n",
      "/home/nk095x/.local/lib/python3.7/site-packages/ipykernel_launcher.py:8: UserWarning: Boolean Series key will be reindexed to match DataFrame index.\n",
      "  \n",
      "/home/nk095x/.local/lib/python3.7/site-packages/ipykernel_launcher.py:9: UserWarning: Boolean Series key will be reindexed to match DataFrame index.\n",
      "  if __name__ == '__main__':\n"
     ]
    },
    {
     "name": "stdout",
     "output_type": "stream",
     "text": [
      "| Places     |   Kills |   Deaths |   KD Diff | Damage Dealt   | Damage Taken   | Damage Differential   | DD Per 30           |\n",
      "|------------|---------|----------|-----------|----------------|----------------|-----------------------|---------------------|\n",
      "| Banana     |       8 |        2 |         6 | 441            | 249            | 192                   | 14.883720930232558  |\n",
      "| BombsiteB  |      21 |       22 |        -1 | 1928           | 2513           | -585                  | -45.348837209302324 |\n",
      "| Apartments |      11 |       15 |        -4 | 1349           | 1763           | -414                  | -32.093023255813954 |\n",
      "| Graveyard  |      11 |        6 |         5 | 1074           | 530            | 544                   | 42.17054263565891   |\n",
      "| BackAlley  |       0 |        1 |        -1 | N/A            | N/A            | N/A                   | N/A                 |\n",
      "| BombsiteA  |      43 |       30 |        13 | 4310           | 3627           | 683                   | 52.945736434108525  |\n",
      "| TopofMid   |      15 |        7 |         8 | 1926           | 1204           | 722                   | 55.968992248062015  |\n",
      "| Quad       |       2 |        4 |        -2 | 345            | 387            | -42                   | -3.255813953488372  |\n",
      "| Balcony    |       4 |        0 |         4 | 356            | 25             | 331                   | 25.65891472868217   |\n",
      "| Arch       |       5 |        6 |        -1 | 780            | 640            | 140                   | 10.852713178294573  |\n",
      "| CTSpawn    |       6 |        2 |         4 | 836            | 349            | 487                   | 37.751937984496124  |\n",
      "| Middle     |       5 |        6 |        -1 | 498            | 666            | -168                  | -13.023255813953488 |\n",
      "| Pit        |       9 |       10 |        -1 | 939            | 901            | 38                    | 2.945736434108527   |\n",
      "| Library    |       4 |        5 |        -1 | 572            | 526            | 46                    | 3.565891472868217   |\n",
      "| Ruins      |       8 |       11 |        -3 | 700            | 1060           | -360                  | -27.906976744186046 |\n",
      "| Kitchen    |       0 |        0 |         0 | 23             | 0              | 23                    | 1.7829457364341086  |\n",
      "| TRamp      |       1 |        1 |         0 | 21             | 200            | -179                  | -13.875968992248062 |\n",
      "| LowerMid   |       1 |        1 |         0 | 142            | 100            | 42                    | 3.255813953488372   |\n",
      "| SecondMid  |       0 |        0 |         0 | 42             | 0              | 42                    | 3.255813953488372   |\n",
      "| Underpass  |       0 |        0 |         0 | 20             | 29             | -9                    | -0.6976744186046512 |\n",
      "| Bridge     |       0 |        0 |         0 | N/A            | N/A            | N/A                   | N/A                 |\n",
      "|            |       0 |        0 |         0 | N/A            | N/A            | N/A                   | N/A                 |\n"
     ]
    }
   ],
   "source": [
    "## Printed table of volume kills, deaths, kd differentials, volume damage dealt, damage taken, and damage diferential also damage differnetial scaled over 30 rounds, all these aforementioned metrics broken down by locaiton. THis is for CT Side\n",
    "print(prettyPrintPlayerDamageTable(eligeDamage, eligeKills, ['EliGE'], 'CT', rounds))"
   ]
  },
  {
   "cell_type": "code",
   "execution_count": 30,
   "id": "proved-potato",
   "metadata": {},
   "outputs": [
    {
     "name": "stderr",
     "output_type": "stream",
     "text": [
      "/home/nk095x/.local/lib/python3.7/site-packages/ipykernel_launcher.py:4: UserWarning: Boolean Series key will be reindexed to match DataFrame index.\n",
      "  after removing the cwd from sys.path.\n",
      "/home/nk095x/.local/lib/python3.7/site-packages/ipykernel_launcher.py:5: UserWarning: Boolean Series key will be reindexed to match DataFrame index.\n",
      "  \"\"\"\n"
     ]
    },
    {
     "name": "stdout",
     "output_type": "stream",
     "text": [
      "| Places     |   Kills |   Deaths |   KD Diff | Damage Dealt   | Damage Taken   | Damage Differential   | DD Per 30            |\n",
      "|------------|---------|----------|-----------|----------------|----------------|-----------------------|----------------------|\n",
      "| Banana     |      20 |       17 |         3 | 1919           | 2044           | -125                  | -9.689922480620154   |\n",
      "| BombsiteB  |      27 |       33 |        -6 | 2875           | 3307           | -432                  | -33.48837209302326   |\n",
      "| Apartments |      21 |       14 |         7 | 2215           | 1803           | 412                   | 31.93798449612403    |\n",
      "| Graveyard  |       0 |        1 |        -1 | 189            | 125            | 64                    | 4.961240310077519    |\n",
      "| BackAlley  |       0 |        0 |         0 | N/A            | N/A            | N/A                   | N/A                  |\n",
      "| BombsiteA  |      16 |       18 |        -2 | 1905           | 1962           | -57                   | -4.4186046511627906  |\n",
      "| TopofMid   |      10 |       20 |       -10 | 1462           | 2277           | -815                  | -63.17829457364341   |\n",
      "| Quad       |       0 |        0 |         0 | 27             | 12             | 15                    | 1.1627906976744187   |\n",
      "| Balcony    |       5 |        5 |         0 | 569            | 762            | -193                  | -14.96124031007752   |\n",
      "| Arch       |       3 |        1 |         2 | 381            | 209            | 172                   | 13.333333333333334   |\n",
      "| CTSpawn    |       3 |        2 |         1 | 173            | 150            | 23                    | 1.7829457364341086   |\n",
      "| Middle     |      13 |       10 |         3 | 1375           | 1326           | 49                    | 3.798449612403101    |\n",
      "| Pit        |       7 |        9 |        -2 | 774            | 805            | -31                   | -2.4031007751937983  |\n",
      "| Library    |       1 |        0 |         1 | 0              | 0              | 0                     | 0.0                  |\n",
      "| Ruins      |       1 |        2 |        -1 | 113            | 206            | -93                   | -7.209302325581396   |\n",
      "| Kitchen    |       0 |        0 |         0 | 37             | 111            | -74                   | -5.736434108527132   |\n",
      "| TRamp      |       0 |        2 |        -2 | 65             | 100            | -35                   | -2.7131782945736433  |\n",
      "| LowerMid   |       0 |        0 |         0 | 0              | 2              | -2                    | -0.15503875968992248 |\n",
      "| SecondMid  |       1 |        3 |        -2 | 127            | 594            | -467                  | -36.201550387596896  |\n",
      "| Underpass  |       1 |        2 |        -1 | 103            | 217            | -114                  | -8.837209302325581   |\n",
      "| Bridge     |       0 |        0 |         0 | N/A            | N/A            | N/A                   | N/A                  |\n",
      "|            |       0 |        0 |         0 | N/A            | N/A            | N/A                   | N/A                  |\n"
     ]
    },
    {
     "name": "stderr",
     "output_type": "stream",
     "text": [
      "/home/nk095x/.local/lib/python3.7/site-packages/ipykernel_launcher.py:8: UserWarning: Boolean Series key will be reindexed to match DataFrame index.\n",
      "  \n",
      "/home/nk095x/.local/lib/python3.7/site-packages/ipykernel_launcher.py:9: UserWarning: Boolean Series key will be reindexed to match DataFrame index.\n",
      "  if __name__ == '__main__':\n"
     ]
    }
   ],
   "source": [
    "## Printed table of volume kills, deaths, kd differentials, volume damage dealt, damage taken, and damage diferential also damage differnetial scaled over 30 rounds, all these aforementioned metrics broken down by locaiton. THis is for T Side\n",
    "print(prettyPrintPlayerDamageTable(eligeDamage, eligeKills, ['EliGE'], 'T', rounds))"
   ]
  },
  {
   "cell_type": "code",
   "execution_count": 31,
   "id": "impaired-planet",
   "metadata": {
    "scrolled": true
   },
   "outputs": [
    {
     "name": "stderr",
     "output_type": "stream",
     "text": [
      "/home/nk095x/.local/lib/python3.7/site-packages/ipykernel_launcher.py:2: UserWarning: Boolean Series key will be reindexed to match DataFrame index.\n",
      "  \n"
     ]
    },
    {
     "data": {
      "text/plain": [
       "Middle        27.3%\n",
       "Banana        19.6%\n",
       "Apartments    13.3%\n",
       "BombsiteA      9.1%\n",
       "TopofMid       7.0%\n",
       "SecondMid      7.0%\n",
       "TRamp          3.5%\n",
       "BombsiteB      2.8%\n",
       "Balcony        2.8%\n",
       "Ruins          1.4%\n",
       "Quad           1.4%\n",
       "Graveyard      1.4%\n",
       "Bridge         0.7%\n",
       "Arch           0.7%\n",
       "LowerMid       0.7%\n",
       "TSpawn         0.7%\n",
       "Underpass      0.7%\n",
       "Name: AttackerAreaName, dtype: object"
      ]
     },
     "execution_count": 31,
     "metadata": {},
     "output_type": "execute_result"
    }
   ],
   "source": [
    "#frequency distribution of the location your opponent was at when they flashed you as a ct\n",
    "flashData[flashData['PlayerName'] == 'EliGE'][flashData['PlayerSide'] == 'CT'][flashData['AttackerTeam'] != 'Team Liquid'].AttackerAreaName.value_counts(normalize=True).mul(100).round(1).astype(str) + '%'"
   ]
  },
  {
   "cell_type": "code",
   "execution_count": 32,
   "id": "brazilian-vancouver",
   "metadata": {},
   "outputs": [
    {
     "name": "stderr",
     "output_type": "stream",
     "text": [
      "/home/nk095x/.local/lib/python3.7/site-packages/ipykernel_launcher.py:2: UserWarning: Boolean Series key will be reindexed to match DataFrame index.\n",
      "  \n"
     ]
    },
    {
     "data": {
      "text/plain": [
       "Astralis         41\n",
       "Evil Geniuses    34\n",
       "Triumph          33\n",
       "G2 Esports       30\n",
       "Natus Vincere    26\n",
       "FaZe Clan        21\n",
       "BIG              20\n",
       "paiN Gaming      16\n",
       "mousesports      14\n",
       "MIBR             14\n",
       "Endpoint CeX     10\n",
       "FURIA             8\n",
       "Name: AttackerTeam, dtype: int64"
      ]
     },
     "execution_count": 32,
     "metadata": {},
     "output_type": "execute_result"
    }
   ],
   "source": [
    "## Va\n",
    "flashData[flashData['PlayerName'] == 'EliGE'][flashData['AttackerTeam'] != 'Team Liquid'].AttackerTeam.value_counts()"
   ]
  },
  {
   "cell_type": "code",
   "execution_count": 33,
   "id": "coastal-layer",
   "metadata": {},
   "outputs": [
    {
     "name": "stderr",
     "output_type": "stream",
     "text": [
      "/home/nk095x/.local/lib/python3.7/site-packages/ipykernel_launcher.py:2: UserWarning: Boolean Series key will be reindexed to match DataFrame index.\n",
      "  \n"
     ]
    },
    {
     "data": {
      "text/plain": [
       "BombsiteA     22.4%\n",
       "TopofMid      21.0%\n",
       "Pit            8.4%\n",
       "Middle         7.0%\n",
       "Graveyard      6.3%\n",
       "Apartments     6.3%\n",
       "BombsiteB      5.6%\n",
       "Balcony        4.9%\n",
       "Ruins          4.9%\n",
       "Banana         4.2%\n",
       "Quad           2.8%\n",
       "Library        2.1%\n",
       "Arch           1.4%\n",
       "CTSpawn        1.4%\n",
       "TRamp          0.7%\n",
       "BackAlley      0.7%\n",
       "Name: PlayerAreaName, dtype: object"
      ]
     },
     "execution_count": 33,
     "metadata": {},
     "output_type": "execute_result"
    }
   ],
   "source": [
    "#frequency distribution of the location you were at when your opponent flashed you. you are a ct.\n",
    "flashData[flashData['PlayerName'] == 'EliGE'][flashData['PlayerSide'] == 'CT'][flashData['AttackerTeam'] != 'Team Liquid'].PlayerAreaName.value_counts(normalize=True).mul(100).round(1).astype(str) + '%'"
   ]
  },
  {
   "cell_type": "code",
   "execution_count": 34,
   "id": "administrative-melissa",
   "metadata": {},
   "outputs": [
    {
     "name": "stderr",
     "output_type": "stream",
     "text": [
      "/home/nk095x/.local/lib/python3.7/site-packages/ipykernel_launcher.py:2: UserWarning: Boolean Series key will be reindexed to match DataFrame index.\n",
      "  \n"
     ]
    },
    {
     "data": {
      "text/plain": [
       "BombsiteA     24.2%\n",
       "BombsiteB     20.2%\n",
       "Ruins         13.7%\n",
       "CTSpawn       12.1%\n",
       "TopofMid       8.9%\n",
       "Arch           4.8%\n",
       "Banana         4.8%\n",
       "Pit            4.0%\n",
       "Middle         2.4%\n",
       "Balcony        1.6%\n",
       "Apartments     1.6%\n",
       "Library        1.6%\n",
       "Name: AttackerAreaName, dtype: object"
      ]
     },
     "execution_count": 34,
     "metadata": {},
     "output_type": "execute_result"
    }
   ],
   "source": [
    "#frequency distribution of the location your opponent was at when they flashed you. You are a T\n",
    "flashData[flashData['PlayerName'] == 'EliGE'][flashData['PlayerSide'] == 'T'][flashData['AttackerTeam'] != 'Team Liquid'].AttackerAreaName.value_counts(normalize=True).mul(100).round(1).astype(str) + '%'"
   ]
  },
  {
   "cell_type": "code",
   "execution_count": 35,
   "id": "outdoor-operations",
   "metadata": {},
   "outputs": [
    {
     "name": "stderr",
     "output_type": "stream",
     "text": [
      "/home/nk095x/.local/lib/python3.7/site-packages/ipykernel_launcher.py:2: UserWarning: Boolean Series key will be reindexed to match DataFrame index.\n",
      "  \n"
     ]
    },
    {
     "data": {
      "text/plain": [
       "BombsiteB     19.4%\n",
       "Banana        18.5%\n",
       "TopofMid      16.1%\n",
       "Apartments    10.5%\n",
       "BombsiteA      8.1%\n",
       "SecondMid      8.1%\n",
       "Middle         4.8%\n",
       "Pit            4.0%\n",
       "Underpass      2.4%\n",
       "Arch           1.6%\n",
       "Balcony        1.6%\n",
       "Quad           1.6%\n",
       "Graveyard      1.6%\n",
       "Kitchen        0.8%\n",
       "TSpawn         0.8%\n",
       "Name: PlayerAreaName, dtype: object"
      ]
     },
     "execution_count": 35,
     "metadata": {},
     "output_type": "execute_result"
    }
   ],
   "source": [
    "#frequency distribution of the location you were at when your opponent flashed you. you are a t.\n",
    "flashData[flashData['PlayerName'] == 'EliGE'][flashData['PlayerSide'] == 'T'][flashData['AttackerTeam'] != 'Team Liquid'].PlayerAreaName.value_counts(normalize=True).mul(100).round(1).astype(str) + '%'"
   ]
  }
 ],
 "metadata": {
  "kernelspec": {
   "display_name": "Python 3",
   "language": "python",
   "name": "python3"
  },
  "language_info": {
   "codemirror_mode": {
    "name": "ipython",
    "version": 3
   },
   "file_extension": ".py",
   "mimetype": "text/x-python",
   "name": "python",
   "nbconvert_exporter": "python",
   "pygments_lexer": "ipython3",
   "version": "3.7.10"
  }
 },
 "nbformat": 4,
 "nbformat_minor": 5
}
