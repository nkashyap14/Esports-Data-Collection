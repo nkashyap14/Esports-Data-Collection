{
 "cells": [
  {
   "cell_type": "code",
   "execution_count": 1,
   "id": "accessible-vehicle",
   "metadata": {},
   "outputs": [],
   "source": [
    "from csgo.parser import DemoParser\n",
    "import numpy\n",
    "import csv\n",
    "import pandas\n",
    "import pyserialem\n",
    "import os"
   ]
  },
  {
   "cell_type": "code",
   "execution_count": 2,
   "id": "secondary-wagon",
   "metadata": {},
   "outputs": [],
   "source": [
    "dir_path = \"./demos/blastSpring/blast_spring/\""
   ]
  },
  {
   "cell_type": "code",
   "execution_count": 3,
   "id": "elect-clinton",
   "metadata": {},
   "outputs": [],
   "source": [
    "def getDemoPaths(dir_path):\n",
    "    demoPaths = []\n",
    "    x = 0\n",
    "    for filename in os.listdir(dir_path):\n",
    "        f = os.path.join(dir_path, filename)\n",
    "        for demo in os.listdir(f):\n",
    "            demoPaths.append(os.path.join(f, demo))\n",
    "    return demoPaths"
   ]
  },
  {
   "cell_type": "code",
   "execution_count": 4,
   "id": "ranging-aging",
   "metadata": {},
   "outputs": [],
   "source": [
    "def generateDemoParsers(paths):\n",
    "    demo_parsers = []\n",
    "    for x in paths:\n",
    "        demoParser = DemoParser(demofile=x, demo_id = x.split('/')[-1].split('.')[0].split('_')[0], parse_rate=128)\n",
    "        demo_parsers.append(demoParser)\n",
    "    print(\"# Demo Parsers: \" + str(len(demo_parsers)))\n",
    "    return demo_parsers"
   ]
  },
  {
   "cell_type": "code",
   "execution_count": 5,
   "id": "alive-drunk",
   "metadata": {},
   "outputs": [],
   "source": [
    "def generateData(parsers):\n",
    "    mapData, killData, nadeData, flashData, roundData, damageData = [], [], [], [], [], []\n",
    "    for x in parsers:\n",
    "        x.parse()\n",
    "        mapData.append(x.parse(return_type=\"df\"))\n",
    "        killData.append(x._parse_kills(return_type=\"df\"))\n",
    "        nadeData.append(x._parse_grenades(return_type=\"df\"))\n",
    "        flashData.append(x._parse_flashes(return_type=\"df\"))\n",
    "        roundData.append(x._parse_rounds(return_type=\"df\"))\n",
    "        damageData.append(x._parse_damages(return_type=\"df\"))\n",
    "    return (mapData, killData, nadeData, flashData, roundData, damageData)"
   ]
  },
  {
   "cell_type": "code",
   "execution_count": 6,
   "id": "protecting-armenia",
   "metadata": {},
   "outputs": [],
   "source": [
    "def concat_data(aggregate_data):\n",
    "    final_df = None\n",
    "    for x in aggregate_data:\n",
    "        final_df = pandas.concat([final_df, x], ignore_index=True)\n",
    "    return final_df"
   ]
  },
  {
   "cell_type": "code",
   "execution_count": 7,
   "id": "proof-swaziland",
   "metadata": {},
   "outputs": [],
   "source": [
    "def calculateVolumeKillsByPlaces(players, kills, side):\n",
    "    places = []\n",
    "    temp = kills.copy()\n",
    "    for x in temp.MapName.unique():\n",
    "        temp2 = temp[temp['MapName'] == x]\n",
    "        for y in temp2.VictimAreaName.unique():\n",
    "            places.append(temp2.MapName.unique()[0] + \":\" + y)\n",
    "    ret = {}\n",
    "    for y in players:\n",
    "        temp = {}\n",
    "        for x in places:\n",
    "            maps = x.split(':')[0]\n",
    "            place = x.split(':')[1]\n",
    "            k = len(kills[kills['MapName'] == maps][kills['AttackerName'] == y][kills['AttackerAreaName'] == place][kills['AttackerSide'] == side].index)\n",
    "            temp[x] = k \n",
    "        ret[y] = temp\n",
    "    return ret"
   ]
  },
  {
   "cell_type": "code",
   "execution_count": 8,
   "id": "developing-sailing",
   "metadata": {},
   "outputs": [],
   "source": [
    "def calculateKDDifferentialByPlaces(players, kills, side):\n",
    "    places = []\n",
    "    temp = kills.copy()\n",
    "    for x in temp.MapName.unique():\n",
    "        temp2 = temp[temp['MapName'] == x]\n",
    "        for y in temp2.VictimAreaName.unique():\n",
    "            places.append(temp2.MapName.unique()[0] + \":\" + y)\n",
    "    ret = {}\n",
    "    for y in players:\n",
    "        temp = {}\n",
    "        for x in places:\n",
    "            maps = x.split(':')[0]\n",
    "            place = x.split(':')[1]\n",
    "            k = len(kills[kills['MapName'] == maps][kills['AttackerName'] == y][kills['AttackerAreaName'] == place][kills['AttackerSide'] == side].index)\n",
    "            d = len(kills[kills['MapName'] == maps][kills['VictimName'] == y][kills['VictimAreaName'] == place][kills['VictimSide'] == side].index)\n",
    "            #kills = \n",
    "            temp[x] = k - d\n",
    "        ret[y] = temp\n",
    "    return ret"
   ]
  },
  {
   "cell_type": "code",
   "execution_count": 9,
   "id": "intermediate-appeal",
   "metadata": {},
   "outputs": [],
   "source": [
    "def printMagnitudeCounts(kdDiff):\n",
    "    magnitudecounts = {}\n",
    "    for index, row in kdDiff.iterrows():\n",
    "        count = 0\n",
    "        for y in row.keys():\n",
    "            count += abs(row[y])\n",
    "        magnitudecounts[index] = count\n",
    "    for w in sorted(magnitudecounts, key=magnitudecounts.get, reverse=True):\n",
    "        print(w, magnitudecounts[w])"
   ]
  },
  {
   "cell_type": "code",
   "execution_count": 10,
   "id": "heavy-costa",
   "metadata": {},
   "outputs": [],
   "source": [
    "def convertKDToArrayWithDict(kd):\n",
    "    mapDf = []\n",
    "    for i, row in kd.iterrows():\n",
    "        for z in row.keys():\n",
    "            mapDf.append({\"map\" : i.split(\":\")[0], \"Spot\" : i.split(\":\")[1], \"Player\" : z, \"K/D\" : row[z]})\n",
    "    return mapDf"
   ]
  },
  {
   "cell_type": "code",
   "execution_count": 11,
   "id": "round-worship",
   "metadata": {},
   "outputs": [],
   "source": [
    "def calculateVolumeHEDamageSide(players, damage, side):\n",
    "    counts = {}\n",
    "    for x in players:\n",
    "        counts[x] = damage[damage['AttackerName'] == x][damage['Weapon'] == 'HE Grenade'][damage['AttackerSide'] == side].HpDamageTaken.sum()\n",
    "    return counts"
   ]
  },
  {
   "cell_type": "code",
   "execution_count": 12,
   "id": "rubber-competition",
   "metadata": {},
   "outputs": [],
   "source": [
    "def calculateVolumeHEDamage(players, damage):\n",
    "    counts = {}\n",
    "    for x in players:\n",
    "        counts[x] = damage[damage['AttackerName'] == x][damage['Weapon'] == 'HE Grenade'].HpDamageTaken.sum()\n",
    "    return counts"
   ]
  },
  {
   "cell_type": "code",
   "execution_count": 13,
   "id": "aboriginal-czech",
   "metadata": {},
   "outputs": [],
   "source": [
    "def calculateTotalKills(players, kills):\n",
    "    counts = {}\n",
    "    for x in players:\n",
    "        counts[x] = len(kills[kills['AttackerName'] == x].index)\n",
    "    return counts"
   ]
  },
  {
   "cell_type": "code",
   "execution_count": 14,
   "id": "educated-tennessee",
   "metadata": {},
   "outputs": [],
   "source": [
    "def calculateMapsPlayed(players_of_interest, kills):\n",
    "    counts = {}\n",
    "    for x in players_of_interest:\n",
    "        for y in kills:\n",
    "            if x not in counts.keys():\n",
    "                counts[x] = 0\n",
    "            if(x in y.AttackerName.value_counts()):\n",
    "                counts[x] += 1\n",
    "    return counts"
   ]
  },
  {
   "cell_type": "code",
   "execution_count": 15,
   "id": "noticed-planning",
   "metadata": {},
   "outputs": [],
   "source": [
    "def calculateRoundsPlayed(players, rounds, kills):\n",
    "    counts = {}\n",
    "    for x in players:\n",
    "        for y in range(len(rounds)):\n",
    "            if(not kills[y][kills[y]['AttackerName'] == x].empty):\n",
    "                if(kills[y][kills[y]['AttackerName'] == x].AttackerTeam.iloc[0] in rounds[y].WinningTeam.value_counts() or kills[y][kills[y]['AttackerName'] == x].AttackerTeam.iloc[y] in rounds[y].LosingTeam.value_counts()):\n",
    "                    if(x not in counts.keys()):\n",
    "                        counts[x] = rounds[y].RoundNum.iloc[-1]\n",
    "                    else:\n",
    "                        counts[x] += rounds[y].RoundNum.iloc[-1]\n",
    "    return counts"
   ]
  },
  {
   "cell_type": "code",
   "execution_count": 16,
   "id": "removable-practice",
   "metadata": {},
   "outputs": [],
   "source": [
    "def calculateside_volume_flashbangs(players, nades, side):\n",
    "    counts = {}\n",
    "    for x in players:\n",
    "         counts[x] = len(nades[nades['PlayerSide'] == side][nades['GrenadeType'] == 'Flashbang'][nades['PlayerName'] == x].index)\n",
    "    return counts"
   ]
  },
  {
   "cell_type": "code",
   "execution_count": 17,
   "id": "noted-sight",
   "metadata": {},
   "outputs": [],
   "source": [
    "demoPaths = getDemoPaths(dir_path)"
   ]
  },
  {
   "cell_type": "code",
   "execution_count": 20,
   "id": "genuine-lover",
   "metadata": {},
   "outputs": [
    {
     "data": {
      "text/plain": [
       "str"
      ]
     },
     "execution_count": 20,
     "metadata": {},
     "output_type": "execute_result"
    }
   ],
   "source": [
    "type(demoPaths[24])"
   ]
  },
  {
   "cell_type": "code",
   "execution_count": null,
   "id": "operational-consent",
   "metadata": {},
   "outputs": [],
   "source": [
    "demoParsers = generateDemoParsers(demoPaths)"
   ]
  },
  {
   "cell_type": "code",
   "execution_count": null,
   "id": "green-money",
   "metadata": {},
   "outputs": [],
   "source": [
    "blastMapData, blastKillData, blastNadeData, blastFlashData, blastRoundData, blastDamageData = generateData(demoParsers)"
   ]
  },
  {
   "cell_type": "code",
   "execution_count": null,
   "id": "pleasant-fifty",
   "metadata": {},
   "outputs": [],
   "source": [
    "failedDemos = []\n",
    "blastMapsData, blastKillsData, blastNadesData, blastFlashsData, blastRoundsData, blastDamagesData = [], [], [], [], [], []\n",
    "for x in range(len(blastKillData)):\n",
    "    if(blastKillData[x].shape[0] > 100):\n",
    "        blastMapsData.append(blastMapData[x])\n",
    "        blastKillsData.append(blastKillData[x])\n",
    "        blastNadesData.append(blastNadeData[x])\n",
    "        blastFlashsData.append(blastFlashData[x])\n",
    "        blastRoundsData.append(blastRoundData[x])\n",
    "        blastDamagesData.append(blastDamageData[x])\n",
    "    else:\n",
    "        failedDemos.append(x)"
   ]
  },
  {
   "cell_type": "code",
   "execution_count": null,
   "id": "altered-assistant",
   "metadata": {
    "scrolled": true
   },
   "outputs": [],
   "source": [
    "for x in failedDemos:\n",
    "    print(str(x) + \" : \"  + demoPaths[x])"
   ]
  },
  {
   "cell_type": "code",
   "execution_count": null,
   "id": "seeing-upgrade",
   "metadata": {},
   "outputs": [],
   "source": [
    "demoPaths[26]"
   ]
  },
  {
   "cell_type": "code",
   "execution_count": null,
   "id": "stunning-tampa",
   "metadata": {},
   "outputs": [],
   "source": [
    "blastRoundData[36]"
   ]
  },
  {
   "cell_type": "code",
   "execution_count": null,
   "id": "brave-difference",
   "metadata": {
    "scrolled": true
   },
   "outputs": [],
   "source": [
    "len(blastRoundsData)"
   ]
  },
  {
   "cell_type": "code",
   "execution_count": null,
   "id": "overhead-documentary",
   "metadata": {},
   "outputs": [],
   "source": [
    "len(blastKillsData)"
   ]
  },
  {
   "cell_type": "code",
   "execution_count": null,
   "id": "occasional-transparency",
   "metadata": {},
   "outputs": [],
   "source": [
    "killData = concat_data(blastKillsData)\n",
    "nadeData = concat_data(blastNadesData)\n",
    "flashData = concat_data(blastFlashsData)\n",
    "roundData = concat_data(blastRoundsData)\n",
    "damageData = concat_data(blastDamagesData)"
   ]
  },
  {
   "cell_type": "code",
   "execution_count": null,
   "id": "executed-bouquet",
   "metadata": {},
   "outputs": [],
   "source": [
    "players_of_interest = []\n",
    "for x in killData.AttackerName.value_counts().index:\n",
    "    players_of_interest.append(x)"
   ]
  },
  {
   "cell_type": "code",
   "execution_count": null,
   "id": "awful-funds",
   "metadata": {
    "scrolled": true
   },
   "outputs": [],
   "source": [
    "mapsPlayed = calculateMapsPlayed(players_of_interest, blastKillData)\n",
    "mapsPlayed"
   ]
  },
  {
   "cell_type": "code",
   "execution_count": null,
   "id": "sharp-pastor",
   "metadata": {
    "scrolled": true
   },
   "outputs": [],
   "source": [
    "roundsPlayed = calculateRoundsPlayed(players_of_interest, blastRoundsData, blastKillsData)\n",
    "roundsPlayed"
   ]
  },
  {
   "cell_type": "code",
   "execution_count": null,
   "id": "acting-installation",
   "metadata": {},
   "outputs": [],
   "source": [
    "fpr, fpr30 = {}, {}\n",
    "totalKills = calculateTotalKills(players_of_interest, killData)\n",
    "for x in roundsPlayed.keys():\n",
    "    fpr[x] = totalKills[x] / roundsPlayed[x]\n",
    "    fpr30[x] = fpr[x] * 30"
   ]
  },
  {
   "cell_type": "code",
   "execution_count": null,
   "id": "limiting-garage",
   "metadata": {
    "scrolled": true
   },
   "outputs": [],
   "source": [
    "fpr"
   ]
  },
  {
   "cell_type": "code",
   "execution_count": null,
   "id": "architectural-count",
   "metadata": {},
   "outputs": [],
   "source": [
    "fpr30"
   ]
  },
  {
   "cell_type": "code",
   "execution_count": null,
   "id": "enabling-marriage",
   "metadata": {},
   "outputs": [],
   "source": [
    "teamVolumeFprs = {}\n",
    "for x in fpr30.keys():\n",
    "    if killData[killData['AttackerName'] == x].AttackerTeam.iloc[0] not in teamVolumeFprs.keys():\n",
    "        teamVolumeFprs[killData[killData['AttackerName'] == x].AttackerTeam.iloc[0]] = fpr30[x]\n",
    "    else:\n",
    "        teamVolumeFprs[killData[killData['AttackerName'] == x].AttackerTeam.iloc[0]] += fpr30[x]\n",
    "teamVolumeFprs"
   ]
  },
  {
   "cell_type": "code",
   "execution_count": null,
   "id": "fresh-presentation",
   "metadata": {},
   "outputs": [],
   "source": [
    "killers = killData.groupby([\"AttackerName\"]).size().reset_index(name=\"Kills\")\n",
    "deaths = killData.groupby([\"VictimName\"]).size().reset_index(name=\"Deaths\")\n",
    "kdr = killers.merge(deaths, left_on = \"AttackerName\", right_on = \"VictimName\")\n",
    "kdr[\"KDR\"] = kdr[\"Kills\"]/kdr[\"Deaths\"]\n",
    "kdr = kdr[[\"AttackerName\", \"Kills\", \"Deaths\", \"KDR\"]]\n",
    "kdr.columns = [\"PlayerName\", \"Kills\", \"Deaths\", \"KDR\"]\n",
    "kdr.sort_values(by=[\"KDR\"], ascending=False).head(25)"
   ]
  },
  {
   "cell_type": "code",
   "execution_count": null,
   "id": "informal-handle",
   "metadata": {
    "scrolled": true
   },
   "outputs": [],
   "source": [
    "killers = killData.groupby([\"AttackerName\"]).size().reset_index(name=\"Kills\")\n",
    "deaths = killData.groupby([\"VictimName\"]).size().reset_index(name=\"Deaths\")\n",
    "kdr = killers.merge(deaths, left_on = \"AttackerName\", right_on = \"VictimName\")\n",
    "kdr[\"KDR\"] = kdr[\"Kills\"]/kdr[\"Deaths\"]\n",
    "kdr = kdr[[\"AttackerName\", \"Kills\", \"Deaths\", \"KDR\"]]\n",
    "kdr.columns = [\"PlayerName\", \"Kills\", \"Deaths\", \"KDR\"]\n",
    "kdr.sort_values(by=[\"KDR\"], ascending=True).head(25)"
   ]
  },
  {
   "cell_type": "code",
   "execution_count": null,
   "id": "metallic-packaging",
   "metadata": {},
   "outputs": [],
   "source": [
    "blastMapData[0]['Damages'].columns"
   ]
  },
  {
   "cell_type": "code",
   "execution_count": null,
   "id": "educational-filename",
   "metadata": {
    "scrolled": true
   },
   "outputs": [],
   "source": [
    "killData.groupby([\"AttackerName\", \"AttackerTeam\"]).IsHeadshot.mean().reset_index(name=\"HeadShotPct\").sort_values(\"HeadShotPct\", ascending=False).head(15)"
   ]
  },
  {
   "cell_type": "code",
   "execution_count": null,
   "id": "shared-humor",
   "metadata": {
    "scrolled": true
   },
   "outputs": [],
   "source": [
    "blastRoundsData[0]"
   ]
  },
  {
   "cell_type": "code",
   "execution_count": null,
   "id": "abroad-fountain",
   "metadata": {},
   "outputs": [],
   "source": [
    "killData.groupby([\"AttackerName\", \"AttackerTeam\"]).IsHeadshot.mean().reset_index(name=\"HeadShotPct\").sort_values(\"HeadShotPct\", ascending=True).head(15)"
   ]
  },
  {
   "cell_type": "code",
   "execution_count": null,
   "id": "revolutionary-leadership",
   "metadata": {},
   "outputs": [],
   "source": [
    "headshots = killData.groupby([\"AttackerName\", \"Weapon\"]).IsHeadshot.agg([\"mean\", \"count\"]).reset_index()\n",
    "headshots = headshots[headshots[\"count\"] > 3]\n",
    "headshots[headshots['mean'] != 1.0].sort_values(\"mean\", ascending=False).head(30)"
   ]
  },
  {
   "cell_type": "code",
   "execution_count": null,
   "id": "million-fraud",
   "metadata": {
    "scrolled": true
   },
   "outputs": [],
   "source": [
    "headshots.sort_values(\"mean\", ascending=False).head(30)"
   ]
  },
  {
   "cell_type": "markdown",
   "id": "familiar-nancy",
   "metadata": {},
   "source": [
    "# Utility\n",
    "## Flashes"
   ]
  },
  {
   "cell_type": "code",
   "execution_count": null,
   "id": "fleet-coordinate",
   "metadata": {},
   "outputs": [],
   "source": [
    "nadeData.columns"
   ]
  },
  {
   "cell_type": "code",
   "execution_count": null,
   "id": "complicated-france",
   "metadata": {
    "scrolled": false
   },
   "outputs": [],
   "source": [
    "for i, r in nadeData.groupby(['GrenadeType']).PlayerName.value_counts()['Flashbang'].iteritems():\n",
    "    print(i + \" Threw \" + str(r) + \" Flashes over \" + str(roundsPlayed[i]) + \" Rounds  for a \" + str(r / roundsPlayed[i]) + \" FPR\")"
   ]
  },
  {
   "cell_type": "code",
   "execution_count": null,
   "id": "complicated-rubber",
   "metadata": {
    "scrolled": true
   },
   "outputs": [],
   "source": [
    "flashData.AttackerTeam.value_counts()"
   ]
  },
  {
   "cell_type": "markdown",
   "id": "downtown-dutch",
   "metadata": {},
   "source": [
    "## Nades"
   ]
  },
  {
   "cell_type": "code",
   "execution_count": null,
   "id": "careful-shannon",
   "metadata": {
    "scrolled": true
   },
   "outputs": [],
   "source": [
    "nade_dmg = damageData[damageData[\"Weapon\"].isin([\"Incendiary Grenade\", \"Molotov\", \"HE Grenade\"])]\n",
    "nade_dmg = damageData.replace(\"Incendiary Grenade\", \"Incendiary\")\n",
    "nade_dmg = damageData.replace(\"Molotov\", \"Incendiary\")\n",
    "nade_dmg_df = nade_dmg.groupby(\"AttackerName\").HpDamageTaken.sum().reset_index(name=\"UtilityDamage\").sort_values(\"UtilityDamage\", ascending=False)\n",
    "nade_dmg_df.columns = [\"PlayerName\", \"UtilityDamage\"]"
   ]
  },
  {
   "cell_type": "code",
   "execution_count": null,
   "id": "satisfactory-glance",
   "metadata": {
    "scrolled": true
   },
   "outputs": [],
   "source": [
    "nade_dmgs = []\n",
    "roundsPlayedArray = []\n",
    "teams = []\n",
    "for i, r in nade_dmg_df.iterrows():\n",
    "    nade_dmgs.append(r['UtilityDamage'] / roundsPlayed[r['PlayerName']])\n",
    "    roundsPlayedArray.append(roundsPlayed[r['PlayerName']])\n",
    "    teams.append(damageData[damageData['AttackerName'] == r['PlayerName']].AttackerTeam.iloc[0])"
   ]
  },
  {
   "cell_type": "code",
   "execution_count": null,
   "id": "sticky-northeast",
   "metadata": {},
   "outputs": [],
   "source": [
    "nade_dmg_df['Util Damage Per Round'] = nade_dmgs\n",
    "nade_dmg_df['Rounds played'] = roundsPlayedArray\n",
    "nade_dmg_df['Team'] = teams"
   ]
  },
  {
   "cell_type": "code",
   "execution_count": null,
   "id": "shared-paris",
   "metadata": {},
   "outputs": [],
   "source": [
    "nade_dmg_df.groupby(\"Team\")['Util Damage Per Round'].sum()"
   ]
  },
  {
   "cell_type": "code",
   "execution_count": null,
   "id": "systematic-clinic",
   "metadata": {},
   "outputs": [],
   "source": [
    "nade_dmg_df"
   ]
  },
  {
   "cell_type": "code",
   "execution_count": null,
   "id": "round-capture",
   "metadata": {},
   "outputs": [],
   "source": [
    "nade_dmg_df.sort_values(by=['Util Damage Per Round'], ascending=False).head(30)"
   ]
  },
  {
   "cell_type": "code",
   "execution_count": null,
   "id": "express-forest",
   "metadata": {},
   "outputs": [],
   "source": [
    "nade_dmg_df.sort_values(by=['Util Damage Per Round'], ascending=False).tail(30)"
   ]
  },
  {
   "cell_type": "markdown",
   "id": "plain-rough",
   "metadata": {},
   "source": [
    "## Smokes"
   ]
  },
  {
   "cell_type": "code",
   "execution_count": null,
   "id": "assured-siemens",
   "metadata": {},
   "outputs": [],
   "source": [
    "nadeData.head(50)"
   ]
  },
  {
   "cell_type": "code",
   "execution_count": null,
   "id": "controlled-webster",
   "metadata": {
    "scrolled": false
   },
   "outputs": [],
   "source": [
    "mirageSmokes = nadeData[nadeData['GrenadeType'] == 'Smoke Grenade'][nadeData['MapName'] == 'de_mirage']\n",
    "infernoSmokes = nadeData[nadeData['GrenadeType'] == 'Smoke Grenade'][nadeData['MapName'] == 'de_inferno']\n",
    "dustSmokes = nadeData[nadeData['GrenadeType'] == 'Smoke Grenade'][nadeData['MapName'] == 'de_dust2']\n",
    "vertigoSmokes = nadeData[nadeData['GrenadeType'] == 'Smoke Grenade'][nadeData['MapName'] == 'de_vertigo']\n",
    "trainSmokes = nadeData[nadeData['GrenadeType'] == 'Smoke Grenade'][nadeData['MapName'] == 'de_train']\n",
    "overpassSmokes = nadeData[nadeData['GrenadeType'] == 'Smoke Grenade'][nadeData['MapName'] == 'de_overpass']\n",
    "nukeSmokes = nadeData[nadeData['GrenadeType'] == 'Smoke Grenade'][nadeData['MapName'] == 'de_nuke']"
   ]
  },
  {
   "cell_type": "code",
   "execution_count": null,
   "id": "blessed-import",
   "metadata": {},
   "outputs": [],
   "source": [
    "mirageCT = mirageSmokes[mirageSmokes['PlayerSide'] == 'CT']\n",
    "mirageT = mirageSmokes[mirageSmokes['PlayerSide'] == 'T']\n",
    "infernoCT = infernoSmokes[infernoSmokes['PlayerSide'] == 'CT']\n",
    "infernoT = infernoSmokes[infernoSmokes['PlayerSide'] == 'T']\n",
    "dustCT = dustSmokes[dustSmokes['PlayerSide'] == 'CT']\n",
    "dustT = dustSmokes[dustSmokes['PlayerSide'] == 'T']\n",
    "vertigoCT = vertigoSmokes[vertigoSmokes['PlayerSide'] == 'CT']\n",
    "vertigoT = vertigoSmokes[vertigoSmokes['PlayerSide'] == 'T']\n",
    "trainCT = trainSmokes[trainSmokes['PlayerSide'] == 'CT']\n",
    "trainT = trainSmokes[trainSmokes['PlayerSide'] == 'T']\n",
    "overpassCT = overpassSmokes[overpassSmokes['PlayerSide'] == 'CT']\n",
    "overpassT = overpassSmokes[overpassSmokes['PlayerSide'] == 'T']\n",
    "nukeCT = nukeSmokes[nukeSmokes['PlayerSide'] == 'CT']\n",
    "nukeT = nukeSmokes[nukeSmokes['PlayerSide'] == 'T']"
   ]
  },
  {
   "cell_type": "code",
   "execution_count": null,
   "id": "floral-cargo",
   "metadata": {},
   "outputs": [],
   "source": []
  },
  {
   "cell_type": "code",
   "execution_count": null,
   "id": "german-coordination",
   "metadata": {},
   "outputs": [],
   "source": [
    "ax = mirageCT.GrenadeAreaName.value_counts(normalize=True).nlargest(10).plot(kind='bar', title='Blast Spring Mirage CT Smoke Distribution');\n",
    "vals = ax.get_yticks()\n",
    "ax.tick_params(axis='x', colors='red')\n",
    "ax.tick_params(axis='y', colors='red')\n",
    "ax.set_title(label ='Blast Spring Mirage CT Smoke Distribution', fontdict={'color' : 'red'})\n",
    "ax.set_yticklabels(['{:,.2%}'.format(x) for x in vals]);"
   ]
  },
  {
   "cell_type": "code",
   "execution_count": null,
   "id": "outstanding-bacteria",
   "metadata": {},
   "outputs": [],
   "source": [
    "ax = mirageT.GrenadeAreaName.value_counts(normalize=True).nlargest(10).plot(kind='bar', title='Blast Spring Mirage T Smoke Distribution');\n",
    "vals = ax.get_yticks()\n",
    "ax.tick_params(axis='x', colors='red')\n",
    "ax.tick_params(axis='y', colors='red')\n",
    "ax.set_title(label ='Blast Spring Mirage T Smoke Distribution', fontdict={'color' : 'red'})\n",
    "ax.set_yticklabels(['{:,.2%}'.format(x) for x in vals]);"
   ]
  },
  {
   "cell_type": "code",
   "execution_count": null,
   "id": "administrative-greenhouse",
   "metadata": {},
   "outputs": [],
   "source": [
    "ax = infernoCT.GrenadeAreaName.value_counts(normalize=True).nlargest(10).plot(kind='bar', title='Blast Spring Inferno CT Smoke Distribution');\n",
    "vals = ax.get_yticks()\n",
    "ax.tick_params(axis='x', colors='red')\n",
    "ax.tick_params(axis='y', colors='red')\n",
    "ax.set_title(label ='Blast Spring Inferno CT Smoke Distribution', fontdict={'color' : 'red'})\n",
    "ax.set_yticklabels(['{:,.2%}'.format(x) for x in vals]);"
   ]
  },
  {
   "cell_type": "code",
   "execution_count": null,
   "id": "involved-research",
   "metadata": {},
   "outputs": [],
   "source": [
    "ax = infernoT.GrenadeAreaName.value_counts(normalize=True).nlargest(10).plot(kind='bar', title='Blast Spring Inferno T Smoke Distribution');\n",
    "vals = ax.get_yticks()\n",
    "ax.tick_params(axis='x', colors='red')\n",
    "ax.tick_params(axis='y', colors='red')\n",
    "ax.set_title(label ='Blast Spring Inferno T Smoke Distribution', fontdict={'color' : 'red'})\n",
    "ax.set_yticklabels(['{:,.2%}'.format(x) for x in vals]);"
   ]
  },
  {
   "cell_type": "code",
   "execution_count": null,
   "id": "extra-banana",
   "metadata": {},
   "outputs": [],
   "source": [
    "ax = dustCT.GrenadeAreaName.value_counts(normalize=True).nlargest(10).plot(kind='bar', title='Blast Spring Dust2 CT Smoke Distribution');\n",
    "vals = ax.get_yticks()\n",
    "ax.tick_params(axis='x', colors='red')\n",
    "ax.tick_params(axis='y', colors='red')\n",
    "ax.set_title(label ='Blast Spring Dust2 CT Smoke Distribution', fontdict={'color' : 'red'})\n",
    "ax.set_yticklabels(['{:,.2%}'.format(x) for x in vals]);"
   ]
  },
  {
   "cell_type": "code",
   "execution_count": null,
   "id": "pretty-message",
   "metadata": {},
   "outputs": [],
   "source": [
    "ax = dustT.GrenadeAreaName.value_counts(normalize=True).nlargest(10).plot(kind='bar', title='Blast Spring Dust2 T Smoke Distribution');\n",
    "vals = ax.get_yticks()\n",
    "ax.tick_params(axis='x', colors='red')\n",
    "ax.tick_params(axis='y', colors='red')\n",
    "ax.set_title(label ='Blast Spring Dust2 T Smoke Distribution', fontdict={'color' : 'red'})\n",
    "ax.set_yticklabels(['{:,.2%}'.format(x) for x in vals]);"
   ]
  },
  {
   "cell_type": "code",
   "execution_count": null,
   "id": "naughty-natural",
   "metadata": {
    "scrolled": true
   },
   "outputs": [],
   "source": [
    "ax = vertigoCT.GrenadeAreaName.value_counts(normalize=True).nlargest(10).plot(kind='bar', title='Blast Spring Vertigo CT Smoke Distribution');\n",
    "vals = ax.get_yticks()\n",
    "ax.set_yticklabels(['{:,.2%}'.format(x) for x in vals]);"
   ]
  },
  {
   "cell_type": "code",
   "execution_count": null,
   "id": "noticed-surname",
   "metadata": {},
   "outputs": [],
   "source": [
    "ax = vertigoT.GrenadeAreaName.value_counts(normalize=True).nlargest(10).plot(kind='bar', title='Blast Spring Vertigo T Smoke Distribution');\n",
    "vals = ax.get_yticks()\n",
    "ax.set_yticklabels(['{:,.2%}'.format(x) for x in vals]);"
   ]
  },
  {
   "cell_type": "code",
   "execution_count": null,
   "id": "handy-sewing",
   "metadata": {},
   "outputs": [],
   "source": [
    "ax = trainCT.GrenadeAreaName.value_counts(normalize=True).nlargest(10).plot(kind='bar', title='Blast Spring Train CT Smoke Distribution');\n",
    "vals = ax.get_yticks()\n",
    "ax.tick_params(axis='x', colors='red')\n",
    "ax.tick_params(axis='y', colors='red')\n",
    "ax.set_title(label ='Blast Spring Train CT Smoke Distribution', fontdict={'color' : 'red'})\n",
    "ax.set_yticklabels(['{:,.2%}'.format(x) for x in vals]);"
   ]
  },
  {
   "cell_type": "code",
   "execution_count": null,
   "id": "frank-deviation",
   "metadata": {},
   "outputs": [],
   "source": [
    "ax = trainT.GrenadeAreaName.value_counts(normalize=True).nlargest(10).plot(kind='bar', title='Blast Spring Train T Smoke Distribution');\n",
    "vals = ax.get_yticks()\n",
    "ax.tick_params(axis='x', colors='red')\n",
    "ax.tick_params(axis='y', colors='red')\n",
    "ax.set_title(label ='Blast Spring Train T Smoke Distribution', fontdict={'color' : 'red'})\n",
    "ax.set_yticklabels(['{:,.2%}'.format(x) for x in vals]);"
   ]
  },
  {
   "cell_type": "code",
   "execution_count": null,
   "id": "alternative-clarity",
   "metadata": {
    "scrolled": true
   },
   "outputs": [],
   "source": [
    "ax = overpassCT.GrenadeAreaName.value_counts(normalize=True).nlargest(10).plot(kind='bar', title='Blast Spring Overpass CT Smoke Distribution');\n",
    "vals = ax.get_yticks()\n",
    "ax.tick_params(axis='x', colors='red')\n",
    "ax.tick_params(axis='y', colors='red')\n",
    "ax.set_title(label ='Blast Spring Overpass CT Smoke Distribution', fontdict={'color' : 'red'})\n",
    "ax.set_yticklabels(['{:,.2%}'.format(x) for x in vals]);"
   ]
  },
  {
   "cell_type": "code",
   "execution_count": null,
   "id": "spanish-bachelor",
   "metadata": {},
   "outputs": [],
   "source": [
    "ax = overpassT.GrenadeAreaName.value_counts(normalize=True).nlargest(10).plot(kind='bar', title='Blast Spring Overpass T Smoke Distribution');\n",
    "vals = ax.get_yticks()\n",
    "ax.tick_params(axis='x', colors='red')\n",
    "ax.tick_params(axis='y', colors='red')\n",
    "ax.set_title(label ='Blast Spring Overpass T Smoke Distribution', fontdict={'color' : 'red'})\n",
    "ax.set_yticklabels(['{:,.2%}'.format(x) for x in vals]);"
   ]
  },
  {
   "cell_type": "code",
   "execution_count": null,
   "id": "pressed-concept",
   "metadata": {},
   "outputs": [],
   "source": [
    "ax = nukeCT.GrenadeAreaName.value_counts(normalize=True).nlargest(10).plot(kind='bar', title='Blast Spring Nuke CT Smoke Distribution');\n",
    "vals = ax.get_yticks()\n",
    "ax.tick_params(axis='x', colors='red')\n",
    "ax.tick_params(axis='y', colors='red')\n",
    "ax.set_title(label ='Blast Spring Nuke CT Smoke Distribution', fontdict={'color' : 'red'})\n",
    "ax.set_yticklabels(['{:,.2%}'.format(x) for x in vals]);"
   ]
  },
  {
   "cell_type": "code",
   "execution_count": null,
   "id": "freelance-english",
   "metadata": {},
   "outputs": [],
   "source": [
    "ax = nukeT.GrenadeAreaName.value_counts(normalize=True).nlargest(10).plot(kind='bar', title='Blast Spring Nuke T Smoke Distribution');\n",
    "vals = ax.get_yticks()\n",
    "ax.tick_params(axis='x', colors='red')\n",
    "ax.tick_params(axis='y', colors='red')\n",
    "ax.set_title(label ='Blast Spring Nuke T Smoke Distribution', fontdict={'color' : 'red'})\n",
    "ax.set_yticklabels(['{:,.2%}'.format(x) for x in vals]);"
   ]
  },
  {
   "cell_type": "code",
   "execution_count": null,
   "id": "defensive-organ",
   "metadata": {},
   "outputs": [],
   "source": [
    "smokes = nadeData[nadeData['GrenadeType'] == 'Smoke Grenade']\n",
    "smokes"
   ]
  },
  {
   "cell_type": "code",
   "execution_count": null,
   "id": "whole-break",
   "metadata": {},
   "outputs": [],
   "source": [
    "mapsPlayed"
   ]
  },
  {
   "cell_type": "code",
   "execution_count": null,
   "id": "renewable-semiconductor",
   "metadata": {},
   "outputs": [],
   "source": []
  }
 ],
 "metadata": {
  "kernelspec": {
   "display_name": "Python 3",
   "language": "python",
   "name": "python3"
  },
  "language_info": {
   "codemirror_mode": {
    "name": "ipython",
    "version": 3
   },
   "file_extension": ".py",
   "mimetype": "text/x-python",
   "name": "python",
   "nbconvert_exporter": "python",
   "pygments_lexer": "ipython3",
   "version": "3.6.13"
  }
 },
 "nbformat": 4,
 "nbformat_minor": 5
}
