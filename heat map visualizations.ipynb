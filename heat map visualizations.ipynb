{
 "cells": [
  {
   "cell_type": "code",
   "execution_count": null,
   "id": "electric-duration",
   "metadata": {},
   "outputs": [],
   "source": [
    "import (\n",
    "\t\"fmt\"\n",
    "\t\"os\"\n",
    "\t\"time\"\n",
    "\n",
    "\t\"github.com/mrazza/gonav\"\n",
    "\t\"encoding/csv\"\n",
    "\t\"io\"\n",
    "\t\"strconv\"\n",
    "\t\"strings\"\n",
    "\t\"image\"\n",
    "\t\"image/draw\"\n",
    "\t\"image/jpeg\"\n",
    "\tr2 \"github.com/golang/geo/r2\"\n",
    "\tmetadata \"github.com/markus-wa/demoinfocs-golang/v2/pkg/demoinfocs/metadata\"\n",
    "    ex \"github.com/markus-wa/demoinfocs-golang/v2/examples\"\n",
    "\tdemoinfocs \"github.com/markus-wa/demoinfocs-golang/v2/pkg/demoinfocs\"\n",
    "\tevents \"github.com/markus-wa/demoinfocs-golang/v2/pkg/demoinfocs/events\"\n",
    "    heatmap \"github.com/dustin/go-heatmap\"\n",
    "    schemes \"github.com/dustin/go-heatmap/schemes\"\n",
    "\t\"bytes\"\n",
    "    \"reflect\"\n",
    "\n",
    "\n",
    "\n",
    ")"
   ]
  },
  {
   "cell_type": "code",
   "execution_count": null,
   "id": "single-yemen",
   "metadata": {},
   "outputs": [],
   "source": [
    "func checkError(err error) {\n",
    "\tif err != nil {\n",
    "\t\tpanic(err)\n",
    "\t}\n",
    "}"
   ]
  },
  {
   "cell_type": "code",
   "execution_count": null,
   "id": "failing-lunch",
   "metadata": {},
   "outputs": [],
   "source": [
    "print(ok == nil && ok1 == nil && ok2 == nil && ok3 == nil && ok4 == nil && ok5 == nil && ok6 == nil)"
   ]
  },
  {
   "cell_type": "code",
   "execution_count": null,
   "id": "thirty-quilt",
   "metadata": {},
   "outputs": [],
   "source": [
    "func createImage(points[] r2.Point, mapname string) *image.RGBA {\n",
    "    if len(points) == 0 {\n",
    "        return nil\n",
    "    }\n",
    "    r2Bounds := r2.RectFromPoints(points...)\n",
    "    bounds := image.Rectangle{\n",
    "         Min: image.Point{X: int(r2Bounds.X.Lo), Y: int(r2Bounds.Y.Lo)},\n",
    "        Max: image.Point{X: int(r2Bounds.X.Hi), Y: int(r2Bounds.Y.Hi)},\n",
    "    }\n",
    "    \n",
    "    var data []heatmap.DataPoint\n",
    "    for _, p := range points[1:] {\n",
    "        // Invert Y since go-heatmap expects data to be ordered from bottom to top\n",
    "        data = append(data, heatmap.P(p.X, p.Y*-1))\n",
    "    }\n",
    "    fMap, err := os.Open(fmt.Sprintf(\"./csgo/data/map/%s.jpg\", mapname))\n",
    "    checkError(err)\n",
    "    \n",
    "    imgMap, _, err := image.Decode(fMap)\n",
    "    checkError(err)\n",
    "    \n",
    "    img := image.NewRGBA(imgMap.Bounds())\n",
    "    draw.Draw(img, imgMap.Bounds(), imgMap, image.ZP, draw.Over)\n",
    "    \n",
    "    imgHeatmap := heatmap.Heatmap(image.Rect(0, 0, bounds.Dx(), bounds.Dy()), data, 45, 128, schemes.AlphaFire)\n",
    "    draw.Draw(img, bounds, imgHeatmap, image.ZP, draw.Over)\n",
    "    \n",
    "    return img\n",
    "\n",
    "}"
   ]
  },
  {
   "cell_type": "code",
   "execution_count": null,
   "id": "buried-formation",
   "metadata": {},
   "outputs": [],
   "source": [
    "func convertPathsToArraysOfPoints(arr[] string) ([]r2.Point, []r2.Point, []r2.Point, []r2.Point, []r2.Point, []r2.Point, []r2.Point, ) {\n",
    "    var miragePoints []r2.Point\n",
    "    var dustPoints []r2.Point\n",
    "    var infernoPoints []r2.Point\n",
    "    var nukePoints []r2.Point\n",
    "    var overpassPoints []r2.Point\n",
    "    var trainPoints []r2.Point\n",
    "    var vertigoPoints []r2.Point\n",
    "    for i, x := range arr {\n",
    "        file, err := os.Open(x)\n",
    "        checkError(err)\n",
    "        \n",
    "        p := demoinfocs.NewParser(file)\n",
    "        \n",
    "        header, err := p.ParseHeader()\n",
    "        checkError(err)\n",
    "        \n",
    "        mapMetadata := metadata.MapNameToMap[header.MapName]\n",
    "        \n",
    "        if(header.MapName == \"de_dust2\"){\n",
    "            var points []r2.Point   \n",
    "            p.RegisterEventHandler(func(e events.Kill) {\n",
    "            // Translate positions from in-game coordinates to radar overview image pixels\n",
    "            if(e.Killer.String() == \"sh1ro\" && e.Killer.Team == 2) {\n",
    "                x, y := mapMetadata.TranslateScale(e.Killer.Position().X, e.Killer.Position().Y)\n",
    "                dustPoints = append(dustPoints, r2.Point{X: x, Y: y})\n",
    "            }\n",
    "            })           \n",
    "        } else if (header.MapName == \"de_mirage\") { \n",
    "            p.RegisterEventHandler(func(e events.Kill) {\n",
    "            // Translate positions from in-game coordinates to radar overview image pixels\n",
    "            if(e.Killer.String() == \"sh1ro\" && e.Killer.Team == 2) {\n",
    "                x, y := mapMetadata.TranslateScale(e.Killer.Position().X, e.Killer.Position().Y)\n",
    "                miragePoints = append(miragePoints, r2.Point{X: x, Y: y})\n",
    "            }\n",
    "            })                \n",
    "        } else if (header.MapName == \"de_inferno\") {  \n",
    "            p.RegisterEventHandler(func(e events.Kill) {\n",
    "            // Translate positions from in-game coordinates to radar overview image pixels\n",
    "            if(e.Killer.String() == \"sh1ro\" && e.Killer.Team == 2) {\n",
    "                x, y := mapMetadata.TranslateScale(e.Killer.Position().X, e.Killer.Position().Y)\n",
    "                infernoPoints = append(infernoPoints, r2.Point{X: x, Y: y})\n",
    "            }\n",
    "            })                \n",
    "        } else if (header.MapName == \"de_vertigo\") {\n",
    "            p.RegisterEventHandler(func(e events.Kill) {\n",
    "            // Translate positions from in-game coordinates to radar overview image pixels\n",
    "            if(e.Killer.String() == \"sh1ro\" && e.Killer.Team == 2) {\n",
    "                x, y := mapMetadata.TranslateScale(e.Killer.Position().X, e.Killer.Position().Y)\n",
    "                vertigoPoints = append(vertigoPoints, r2.Point{X: x, Y: y})\n",
    "            }\n",
    "            })                \n",
    "        }  else if (header.MapName == \"de_train\") {\n",
    "            p.RegisterEventHandler(func(e events.Kill) {\n",
    "            // Translate positions from in-game coordinates to radar overview image pixels\n",
    "            if(e.Killer.String() == \"sh1ro\" && e.Killer.Team == 2) {\n",
    "                x, y := mapMetadata.TranslateScale(e.Killer.Position().X, e.Killer.Position().Y)\n",
    "                trainPoints = append(trainPoints, r2.Point{X: x, Y: y})\n",
    "            }\n",
    "            })                \n",
    "        } else if (header.MapName == \"de_overpass\") {\n",
    "            p.RegisterEventHandler(func(e events.Kill) {\n",
    "            // Translate positions from in-game coordinates to radar overview image pixels\n",
    "            if(e.Killer.String() == \"sh1ro\" && e.Killer.Team == 2) {\n",
    "                x, y := mapMetadata.TranslateScale(e.Killer.Position().X, e.Killer.Position().Y)\n",
    "                overpassPoints = append(overpassPoints, r2.Point{X: x, Y: y})\n",
    "            }\n",
    "            })                \n",
    "        } else if (header.MapName == \"de_nuke\") {\n",
    "            p.RegisterEventHandler(func(e events.Kill) {\n",
    "            // Translate positions from in-game coordinates to radar overview image pixels\n",
    "            if(e.Killer.String() == \"sh1ro\" && e.Killer.Team == 2) {\n",
    "                x, y := mapMetadata.TranslateScale(e.Killer.Position().X, e.Killer.Position().Y)\n",
    "                nukePoints = append(nukePoints, r2.Point{X: x, Y: y})\n",
    "            }\n",
    "            })                \n",
    "        }\n",
    "        \n",
    "        err = p.ParseToEnd()\n",
    "        checkError(err)    \n",
    "    }\n",
    "    return miragePoints, dustPoints, infernoPoints, vertigoPoints, trainPoints, overpassPoints, nukePoints\n",
    "}"
   ]
  },
  {
   "cell_type": "code",
   "execution_count": null,
   "id": "median-sigma",
   "metadata": {},
   "outputs": [],
   "source": [
    "s1mple_map_paths := []string{ \"./demos/blastSpring/blast_spring/BLAST-Premier-Spring-Showdown-2021-gambit-vs-furia-bo3/gambit-vs-furia-m1-mirage.dem\", \"./demos/blastSpring/blast_spring/BLAST-Premier-Spring-Showdown-2021-gambit-vs-furia-bo3/gambit-vs-furia-m2-overpass.dem\", \"./demos/blastSpring/blast_spring/BLAST-Premier-Spring-Showdown-2021-gambit-vs-furia-bo3/gambit-vs-furia-m3-train.dem\", \"./demos/blastSpring/blast_spring/BLAST-Premier-Spring-Showdown-2021-gambit-vs-nasr-bo3/gambit-vs-nasr-m1-dust2.dem\", \"./demos/blastSpring/blast_spring/BLAST-Premier-Spring-Showdown-2021-gambit-vs-nasr-bo3/gambit-vs-nasr-m2-vertigo.dem\", \"./demos/blastSpring/blast_spring/BLAST-Premier-Spring-Showdown-2021-heroic-vs-gambit-bo3/heroic-vs-gambit-m1-inferno.dem\", \"./demos/blastSpring/blast_spring/BLAST-Premier-Spring-Showdown-2021-heroic-vs-gambit-bo3/heroic-vs-gambit-m2-vertigo.dem\", \"./demos/blastSpring/blast_spring/BLAST-Premier-Spring-Showdown-2021-heroic-vs-gambit-bo3/heroic-vs-gambit-m3-train.dem\",}"
   ]
  },
  {
   "cell_type": "code",
   "execution_count": null,
   "id": "cardiac-rocket",
   "metadata": {},
   "outputs": [],
   "source": [
    "miragePoints, dustPoints, infernoPoints, vertigoPoints, trainPoints, overpassPoints, nukePoints := convertPathsToArraysOfPoints(s1mple_map_paths)"
   ]
  },
  {
   "cell_type": "code",
   "execution_count": null,
   "id": "hazardous-entrance",
   "metadata": {},
   "outputs": [],
   "source": [
    "mirageImg := createImage(miragePoints, \"de_mirage\")\n",
    "dustImg := createImage(dustPoints, \"de_dust2\")\n",
    "infernoImg := createImage(infernoPoints, \"de_inferno\")\n",
    "vertigoImg := createImage(vertigoPoints, \"de_vertigo\")\n",
    "overpassImg := createImage(overpassPoints, \"de_overpass\")\n",
    "nukeImg := createImage(nukePoints, \"de_nuke\")\n",
    "trainImg := createImage(trainPoints, \"de_train\")"
   ]
  },
  {
   "cell_type": "code",
   "execution_count": null,
   "id": "inappropriate-diversity",
   "metadata": {},
   "outputs": [],
   "source": [
    "miragePoints"
   ]
  },
  {
   "cell_type": "code",
   "execution_count": null,
   "id": "historic-equity",
   "metadata": {},
   "outputs": [],
   "source": [
    "if(mirageImg == nil){\n",
    "   os.Exit(1)\n",
    "}\n",
    "mirageImg"
   ]
  },
  {
   "cell_type": "code",
   "execution_count": null,
   "id": "northern-discovery",
   "metadata": {},
   "outputs": [],
   "source": [
    "if(infernoImg == nil){\n",
    "    os.Exit(1)\n",
    "}\n",
    "infernoImg"
   ]
  },
  {
   "cell_type": "code",
   "execution_count": null,
   "id": "minute-tuition",
   "metadata": {},
   "outputs": [],
   "source": [
    "if(dustImg == nil){\n",
    "    os.Exit(1)\n",
    "}\n",
    "dustImg"
   ]
  },
  {
   "cell_type": "code",
   "execution_count": null,
   "id": "noted-quarter",
   "metadata": {},
   "outputs": [],
   "source": [
    "if(overpassImg == nil){\n",
    "    os.Exit(1)\n",
    "}\n",
    "overpassImg"
   ]
  },
  {
   "cell_type": "code",
   "execution_count": null,
   "id": "skilled-nebraska",
   "metadata": {},
   "outputs": [],
   "source": [
    "if(trainImg == nil){\n",
    "    os.Exit(1)\n",
    "}\n",
    "trainImg"
   ]
  },
  {
   "cell_type": "code",
   "execution_count": null,
   "id": "adverse-capital",
   "metadata": {},
   "outputs": [],
   "source": [
    "if(nukeImg == nil){\n",
    "    os.Exit(1)\n",
    "}\n",
    "nukeImg"
   ]
  },
  {
   "cell_type": "code",
   "execution_count": null,
   "id": "pretty-acceptance",
   "metadata": {},
   "outputs": [],
   "source": [
    "// && e.Killer.Team == 3 (killer.team == 3 means ct), killer.team == 2 means t "
   ]
  },
  {
   "cell_type": "code",
   "execution_count": null,
   "id": "exciting-hollywood",
   "metadata": {},
   "outputs": [],
   "source": []
  },
  {
   "cell_type": "code",
   "execution_count": null,
   "id": "overall-convention",
   "metadata": {},
   "outputs": [],
   "source": []
  }
 ],
 "metadata": {
  "kernelspec": {
   "display_name": "Go",
   "language": "go",
   "name": "gophernotes"
  },
  "language_info": {
   "codemirror_mode": "",
   "file_extension": ".go",
   "mimetype": "",
   "name": "go",
   "nbconvert_exporter": "",
   "pygments_lexer": "",
   "version": "go1.16.1"
  }
 },
 "nbformat": 4,
 "nbformat_minor": 5
}
