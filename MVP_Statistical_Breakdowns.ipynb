{
 "cells": [
  {
   "cell_type": "code",
   "execution_count": null,
   "id": "c01df572",
   "metadata": {},
   "outputs": [],
   "source": [
    "from csgo.parser import DemoParser\n",
    "from csgo.analytics import stats\n",
    "import numpy\n",
    "import csv\n",
    "import pandas\n",
    "import pyserialem\n",
    "import os\n",
    "from tabulate import tabulate"
   ]
  },
  {
   "cell_type": "code",
   "execution_count": null,
   "id": "2b7732b2",
   "metadata": {},
   "outputs": [],
   "source": [
    "def getDemoPaths(directory):\n",
    "    demoPaths = []\n",
    "    for filename in os.listdir(directory):\n",
    "        demoPaths.append(os.path.join(directory, filename))\n",
    "    return demoPaths"
   ]
  },
  {
   "cell_type": "code",
   "execution_count": null,
   "id": "8d0b91da",
   "metadata": {},
   "outputs": [],
   "source": [
    "def generateDemoParsers(paths):\n",
    "    demo_parsers = []\n",
    "    for x in paths:\n",
    "        demoParser = DemoParser(demofile=x, demo_id = x.split('/')[-1].split('.')[0].split('_')[0], parse_rate=128)\n",
    "        demo_parsers.append(demoParser)\n",
    "    print(\"# Demo Parsers: \" + str(len(demo_parsers)))\n",
    "    return demo_parsers"
   ]
  },
  {
   "cell_type": "code",
   "execution_count": null,
   "id": "62f14ef3",
   "metadata": {},
   "outputs": [],
   "source": [
    "def generateData(parsers):\n",
    "    killData, roundData, damageData, frameData, playerFrames, bombEvents, grenadeData, flashData = [], [], [], [], [], [], [], []\n",
    "    for x in parsers:\n",
    "        x.parse()\n",
    "        killData.append(x._parse_kills(return_type=\"df\"))\n",
    "        roundData.append(x._parse_rounds(return_type=\"df\"))\n",
    "        damageData.append(x._parse_damages(return_type=\"df\"))\n",
    "        frameData.append(x._parse_frames(return_type=\"df\"))\n",
    "        playerFrames.append(x._parse_player_frames(return_type=\"df\"))\n",
    "        bombEvents.append(x._parse_bomb_events(return_type=\"df\"))\n",
    "        grenadeData.append(x._parse_grenades(return_type=\"df\"))\n",
    "        flashData.append(x._parse_flashes(return_type=\"df\"))\n",
    "    return (killData, roundData, damageData, frameData, playerFrames, bombEvents, grenadeData, flashData)"
   ]
  },
  {
   "cell_type": "code",
   "execution_count": null,
   "id": "41931a2f",
   "metadata": {},
   "outputs": [],
   "source": [
    "def concat_data(aggregate_data):\n",
    "    final_df = None\n",
    "    for x in aggregate_data:\n",
    "        final_df = pandas.concat([final_df, x], ignore_index=True)\n",
    "    return final_df"
   ]
  },
  {
   "cell_type": "code",
   "execution_count": null,
   "id": "0c42b3dc",
   "metadata": {},
   "outputs": [],
   "source": [
    "def divideDataByMaps(data):\n",
    "    dataByMap = {}\n",
    "    for x in data.MapName.unique():\n",
    "        dataByMap[x] = data[data['MapName'] == x]\n",
    "    return dataByMap"
   ]
  },
  {
   "cell_type": "code",
   "execution_count": null,
   "id": "8d2d9b89",
   "metadata": {},
   "outputs": [],
   "source": [
    "players_of_team = [ 'Boombl4', 'Perfecto', 'b1t', 'electronic', 's1mple']"
   ]
  },
  {
   "cell_type": "code",
   "execution_count": null,
   "id": "de667ff3",
   "metadata": {},
   "outputs": [],
   "source": [
    "demo_paths = \"/mnt/d/ESL_COLOGNE\""
   ]
  },
  {
   "cell_type": "code",
   "execution_count": null,
   "id": "fc7a491e",
   "metadata": {
    "scrolled": true
   },
   "outputs": [],
   "source": [
    "killData, roundData, damageData, frameData, playerFrames, bombEvents, grenadeData, flashData = generateData(generateDemoParsers(getDemoPaths(demo_paths)))"
   ]
  },
  {
   "cell_type": "code",
   "execution_count": null,
   "id": "c4b1c8ea",
   "metadata": {},
   "outputs": [],
   "source": [
    "finalKillData = concat_data(killData)\n",
    "finalRoundData = concat_data(roundData)\n",
    "finalDamageData = concat_data(damageData)\n",
    "finalGrenadeData = concat_data(grenadeData)\n",
    "finalFlashData = concat_data(flashData)"
   ]
  },
  {
   "cell_type": "code",
   "execution_count": null,
   "id": "228d09f0",
   "metadata": {},
   "outputs": [],
   "source": [
    "killMapData = divideDataByMaps(finalKillData)\n",
    "roundMapData = divideDataByMaps(finalRoundData)\n",
    "damageMapData = divideDataByMaps(finalDamageData)\n",
    "grenadeMapData = divideDataByMaps(finalGrenadeData)\n",
    "flashMapData = divideDataByMaps(finalFlashData)"
   ]
  },
  {
   "cell_type": "code",
   "execution_count": null,
   "id": "7118a30d",
   "metadata": {
    "scrolled": true
   },
   "outputs": [],
   "source": [
    "adr_stat = stats.adr(finalDamageData, finalRoundData, damage_filters = {\"AttackerTeam\" : [\"==\", \"Natus Vincere\"]})"
   ]
  },
  {
   "cell_type": "code",
   "execution_count": null,
   "id": "330c7839",
   "metadata": {
    "scrolled": false
   },
   "outputs": [],
   "source": [
    "adr_stat"
   ]
  },
  {
   "cell_type": "code",
   "execution_count": null,
   "id": "5839956f",
   "metadata": {
    "scrolled": true
   },
   "outputs": [],
   "source": [
    "team_1_adr_stats = {}\n",
    "for x in range(len(damageData)):\n",
    "    team_1_adr_stats[roundData[x]['MatchId'].unique()[0]] = stats.adr(damageData[x], roundData[x], damage_filters = {\"AttackerTeam\" :\n",
    "                                                                                                             [\"==\", \"Natus Vincere\"]})"
   ]
  },
  {
   "cell_type": "markdown",
   "id": "5c909102",
   "metadata": {},
   "source": [
    "## Break"
   ]
  },
  {
   "cell_type": "code",
   "execution_count": null,
   "id": "0361d5d1",
   "metadata": {},
   "outputs": [],
   "source": [
    "round_end_reasons = {}\n",
    "for x in killMapData.keys():\n",
    "    round_end_reasons[x] = stats.win_breakdown(roundMapData[x])"
   ]
  },
  {
   "cell_type": "code",
   "execution_count": null,
   "id": "035e61f3",
   "metadata": {},
   "outputs": [],
   "source": [
    "round_end_reasons['de_dust2']"
   ]
  },
  {
   "cell_type": "code",
   "execution_count": null,
   "id": "98617cb5",
   "metadata": {
    "scrolled": true
   },
   "outputs": [],
   "source": [
    "round_end_reasons['de_mirage']"
   ]
  },
  {
   "cell_type": "code",
   "execution_count": null,
   "id": "86c00013",
   "metadata": {
    "scrolled": true
   },
   "outputs": [],
   "source": [
    "round_end_reasons['de_nuke']"
   ]
  },
  {
   "cell_type": "code",
   "execution_count": null,
   "id": "854c627f",
   "metadata": {
    "scrolled": true
   },
   "outputs": [],
   "source": [
    "round_end_reasons['de_ancient']"
   ]
  },
  {
   "cell_type": "code",
   "execution_count": null,
   "id": "2aadc2c7",
   "metadata": {
    "scrolled": true
   },
   "outputs": [],
   "source": [
    "round_end_reasons['de_inferno']"
   ]
  },
  {
   "cell_type": "code",
   "execution_count": null,
   "id": "c246b89c",
   "metadata": {
    "scrolled": true
   },
   "outputs": [],
   "source": [
    "round_end_reasons['de_overpass']"
   ]
  },
  {
   "cell_type": "markdown",
   "id": "2cebc553",
   "metadata": {},
   "source": [
    "## Break"
   ]
  },
  {
   "cell_type": "code",
   "execution_count": null,
   "id": "2035d681",
   "metadata": {},
   "outputs": [],
   "source": [
    "util_breakdown = {}\n",
    "for x in killMapData.keys():\n",
    "    util_breakdown[x] = stats.util_dmg_breakdown(damageMapData[x], grenadeMapData[x])"
   ]
  },
  {
   "cell_type": "code",
   "execution_count": null,
   "id": "d1e77e10",
   "metadata": {
    "scrolled": true
   },
   "outputs": [],
   "source": [
    "util_breakdown['de_dust2'][util_breakdown['de_dust2']['Player'].isin(players_of_team)]"
   ]
  },
  {
   "cell_type": "code",
   "execution_count": null,
   "id": "cbe036ff",
   "metadata": {
    "scrolled": true
   },
   "outputs": [],
   "source": [
    "util_breakdown['de_mirage'][util_breakdown['de_mirage']['Player'].isin(players_of_team)]"
   ]
  },
  {
   "cell_type": "code",
   "execution_count": null,
   "id": "9a475db1",
   "metadata": {
    "scrolled": false
   },
   "outputs": [],
   "source": [
    "util_breakdown['de_nuke'][util_breakdown['de_nuke']['Player'].isin(players_of_team)]"
   ]
  },
  {
   "cell_type": "code",
   "execution_count": null,
   "id": "1b968768",
   "metadata": {
    "scrolled": false
   },
   "outputs": [],
   "source": [
    "util_breakdown['de_ancient'][util_breakdown['de_ancient']['Player'].isin(players_of_team)]"
   ]
  },
  {
   "cell_type": "code",
   "execution_count": null,
   "id": "7f9ad00e",
   "metadata": {
    "scrolled": false
   },
   "outputs": [],
   "source": [
    "util_breakdown['de_inferno'][util_breakdown['de_inferno']['Player'].isin(players_of_team)]"
   ]
  },
  {
   "cell_type": "code",
   "execution_count": null,
   "id": "8dbdd367",
   "metadata": {
    "scrolled": true
   },
   "outputs": [],
   "source": [
    "util_breakdown['de_overpass'][util_breakdown['de_overpass']['Player'].isin(players_of_team)]"
   ]
  },
  {
   "cell_type": "markdown",
   "id": "3bfafa3f",
   "metadata": {},
   "source": [
    "## Break"
   ]
  },
  {
   "cell_type": "code",
   "execution_count": null,
   "id": "a0f9b1b3",
   "metadata": {},
   "outputs": [],
   "source": [
    "util_dmg = {}\n",
    "for x in killMapData.keys():\n",
    "    util_dmg[x] = stats.util_dmg(damageMapData[x], grenadeMapData[x])"
   ]
  },
  {
   "cell_type": "code",
   "execution_count": null,
   "id": "78fb8c61",
   "metadata": {},
   "outputs": [],
   "source": [
    "killMapData.keys()"
   ]
  },
  {
   "cell_type": "code",
   "execution_count": null,
   "id": "22693b19",
   "metadata": {
    "scrolled": true
   },
   "outputs": [],
   "source": [
    "util_dmg['de_dust2'][util_dmg['de_dust2']['Player'].isin(players_of_team)]"
   ]
  },
  {
   "cell_type": "code",
   "execution_count": null,
   "id": "2a4dfb63",
   "metadata": {},
   "outputs": [],
   "source": [
    "util_dmg['de_mirage'][util_dmg['de_mirage']['Player'].isin(players_of_team)]"
   ]
  },
  {
   "cell_type": "code",
   "execution_count": null,
   "id": "9e659fa8",
   "metadata": {},
   "outputs": [],
   "source": [
    "util_dmg['de_nuke'][util_dmg['de_nuke']['Player'].isin(players_of_team)]"
   ]
  },
  {
   "cell_type": "code",
   "execution_count": null,
   "id": "efb9a54d",
   "metadata": {},
   "outputs": [],
   "source": [
    "util_dmg['de_ancient'][util_dmg['de_ancient']['Player'].isin(players_of_team)]"
   ]
  },
  {
   "cell_type": "code",
   "execution_count": null,
   "id": "4a1059d7",
   "metadata": {},
   "outputs": [],
   "source": [
    "util_dmg['de_inferno'][util_dmg['de_inferno']['Player'].isin(players_of_team)]"
   ]
  },
  {
   "cell_type": "code",
   "execution_count": null,
   "id": "9ae5dbd5",
   "metadata": {},
   "outputs": [],
   "source": [
    "util_dmg['de_overpass'][util_dmg['de_overpass']['Player'].isin(players_of_team)]"
   ]
  },
  {
   "cell_type": "markdown",
   "id": "9768636e",
   "metadata": {},
   "source": [
    "## Break"
   ]
  },
  {
   "cell_type": "code",
   "execution_count": null,
   "id": "15b2eea6",
   "metadata": {},
   "outputs": [],
   "source": [
    "kill_stats = {}\n",
    "for x in killMapData.keys():\n",
    "    kill_stats[x] = stats.kill_stats(killMapData[x], roundMapData[x])"
   ]
  },
  {
   "cell_type": "code",
   "execution_count": null,
   "id": "ae823fb8",
   "metadata": {
    "scrolled": false
   },
   "outputs": [],
   "source": [
    "kill_stats['de_dust2'][kill_stats['de_dust2']['Player'].isin(players_of_team)]"
   ]
  },
  {
   "cell_type": "code",
   "execution_count": null,
   "id": "ff28251d",
   "metadata": {
    "scrolled": true
   },
   "outputs": [],
   "source": [
    "kill_stats['de_mirage'][kill_stats['de_mirage']['Player'].isin(players_of_team)]"
   ]
  },
  {
   "cell_type": "code",
   "execution_count": null,
   "id": "9587e0c4",
   "metadata": {
    "scrolled": true
   },
   "outputs": [],
   "source": [
    "kill_stats['de_nuke'][kill_stats['de_nuke']['Player'].isin(players_of_team)]"
   ]
  },
  {
   "cell_type": "code",
   "execution_count": null,
   "id": "25047e5a",
   "metadata": {
    "scrolled": true
   },
   "outputs": [],
   "source": [
    "kill_stats['de_ancient'][kill_stats['de_ancient']['Player'].isin(players_of_team)]"
   ]
  },
  {
   "cell_type": "code",
   "execution_count": null,
   "id": "2c3a8539",
   "metadata": {
    "scrolled": true
   },
   "outputs": [],
   "source": [
    "kill_stats['de_inferno'][kill_stats['de_inferno']['Player'].isin(players_of_team)]"
   ]
  },
  {
   "cell_type": "code",
   "execution_count": null,
   "id": "2b2b2851",
   "metadata": {
    "scrolled": false
   },
   "outputs": [],
   "source": [
    "kill_stats['de_overpass'][kill_stats['de_overpass']['Player'].isin(players_of_team)]"
   ]
  },
  {
   "cell_type": "markdown",
   "id": "c63c2cf3",
   "metadata": {},
   "source": [
    "## Break"
   ]
  },
  {
   "cell_type": "code",
   "execution_count": null,
   "id": "17566a49",
   "metadata": {},
   "outputs": [],
   "source": [
    "kill_breakdown = {}\n",
    "for x in killMapData.keys():\n",
    "    kill_breakdown[x] = stats.kill_breakdown(killMapData[x])"
   ]
  },
  {
   "cell_type": "code",
   "execution_count": null,
   "id": "a876d085",
   "metadata": {
    "scrolled": true
   },
   "outputs": [],
   "source": [
    "kill_breakdown['de_dust2'][kill_breakdown['de_dust2']['Player'].isin(players_of_team)]"
   ]
  },
  {
   "cell_type": "code",
   "execution_count": null,
   "id": "0e1b00a7",
   "metadata": {},
   "outputs": [],
   "source": [
    "kill_breakdown['de_mirage'][kill_breakdown['de_mirage']['Player'].isin(players_of_team)]"
   ]
  },
  {
   "cell_type": "code",
   "execution_count": null,
   "id": "dd094526",
   "metadata": {
    "scrolled": true
   },
   "outputs": [],
   "source": [
    "kill_breakdown['de_nuke'][kill_breakdown['de_nuke']['Player'].isin(players_of_team)]"
   ]
  },
  {
   "cell_type": "code",
   "execution_count": null,
   "id": "cd216926",
   "metadata": {},
   "outputs": [],
   "source": [
    "kill_breakdown['de_ancient'][kill_breakdown['de_ancient']['Player'].isin(players_of_team)]"
   ]
  },
  {
   "cell_type": "code",
   "execution_count": null,
   "id": "5d4d47df",
   "metadata": {},
   "outputs": [],
   "source": [
    "kill_breakdown['de_inferno'][kill_breakdown['de_inferno']['Player'].isin(players_of_team)]"
   ]
  },
  {
   "cell_type": "code",
   "execution_count": null,
   "id": "647cf182",
   "metadata": {},
   "outputs": [],
   "source": [
    "kill_breakdown['de_overpass'][kill_breakdown['de_overpass']['Player'].isin(players_of_team)]"
   ]
  },
  {
   "cell_type": "markdown",
   "id": "c5c72c50",
   "metadata": {},
   "source": [
    "## Break"
   ]
  },
  {
   "cell_type": "code",
   "execution_count": null,
   "id": "d6d30e5c",
   "metadata": {},
   "outputs": [],
   "source": [
    "flash_breakdown = {}\n",
    "for x in killMapData.keys():\n",
    "    flash_breakdown[x] = stats.flash_stats(flashMapData[x], grenadeMapData[x])"
   ]
  },
  {
   "cell_type": "code",
   "execution_count": null,
   "id": "08502a78",
   "metadata": {},
   "outputs": [],
   "source": [
    "killMapData.keys()"
   ]
  },
  {
   "cell_type": "code",
   "execution_count": null,
   "id": "9e205957",
   "metadata": {
    "scrolled": false
   },
   "outputs": [],
   "source": [
    "flash_breakdown['de_dust2'][flash_breakdown['de_dust2']['Player'].isin(players_of_team)].drop(columns=\"TF\")"
   ]
  },
  {
   "cell_type": "code",
   "execution_count": null,
   "id": "21bbe0d3",
   "metadata": {
    "scrolled": true
   },
   "outputs": [],
   "source": [
    "flash_breakdown['de_mirage'][flash_breakdown['de_mirage']['Player'].isin(players_of_team)].drop(columns=\"TF\")"
   ]
  },
  {
   "cell_type": "code",
   "execution_count": null,
   "id": "89ef0264",
   "metadata": {
    "scrolled": false
   },
   "outputs": [],
   "source": [
    "flash_breakdown['de_nuke'][flash_breakdown['de_nuke']['Player'].isin(players_of_team)].drop(columns=\"TF\")"
   ]
  },
  {
   "cell_type": "code",
   "execution_count": null,
   "id": "0869bd08",
   "metadata": {
    "scrolled": false
   },
   "outputs": [],
   "source": [
    "flash_breakdown['de_inferno'][flash_breakdown['de_inferno']['Player'].isin(players_of_team)].drop(columns=\"TF\")"
   ]
  },
  {
   "cell_type": "code",
   "execution_count": null,
   "id": "e03bbc43",
   "metadata": {
    "scrolled": true
   },
   "outputs": [],
   "source": [
    "flash_breakdown['de_ancient'][flash_breakdown['de_ancient']['Player'].isin(players_of_team)].drop(columns=\"TF\")"
   ]
  },
  {
   "cell_type": "code",
   "execution_count": null,
   "id": "3b82e081",
   "metadata": {
    "scrolled": true
   },
   "outputs": [],
   "source": [
    "flash_breakdown['de_overpass'][flash_breakdown['de_overpass']['Player'].isin(players_of_team)].drop(columns=\"TF\")"
   ]
  },
  {
   "cell_type": "code",
   "execution_count": null,
   "id": "74e132ec",
   "metadata": {},
   "outputs": [],
   "source": []
  }
 ],
 "metadata": {
  "kernelspec": {
   "display_name": "Python 3",
   "language": "python",
   "name": "python3"
  },
  "language_info": {
   "codemirror_mode": {
    "name": "ipython",
    "version": 3
   },
   "file_extension": ".py",
   "mimetype": "text/x-python",
   "name": "python",
   "nbconvert_exporter": "python",
   "pygments_lexer": "ipython3",
   "version": "3.6.13"
  }
 },
 "nbformat": 4,
 "nbformat_minor": 5
}
