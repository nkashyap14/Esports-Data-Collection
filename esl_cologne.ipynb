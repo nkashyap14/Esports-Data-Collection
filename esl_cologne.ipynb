{
 "cells": [
  {
   "cell_type": "code",
   "execution_count": 1,
   "id": "c1531956",
   "metadata": {},
   "outputs": [],
   "source": [
    "from csgo.parser import DemoParser\n",
    "import numpy\n",
    "import csv\n",
    "import pandas\n",
    "import pyserialem\n",
    "import os\n",
    "from tabulate import tabulate\n",
    "from sklearn import preprocessing"
   ]
  },
  {
   "cell_type": "code",
   "execution_count": 2,
   "id": "fae6557c",
   "metadata": {},
   "outputs": [],
   "source": [
    "def getDemoPaths(directory):\n",
    "    demoPaths = []\n",
    "    for filename in os.listdir(directory):\n",
    "        demoPaths.append(os.path.join(directory, filename))\n",
    "    return demoPaths"
   ]
  },
  {
   "cell_type": "code",
   "execution_count": 3,
   "id": "7199d56a",
   "metadata": {},
   "outputs": [],
   "source": [
    "def generateDemoParsers(paths):\n",
    "    demo_parsers = []\n",
    "    for x in paths:\n",
    "        demoParser = DemoParser(demofile=x, demo_id = x.split('/')[-1].split('.')[0].split('_')[0], parse_rate=128)\n",
    "        demo_parsers.append(demoParser)\n",
    "    print(\"# Demo Parsers: \" + str(len(demo_parsers)))\n",
    "    return demo_parsers"
   ]
  },
  {
   "cell_type": "code",
   "execution_count": 4,
   "id": "ef1e36e8",
   "metadata": {},
   "outputs": [],
   "source": [
    "def generateData(parsers):\n",
    "    killData, roundData, damageData = [], [], [],\n",
    "    for x in parsers:\n",
    "        x.parse()\n",
    "        killData.append(x._parse_kills(return_type=\"df\"))\n",
    "        roundData.append(x._parse_rounds(return_type=\"df\"))\n",
    "        damageData.append(x._parse_damages(return_type=\"df\"))\n",
    "    return (killData, roundData, damageData)"
   ]
  },
  {
   "cell_type": "code",
   "execution_count": 5,
   "id": "4e2ec120",
   "metadata": {},
   "outputs": [],
   "source": [
    "def createSidedCSVDFWithScaledPer30(players, damageData, killData, roundData, teams):\n",
    "    locationNames = []\n",
    "    playerNames = []\n",
    "\n",
    "    Kills = []\n",
    "    killsPer30 = []\n",
    "    Deaths = []\n",
    "    deathsPer30 = []\n",
    "    KdDifferential = []\n",
    "    kdPer30 = []\n",
    "    DamageDealt = []\n",
    "    damageDealtPer30 = []\n",
    "    DamageTaken = []\n",
    "    damageTakenPer30 = []\n",
    "    DamageDifferential = []\n",
    "    damageDiffPer30 = []\n",
    "    sides = []\n",
    "    totalRounds = []\n",
    "    dataframe = {}\n",
    "    for x in players.keys():\n",
    "        for y in killData[killData['AttackerName'].isin(players[x]) | killData['VictimName'].isin(players[x])].VictimAreaName.value_counts().index:\n",
    "            tempCTKills = len(killData[killData['AttackerName'].isin(players[x])][killData['AttackerAreaName'] == y][killData['AttackerSide'] == 'CT'])\n",
    "            tempCTDeaths = len(killData[killData['VictimName'].isin(players[x])][killData['VictimAreaName'] == y][killData['VictimSide'] == 'CT'])\n",
    "            tempCTKdDifferential = tempCTKills - tempCTDeaths\n",
    "            \n",
    "            tempCTDamageDealt = damageData[damageData['AttackerName'].isin(players[x])][damageData['AttackerAreaName'] == y][damageData['AttackerSide'] == 'CT'].HpDamageTaken.sum()\n",
    "            tempCTDamageTaken = damageData[damageData['VictimName'].isin(players[x])][damageData['VictimAreaName'] == y][damageData['VictimSide'] == 'CT'].HpDamageTaken.sum()\n",
    "            tempCTDamageDifferential = tempCTDamageDealt - tempCTDamageTaken\n",
    "                                                                                                             \n",
    "            tempTKills = len(killData[killData['AttackerName'].isin(players[x])][killData['AttackerAreaName'] == y][killData['AttackerSide'] == 'T'])\n",
    "            tempTDeaths = len(killData[killData['VictimName'].isin(players[x])][killData['VictimAreaName'] == y][killData['VictimSide'] == 'T'])\n",
    "            tempTKdDifferential = tempTKills - tempTDeaths\n",
    "                                                                                                             \n",
    "            tempTDamageDealt = damageData[damageData['AttackerName'].isin(players[x])][damageData['AttackerAreaName'] == y][damageData['AttackerSide'] == 'T'].HpDamageTaken.sum()\n",
    "            tempTDamageTaken = damageData[damageData['VictimName'].isin(players[x])][damageData['VictimAreaName'] == y][damageData['VictimSide'] == 'T'].HpDamageTaken.sum()\n",
    "            tempTDamageDifferential = tempTDamageDealt - tempTDamageTaken\n",
    "            \n",
    "            \n",
    "            locationNames.append(y)\n",
    "            locationNames.append(y)\n",
    "            \n",
    "            playerNames.append(x)\n",
    "            playerNames.append(x)\n",
    "            \n",
    "            Kills.append(tempCTKills)\n",
    "            Kills.append(tempTKills)\n",
    "            \n",
    "            \n",
    "            Deaths.append(tempCTDeaths)\n",
    "            Deaths.append(tempTDeaths)\n",
    "            \n",
    "            \n",
    "            KdDifferential.append(tempCTKdDifferential)\n",
    "            KdDifferential.append(tempTKdDifferential)\n",
    "            \n",
    "            \n",
    "            DamageDealt.append(tempCTDamageDealt)\n",
    "            DamageTaken.append(tempCTDamageTaken)\n",
    "            DamageDifferential.append(tempCTDamageDifferential)\n",
    "            \n",
    "            DamageDealt.append(tempTDamageDealt)\n",
    "            DamageTaken.append(tempTDamageTaken)\n",
    "            DamageDifferential.append(tempTDamageDifferential)\n",
    "            \n",
    "            sides.append('CT')\n",
    "            sides.append('T')\n",
    "            \n",
    "            for y in teams.keys():\n",
    "                if x in teams[y]['Players']:\n",
    "                    totalRounds.append(teams[y]['CT'])\n",
    "                    totalRounds.append(teams[y]['T'])\n",
    "                    break\n",
    "            \n",
    "            damageDiffPer30.append(tempCTDamageDifferential / totalRounds[-2] * 30)\n",
    "            damageDiffPer30.append(tempTDamageDifferential / totalRounds[-1] * 30)\n",
    "\n",
    "            kdPer30.append(tempCTKdDifferential / totalRounds[-2] * 30)\n",
    "            kdPer30.append(tempTKdDifferential / totalRounds[-1] * 30)\n",
    "            \n",
    "            \n",
    "            killsPer30.append(tempCTKills / totalRounds[-2] * 30)\n",
    "            killsPer30.append(tempTKills / totalRounds[-1] * 30)\n",
    "            \n",
    "            deathsPer30.append(tempCTDeaths / totalRounds[-2] * 30)\n",
    "            deathsPer30.append(tempTDeaths / totalRounds[-1] * 30)\n",
    "\n",
    "            damageDealtPer30.append(tempCTDamageDealt / totalRounds[-2] * 30)\n",
    "            damageDealtPer30.append(tempTDamageDealt / totalRounds[-1] * 30)\n",
    "            \n",
    "            damageTakenPer30.append(tempCTDamageTaken / totalRounds[-2] * 30)\n",
    "            damageTakenPer30.append(tempTDamageTaken / totalRounds[-1] * 30)\n",
    "            \n",
    "    \n",
    "    dataframe['Location'] = locationNames\n",
    "    dataframe['Player'] = playerNames\n",
    "    dataframe['Kills'] = Kills\n",
    "    dataframe['Deaths'] = Deaths\n",
    "    dataframe['K/D'] = KdDifferential\n",
    "    dataframe['Damage Dealt'] = DamageDealt\n",
    "    dataframe['Damage Taken'] = DamageTaken\n",
    "    dataframe['Damage Differential'] = DamageDifferential\n",
    "    dataframe['Side'] = sides\n",
    "    dataframe['Total Rounds'] = totalRounds\n",
    "    dataframe['Damage Diff Per 30'] = damageDiffPer30\n",
    "    dataframe['KD Diff Per 30'] = kdPer30\n",
    "    dataframe['Kills Per 30'] = killsPer30\n",
    "    dataframe['Deaths Per 30'] = deathsPer30\n",
    "    dataframe['Damage Dealt Per 30'] = damageDealtPer30\n",
    "    dataframe['Damage Taken Per 30'] = damageTakenPer30   \n",
    "    \n",
    "    return pandas.DataFrame.from_dict(dataframe, orient='columns')"
   ]
  },
  {
   "cell_type": "code",
   "execution_count": 6,
   "id": "a65bc7f8",
   "metadata": {},
   "outputs": [],
   "source": [
    "def concat_data(aggregate_data):\n",
    "    final_df = None\n",
    "    for x in aggregate_data:\n",
    "        final_df = pandas.concat([final_df, x], ignore_index=True)\n",
    "    return final_df"
   ]
  },
  {
   "cell_type": "code",
   "execution_count": 7,
   "id": "b59d4149",
   "metadata": {},
   "outputs": [],
   "source": [
    "demo_paths = \"/mnt/d/ESL_COLOGNE\""
   ]
  },
  {
   "cell_type": "code",
   "execution_count": 8,
   "id": "1e582e36",
   "metadata": {},
   "outputs": [],
   "source": [
    "demoPaths = getDemoPaths(demo_paths)"
   ]
  },
  {
   "cell_type": "code",
   "execution_count": 9,
   "id": "8e52abe7",
   "metadata": {},
   "outputs": [],
   "source": [
    "demos = []\n",
    "for x in demoPaths:\n",
    "    if \"ancient\" not in x:\n",
    "        demos.append(x)"
   ]
  },
  {
   "cell_type": "code",
   "execution_count": 10,
   "id": "3d62cd58",
   "metadata": {},
   "outputs": [
    {
     "data": {
      "text/plain": [
       "['/mnt/d/ESL_COLOGNE/evil-geniuses-vs-faze-mirage.dem',\n",
       " '/mnt/d/ESL_COLOGNE/faze-vs-complexity-m1-dust2.dem',\n",
       " '/mnt/d/ESL_COLOGNE/faze-vs-complexity-m2-nuke.dem']"
      ]
     },
     "execution_count": 10,
     "metadata": {},
     "output_type": "execute_result"
    }
   ],
   "source": [
    "demos"
   ]
  },
  {
   "cell_type": "code",
   "execution_count": 11,
   "id": "63f5d01c",
   "metadata": {},
   "outputs": [],
   "source": [
    "mirageMappingPath = './mappings/mappings/'\n",
    "infernoMappingPath = './mappings/mappings/de_inferno_place_mappings.txt'"
   ]
  },
  {
   "cell_type": "code",
   "execution_count": 12,
   "id": "5597b502",
   "metadata": {},
   "outputs": [],
   "source": [
    "file = open(infernoMappingPath, 'r')\n",
    "lines = file.readlines()\n",
    "file.close()"
   ]
  },
  {
   "cell_type": "code",
   "execution_count": 13,
   "id": "4aa90042",
   "metadata": {},
   "outputs": [],
   "source": [
    "for x in range(len(lines)):\n",
    "    if(lines[x][-1] == '\\n'):\n",
    "        lines[x] = lines[x][:-1]"
   ]
  },
  {
   "cell_type": "code",
   "execution_count": 14,
   "id": "aad47bdf",
   "metadata": {},
   "outputs": [],
   "source": [
    "mappedPlaceNames = {}\n",
    "for x in lines:\n",
    "    if(x != ''):\n",
    "        mappedPlaceNames[x.split(':')[0]] = x.split(':')[1]"
   ]
  },
  {
   "cell_type": "code",
   "execution_count": 15,
   "id": "66c8e3ee",
   "metadata": {},
   "outputs": [],
   "source": [
    "mappingFile = os.path.join(mirageMappingPath, os.listdir(mirageMappingPath)[1])"
   ]
  },
  {
   "cell_type": "code",
   "execution_count": 16,
   "id": "eaa74a8e",
   "metadata": {},
   "outputs": [],
   "source": [
    "file = open(mappingFile, 'r')\n",
    "lines = file.readlines()\n",
    "file.close()"
   ]
  },
  {
   "cell_type": "code",
   "execution_count": 17,
   "id": "9f929443",
   "metadata": {},
   "outputs": [],
   "source": [
    "for x in range(len(lines)):\n",
    "    if(lines[x][-1] == '\\n'):\n",
    "        lines[x] = lines[x][:-1]"
   ]
  },
  {
   "cell_type": "code",
   "execution_count": 18,
   "id": "1b105351",
   "metadata": {},
   "outputs": [],
   "source": [
    "mappedPlaceName = {}\n",
    "for x in lines:\n",
    "    if(x != ''):\n",
    "        mappedPlaceName[x.split(':')[0]] = x.split(':')[1]"
   ]
  },
  {
   "cell_type": "code",
   "execution_count": 19,
   "id": "5855f78c",
   "metadata": {},
   "outputs": [
    {
     "name": "stderr",
     "output_type": "stream",
     "text": [
      "22:06:42 [INFO] Go version>=1.14.0\n",
      "22:06:42 [INFO] Initialized CSGODemoParser with demofile /mnt/d/ESL_COLOGNE/evil-geniuses-vs-faze-mirage.dem\n",
      "22:06:42 [INFO] Setting demo id to evil-geniuses-vs-faze-mirage\n",
      "22:06:42 [INFO] Setting parse rate to 128\n",
      "22:06:42 [INFO] Go version>=1.14.0\n",
      "22:06:42 [INFO] Initialized CSGODemoParser with demofile /mnt/d/ESL_COLOGNE/faze-vs-complexity-m1-dust2.dem\n",
      "22:06:42 [INFO] Setting demo id to faze-vs-complexity-m1-dust2\n",
      "22:06:42 [INFO] Setting parse rate to 128\n",
      "22:06:42 [INFO] Go version>=1.14.0\n",
      "22:06:42 [INFO] Initialized CSGODemoParser with demofile /mnt/d/ESL_COLOGNE/faze-vs-complexity-m2-nuke.dem\n",
      "22:06:42 [INFO] Setting demo id to faze-vs-complexity-m2-nuke\n",
      "22:06:42 [INFO] Setting parse rate to 128\n"
     ]
    },
    {
     "name": "stdout",
     "output_type": "stream",
     "text": [
      "# Demo Parsers: 3\n"
     ]
    }
   ],
   "source": [
    "parsers = generateDemoParsers(demos)"
   ]
  },
  {
   "cell_type": "code",
   "execution_count": 20,
   "id": "97c750eb",
   "metadata": {},
   "outputs": [
    {
     "name": "stderr",
     "output_type": "stream",
     "text": [
      "22:06:47 [INFO] Running Golang parser from /home/nk095x/cs_demos/csgo/csgo/parser/\n",
      "22:06:47 [INFO] Looking for file at /mnt/d/ESL_COLOGNE/evil-geniuses-vs-faze-mirage.dem\n",
      "22:07:18 [INFO] Wrote demo parse output to evil-geniuses-vs-faze-mirage.json\n",
      "22:07:18 [INFO] Reading in JSON from evil-geniuses-vs-faze-mirage.json\n",
      "22:07:19 [INFO] JSON data loaded, available in the `json` attribute to parser\n",
      "22:07:19 [INFO] Successfully parsed JSON output\n",
      "22:07:19 [INFO] Successfully returned JSON output\n",
      "22:07:19 [INFO] Parsed kills to Pandas DataFrame\n",
      "22:07:19 [INFO] Parsed rounds to Pandas DataFrame\n",
      "22:07:19 [INFO] Parsed damages to Pandas DataFrame\n",
      "22:07:19 [INFO] Running Golang parser from /home/nk095x/cs_demos/csgo/csgo/parser/\n",
      "22:07:19 [INFO] Looking for file at /mnt/d/ESL_COLOGNE/faze-vs-complexity-m1-dust2.dem\n",
      "22:07:39 [INFO] Wrote demo parse output to faze-vs-complexity-m1-dust2.json\n",
      "22:07:39 [INFO] Reading in JSON from faze-vs-complexity-m1-dust2.json\n",
      "22:07:40 [INFO] JSON data loaded, available in the `json` attribute to parser\n",
      "22:07:40 [INFO] Successfully parsed JSON output\n",
      "22:07:40 [INFO] Successfully returned JSON output\n",
      "22:07:40 [INFO] Parsed kills to Pandas DataFrame\n",
      "22:07:40 [INFO] Parsed rounds to Pandas DataFrame\n",
      "22:07:40 [INFO] Parsed damages to Pandas DataFrame\n",
      "22:07:40 [INFO] Running Golang parser from /home/nk095x/cs_demos/csgo/csgo/parser/\n",
      "22:07:40 [INFO] Looking for file at /mnt/d/ESL_COLOGNE/faze-vs-complexity-m2-nuke.dem\n",
      "22:08:00 [INFO] Wrote demo parse output to faze-vs-complexity-m2-nuke.json\n",
      "22:08:00 [INFO] Reading in JSON from faze-vs-complexity-m2-nuke.json\n",
      "22:08:01 [INFO] JSON data loaded, available in the `json` attribute to parser\n",
      "22:08:01 [INFO] Successfully parsed JSON output\n",
      "22:08:01 [INFO] Successfully returned JSON output\n",
      "22:08:01 [INFO] Parsed kills to Pandas DataFrame\n",
      "22:08:01 [INFO] Parsed rounds to Pandas DataFrame\n",
      "22:08:01 [INFO] Parsed damages to Pandas DataFrame\n"
     ]
    }
   ],
   "source": [
    "kills, rounds, damages = generateData(parsers)"
   ]
  },
  {
   "cell_type": "code",
   "execution_count": 24,
   "id": "237ff1ae",
   "metadata": {},
   "outputs": [],
   "source": [
    "kill = concat_data(kills)\n",
    "rounds_ = concat_data(rounds)\n",
    "damage = concat_data(damages)"
   ]
  },
  {
   "cell_type": "code",
   "execution_count": 25,
   "id": "fa0dc627",
   "metadata": {},
   "outputs": [],
   "source": [
    "mirageKill = kill[kill.MapName == 'de_mirage']\n",
    "infernoKill = kill[kill.MapName == 'de_inferno']\n",
    "kill = kill[(kill['MapName'] != 'de_mirage') & (kill['MapName'] != 'de_inferno')]"
   ]
  },
  {
   "cell_type": "code",
   "execution_count": 26,
   "id": "ba642181",
   "metadata": {},
   "outputs": [],
   "source": [
    "mirageDamage = damage[damage.MapName == 'de_mirage']\n",
    "infernoDamage = damage[damage.MapName == 'de_inferno']\n",
    "damage = damage[(damage['MapName'] != 'de_mirage') & (damage['MapName'] != 'de_inferno')]"
   ]
  },
  {
   "cell_type": "code",
   "execution_count": 27,
   "id": "29d78a77",
   "metadata": {},
   "outputs": [],
   "source": [
    "mirageRound = rounds_[rounds_.MapName == 'de_mirage']\n",
    "infernoRound = rounds_[rounds_.MapName == 'de_inferno']\n",
    "rounds_ = rounds_[(rounds_['MapName'] != 'de_mirage') & (rounds_['MapName'] != 'de_inferno')]"
   ]
  },
  {
   "cell_type": "code",
   "execution_count": 28,
   "id": "2082f778",
   "metadata": {},
   "outputs": [],
   "source": [
    "mirageKill['AttackerAreaName'].replace(mappedPlaceName, inplace=True)\n",
    "mirageKill['VictimAreaName'].replace(mappedPlaceName, inplace=True)"
   ]
  },
  {
   "cell_type": "code",
   "execution_count": 29,
   "id": "a4fd47fa",
   "metadata": {},
   "outputs": [],
   "source": [
    "mirageDamage['AttackerAreaName'].replace(mappedPlaceName, inplace=True)\n",
    "mirageDamage['VictimAreaName'].replace(mappedPlaceName, inplace=True)"
   ]
  },
  {
   "cell_type": "code",
   "execution_count": 32,
   "id": "f1f13d0b",
   "metadata": {},
   "outputs": [
    {
     "name": "stdout",
     "output_type": "stream",
     "text": [
      "dict_keys(['Evil Geniuses', 'FaZe Clan'])\n"
     ]
    }
   ],
   "source": [
    "teams = {}\n",
    "for x in mirageRound.WinningTeam.unique():\n",
    "    teams[x] = {'CT' : 0, 'T' : 0}\n",
    "print(teams.keys())\n",
    "for i, r in mirageRound.iterrows():\n",
    "    teams[r['WinningTeam']][r['WinningSide']] += 1\n",
    "    if(r['WinningSide'] == 'CT'):\n",
    "        teams[r['LosingTeam']]['T'] += 1\n",
    "    else:\n",
    "        teams[r['LosingTeam']]['CT'] += 1\n",
    "for x in teams.keys():\n",
    "    teams[x]['Players'] = []"
   ]
  },
  {
   "cell_type": "code",
   "execution_count": 34,
   "id": "7ad1b097",
   "metadata": {},
   "outputs": [],
   "source": [
    "for x in mirageKill.AttackerName.unique():\n",
    "    if x != None and x not in teams[mirageKill[mirageKill['AttackerName'] == x].AttackerTeam.iloc[0]]['Players']:\n",
    "        teams[mirageKill[mirageKill['AttackerName'] == x].AttackerTeam.iloc[0]]['Players'].append(x)"
   ]
  },
  {
   "cell_type": "code",
   "execution_count": 36,
   "id": "8dae81af",
   "metadata": {},
   "outputs": [],
   "source": [
    "player_names = list(mirageKill.AttackerName.value_counts().index)\n",
    "player_name = {}\n",
    "for x in player_names:\n",
    "    player_name[x] = [x]"
   ]
  },
  {
   "cell_type": "code",
   "execution_count": 37,
   "id": "553a838f",
   "metadata": {},
   "outputs": [
    {
     "name": "stderr",
     "output_type": "stream",
     "text": [
      "/home/nk095x/.local/lib/python3.6/site-packages/ipykernel_launcher.py:22: UserWarning: Boolean Series key will be reindexed to match DataFrame index.\n",
      "/home/nk095x/.local/lib/python3.6/site-packages/ipykernel_launcher.py:23: UserWarning: Boolean Series key will be reindexed to match DataFrame index.\n",
      "/home/nk095x/.local/lib/python3.6/site-packages/ipykernel_launcher.py:26: UserWarning: Boolean Series key will be reindexed to match DataFrame index.\n",
      "/home/nk095x/.local/lib/python3.6/site-packages/ipykernel_launcher.py:27: UserWarning: Boolean Series key will be reindexed to match DataFrame index.\n",
      "/home/nk095x/.local/lib/python3.6/site-packages/ipykernel_launcher.py:30: UserWarning: Boolean Series key will be reindexed to match DataFrame index.\n",
      "/home/nk095x/.local/lib/python3.6/site-packages/ipykernel_launcher.py:31: UserWarning: Boolean Series key will be reindexed to match DataFrame index.\n",
      "/home/nk095x/.local/lib/python3.6/site-packages/ipykernel_launcher.py:34: UserWarning: Boolean Series key will be reindexed to match DataFrame index.\n",
      "/home/nk095x/.local/lib/python3.6/site-packages/ipykernel_launcher.py:35: UserWarning: Boolean Series key will be reindexed to match DataFrame index.\n"
     ]
    }
   ],
   "source": [
    "damageDifferentials = createSidedCSVDFWithScaledPer30(player_name, mirageDamage, mirageKill, mirageRound, teams)"
   ]
  },
  {
   "cell_type": "code",
   "execution_count": 40,
   "id": "fb5fd534",
   "metadata": {},
   "outputs": [],
   "source": [
    "damageDifferentials.to_csv('./damageDifferentials/faze_mirage_playin.csv')"
   ]
  },
  {
   "cell_type": "code",
   "execution_count": null,
   "id": "77cc4834",
   "metadata": {},
   "outputs": [],
   "source": []
  }
 ],
 "metadata": {
  "kernelspec": {
   "display_name": "Python 3",
   "language": "python",
   "name": "python3"
  },
  "language_info": {
   "codemirror_mode": {
    "name": "ipython",
    "version": 3
   },
   "file_extension": ".py",
   "mimetype": "text/x-python",
   "name": "python",
   "nbconvert_exporter": "python",
   "pygments_lexer": "ipython3",
   "version": "3.6.13"
  }
 },
 "nbformat": 4,
 "nbformat_minor": 5
}
